{
 "cells": [
  {
   "cell_type": "code",
   "execution_count": 13,
   "id": "125daa9e-cce8-4241-8792-9d530da2e144",
   "metadata": {},
   "outputs": [
    {
     "name": "stdout",
     "output_type": "stream",
     "text": [
      "\n"
     ]
    },
    {
     "data": {
      "application/vnd.jupyter.widget-view+json": {
       "model_id": "08a1061f04434b9aa4998328d2983c9a",
       "version_major": 2,
       "version_minor": 0
      },
      "text/plain": [
       "MolstarView()"
      ]
     },
     "metadata": {},
     "output_type": "display_data"
    }
   ],
   "source": [
    "import nglview as nv\n",
    "from nglview.widget_molstar import MolstarView\n",
    "\n",
    "view = MolstarView()\n",
    "st = nv.FileStructure(nv.datafiles.PDB)\n",
    "view.add_structure(st)\n",
    "print(view._molstar_version)\n",
    "view"
   ]
  },
  {
   "cell_type": "code",
   "execution_count": 24,
   "id": "8ee38d57-d961-4371-89f1-96759c2c2a6a",
   "metadata": {},
   "outputs": [],
   "source": [
    "view.add_hyperball()"
   ]
  }
 ],
 "metadata": {
  "kernelspec": {
   "display_name": "Python 3 (ipykernel)",
   "language": "python",
   "name": "python3"
  },
  "language_info": {
   "codemirror_mode": {
    "name": "ipython",
    "version": 3
   },
   "file_extension": ".py",
   "mimetype": "text/x-python",
   "name": "python",
   "nbconvert_exporter": "python",
   "pygments_lexer": "ipython3",
   "version": "3.12.7"
  }
 },
 "nbformat": 4,
 "nbformat_minor": 5
}
