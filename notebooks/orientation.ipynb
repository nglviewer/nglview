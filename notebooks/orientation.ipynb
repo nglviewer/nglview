{
 "cells": [
  {
   "cell_type": "code",
   "execution_count": 20,
   "id": "82035655-b580-4e4d-86bf-5a90563c2840",
   "metadata": {},
   "outputs": [
    {
     "data": {
      "application/vnd.jupyter.widget-view+json": {
       "model_id": "c7cd4ef8a8ca410c96f8cad4d48928b2",
       "version_major": 2,
       "version_minor": 0
      },
      "text/plain": [
       "NGLWidget()"
      ]
     },
     "metadata": {},
     "output_type": "display_data"
    }
   ],
   "source": [
    "import nglview as nv\n",
    "\n",
    "view = nv.demo()\n",
    "view"
   ]
  },
  {
   "cell_type": "code",
   "execution_count": 23,
   "id": "7bf1502e-ce30-4b5c-9a72-5a2360322c82",
   "metadata": {},
   "outputs": [],
   "source": [
    "view.control.rotate([0.6, -0.4, 0.3, -0.4])"
   ]
  },
  {
   "cell_type": "code",
   "execution_count": 24,
   "id": "d07a8c2b-806d-42c6-b841-e49460688348",
   "metadata": {},
   "outputs": [],
   "source": [
    "nv.write_html('index.html', view)"
   ]
  },
  {
   "cell_type": "code",
   "execution_count": 25,
   "id": "f397830a-2c05-4275-bdbe-40e0b58f621a",
   "metadata": {},
   "outputs": [],
   "source": [
    "!open index.html"
   ]
  },
  {
   "cell_type": "code",
   "execution_count": 26,
   "id": "5c00397d-cdd4-4196-91e4-fb55d98774a0",
   "metadata": {},
   "outputs": [
    {
     "data": {
      "text/plain": [
       "[65.20023905320915,\n",
       " -93.88834423662117,\n",
       " 5.2160191242567215,\n",
       " 0,\n",
       " -31.29611474554039,\n",
       " 13.040047810641841,\n",
       " -93.88834423662117,\n",
       " 0,\n",
       " 88.67232511236445,\n",
       " 31.29611474554039,\n",
       " -5.216019124256737,\n",
       " 0,\n",
       " -37.284461975097656,\n",
       " -42.47041130065918,\n",
       " -44.55349826812744,\n",
       " 1]"
      ]
     },
     "execution_count": 26,
     "metadata": {},
     "output_type": "execute_result"
    }
   ],
   "source": [
    "view._camera_orientation"
   ]
  }
 ],
 "metadata": {
  "kernelspec": {
   "display_name": "Python 3 (ipykernel)",
   "language": "python",
   "name": "python3"
  },
  "language_info": {
   "codemirror_mode": {
    "name": "ipython",
    "version": 3
   },
   "file_extension": ".py",
   "mimetype": "text/x-python",
   "name": "python",
   "nbconvert_exporter": "python",
   "pygments_lexer": "ipython3",
   "version": "3.12.7"
  }
 },
 "nbformat": 4,
 "nbformat_minor": 5
}
