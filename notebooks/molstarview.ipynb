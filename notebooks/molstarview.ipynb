{
 "cells": [
  {
   "cell_type": "code",
   "execution_count": 1,
   "id": "3bef2996-dfbe-4ed7-9816-da54d4a57eb0",
   "metadata": {},
   "outputs": [
    {
     "data": {
      "application/vnd.jupyter.widget-view+json": {
       "model_id": "06a7e43271564bb39c4159460233f1d1",
       "version_major": 2,
       "version_minor": 0
      },
      "text/plain": []
     },
     "metadata": {},
     "output_type": "display_data"
    },
    {
     "data": {
      "application/vnd.jupyter.widget-view+json": {
       "model_id": "f8928869661645ea927c6083f26806bd",
       "version_major": 2,
       "version_minor": 0
      },
      "text/plain": [
       "MolstarView()"
      ]
     },
     "execution_count": 1,
     "metadata": {},
     "output_type": "execute_result"
    }
   ],
   "source": [
    "import nglview as nv\n",
    "from molstarview.widget import MolstarView\n",
    "\n",
    "view = MolstarView()\n",
    "view"
   ]
  },
  {
   "cell_type": "code",
   "execution_count": 2,
   "id": "b8df28e8-c84d-4bf8-910c-ce2483538a6e",
   "metadata": {},
   "outputs": [],
   "source": [
    "st = nv.PdbIdStructure(\"1tsu\")"
   ]
  },
  {
   "cell_type": "code",
   "execution_count": 3,
   "id": "8dbe8e02-6ba0-4b17-b81a-4d14d801e30d",
   "metadata": {},
   "outputs": [],
   "source": [
    "view.add_structure(st)"
   ]
  },
  {
   "cell_type": "code",
   "execution_count": 4,
   "id": "d7848321-90c2-4d84-80e0-8b02635643f4",
   "metadata": {},
   "outputs": [
    {
     "data": {
      "text/plain": [
       "{'_dom_classes': (),\n",
       " '_model_module': 'molstarview-widget',\n",
       " '_model_module_version': '^0.1.0',\n",
       " '_model_name': 'MolstarModel',\n",
       " '_view_count': None,\n",
       " '_view_module': 'molstarview-widget',\n",
       " '_view_module_version': '^0.1.0',\n",
       " '_view_name': 'MolstarView',\n",
       " 'frame': 0,\n",
       " 'layout': 'IPY_MODEL_b3df71bc572c4bd29c5a9268c54e653a',\n",
       " 'molstate': {},\n",
       " 'tabbable': None,\n",
       " 'tooltip': None}"
      ]
     },
     "execution_count": 4,
     "metadata": {},
     "output_type": "execute_result"
    }
   ],
   "source": [
    "view.get_state()"
   ]
  }
 ],
 "metadata": {
  "kernelspec": {
   "display_name": "Python 3 (ipykernel)",
   "language": "python",
   "name": "python3"
  },
  "language_info": {
   "codemirror_mode": {
    "name": "ipython",
    "version": 3
   },
   "file_extension": ".py",
   "mimetype": "text/x-python",
   "name": "python",
   "nbconvert_exporter": "python",
   "pygments_lexer": "ipython3",
   "version": "3.12.7"
  }
 },
 "nbformat": 4,
 "nbformat_minor": 5
}
