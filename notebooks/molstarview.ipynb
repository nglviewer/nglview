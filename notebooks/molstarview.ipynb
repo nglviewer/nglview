{
 "cells": [
  {
   "cell_type": "code",
   "execution_count": 1,
   "id": "3bef2996-dfbe-4ed7-9816-da54d4a57eb0",
   "metadata": {},
   "outputs": [
    {
     "data": {
      "application/vnd.jupyter.widget-view+json": {
       "model_id": "91ffff2fd7c543cda5b6c60af5e68769",
       "version_major": 2,
       "version_minor": 0
      },
      "text/plain": []
     },
     "metadata": {},
     "output_type": "display_data"
    },
    {
     "data": {
      "application/vnd.jupyter.widget-view+json": {
       "model_id": "7236255e5c194422b24c453987083e61",
       "version_major": 2,
       "version_minor": 0
      },
      "text/plain": [
       "MolstarView()"
      ]
     },
     "metadata": {},
     "output_type": "display_data"
    }
   ],
   "source": [
    "import nglview as nv\n",
    "from nglview.widget_molstar import MolstarView\n",
    "\n",
    "view = MolstarView()\n",
    "view"
   ]
  },
  {
   "cell_type": "code",
   "execution_count": 2,
   "id": "b8df28e8-c84d-4bf8-910c-ce2483538a6e",
   "metadata": {},
   "outputs": [],
   "source": [
    "st = nv.FileStructure(nv.datafiles.PDB)\n",
    "view.add_structure(st)"
   ]
  },
  {
   "cell_type": "code",
   "execution_count": 3,
   "id": "74bbfaa4-52ee-4d18-be9a-2b002d959940",
   "metadata": {},
   "outputs": [
    {
     "data": {
      "text/plain": [
       "'4.9.0'"
      ]
     },
     "execution_count": 3,
     "metadata": {},
     "output_type": "execute_result"
    }
   ],
   "source": [
    "view._molstar_version"
   ]
  },
  {
   "cell_type": "markdown",
   "id": "970660fb-8db8-41f3-ac28-ce2730bfc516",
   "metadata": {},
   "source": [
    "# Display view again"
   ]
  },
  {
   "cell_type": "code",
   "execution_count": 4,
   "id": "b974147d-7761-4511-9640-0b0ec4645ac3",
   "metadata": {},
   "outputs": [
    {
     "data": {
      "application/vnd.jupyter.widget-view+json": {
       "model_id": "7236255e5c194422b24c453987083e61",
       "version_major": 2,
       "version_minor": 0
      },
      "text/plain": [
       "MolstarView()"
      ]
     },
     "metadata": {},
     "output_type": "display_data"
    }
   ],
   "source": [
    "view"
   ]
  },
  {
   "cell_type": "markdown",
   "id": "41b835c5-3a2a-4b34-b862-0c6eb4f6700e",
   "metadata": {},
   "source": [
    "# Add representation"
   ]
  },
  {
   "cell_type": "code",
   "execution_count": 6,
   "id": "5c15c428-8b99-42b0-887f-d767b08e7fd6",
   "metadata": {},
   "outputs": [],
   "source": [
    "params = {\n",
    "    \"type\": \"spacefill\",\n",
    "    \"typeParams\": { \"sizeFactor\": 0.5 },\n",
    "    \"color\": \"hydrophobicity\",\n",
    "    \"colorParams\": { \"scale\": \"DGwoct\" },\n",
    "}\n",
    "view.add_representation(**params)"
   ]
  },
  {
   "cell_type": "markdown",
   "id": "7afb6cdc-5bcf-4abf-9db3-cf204d624c67",
   "metadata": {},
   "source": [
    "# Embed (not working properly yet)"
   ]
  },
  {
   "cell_type": "code",
   "execution_count": 5,
   "id": "d3267052-054f-4d51-812d-e0012e8523c9",
   "metadata": {},
   "outputs": [],
   "source": [
    "view._js(\"this.getState()\")"
   ]
  },
  {
   "cell_type": "code",
   "execution_count": 6,
   "id": "5b5e6df6-a3c2-4e31-817e-cd8b4bd344b4",
   "metadata": {},
   "outputs": [],
   "source": [
    "nv.write_html('index.html', view)"
   ]
  },
  {
   "cell_type": "code",
   "execution_count": 7,
   "id": "9fbe9a38-d165-4636-ab2d-53dd3c83b035",
   "metadata": {},
   "outputs": [],
   "source": [
    "!open index.html"
   ]
  },
  {
   "cell_type": "code",
   "execution_count": 8,
   "id": "ebe3e41b-a4cd-4ffe-be1f-a2568fa62144",
   "metadata": {},
   "outputs": [
    {
     "data": {
      "application/vnd.jupyter.widget-view+json": {
       "model_id": "df43027d622d48bf837514105f5876c1",
       "version_major": 2,
       "version_minor": 0
      },
      "text/plain": [
       "NGLWidget()"
      ]
     },
     "metadata": {},
     "output_type": "display_data"
    }
   ],
   "source": [
    "nv.NGLWidget(st)"
   ]
  }
 ],
 "metadata": {
  "kernelspec": {
   "display_name": "Python 3 (ipykernel)",
   "language": "python",
   "name": "python3"
  },
  "language_info": {
   "codemirror_mode": {
    "name": "ipython",
    "version": 3
   },
   "file_extension": ".py",
   "mimetype": "text/x-python",
   "name": "python",
   "nbconvert_exporter": "python",
   "pygments_lexer": "ipython3",
   "version": "3.12.7"
  }
 },
 "nbformat": 4,
 "nbformat_minor": 5
}
