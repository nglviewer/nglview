{
 "cells": [
  {
   "cell_type": "code",
   "execution_count": 1,
   "id": "3bef2996-dfbe-4ed7-9816-da54d4a57eb0",
   "metadata": {},
   "outputs": [
    {
     "data": {
      "application/vnd.jupyter.widget-view+json": {
       "model_id": "9bb48c6180b84a70bde1d71662bd59f2",
       "version_major": 2,
       "version_minor": 0
      },
      "text/plain": []
     },
     "metadata": {},
     "output_type": "display_data"
    },
    {
     "data": {
      "application/vnd.jupyter.widget-view+json": {
       "model_id": "e98092e03f724bce9111cfb3f08b22c3",
       "version_major": 2,
       "version_minor": 0
      },
      "text/plain": [
       "MolstarView()"
      ]
     },
     "execution_count": 1,
     "metadata": {},
     "output_type": "execute_result"
    }
   ],
   "source": [
    "import nglview as nv\n",
    "from nglview.widget_molstar import MolstarView\n",
    "\n",
    "view = MolstarView()\n",
    "view"
   ]
  },
  {
   "cell_type": "code",
   "execution_count": null,
   "id": "b8df28e8-c84d-4bf8-910c-ce2483538a6e",
   "metadata": {},
   "outputs": [],
   "source": [
    "st = nv.F"
   ]
  },
  {
   "cell_type": "code",
   "execution_count": null,
   "id": "8dbe8e02-6ba0-4b17-b81a-4d14d801e30d",
   "metadata": {},
   "outputs": [],
   "source": [
    "view.add_structure(st)"
   ]
  },
  {
   "cell_type": "code",
   "execution_count": null,
   "id": "d7848321-90c2-4d84-80e0-8b02635643f4",
   "metadata": {},
   "outputs": [],
   "source": [
    "view.get_state()"
   ]
  }
 ],
 "metadata": {
  "kernelspec": {
   "display_name": "Python 3 (ipykernel)",
   "language": "python",
   "name": "python3"
  },
  "language_info": {
   "codemirror_mode": {
    "name": "ipython",
    "version": 3
   },
   "file_extension": ".py",
   "mimetype": "text/x-python",
   "name": "python",
   "nbconvert_exporter": "python",
   "pygments_lexer": "ipython3",
   "version": "3.12.7"
  }
 },
 "nbformat": 4,
 "nbformat_minor": 5
}
