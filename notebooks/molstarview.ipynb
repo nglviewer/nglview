{
 "cells": [
  {
   "cell_type": "code",
   "execution_count": null,
   "id": "3bef2996-dfbe-4ed7-9816-da54d4a57eb0",
   "metadata": {},
   "outputs": [],
   "source": [
    "import nglview as nv\n",
    "from nglview.widget_molstar import MolstarView\n",
    "\n",
    "view = MolstarView()\n",
    "view"
   ]
  },
  {
   "cell_type": "code",
   "execution_count": null,
   "id": "b8df28e8-c84d-4bf8-910c-ce2483538a6e",
   "metadata": {},
   "outputs": [],
   "source": [
    "st = nv.FileStructure(nv.datafiles.PDB)"
   ]
  },
  {
   "cell_type": "code",
   "execution_count": null,
   "id": "8dbe8e02-6ba0-4b17-b81a-4d14d801e30d",
   "metadata": {},
   "outputs": [],
   "source": [
    "view.add_structure(st)"
   ]
  },
  {
   "cell_type": "code",
   "execution_count": null,
   "id": "74bbfaa4-52ee-4d18-be9a-2b002d959940",
   "metadata": {},
   "outputs": [],
   "source": [
    "view._molstar_version"
   ]
  }
 ],
 "metadata": {
  "kernelspec": {
   "display_name": "Python 3 (ipykernel)",
   "language": "python",
   "name": "python3"
  },
  "language_info": {
   "codemirror_mode": {
    "name": "ipython",
    "version": 3
   },
   "file_extension": ".py",
   "mimetype": "text/x-python",
   "name": "python",
   "nbconvert_exporter": "python",
   "pygments_lexer": "ipython3",
   "version": "3.12.7"
  }
 },
 "nbformat": 4,
 "nbformat_minor": 5
}
