{
 "cells": [
  {
   "cell_type": "code",
   "execution_count": 5,
   "id": "fedefdce-ce21-4c3c-90bd-27909fe17413",
   "metadata": {},
   "outputs": [
    {
     "data": {
      "application/vnd.jupyter.widget-view+json": {
       "model_id": "7eb38b3aa4f14a40adb50bae1d0937b2",
       "version_major": 2,
       "version_minor": 0
      },
      "text/plain": [
       "MolstarView()"
      ]
     },
     "metadata": {},
     "output_type": "display_data"
    }
   ],
   "source": [
    "from nglview import widget_molstar\n",
    "import molviewspec as mvs\n",
    "builder = mvs.create_builder()\n",
    "# at each step, auto-complete will suggest possible actions depending on the current state of the builder\n",
    "(\n",
    "    builder.download(url='https://files.wwpdb.org/download/1cbs.cif')\n",
    "    .parse(format='mmcif')\n",
    "    .assembly_structure(assembly_id='1')\n",
    "    .component()\n",
    "    .representation()\n",
    ")\n",
    "state = builder.get_state()\n",
    "\n",
    "view = widget_molstar.MolstarView()\n",
    "view.load_spec(state)\n",
    "view"
   ]
  },
  {
   "cell_type": "code",
   "execution_count": 6,
   "id": "721ddcc5-b651-460a-8405-af86b8cae20f",
   "metadata": {},
   "outputs": [],
   "source": []
  }
 ],
 "metadata": {
  "kernelspec": {
   "display_name": "Python 3 (ipykernel)",
   "language": "python",
   "name": "python3"
  },
  "language_info": {
   "codemirror_mode": {
    "name": "ipython",
    "version": 3
   },
   "file_extension": ".py",
   "mimetype": "text/x-python",
   "name": "python",
   "nbconvert_exporter": "python",
   "pygments_lexer": "ipython3",
   "version": "3.12.7"
  }
 },
 "nbformat": 4,
 "nbformat_minor": 5
}
