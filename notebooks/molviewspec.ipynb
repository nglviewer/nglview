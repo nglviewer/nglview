{
 "cells": [
  {
   "cell_type": "code",
   "execution_count": 1,
   "id": "fedefdce-ce21-4c3c-90bd-27909fe17413",
   "metadata": {},
   "outputs": [
    {
     "data": {
      "application/vnd.jupyter.widget-view+json": {
       "model_id": "be1e69a57b6541a49a2f0893a78524f4",
       "version_major": 2,
       "version_minor": 0
      },
      "text/plain": []
     },
     "metadata": {},
     "output_type": "display_data"
    }
   ],
   "source": [
    "from nglview import widget_molstar"
   ]
  },
  {
   "cell_type": "code",
   "execution_count": 2,
   "id": "99813515-ec54-4cbd-b26a-09fd6588acae",
   "metadata": {},
   "outputs": [
    {
     "data": {
      "application/vnd.jupyter.widget-view+json": {
       "model_id": "0e73dfe9d0994bff9778f6de85972f63",
       "version_major": 2,
       "version_minor": 0
      },
      "text/plain": [
       "MolstarView()"
      ]
     },
     "metadata": {},
     "output_type": "display_data"
    }
   ],
   "source": [
    "view = widget_molstar.MolstarView()\n",
    "view"
   ]
  },
  {
   "cell_type": "code",
   "execution_count": 3,
   "id": "3546a5a0-0fc9-4201-afef-bf4a9a9b117d",
   "metadata": {},
   "outputs": [
    {
     "data": {
      "text/plain": [
       "Representation()"
      ]
     },
     "execution_count": 3,
     "metadata": {},
     "output_type": "execute_result"
    }
   ],
   "source": [
    "import molviewspec as mvs\n",
    "builder = mvs.create_builder()\n",
    "# at each step, auto-complete will suggest possible actions depending on the current state of the builder\n",
    "(\n",
    "    builder.download(url='https://files.wwpdb.org/download/1cbs.cif')\n",
    "    .parse(format='mmcif')\n",
    "    .assembly_structure(assembly_id='1')\n",
    "    .component()\n",
    "    .representation()\n",
    ")"
   ]
  },
  {
   "cell_type": "code",
   "execution_count": 4,
   "id": "ae95df65-a16e-47c9-8be6-8d6987570486",
   "metadata": {},
   "outputs": [],
   "source": [
    "state = builder.get_state()"
   ]
  },
  {
   "cell_type": "code",
   "execution_count": 18,
   "id": "721ddcc5-b651-460a-8405-af86b8cae20f",
   "metadata": {},
   "outputs": [],
   "source": [
    "view._remote_call('loadMolstarSpec',\n",
    "                  args=[state, {}])"
   ]
  },
  {
   "cell_type": "code",
   "execution_count": 16,
   "id": "212d9e0f-ed12-4688-a364-d2b820edd605",
   "metadata": {},
   "outputs": [],
   "source": [
    "view._js(\"\"\"\n",
    "this.loadMolstarSpec = async function(spec, options) {\n",
    "    console.log('Hello there');\n",
    "    try {\n",
    "        await loadMVS(this.plugin, spec, options);\n",
    "    } catch (error) {\n",
    "        console.error('Error loading Molstar spec:', error);\n",
    "    }\n",
    "}\n",
    "\"\"\")"
   ]
  },
  {
   "cell_type": "code",
   "execution_count": 17,
   "id": "9f1616a1-1b9c-4d76-a153-8a3dc732a321",
   "metadata": {},
   "outputs": [],
   "source": [
    "view._js(\"\"\"\n",
    "console.log(this.loadMolstarSpec);\n",
    "\"\"\")"
   ]
  }
 ],
 "metadata": {
  "kernelspec": {
   "display_name": "Python 3 (ipykernel)",
   "language": "python",
   "name": "python3"
  },
  "language_info": {
   "codemirror_mode": {
    "name": "ipython",
    "version": 3
   },
   "file_extension": ".py",
   "mimetype": "text/x-python",
   "name": "python",
   "nbconvert_exporter": "python",
   "pygments_lexer": "ipython3",
   "version": "3.12.7"
  }
 },
 "nbformat": 4,
 "nbformat_minor": 5
}
