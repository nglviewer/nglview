{
 "cells": [
  {
   "cell_type": "code",
   "execution_count": 7,
   "id": "fedefdce-ce21-4c3c-90bd-27909fe17413",
   "metadata": {},
   "outputs": [
    {
     "data": {
      "application/vnd.jupyter.widget-view+json": {
       "model_id": "e14101fc8db048418b6f4d185e037e52",
       "version_major": 2,
       "version_minor": 0
      },
      "text/plain": [
       "MolstarView()"
      ]
     },
     "metadata": {},
     "output_type": "display_data"
    }
   ],
   "source": [
    "from nglview import widget_molstar\n",
    "import molviewspec as mvs\n",
    "builder = mvs.create_builder()\n",
    "# at each step, auto-complete will suggest possible actions depending on the current state of the builder\n",
    "(\n",
    "    builder.download(url='https://files.wwpdb.org/download/1cbs.cif')\n",
    "    .parse(format='mmcif')\n",
    "    .assembly_structure(assembly_id='1')\n",
    "    .component()\n",
    "    .representation()\n",
    ")\n",
    "state = builder.get_state()\n",
    "\n",
    "view = widget_molstar.MolstarView()\n",
    "view"
   ]
  },
  {
   "cell_type": "code",
   "execution_count": 8,
   "id": "721ddcc5-b651-460a-8405-af86b8cae20f",
   "metadata": {},
   "outputs": [],
   "source": [
    "view._remote_call('loadMolstarSpec',\n",
    "                  args=[state, {}])"
   ]
  },
  {
   "cell_type": "code",
   "execution_count": null,
   "id": "212d9e0f-ed12-4688-a364-d2b820edd605",
   "metadata": {},
   "outputs": [],
   "source": [
    "view._js(\"\"\"\n",
    "this.loadMolstarSpec = async function(spec, options) {\n",
    "    console.log('Hello there');\n",
    "    try {\n",
    "        await loadMVS(this.plugin, spec, options);\n",
    "    } catch (error) {\n",
    "        console.error('Error loading Molstar spec:', error);\n",
    "    }\n",
    "}\n",
    "\"\"\")"
   ]
  },
  {
   "cell_type": "code",
   "execution_count": 6,
   "id": "9f1616a1-1b9c-4d76-a153-8a3dc732a321",
   "metadata": {},
   "outputs": [],
   "source": [
    "view._js(\"\"\"\n",
    "console.log(this.loadMolstarSpec);\n",
    "\"\"\")"
   ]
  }
 ],
 "metadata": {
  "kernelspec": {
   "display_name": "Python 3 (ipykernel)",
   "language": "python",
   "name": "python3"
  },
  "language_info": {
   "codemirror_mode": {
    "name": "ipython",
    "version": 3
   },
   "file_extension": ".py",
   "mimetype": "text/x-python",
   "name": "python",
   "nbconvert_exporter": "python",
   "pygments_lexer": "ipython3",
   "version": "3.12.7"
  }
 },
 "nbformat": 4,
 "nbformat_minor": 5
}
