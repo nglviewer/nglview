{
 "cells": [
  {
   "cell_type": "code",
   "execution_count": 36,
   "id": "fedefdce-ce21-4c3c-90bd-27909fe17413",
   "metadata": {},
   "outputs": [
    {
     "data": {
      "application/vnd.jupyter.widget-view+json": {
       "model_id": "0a443df2c58f44bc801f8371bc11e510",
       "version_major": 2,
       "version_minor": 0
      },
      "text/plain": [
       "MolstarView()"
      ]
     },
     "metadata": {},
     "output_type": "display_data"
    }
   ],
   "source": [
    "from nglview import widget_molstar\n",
    "import molviewspec as mvs\n",
    "builder = mvs.create_builder()\n",
    "# at each step, auto-complete will suggest possible actions depending on the current state of the builder\n",
    "(builder.download(url='https://files.wwpdb.org/download/1cbs.cif')\n",
    "    .parse(format='mmcif')\n",
    "    .assembly_structure(assembly_id='1')\n",
    "    .component()\n",
    "    .representation()\n",
    "    .color(color='blue')\n",
    ")\n",
    "state = builder.get_state()\n",
    "\n",
    "view = widget_molstar.MolstarView()\n",
    "view.load_spec(state)\n",
    "view"
   ]
  },
  {
   "cell_type": "code",
   "execution_count": 35,
   "id": "52cc8f60-4aa8-4978-99a4-ba0e07ac3f5f",
   "metadata": {},
   "outputs": [
    {
     "data": {
      "text/plain": [
       "{'kind': 'download',\n",
       " 'params': {'url': 'https://files.wwpdb.org/download/1cbs.cif'},\n",
       " 'children': [{'kind': 'parse',\n",
       "   'params': {'format': 'mmcif'},\n",
       "   'children': [{'kind': 'structure',\n",
       "     'params': {'type': 'assembly', 'assembly_id': '1'},\n",
       "     'children': [{'kind': 'component',\n",
       "       'params': {'selector': 'all'},\n",
       "       'children': [{'kind': 'representation',\n",
       "         'params': {'type': 'cartoon'},\n",
       "         'children': [{'kind': 'color',\n",
       "           'params': {'selector': 'all', 'color': 'blue'}}]}]}]}]}]}"
      ]
     },
     "execution_count": 35,
     "metadata": {},
     "output_type": "execute_result"
    }
   ],
   "source": [
    "d['root']['children'][0]"
   ]
  }
 ],
 "metadata": {
  "kernelspec": {
   "display_name": "Python 3 (ipykernel)",
   "language": "python",
   "name": "python3"
  },
  "language_info": {
   "codemirror_mode": {
    "name": "ipython",
    "version": 3
   },
   "file_extension": ".py",
   "mimetype": "text/x-python",
   "name": "python",
   "nbconvert_exporter": "python",
   "pygments_lexer": "ipython3",
   "version": "3.12.7"
  }
 },
 "nbformat": 4,
 "nbformat_minor": 5
}
