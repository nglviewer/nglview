{
 "cells": [
  {
   "cell_type": "code",
   "execution_count": 1,
   "id": "35c842de-eb16-48b6-a211-917933deb55b",
   "metadata": {},
   "outputs": [],
   "source": [
    "import ipywidgets as i"
   ]
  },
  {
   "cell_type": "code",
   "execution_count": 2,
   "id": "71010056-e7d6-45bf-907c-5157ab8a5bc9",
   "metadata": {},
   "outputs": [
    {
     "data": {
      "text/plain": [
       "'8.1.1'"
      ]
     },
     "execution_count": 2,
     "metadata": {},
     "output_type": "execute_result"
    }
   ],
   "source": [
    "i.__version__"
   ]
  },
  {
   "cell_type": "code",
   "execution_count": 3,
   "id": "ccd063bb-ed7a-4bcc-be9b-ca25a482bb04",
   "metadata": {},
   "outputs": [],
   "source": [
    "import notebook"
   ]
  },
  {
   "cell_type": "code",
   "execution_count": 4,
   "id": "6cda1f42-5a75-4ae1-885d-afacea667b80",
   "metadata": {},
   "outputs": [
    {
     "data": {
      "text/plain": [
       "'7.0.6'"
      ]
     },
     "execution_count": 4,
     "metadata": {},
     "output_type": "execute_result"
    }
   ],
   "source": [
    "notebook.__version__"
   ]
  },
  {
   "cell_type": "code",
   "execution_count": null,
   "id": "81777513-eea6-48c7-9be0-ccda006ec389",
   "metadata": {},
   "outputs": [],
   "source": []
  }
 ],
 "metadata": {
  "kernelspec": {
   "display_name": "Python 3 (ipykernel)",
   "language": "python",
   "name": "python3"
  },
  "language_info": {
   "codemirror_mode": {
    "name": "ipython",
    "version": 3
   },
   "file_extension": ".py",
   "mimetype": "text/x-python",
   "name": "python",
   "nbconvert_exporter": "python",
   "pygments_lexer": "ipython3",
   "version": "3.11.7"
  }
 },
 "nbformat": 4,
 "nbformat_minor": 5
}
