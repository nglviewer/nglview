{
 "cells": [
  {
   "cell_type": "markdown",
   "metadata": {},
   "source": [
    "# Requirement: rdkit\n",
    "\n",
    "```bash\n",
    "conda install rdkit -c rdkit\n",
    "```"
   ]
  },
  {
   "cell_type": "code",
   "execution_count": null,
   "metadata": {},
   "outputs": [],
   "source": [
    "from ipywidgets import HTML\n",
    "\n",
    "HTML(\"\"\"\n",
    "<style>\n",
    "\n",
    ".smilesApp {\n",
    "    background-color: white\n",
    "}\n",
    "</style>\n",
    "\"\"\")"
   ]
  },
  {
   "cell_type": "code",
   "execution_count": null,
   "metadata": {},
   "outputs": [],
   "source": [
    "import nglview as nv\n",
    "from IPython.display import display\n",
    "from ipywidgets import Text, Button, AppLayout, VBox, HBox, Output, GridspecLayout, Checkbox, Image\n",
    "import nglview as nv\n",
    "from rdkit import Chem # doctest: +SKIP\n",
    "from rdkit.Chem import AllChem\n",
    "from rdkit import Chem\n",
    "from rdkit.Chem import Draw\n",
    "from rdkit.Chem import rdDepictor\n",
    "from rdkit.Chem.Draw import rdMolDraw2D\n",
    "from io import BytesIO\n",
    "\n",
    "\n",
    "class SmilesView(AppLayout):\n",
    "    def __init__(self, *args, **kwargs):\n",
    "        super().__init__(*args, **kwargs)\n",
    "        self.view = nv.NGLWidget()\n",
    "        self.view.gui_style = 'ngl'\n",
    "        self.view.background = 'black'\n",
    "        self.text = Text()\n",
    "        btn = Button(description='Generate')\n",
    "        self.center = self.view\n",
    "        self._out = Output()\n",
    "        self._err = Output()\n",
    "        self._check = Checkbox(description='Replace', value=True)\n",
    "        bgen = VBox([self.text, self._out])\n",
    "        bfull = VBox([btn])\n",
    "        footer = self.footer = HBox([bgen, bfull])\n",
    "        # self.left_sidebar = lbar = Image()\n",
    "        # self.left_sidebar.layout.align_self = 'center'\n",
    "        # lbar.layout.display = 'none'\n",
    "        self.footer.layout.justify_content = 'center'\n",
    "        self._m = None\n",
    "        @btn.on_click\n",
    "        def on_click_smiles(_):\n",
    "            self._handle_smiles_changed()\n",
    "            \n",
    "    def _handle_smiles_changed(self):\n",
    "        self._out.clear_output()\n",
    "        self._err.clear_output()\n",
    "        st = None\n",
    "        with self._err:\n",
    "            m = Chem.MolFromSmiles(self.text.value)\n",
    "            print(type(m))\n",
    "            m = Chem.AddHs(m)\n",
    "            print(type(m))\n",
    "            Chem.AllChem.EmbedMultipleConfs(m, useExpTorsionAnglePrefs=True, useBasicKnowledge=True)\n",
    "            st = nv.RdkitStructure(m)\n",
    "            self._m = m\n",
    "            self._rdm = st\n",
    "            # self.left_sidebar.value = m._repr_png_()\n",
    "            # self.left_sidebar.layout.display = 'flex'\n",
    "\n",
    "        if st:\n",
    "            if self.view.n_components == 0:\n",
    "                self.view.add_component(st, default=False)\n",
    "                self.view.add_licorice('/0')\n",
    "                self.view.center()\n",
    "            else:\n",
    "                struct = dict(data=st.get_structure_string(), ext='pdb')\n",
    "                self.view._remote_call('replaceStructure', args=[struct])\n",
    "        else:\n",
    "            self._out.append_stdout(\"ERROR: bad input\")\n",
    "        \n",
    "s = SmilesView()\n",
    "s.add_class('smilesApp')\n",
    "# smiles example:\n",
    "# COc1ccc2[C@H](O)[C@@H](COc2c1)N3CCC(O)(CC3)c4ccc(F)cc4\n",
    "s"
   ]
  },
  {
   "cell_type": "code",
   "execution_count": null,
   "metadata": {},
   "outputs": [],
   "source": []
  }
 ],
 "metadata": {
  "kernelspec": {
   "display_name": "Python 3 (ipykernel)",
   "language": "python",
   "name": "python3"
  },
  "language_info": {
   "codemirror_mode": {
    "name": "ipython",
    "version": 3
   },
   "file_extension": ".py",
   "mimetype": "text/x-python",
   "name": "python",
   "nbconvert_exporter": "python",
   "pygments_lexer": "ipython3",
   "version": "3.10.14"
  }
 },
 "nbformat": 4,
 "nbformat_minor": 4
}
