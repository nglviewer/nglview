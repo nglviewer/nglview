{
 "cells": [
  {
   "cell_type": "code",
   "execution_count": 1,
   "metadata": {},
   "outputs": [
    {
     "data": {
      "application/vnd.jupyter.widget-view+json": {
       "model_id": "13fe7a0340e640caac615d7c098176a3",
       "version_major": 2,
       "version_minor": 0
      },
      "text/plain": []
     },
     "metadata": {},
     "output_type": "display_data"
    },
    {
     "data": {
      "application/vnd.jupyter.widget-view+json": {
       "model_id": "747cd969ad49416694cd336d3e99806f",
       "version_major": 2,
       "version_minor": 0
      },
      "text/plain": [
       "NGLWidget(max_frame=4)"
      ]
     },
     "metadata": {},
     "output_type": "display_data"
    }
   ],
   "source": [
    "import nglview as nv\n",
    "\n",
    "\n",
    "class FiveFrameTrajectory(nv.SimpletrajTrajectory):\n",
    "    @property\n",
    "    def n_frames(self):\n",
    "        return 5\n",
    "\n",
    "traj = FiveFrameTrajectory(nv.datafiles.XTC, nv.datafiles.PDB)\n",
    "view = nv.show_simpletraj(traj)\n",
    "view"
   ]
  },
  {
   "cell_type": "markdown",
   "metadata": {},
   "source": [
    "# Test embeding"
   ]
  },
  {
   "cell_type": "code",
   "execution_count": null,
   "metadata": {},
   "outputs": [],
   "source": [
    "nv.write_html('index.html', view)"
   ]
  },
  {
   "cell_type": "code",
   "execution_count": null,
   "metadata": {},
   "outputs": [],
   "source": [
    "!open index.html"
   ]
  },
  {
   "cell_type": "code",
   "execution_count": null,
   "metadata": {},
   "outputs": [],
   "source": [
    "nv.write_html('index2.html', view, frame_range=(0, 5))"
   ]
  },
  {
   "cell_type": "code",
   "execution_count": null,
   "metadata": {},
   "outputs": [],
   "source": [
    "!open index2.html"
   ]
  },
  {
   "cell_type": "markdown",
   "metadata": {},
   "source": [
    "# Molstar"
   ]
  },
  {
   "cell_type": "code",
   "execution_count": 1,
   "metadata": {},
   "outputs": [
    {
     "data": {
      "application/vnd.jupyter.widget-view+json": {
       "model_id": "9169c19f8f55401bae1667d0b37c1166",
       "version_major": 2,
       "version_minor": 0
      },
      "text/plain": []
     },
     "metadata": {},
     "output_type": "display_data"
    },
    {
     "data": {
      "application/vnd.jupyter.widget-view+json": {
       "model_id": "b773c0465d4f4b28bf1fca34861ac8ff",
       "version_major": 2,
       "version_minor": 0
      },
      "text/plain": [
       "MolstarView()"
      ]
     },
     "execution_count": 1,
     "metadata": {},
     "output_type": "execute_result"
    }
   ],
   "source": [
    "from nglview.widget_molstar import MolstarView\n",
    "import nglview as nv\n",
    "\n",
    "class FiveFrameTrajectory(nv.SimpletrajTrajectory):\n",
    "    @property\n",
    "    def n_frames(self):\n",
    "        return 5\n",
    "\n",
    "traj = FiveFrameTrajectory(nv.datafiles.XTC, nv.datafiles.PDB)\n",
    "\n",
    "view = MolstarView()\n",
    "view"
   ]
  },
  {
   "cell_type": "code",
   "execution_count": 2,
   "metadata": {},
   "outputs": [],
   "source": [
    "view.add_trajectory(traj)"
   ]
  },
  {
   "cell_type": "code",
   "execution_count": 6,
   "metadata": {},
   "outputs": [],
   "source": [
    "params = {\n",
    "    \"type\": \"spacefill\",\n",
    "    \"typeParams\": { \"sizeFactor\": 0.5 },\n",
    "    \"color\": \"hydrophobicity\",\n",
    "    \"colorParams\": { \"scale\": \"DGwoct\" },\n",
    "}\n",
    "view._remote_call(\"addRepresentation\", args=[params, 0])"
   ]
  }
 ],
 "metadata": {
  "kernelspec": {
   "display_name": "Python 3 (ipykernel)",
   "language": "python",
   "name": "python3"
  },
  "language_info": {
   "codemirror_mode": {
    "name": "ipython",
    "version": 3
   },
   "file_extension": ".py",
   "mimetype": "text/x-python",
   "name": "python",
   "nbconvert_exporter": "python",
   "pygments_lexer": "ipython3",
   "version": "3.12.7"
  },
  "widgets": {
   "application/vnd.jupyter.widget-state+json": {
    "state": {
     "00060c68ac864c559d66dfda298f5460": {
      "model_module": "@jupyter-widgets/controls",
      "model_module_version": "1.5.0",
      "model_name": "DropdownModel",
      "state": {
       "_options_labels": [
        "nglview.adaptor.PyTrajTrajectory"
       ],
       "index": 0,
       "layout": "IPY_MODEL_43e68dba6a054df7a0e0ca73bfffa96d",
       "style": "IPY_MODEL_328101bb70a74fc986d47c1bacc3482c"
      }
     },
     "00349ea5dbb943fb8d98939da74ec0b4": {
      "model_module": "@jupyter-widgets/controls",
      "model_module_version": "1.5.0",
      "model_name": "DropdownModel",
      "state": {
       "_options_labels": [
        "perspective",
        "orthographic"
       ],
       "index": 0,
       "layout": "IPY_MODEL_edf50956c3d9480b915407de8ffc7b44",
       "style": "IPY_MODEL_7104b866d43d406bb254e675a7fa1303"
      }
     },
     "00352a764fe041538bd5d6459fc3ebf3": {
      "model_module": "@jupyter-widgets/controls",
      "model_module_version": "1.5.0",
      "model_name": "ButtonModel",
      "state": {
       "description": " Remove",
       "icon": "trash",
       "layout": "IPY_MODEL_e8d463b658ab473abb11193287b61d90",
       "style": "IPY_MODEL_e825a7585119432db3ab6f73ac94b9aa",
       "tooltip": "Remove current representation"
      }
     },
     "00a53bb7387f4b218941c550d3e94bea": {
      "model_module": "@jupyter-widgets/controls",
      "model_module_version": "1.5.0",
      "model_name": "ButtonModel",
      "state": {
       "description": " Screenshot",
       "icon": "camera",
       "layout": "IPY_MODEL_660411d26b614349b78cea7646c8abcd",
       "style": "IPY_MODEL_42b957bea837492380cefdcced8fcdb3"
      }
     },
     "00c08ec0ca354652bd2ca48407ff22a5": {
      "model_module": "@jupyter-widgets/base",
      "model_module_version": "1.2.0",
      "model_name": "LayoutModel",
      "state": {}
     },
     "00f28805ab2a48a6b0a6b2fcee92135a": {
      "model_module": "@jupyter-widgets/controls",
      "model_module_version": "1.5.0",
      "model_name": "BoxModel",
      "state": {
       "children": [
        "IPY_MODEL_4252a481410f49e88c3e1b07a59a502a",
        "IPY_MODEL_18361fedf547469b9eb4e312e81862b5"
       ],
       "layout": "IPY_MODEL_10e2f5f21d234c2e91cfa8625c565cb9"
      }
     },
     "012288ebc872477e8d073b44a8094d6e": {
      "model_module": "@jupyter-widgets/controls",
      "model_module_version": "1.5.0",
      "model_name": "DescriptionStyleModel",
      "state": {
       "description_width": ""
      }
     },
     "0144a3b215bc4724916f756ddc029082": {
      "model_module": "@jupyter-widgets/controls",
      "model_module_version": "1.5.0",
      "model_name": "BoxModel",
      "state": {
       "children": [
        "IPY_MODEL_5a54b2dd4e1444859d5ccffe4e693f1e",
        "IPY_MODEL_f5a0e395da1a45268884df84a1ae45f3"
       ],
       "layout": "IPY_MODEL_eb69a8e03cf44b96825e4be413fff080"
      }
     },
     "0168e972c41441099427ac417d63ff67": {
      "model_module": "@jupyter-widgets/base",
      "model_module_version": "1.2.0",
      "model_name": "LayoutModel",
      "state": {}
     },
     "01a8955127f94f7dab82f03e533cd933": {
      "model_module": "@jupyter-widgets/base",
      "model_module_version": "1.2.0",
      "model_name": "LayoutModel",
      "state": {
       "width": "200px"
      }
     },
     "01fd86d92ff6447fa656bd38873ad60d": {
      "model_module": "@jupyter-widgets/controls",
      "model_module_version": "1.5.0",
      "model_name": "ButtonStyleModel",
      "state": {}
     },
     "028040f91e684a3f8753b819f00dcbfc": {
      "model_module": "@jupyter-widgets/controls",
      "model_module_version": "1.5.0",
      "model_name": "BoxModel",
      "state": {
       "layout": "IPY_MODEL_24a58b6b8093424a98095a236eb9dd6b"
      }
     },
     "03285d0bd04d4003a402d60e41914a45": {
      "model_module": "@jupyter-widgets/base",
      "model_module_version": "1.2.0",
      "model_name": "LayoutModel",
      "state": {
       "width": "100px"
      }
     },
     "0328a779b2e04932b89ba3f8f24e4ff4": {
      "model_module": "@jupyter-widgets/base",
      "model_module_version": "1.2.0",
      "model_name": "LayoutModel",
      "state": {
       "width": "34px"
      }
     },
     "032aae000b154e99808f620596b32576": {
      "model_module": "@jupyter-widgets/controls",
      "model_module_version": "1.5.0",
      "model_name": "LinkModel",
      "state": {
       "source": [
        "IPY_MODEL_95076da05343433f857a810e61b4bab7",
        "value"
       ],
       "target": [
        "IPY_MODEL_a522a78061fa44c1965ca595a6da3876",
        "frame"
       ]
      }
     },
     "0351d16fa3834bbc8413b352b2e9d3db": {
      "model_module": "@jupyter-widgets/base",
      "model_module_version": "1.2.0",
      "model_name": "LayoutModel",
      "state": {}
     },
     "036754af2800430aa5d9f97b15063a31": {
      "model_module": "@jupyter-widgets/base",
      "model_module_version": "1.2.0",
      "model_name": "LayoutModel",
      "state": {}
     },
     "0387bab6d4ef440da37f0a5c816cda11": {
      "model_module": "@jupyter-widgets/base",
      "model_module_version": "1.2.0",
      "model_name": "LayoutModel",
      "state": {}
     },
     "03d1d4b4a02c431cb29b8deedfeb8ac9": {
      "model_module": "@jupyter-widgets/controls",
      "model_module_version": "1.5.0",
      "model_name": "ButtonModel",
      "state": {
       "description": " Refresh",
       "icon": "refresh",
       "layout": "IPY_MODEL_1072fe8c2b544772ab520cb60c0bef8e",
       "style": "IPY_MODEL_64ecc4ff76b44a2fa01e6662f74c837a",
       "tooltip": "Get representation info"
      }
     },
     "041015fb88f6457e82bf603c289560cb": {
      "model_module": "@jupyter-widgets/controls",
      "model_module_version": "1.5.0",
      "model_name": "SliderStyleModel",
      "state": {
       "description_width": ""
      }
     },
     "0462d680bc8c447988ef75d0becb2277": {
      "model_module": "@jupyter-widgets/base",
      "model_module_version": "1.2.0",
      "model_name": "LayoutModel",
      "state": {}
     },
     "04701bfae6114f48a5abfb33e35beaf1": {
      "model_module": "@jupyter-widgets/base",
      "model_module_version": "1.2.0",
      "model_name": "LayoutModel",
      "state": {}
     },
     "04969908782948279d2f4f4fcc1fbbd8": {
      "model_module": "@jupyter-widgets/controls",
      "model_module_version": "1.5.0",
      "model_name": "DropdownModel",
      "state": {
       "_options_labels": [
        "axes",
        "backbone",
        "ball+stick",
        "ball_and_stick",
        "base",
        "cartoon",
        "contact",
        "distance",
        "helixorient",
        "hyperball",
        "label",
        "licorice",
        "line",
        "point",
        "ribbon",
        "rocket",
        "rope",
        "simplified_base",
        "slice",
        "spacefill",
        "surface",
        "trace",
        "tube",
        "unitcell"
       ],
       "index": 5,
       "layout": "IPY_MODEL_60259b6f608c43c29f19df038d5a138f",
       "style": "IPY_MODEL_2c054a18b43f435f8550cff5e7242f7c"
      }
     },
     "0505c8362cf342f2a3da41259a3e543a": {
      "model_module": "@jupyter-widgets/controls",
      "model_module_version": "1.5.0",
      "model_name": "ButtonStyleModel",
      "state": {}
     },
     "05074572a2f64697ac0e59ce9046ca31": {
      "model_module": "@jupyter-widgets/controls",
      "model_module_version": "1.5.0",
      "model_name": "ColorPickerModel",
      "state": {
       "disabled": false,
       "layout": "IPY_MODEL_f2364c9ca9164382ba6ccb8d1001891f",
       "style": "IPY_MODEL_209100171cc64b33892085397aa214c8",
       "value": "white"
      }
     },
     "051fc7cc77dd4851b756a42536c05ba4": {
      "model_module": "@jupyter-widgets/base",
      "model_module_version": "1.2.0",
      "model_name": "LayoutModel",
      "state": {}
     },
     "052560d808bd414d991a749e5e48fd73": {
      "model_module": "@jupyter-widgets/base",
      "model_module_version": "1.2.0",
      "model_name": "LayoutModel",
      "state": {}
     },
     "05a18ef1034d494ab90beb1991cff385": {
      "model_module": "@jupyter-widgets/controls",
      "model_module_version": "1.5.0",
      "model_name": "IntSliderModel",
      "state": {
       "description": "smooth",
       "layout": "IPY_MODEL_7abf61c8aa0d44c2a3bf97d8ba927e99",
       "max": 10,
       "style": "IPY_MODEL_c271bd99f24b4df8bcd5b537b0e6bfd2",
       "value": 2
      }
     },
     "05aacb07f94646649643c1581fe66fa5": {
      "model_module": "@jupyter-widgets/controls",
      "model_module_version": "1.5.0",
      "model_name": "LabelModel",
      "state": {
       "layout": "IPY_MODEL_a099c89f094a415d9f8bc253cbc0e02e",
       "style": "IPY_MODEL_a3621586da0f450b9fbddf698cbaf4ed",
       "value": "fog_far"
      }
     },
     "05dfbf67c8d24a73860ab783e44872ef": {
      "model_module": "@jupyter-widgets/base",
      "model_module_version": "1.2.0",
      "model_name": "LayoutModel",
      "state": {
       "display": "none"
      }
     },
     "0650e018edc84670bdb288349bdabf7c": {
      "model_module": "@jupyter-widgets/controls",
      "model_module_version": "1.5.0",
      "model_name": "DescriptionStyleModel",
      "state": {
       "description_width": ""
      }
     },
     "06bb44790d77449a9850920cfbad1b17": {
      "model_module": "@jupyter-widgets/base",
      "model_module_version": "1.2.0",
      "model_name": "LayoutModel",
      "state": {
       "align_items": "stretch",
       "display": "flex",
       "flex_flow": "column",
       "width": "100%"
      }
     },
     "071f66958a094551a45297c122a55077": {
      "model_module": "@jupyter-widgets/base",
      "model_module_version": "1.2.0",
      "model_name": "LayoutModel",
      "state": {}
     },
     "07325d2572d44a10b29902992d2316ad": {
      "model_module": "@jupyter-widgets/base",
      "model_module_version": "1.2.0",
      "model_name": "LayoutModel",
      "state": {}
     },
     "073a018cc2ea480792f33aada0e5a7bf": {
      "model_module": "@jupyter-widgets/controls",
      "model_module_version": "1.5.0",
      "model_name": "DescriptionStyleModel",
      "state": {
       "description_width": ""
      }
     },
     "076745bf55c64e4b91a63e3ae14b438f": {
      "model_module": "@jupyter-widgets/base",
      "model_module_version": "1.2.0",
      "model_name": "LayoutModel",
      "state": {}
     },
     "07f84a7937e3481caf282cd5a5d999d5": {
      "model_module": "@jupyter-widgets/controls",
      "model_module_version": "1.5.0",
      "model_name": "BoxModel",
      "state": {
       "children": [
        "IPY_MODEL_685fc8d877e2482faa132980ca7b3416",
        "IPY_MODEL_0eaf2946057a47b3b7eb28bf51678969"
       ],
       "layout": "IPY_MODEL_9736a98bfa114f0ca4a8f8d15e720149"
      }
     },
     "08033173a4534a868901064ccdd4b6e1": {
      "model_module": "@jupyter-widgets/base",
      "model_module_version": "1.2.0",
      "model_name": "LayoutModel",
      "state": {}
     },
     "0816eb3c8f674b25affcab31c06c01d3": {
      "model_module": "@jupyter-widgets/base",
      "model_module_version": "1.2.0",
      "model_name": "LayoutModel",
      "state": {}
     },
     "082619524a0b4c3bb8c5edd07ecb5161": {
      "model_module": "@jupyter-widgets/controls",
      "model_module_version": "1.5.0",
      "model_name": "LabelModel",
      "state": {
       "layout": "IPY_MODEL_38898ff3485144ee8ed54dfb5c95fe21",
       "style": "IPY_MODEL_9fd7edfbe6b944858157e9df466150a7"
      }
     },
     "0974e4915dc6483ca3140e2e71983047": {
      "model_module": "@jupyter-widgets/base",
      "model_module_version": "1.2.0",
      "model_name": "LayoutModel",
      "state": {}
     },
     "09b5a6030c21469c9a55480a854483fd": {
      "model_module": "@jupyter-widgets/base",
      "model_module_version": "1.2.0",
      "model_name": "LayoutModel",
      "state": {}
     },
     "0a2c8bf47d584fc49ca4d5748730157a": {
      "model_module": "@jupyter-widgets/controls",
      "model_module_version": "1.5.0",
      "model_name": "SliderStyleModel",
      "state": {
       "description_width": ""
      }
     },
     "0a3c5f8bb1b943c597012c3f3a061fc2": {
      "model_module": "@jupyter-widgets/controls",
      "model_module_version": "1.5.0",
      "model_name": "LabelModel",
      "state": {
       "layout": "IPY_MODEL_818e92b01be042539a7376061ab7b052",
       "style": "IPY_MODEL_cba6b10d557d43b19741e60ed369cff9",
       "value": "component"
      }
     },
     "0a8416b4495c4ea8a66bcfb02a25ac62": {
      "model_module": "@jupyter-widgets/base",
      "model_module_version": "1.2.0",
      "model_name": "LayoutModel",
      "state": {
       "width": "200px"
      }
     },
     "0b18ba75f9e7411bb06d584a4a85baf3": {
      "model_module": "@jupyter-widgets/controls",
      "model_module_version": "1.5.0",
      "model_name": "IntSliderModel",
      "state": {
       "layout": "IPY_MODEL_49fb7fde5af2476cb984d593a0ed0493",
       "max": 5,
       "min": -1,
       "style": "IPY_MODEL_7e4f49f3d4f04e90964e9aeb0e073eaa",
       "value": 1
      }
     },
     "0b75cd8d4aad413daeb282447f360b85": {
      "model_module": "@jupyter-widgets/controls",
      "model_module_version": "1.5.0",
      "model_name": "DescriptionStyleModel",
      "state": {
       "description_width": ""
      }
     },
     "0bc4ffe10b6c40b59473fb11ec1dd6da": {
      "model_module": "@jupyter-widgets/controls",
      "model_module_version": "1.5.0",
      "model_name": "ButtonModel",
      "state": {
       "description": " Remove",
       "icon": "trash",
       "layout": "IPY_MODEL_0be91932792745f9ab9091b91e74ce94",
       "style": "IPY_MODEL_fdc8478172b4443892af873bb78f8249",
       "tooltip": "Remove current representation"
      }
     },
     "0bda15b3af884b01b0b8fc1b226d3b5b": {
      "model_module": "@jupyter-widgets/controls",
      "model_module_version": "1.5.0",
      "model_name": "IntSliderModel",
      "state": {
       "layout": "IPY_MODEL_0a8416b4495c4ea8a66bcfb02a25ac62",
       "max": 2,
       "style": "IPY_MODEL_0a2c8bf47d584fc49ca4d5748730157a"
      }
     },
     "0bdda5bffe8a4699be643c2d2b555981": {
      "model_module": "@jupyter-widgets/controls",
      "model_module_version": "1.5.0",
      "model_name": "BoxModel",
      "state": {
       "children": [
        "IPY_MODEL_977a8b74a94d487b9cbee4ff9902d1a5",
        "IPY_MODEL_8ff11bbe1d374b1cb2db69b3e2949a8f"
       ],
       "layout": "IPY_MODEL_0fe35860e66f4d738c9e9a1db0ca082f"
      }
     },
     "0be2f1647be24cd298fed525a28dd1be": {
      "model_module": "@jupyter-widgets/controls",
      "model_module_version": "1.5.0",
      "model_name": "BoxModel",
      "state": {
       "layout": "IPY_MODEL_6cd1f55ac2374a409ccb362c95415c51"
      }
     },
     "0be91932792745f9ab9091b91e74ce94": {
      "model_module": "@jupyter-widgets/base",
      "model_module_version": "1.2.0",
      "model_name": "LayoutModel",
      "state": {}
     },
     "0c43523e24e0492f9952c579c45412ab": {
      "model_module": "@jupyter-widgets/base",
      "model_module_version": "1.2.0",
      "model_name": "LayoutModel",
      "state": {}
     },
     "0c4b289eaa844e2788b6caa92d47dfb0": {
      "model_module": "@jupyter-widgets/controls",
      "model_module_version": "1.5.0",
      "model_name": "DescriptionStyleModel",
      "state": {
       "description_width": ""
      }
     },
     "0c5a9538c3cc4c3188200b10778da4e7": {
      "model_module": "@jupyter-widgets/controls",
      "model_module_version": "1.5.0",
      "model_name": "BoxModel",
      "state": {
       "children": [
        "IPY_MODEL_d31cfe4aca6c46808f80a77c2938c5b8"
       ],
       "layout": "IPY_MODEL_7e6e0310e8764580a325cd0f9b3a8fc1"
      }
     },
     "0c67d7679f6e4872846a8e304aeda0c2": {
      "model_module": "@jupyter-widgets/base",
      "model_module_version": "1.2.0",
      "model_name": "LayoutModel",
      "state": {}
     },
     "0c68c71cdf1a4d8a8ab6247de224ebe5": {
      "model_module": "@jupyter-widgets/controls",
      "model_module_version": "1.5.0",
      "model_name": "SliderStyleModel",
      "state": {
       "description_width": ""
      }
     },
     "0c8b0c68a0ff4e3a8b94420e1cd984fd": {
      "model_module": "@jupyter-widgets/controls",
      "model_module_version": "1.5.0",
      "model_name": "BoxModel",
      "state": {
       "children": [
        "IPY_MODEL_a7a56192cfd64fd6b976600644651a3e",
        "IPY_MODEL_d5d3a549c89045c2a240057f8e6aed3f"
       ],
       "layout": "IPY_MODEL_eb69a8e03cf44b96825e4be413fff080"
      }
     },
     "0cc954dec4c84ea69af41da8a9fbdfa0": {
      "model_module": "@jupyter-widgets/controls",
      "model_module_version": "1.5.0",
      "model_name": "DropdownModel",
      "state": {
       "_options_labels": [
        "low",
        "medium",
        "high"
       ],
       "index": 1,
       "layout": "IPY_MODEL_84673dde8ee8417fa0af39032b90ff71",
       "style": "IPY_MODEL_49295b84142246e2adf11b8887b4e7bb"
      }
     },
     "0d0e5c7bdf1a43b3a581f1eef36e0cf2": {
      "model_module": "@jupyter-widgets/controls",
      "model_module_version": "1.5.0",
      "model_name": "DescriptionStyleModel",
      "state": {
       "description_width": ""
      }
     },
     "0d28e6e69a3c46b4999065667435abf5": {
      "model_module": "@jupyter-widgets/controls",
      "model_module_version": "1.5.0",
      "model_name": "ButtonStyleModel",
      "state": {}
     },
     "0d68727ef3d047c1993c0d26e2f16f13": {
      "model_module": "@jupyter-widgets/base",
      "model_module_version": "1.2.0",
      "model_name": "LayoutModel",
      "state": {
       "width": "200px"
      }
     },
     "0df7bb7daa0849b6b52f7913efdac39b": {
      "model_module": "@jupyter-widgets/controls",
      "model_module_version": "1.5.0",
      "model_name": "HBoxModel",
      "state": {
       "children": [
        "IPY_MODEL_41a1fe03524640a8b0fcabbd25e60e95"
       ],
       "layout": "IPY_MODEL_4e498146f0ca4e8f87240a5bee02dc11"
      }
     },
     "0e35309c9de24b80ac86f70f5ec382ec": {
      "model_module": "@jupyter-widgets/controls",
      "model_module_version": "1.5.0",
      "model_name": "IntSliderModel",
      "state": {
       "layout": "IPY_MODEL_600ac7f6041544b28c5cef3ccf6dd474",
       "max": 37,
       "style": "IPY_MODEL_3c45c3e979df462fb1a88497c1146c95"
      }
     },
     "0e7396106d104ed8aee4773f7902b3fe": {
      "model_module": "@jupyter-widgets/base",
      "model_module_version": "1.2.0",
      "model_name": "LayoutModel",
      "state": {}
     },
     "0e9c2699702e4e7aa71ee733c3ff4e00": {
      "model_module": "@jupyter-widgets/controls",
      "model_module_version": "1.5.0",
      "model_name": "DropdownModel",
      "state": {
       "_options_labels": [
        " ",
        "picking",
        "random",
        "uniform",
        "atomindex",
        "residueindex",
        "chainindex",
        "modelindex",
        "sstruc",
        "element",
        "resname",
        "bfactor",
        "hydrophobicity",
        "value",
        "volume",
        "occupancy"
       ],
       "description": "color_scheme",
       "index": 0,
       "layout": "IPY_MODEL_09b5a6030c21469c9a55480a854483fd",
       "style": "IPY_MODEL_b07783b8cabc4cee806774dbae623f5a"
      }
     },
     "0e9c421d6469403e936c08b012429f0d": {
      "model_module": "@jupyter-widgets/controls",
      "model_module_version": "1.5.0",
      "model_name": "ButtonModel",
      "state": {
       "description": "Add",
       "layout": "IPY_MODEL_4af6b31062b14fcb84640e7183c04f80",
       "style": "IPY_MODEL_a05fe996d3254485b94d7f06cf3a1d62",
       "tooltip": "Add representation.\n        You can also hit Enter in selection box"
      }
     },
     "0eaf2946057a47b3b7eb28bf51678969": {
      "model_module": "@jupyter-widgets/controls",
      "model_module_version": "1.5.0",
      "model_name": "BoxModel",
      "state": {
       "children": [
        "IPY_MODEL_13da8be498b745d692eb679cba723c1e"
       ],
       "layout": "IPY_MODEL_96269c4ff7c7446f93beaef3eb83b77b"
      }
     },
     "0f37d7ecbce749bb93bc22285cf9c6c5": {
      "model_module": "@jupyter-widgets/controls",
      "model_module_version": "1.5.0",
      "model_name": "SliderStyleModel",
      "state": {
       "description_width": ""
      }
     },
     "0f4574545dbe4ced8bb5ff74f3c41519": {
      "model_module": "@jupyter-widgets/base",
      "model_module_version": "1.2.0",
      "model_name": "LayoutModel",
      "state": {
       "width": "300px"
      }
     },
     "0f695707f1b246d79411a5acdd471360": {
      "model_module": "@jupyter-widgets/controls",
      "model_module_version": "1.5.0",
      "model_name": "TabModel",
      "state": {
       "_titles": {
        "0": "General",
        "1": "Representation",
        "2": "Preference",
        "3": "Extra"
       },
       "children": [
        "IPY_MODEL_159cfc3ab0564b62bc6c79f49a983f53",
        "IPY_MODEL_273be5ce6b2e4435a8aa2a889d8fd9b8",
        "IPY_MODEL_a566d9dc99564838a415f46545a62820",
        "IPY_MODEL_a44fd21ed5024196a64d1eac250ade95"
       ],
       "layout": "IPY_MODEL_1646ec88e2114522bb2f099cb5ec644a"
      }
     },
     "0fc15bd0d84c4455b9f2e2158dcba617": {
      "model_module": "@jupyter-widgets/base",
      "model_module_version": "1.2.0",
      "model_name": "LayoutModel",
      "state": {}
     },
     "0fda86572502441592b2eb652be3b5fa": {
      "model_module": "@jupyter-widgets/controls",
      "model_module_version": "1.5.0",
      "model_name": "DescriptionStyleModel",
      "state": {
       "description_width": ""
      }
     },
     "0fe35860e66f4d738c9e9a1db0ca082f": {
      "model_module": "@jupyter-widgets/base",
      "model_module_version": "1.2.0",
      "model_name": "LayoutModel",
      "state": {
       "display": "flex",
       "flex_flow": "row",
       "justify_content": "space-between"
      }
     },
     "1018b5dc591247859e7ea66a7cb8b47e": {
      "model_module": "@jupyter-widgets/controls",
      "model_module_version": "1.5.0",
      "model_name": "HBoxModel",
      "state": {
       "children": [
        "IPY_MODEL_cc2fa128ec2d475ca4d1b7769a6676d5",
        "IPY_MODEL_fddade9cd1f74856aae3436f8e514418",
        "IPY_MODEL_8d40034779d94abfa92778eaa7880a73",
        "IPY_MODEL_96882aa28e554d97ac0c415c3239464a"
       ],
       "layout": "IPY_MODEL_d42ddc68a3bc4a4c9daac538a50481bb"
      }
     },
     "1072fe8c2b544772ab520cb60c0bef8e": {
      "model_module": "@jupyter-widgets/base",
      "model_module_version": "1.2.0",
      "model_name": "LayoutModel",
      "state": {}
     },
     "10ad46c9dd0347218d2de088df18c2a3": {
      "model_module": "@jupyter-widgets/base",
      "model_module_version": "1.2.0",
      "model_name": "LayoutModel",
      "state": {}
     },
     "10b5d211e9694340ac1d0524fa779553": {
      "model_module": "@jupyter-widgets/base",
      "model_module_version": "1.2.0",
      "model_name": "LayoutModel",
      "state": {}
     },
     "10d0ec6ac803425f9353f1aa76ed6c25": {
      "model_module": "@jupyter-widgets/controls",
      "model_module_version": "1.5.0",
      "model_name": "DescriptionStyleModel",
      "state": {
       "description_width": ""
      }
     },
     "10e2f5f21d234c2e91cfa8625c565cb9": {
      "model_module": "@jupyter-widgets/base",
      "model_module_version": "1.2.0",
      "model_name": "LayoutModel",
      "state": {
       "display": "flex",
       "flex_flow": "row",
       "justify_content": "space-between"
      }
     },
     "10ff5a34f34b48a7aa3a1fa007a32448": {
      "model_module": "@jupyter-widgets/base",
      "model_module_version": "1.2.0",
      "model_name": "LayoutModel",
      "state": {
       "align_items": "stretch",
       "display": "flex",
       "flex_flow": "column",
       "width": "75%"
      }
     },
     "116e7a22f2724ff2a780dffb89bef95f": {
      "model_module": "@jupyter-widgets/controls",
      "model_module_version": "1.5.0",
      "model_name": "ButtonStyleModel",
      "state": {}
     },
     "11ae584cee95439b9142834cc9023e88": {
      "model_module": "@jupyter-widgets/base",
      "model_module_version": "1.2.0",
      "model_name": "LayoutModel",
      "state": {}
     },
     "11d52bc4999348a694d545c0a57bcc8b": {
      "model_module": "@jupyter-widgets/base",
      "model_module_version": "1.2.0",
      "model_name": "LayoutModel",
      "state": {}
     },
     "11dcaad9bd4b438497453f5d6d64d035": {
      "model_module": "@jupyter-widgets/controls",
      "model_module_version": "1.5.0",
      "model_name": "BoxModel",
      "state": {
       "children": [
        "IPY_MODEL_b63d6de88d7445e68fb71b34ec37a957"
       ],
       "layout": "IPY_MODEL_65c7dd1c02c44fe8bea0c68f99c7ec1f"
      }
     },
     "11e4587ae97c432dae05b0d9f14b0d97": {
      "model_module": "@jupyter-widgets/base",
      "model_module_version": "1.2.0",
      "model_name": "LayoutModel",
      "state": {
       "align_items": "stretch",
       "display": "flex",
       "flex_flow": "column",
       "width": "75%"
      }
     },
     "1225c17a68c14b059744a1427a726cbb": {
      "model_module": "@jupyter-widgets/controls",
      "model_module_version": "1.5.0",
      "model_name": "TabModel",
      "state": {
       "_titles": {
        "0": "General",
        "1": "Representation",
        "2": "Preference",
        "3": "Extra"
       },
       "children": [
        "IPY_MODEL_f61a7996cea84f168181b979e7856e10",
        "IPY_MODEL_136a670b3bdd426ba0d13c898ac61331",
        "IPY_MODEL_cb6767e15b934ad692ad2ae011fdcbaf",
        "IPY_MODEL_0c5a9538c3cc4c3188200b10778da4e7"
       ],
       "layout": "IPY_MODEL_afb2f9943e4649f797aa99f83f9e7e84"
      }
     },
     "129ac5ba0e1f4cd2b6e0877fb7b81552": {
      "model_module": "@jupyter-widgets/controls",
      "model_module_version": "1.5.0",
      "model_name": "ButtonModel",
      "state": {
       "description": "Reset",
       "layout": "IPY_MODEL_313fda597215465f9e241bf03e885cc1",
       "style": "IPY_MODEL_e3115020122946fbad13122de68f0fa1"
      }
     },
     "130ae504981e4372a75488bcf1ef78b3": {
      "model_module": "@jupyter-widgets/base",
      "model_module_version": "1.2.0",
      "model_name": "LayoutModel",
      "state": {}
     },
     "1324cc16addb4ad2a0eb6223c16392de": {
      "model_module": "@jupyter-widgets/controls",
      "model_module_version": "1.5.0",
      "model_name": "IntSliderModel",
      "state": {
       "layout": "IPY_MODEL_4da2badec31b4577ad0ea4d1be795744",
       "style": "IPY_MODEL_567f7d40d09149238d57cb67b5024478",
       "value": 100
      }
     },
     "133647dbc33e4f7e8537c3492a247fc2": {
      "model_module": "@jupyter-widgets/controls",
      "model_module_version": "1.5.0",
      "model_name": "CheckboxModel",
      "state": {
       "description": "wireframe",
       "disabled": false,
       "layout": "IPY_MODEL_58371e75f9024c659bf91513deca006a",
       "style": "IPY_MODEL_471244d0cdde4b82be5610d44e19ac10",
       "value": false
      }
     },
     "136a670b3bdd426ba0d13c898ac61331": {
      "model_module": "@jupyter-widgets/controls",
      "model_module_version": "1.5.0",
      "model_name": "BoxModel",
      "state": {
       "children": [
        "IPY_MODEL_72cd1bce0e7940219ea863f62aed6b5d"
       ],
       "layout": "IPY_MODEL_4c362106ac7d446cbc675ab6c8015600"
      }
     },
     "13abf69d4b2d42f2b80868e7996390e6": {
      "model_module": "@jupyter-widgets/controls",
      "model_module_version": "1.5.0",
      "model_name": "IntSliderModel",
      "state": {
       "layout": "IPY_MODEL_ecae8f7bd9d0413d8f32dcd4def179a9",
       "max": 120,
       "min": 15,
       "style": "IPY_MODEL_562e12fef6c046afba9dab8fd7743dab",
       "value": 40
      }
     },
     "13c6bceaf7ac404d851375b159a5f316": {
      "model_module": "@jupyter-widgets/controls",
      "model_module_version": "1.5.0",
      "model_name": "ButtonStyleModel",
      "state": {}
     },
     "13da8be498b745d692eb679cba723c1e": {
      "model_module": "@jupyter-widgets/controls",
      "model_module_version": "1.5.0",
      "model_name": "LabelModel",
      "state": {
       "layout": "IPY_MODEL_ee3b5f788c4d4430a0e272c419dcf4a0",
       "style": "IPY_MODEL_c89360ae2f684318b0cd7e732669cbe6"
      }
     },
     "1462d4aeb77f4505a6a4d93c94f5a42c": {
      "model_module": "@jupyter-widgets/controls",
      "model_module_version": "1.5.0",
      "model_name": "DescriptionStyleModel",
      "state": {
       "description_width": ""
      }
     },
     "149786f3b627483f88f62935280bb6aa": {
      "model_module": "@jupyter-widgets/controls",
      "model_module_version": "1.5.0",
      "model_name": "BoxModel",
      "state": {
       "children": [
        "IPY_MODEL_93b32aad21794dad9354c63719973233",
        "IPY_MODEL_b01f05e23b4b4cc5bd953d3491bbea87"
       ],
       "layout": "IPY_MODEL_eb69a8e03cf44b96825e4be413fff080"
      }
     },
     "14b4c45916fb42c084a7499942bef3ec": {
      "model_module": "@jupyter-widgets/controls",
      "model_module_version": "1.5.0",
      "model_name": "LabelModel",
      "state": {
       "layout": "IPY_MODEL_441d001c0e9543c8a87d148f3e76f7e5",
       "style": "IPY_MODEL_30d28274b26b4cbe98a44dcf69270547"
      }
     },
     "1510248529b247f381e7989740ddd4a8": {
      "model_module": "@jupyter-widgets/controls",
      "model_module_version": "1.5.0",
      "model_name": "FloatSliderModel",
      "state": {
       "description": "isolevel",
       "layout": "IPY_MODEL_9683c98c2dec4385b4661b60720739d1",
       "max": 10,
       "step": 0.1,
       "style": "IPY_MODEL_6e5b9369227d480b9002857db2702715",
       "value": 2
      }
     },
     "156acf1000d74534aee2e6ec12d5be0a": {
      "model_module": "@jupyter-widgets/base",
      "model_module_version": "1.2.0",
      "model_name": "LayoutModel",
      "state": {}
     },
     "159cfc3ab0564b62bc6c79f49a983f53": {
      "model_module": "@jupyter-widgets/controls",
      "model_module_version": "1.5.0",
      "model_name": "BoxModel",
      "state": {
       "children": [
        "IPY_MODEL_90610a4950d24cf5a63e206d57ad55ae"
       ],
       "layout": "IPY_MODEL_968d353518ae42b7a18be0e45180f775"
      }
     },
     "163a3e70ac4a4ed5933361035bd431a1": {
      "model_module": "@jupyter-widgets/controls",
      "model_module_version": "1.5.0",
      "model_name": "SliderStyleModel",
      "state": {
       "description_width": ""
      }
     },
     "1646ec88e2114522bb2f099cb5ec644a": {
      "model_module": "@jupyter-widgets/base",
      "model_module_version": "1.2.0",
      "model_name": "LayoutModel",
      "state": {
       "align_items": "stretch",
       "align_self": "center"
      }
     },
     "164f97f8292c4bc18cc763aabac13f9a": {
      "model_module": "@jupyter-widgets/controls",
      "model_module_version": "1.5.0",
      "model_name": "SliderStyleModel",
      "state": {
       "description_width": ""
      }
     },
     "164faea2eda145bfa1506607941d04f4": {
      "model_module": "@jupyter-widgets/controls",
      "model_module_version": "1.5.0",
      "model_name": "LabelModel",
      "state": {
       "layout": "IPY_MODEL_690b935c591549a593c8297ce3d69906",
       "style": "IPY_MODEL_012288ebc872477e8d073b44a8094d6e",
       "value": "fog_near"
      }
     },
     "1679a7b024dc42239493bb1342b041bd": {
      "model_module": "@jupyter-widgets/controls",
      "model_module_version": "1.5.0",
      "model_name": "LabelModel",
      "state": {
       "layout": "IPY_MODEL_7ca89507cae84ac0af2e0fa8a5f92f0b",
       "style": "IPY_MODEL_6d14aa50fdaa4e0dbb8d85e793a54778",
       "value": "representation"
      }
     },
     "170a98afe7c04fb0a0f194e3e77f34b5": {
      "model_module": "@jupyter-widgets/base",
      "model_module_version": "1.2.0",
      "model_name": "LayoutModel",
      "state": {
       "width": "200px"
      }
     },
     "17b8cfd46e1b4e4688034fbd812036e2": {
      "model_module": "@jupyter-widgets/base",
      "model_module_version": "1.2.0",
      "model_name": "LayoutModel",
      "state": {}
     },
     "180476fd75314b1f93c020d99836b9fd": {
      "model_module": "@jupyter-widgets/controls",
      "model_module_version": "1.5.0",
      "model_name": "DropdownModel",
      "state": {
       "_options_labels": [
        "low",
        "medium",
        "high"
       ],
       "index": 1,
       "layout": "IPY_MODEL_85232c56c13a4f4c9b5a0a5f592fa4a5",
       "style": "IPY_MODEL_2d7f8ef339ca45aca7ac1da4a4235842"
      }
     },
     "1829df14608645f3b0efc530224b2a94": {
      "model_module": "@jupyter-widgets/controls",
      "model_module_version": "1.5.0",
      "model_name": "BoxModel",
      "state": {
       "children": [
        "IPY_MODEL_f5a7493d99ce4a23895a35e1abe1e7eb",
        "IPY_MODEL_6cffca068c0d458eb08c0cd904041160",
        "IPY_MODEL_0e9c2699702e4e7aa71ee733c3ff4e00",
        "IPY_MODEL_133647dbc33e4f7e8537c3492a247fc2",
        "IPY_MODEL_b811a0adbd3a46aaa1abe6d78d8bf2d0",
        "IPY_MODEL_bf8f508153a443b48769de5625f94c16",
        "IPY_MODEL_ea8e57d137734c9f8da869e2104402f9",
        "IPY_MODEL_f7a6b473074343f7a444f86ec8258570",
        "IPY_MODEL_c85bcde04f4d44e79df92a8e928915f0",
        "IPY_MODEL_ccb587fa5ff54bebbb4436f898879085",
        "IPY_MODEL_bed1c1d8c3a5411798f15b15ebfc2e14"
       ],
       "layout": "IPY_MODEL_d3e72bdfd3fa4c65b654e6aaa373066f"
      }
     },
     "18361fedf547469b9eb4e312e81862b5": {
      "model_module": "@jupyter-widgets/controls",
      "model_module_version": "1.5.0",
      "model_name": "HBoxModel",
      "state": {
       "children": [
        "IPY_MODEL_29b0c611624b4b9cafea658ee7a3ff55",
        "IPY_MODEL_80785ab5334d4f228f031fb367b8e5b3",
        "IPY_MODEL_2da3cd1b79ef4466b66e17e32a52ead6"
       ],
       "layout": "IPY_MODEL_21e7e6e307af4636a60e54c2577bb1c2"
      }
     },
     "186dd0946e364e4b8b632283503a856f": {
      "model_module": "@jupyter-widgets/controls",
      "model_module_version": "1.5.0",
      "model_name": "IntSliderModel",
      "state": {
       "layout": "IPY_MODEL_e5d377349be44375805ba5858d57d60e",
       "style": "IPY_MODEL_a0c557dd394b49b796cc6b7239d31753",
       "value": 50
      }
     },
     "18b2e051ceaf41d2b317d5b6c0bc7bf1": {
      "model_module": "@jupyter-widgets/base",
      "model_module_version": "1.2.0",
      "model_name": "LayoutModel",
      "state": {}
     },
     "18e58af81b724394a73669bb74bce863": {
      "model_module": "@jupyter-widgets/base",
      "model_module_version": "1.2.0",
      "model_name": "LayoutModel",
      "state": {}
     },
     "18f3d35f49ff418fa83676583645cb39": {
      "model_module": "@jupyter-widgets/controls",
      "model_module_version": "1.5.0",
      "model_name": "SliderStyleModel",
      "state": {
       "description_width": ""
      }
     },
     "19637d5a94e3449080760caef5ef0cfe": {
      "model_module": "@jupyter-widgets/controls",
      "model_module_version": "1.5.0",
      "model_name": "VBoxModel",
      "state": {
       "_dom_classes": [
        "widget-interact"
       ],
       "children": [
        "IPY_MODEL_2394393e93c9474fb11836df0c748609",
        "IPY_MODEL_953a7aa9efa84ea9bfd5808c866f563a",
        "IPY_MODEL_c9e3936ac8c942e192d803a6fb401f9c",
        "IPY_MODEL_47d6b2ee749e443da7676bda391a2486",
        "IPY_MODEL_a07715d0db9e456db98e29ac4f50d5fd",
        "IPY_MODEL_1510248529b247f381e7989740ddd4a8",
        "IPY_MODEL_05a18ef1034d494ab90beb1991cff385",
        "IPY_MODEL_f1d9340725f548218bd8aa0359bd118a",
        "IPY_MODEL_8f43a30aa79d4199aca9565a2dc97f2a",
        "IPY_MODEL_31633fe2346e417eb5ebb6afb18c4af4",
        "IPY_MODEL_f6949d14e0a4419887d8e08cdd3a7043"
       ],
       "layout": "IPY_MODEL_80a46e3f71c04af4acf3048c246fbb33"
      }
     },
     "19b135a9d62d4622bc7843a8e5d65f19": {
      "model_module": "@jupyter-widgets/controls",
      "model_module_version": "1.5.0",
      "model_name": "BoxModel",
      "state": {
       "children": [
        "IPY_MODEL_2f6e4363f35e4413840905e70f31a753",
        "IPY_MODEL_dd6d909caa074420ba28f3539045f106"
       ],
       "layout": "IPY_MODEL_a233bad3a88046ccb196b8a0ae53fd3f"
      }
     },
     "19ea8076f65c40c083c8691cbdc1e075": {
      "model_module": "@jupyter-widgets/controls",
      "model_module_version": "1.5.0",
      "model_name": "TextModel",
      "state": {
       "layout": "IPY_MODEL_26d1fe21ed2246e3bb6eb32cf27198f2",
       "style": "IPY_MODEL_ade5796e4ff049fb93eb098a83bfd126",
       "value": "cartoon"
      }
     },
     "1a1ba7b8012846beb0a6717756221d09": {
      "model_module": "@jupyter-widgets/controls",
      "model_module_version": "1.5.0",
      "model_name": "LabelModel",
      "state": {
       "layout": "IPY_MODEL_f223c59a12814440a4ec84edbe9d5f02",
       "style": "IPY_MODEL_ea8c45ecbde04eef83512345749ebb29",
       "value": "zoom_speed"
      }
     },
     "1a42a3328dc04e5487095a6c719d1191": {
      "model_module": "@jupyter-widgets/base",
      "model_module_version": "1.2.0",
      "model_name": "LayoutModel",
      "state": {}
     },
     "1b139004a1fa45ebb61e7cab7bef1bb9": {
      "model_module": "@jupyter-widgets/controls",
      "model_module_version": "1.5.0",
      "model_name": "SliderStyleModel",
      "state": {
       "description_width": ""
      }
     },
     "1b52d8d4907a47b1987b7ab137502e43": {
      "model_module": "@jupyter-widgets/controls",
      "model_module_version": "1.5.0",
      "model_name": "PlayModel",
      "state": {
       "layout": "IPY_MODEL_f41ce12750984db382629f0371c9f0c0",
       "max": 37,
       "style": "IPY_MODEL_d6d6237830f2445db03f85b25dc370a8"
      }
     },
     "1b53c29f6128416eb3d9133a7367cbfe": {
      "model_module": "@jupyter-widgets/controls",
      "model_module_version": "1.5.0",
      "model_name": "BoxModel",
      "state": {
       "layout": "IPY_MODEL_e0ab19d6f20e4a668c19a2d909878aee"
      }
     },
     "1b64e2f054d04013bae32fe6bba4ef46": {
      "model_module": "@jupyter-widgets/controls",
      "model_module_version": "1.5.0",
      "model_name": "ButtonModel",
      "state": {
       "icon": "camera",
       "layout": "IPY_MODEL_0328a779b2e04932b89ba3f8f24e4ff4",
       "style": "IPY_MODEL_4cdbc1d8fca64afca0bcdd3769473ead"
      }
     },
     "1ba58caad898435ab2a06436b8badeb2": {
      "model_module": "@jupyter-widgets/controls",
      "model_module_version": "1.5.0",
      "model_name": "TextModel",
      "state": {
       "layout": "IPY_MODEL_aeab2a07fcce4790b12d01499fd6c582",
       "style": "IPY_MODEL_b797fe170fb4491f9ee609beabea8455",
       "value": "*"
      }
     },
     "1bec2f91cf264616a190371e3489eb8c": {
      "model_module": "@jupyter-widgets/controls",
      "model_module_version": "1.5.0",
      "model_name": "LabelModel",
      "state": {
       "layout": "IPY_MODEL_eae91ecc380644b0939529a346d49c28",
       "style": "IPY_MODEL_eb03f409c8d2473f9ee107f407eaf54c"
      }
     },
     "1c372743c8494b7d9b96e68920e3d54d": {
      "model_module": "@jupyter-widgets/base",
      "model_module_version": "1.2.0",
      "model_name": "LayoutModel",
      "state": {
       "width": "200px"
      }
     },
     "1c640d7e418f4837a3c6b5c5930f6af1": {
      "model_module": "@jupyter-widgets/base",
      "model_module_version": "1.2.0",
      "model_name": "LayoutModel",
      "state": {
       "display": "none"
      }
     },
     "1c6697af779a42dc96aa66bac25f847f": {
      "model_module": "@jupyter-widgets/controls",
      "model_module_version": "1.5.0",
      "model_name": "IntSliderModel",
      "state": {
       "layout": "IPY_MODEL_b9475932e9fa4d80bc722124367f744a",
       "max": 200,
       "step": 5,
       "style": "IPY_MODEL_18f3d35f49ff418fa83676583645cb39",
       "value": 10
      }
     },
     "1cb226bdb1014f6eb69768a38350e6af": {
      "model_module": "@jupyter-widgets/controls",
      "model_module_version": "1.5.0",
      "model_name": "DropdownModel",
      "state": {
       "_options_labels": [
        " "
       ],
       "index": 0,
       "layout": "IPY_MODEL_9cb023d9f0d34a58a12f18ef837b3f12",
       "style": "IPY_MODEL_0fda86572502441592b2eb652be3b5fa"
      }
     },
     "1cc8e32ef06945aa805ad96b33ba58ea": {
      "model_module": "@jupyter-widgets/controls",
      "model_module_version": "1.5.0",
      "model_name": "VBoxModel",
      "state": {
       "_dom_classes": [
        "widget-interact"
       ],
       "children": [
        "IPY_MODEL_f5a7493d99ce4a23895a35e1abe1e7eb",
        "IPY_MODEL_6cffca068c0d458eb08c0cd904041160",
        "IPY_MODEL_0e9c2699702e4e7aa71ee733c3ff4e00",
        "IPY_MODEL_133647dbc33e4f7e8537c3492a247fc2",
        "IPY_MODEL_b811a0adbd3a46aaa1abe6d78d8bf2d0",
        "IPY_MODEL_bf8f508153a443b48769de5625f94c16",
        "IPY_MODEL_ea8e57d137734c9f8da869e2104402f9",
        "IPY_MODEL_f7a6b473074343f7a444f86ec8258570",
        "IPY_MODEL_c85bcde04f4d44e79df92a8e928915f0",
        "IPY_MODEL_ccb587fa5ff54bebbb4436f898879085",
        "IPY_MODEL_bed1c1d8c3a5411798f15b15ebfc2e14"
       ],
       "layout": "IPY_MODEL_8af522f05eab478599c46d5f6e991e43"
      }
     },
     "1cf79427fee74f4c9f65e462bd34adcf": {
      "model_module": "@jupyter-widgets/controls",
      "model_module_version": "1.5.0",
      "model_name": "IntSliderModel",
      "state": {
       "layout": "IPY_MODEL_2bff022d92894ce196008786313badb3",
       "max": 0,
       "style": "IPY_MODEL_aa8a7d25957a417bb5b9e45b87577cca"
      }
     },
     "1d2051f52fd14f1daa9cc88627bbf8aa": {
      "model_module": "@jupyter-widgets/controls",
      "model_module_version": "1.5.0",
      "model_name": "VBoxModel",
      "state": {
       "children": [
        "IPY_MODEL_9a99fbf8388941a18f0def536df59175",
        "IPY_MODEL_7c6efde7af0e4b17a4f07881eefa9908",
        "IPY_MODEL_207db9c0b4ba424f9d158138ce2ddcce",
        "IPY_MODEL_be924dec7236417495de14683b13963b",
        "IPY_MODEL_2a3cea2f76e542b58b2fbe60d5d1e4b4"
       ],
       "layout": "IPY_MODEL_10ad46c9dd0347218d2de088df18c2a3"
      }
     },
     "1d231dc720cc453090d1d4ec48f27d56": {
      "model_module": "@jupyter-widgets/controls",
      "model_module_version": "1.5.0",
      "model_name": "DescriptionStyleModel",
      "state": {
       "description_width": ""
      }
     },
     "1d9f17ba33fc421692fac98871921b2b": {
      "model_module": "@jupyter-widgets/controls",
      "model_module_version": "1.5.0",
      "model_name": "BoxModel",
      "state": {
       "children": [
        "IPY_MODEL_27929c29fe094b83872d45b11b3bca95",
        "IPY_MODEL_b538a4f39cb8407a8b3dd590b2ecfaec"
       ],
       "layout": "IPY_MODEL_5fe77ce63d73496aa4dc3956a2405e64"
      }
     },
     "1dcd34bbb61b4a599fc538080f8ae9c8": {
      "model_module": "@jupyter-widgets/base",
      "model_module_version": "1.2.0",
      "model_name": "LayoutModel",
      "state": {}
     },
     "1e37b1dc64ac4d6db0241f0a8b6ba83b": {
      "model_module": "@jupyter-widgets/controls",
      "model_module_version": "1.5.0",
      "model_name": "DescriptionStyleModel",
      "state": {
       "description_width": ""
      }
     },
     "1e773d1443b348f8aeb6b3674a24c50a": {
      "model_module": "@jupyter-widgets/controls",
      "model_module_version": "1.5.0",
      "model_name": "ButtonStyleModel",
      "state": {}
     },
     "1e82c75e105a4262bcaed6f49c72c403": {
      "model_module": "@jupyter-widgets/controls",
      "model_module_version": "1.5.0",
      "model_name": "SliderStyleModel",
      "state": {
       "description_width": ""
      }
     },
     "1f89cd5b49d04f12bd25ca11b2534445": {
      "model_module": "@jupyter-widgets/controls",
      "model_module_version": "1.5.0",
      "model_name": "IntSliderModel",
      "state": {
       "layout": "IPY_MODEL_e13d14c2ae2841c89da19c6d34f885ac",
       "style": "IPY_MODEL_e56d6cf1aa184338b2883dec30a137c1",
       "value": 50
      }
     },
     "1fb553d968ce46b2879d970cda1b218d": {
      "model_module": "@jupyter-widgets/controls",
      "model_module_version": "1.5.0",
      "model_name": "SliderStyleModel",
      "state": {
       "description_width": ""
      }
     },
     "2040cc3f05e54b8cbdfaa5f09d10071f": {
      "model_module": "@jupyter-widgets/controls",
      "model_module_version": "1.5.0",
      "model_name": "FloatSliderModel",
      "state": {
       "description": "isolevel",
       "layout": "IPY_MODEL_ab51abd43d7b4b95a4e69709a331c645",
       "max": 10,
       "step": 0.1,
       "style": "IPY_MODEL_b51c98dfaa44460583f13236d5ce35f7",
       "value": 2
      }
     },
     "204e95926ea246f6bd78ec9e618111f7": {
      "model_module": "@jupyter-widgets/base",
      "model_module_version": "1.2.0",
      "model_name": "LayoutModel",
      "state": {}
     },
     "207db9c0b4ba424f9d158138ce2ddcce": {
      "model_module": "@jupyter-widgets/controls",
      "model_module_version": "1.5.0",
      "model_name": "ColorPickerModel",
      "state": {
       "disabled": false,
       "layout": "IPY_MODEL_87ccb643b3f5444cbe433d225576ae5c",
       "style": "IPY_MODEL_dfcf3afff2234365a5c8ecf4cfd9df90",
       "value": "white"
      }
     },
     "209100171cc64b33892085397aa214c8": {
      "model_module": "@jupyter-widgets/controls",
      "model_module_version": "1.5.0",
      "model_name": "DescriptionStyleModel",
      "state": {
       "description_width": ""
      }
     },
     "20941b2104244cac92641111dfa362ee": {
      "model_module": "@jupyter-widgets/controls",
      "model_module_version": "1.5.0",
      "model_name": "ToggleButtonModel",
      "state": {
       "description": "Smoothing",
       "layout": "IPY_MODEL_daf1cd17551f4cf59cc8e5d55565323d",
       "style": "IPY_MODEL_4fae43bf370b4f5e922ba42265043fb2",
       "tooltip": "smoothing trajectory"
      }
     },
     "20eab59e26ba4d7fa56df666daa4ba60": {
      "model_module": "@jupyter-widgets/controls",
      "model_module_version": "1.5.0",
      "model_name": "BoxModel",
      "state": {
       "children": [
        "IPY_MODEL_696fee4ac35e4609893e859222535bb0",
        "IPY_MODEL_1c6697af779a42dc96aa66bac25f847f"
       ],
       "layout": "IPY_MODEL_a233bad3a88046ccb196b8a0ae53fd3f"
      }
     },
     "212455cf70e34be98f82fd42316f5ebb": {
      "model_module": "@jupyter-widgets/controls",
      "model_module_version": "1.5.0",
      "model_name": "TextModel",
      "state": {
       "layout": "IPY_MODEL_518939cf31a9482484d305841437b006",
       "style": "IPY_MODEL_84a615e130c744dbb8c1c6346750116d",
       "value": "\n"
      }
     },
     "21386676ece34a639dad17431c34315b": {
      "model_module": "@jupyter-widgets/controls",
      "model_module_version": "1.5.0",
      "model_name": "SliderStyleModel",
      "state": {
       "description_width": ""
      }
     },
     "218c62014b004f81aca0c18a7d4d1ddb": {
      "model_module": "@jupyter-widgets/base",
      "model_module_version": "1.2.0",
      "model_name": "LayoutModel",
      "state": {
       "width": "200px"
      }
     },
     "21e7e6e307af4636a60e54c2577bb1c2": {
      "model_module": "@jupyter-widgets/base",
      "model_module_version": "1.2.0",
      "model_name": "LayoutModel",
      "state": {
       "flex": "1 1 auto",
       "width": "auto"
      }
     },
     "21f3be5777014a7383351d14d12c9d7c": {
      "model_module": "@jupyter-widgets/controls",
      "model_module_version": "1.5.0",
      "model_name": "LabelModel",
      "state": {
       "layout": "IPY_MODEL_539de2708a674e688a077eb92777c7c9",
       "style": "IPY_MODEL_f978092258134ee18cefa1279eb95e47",
       "value": "selection"
      }
     },
     "22be3ee583b5423cbb8f2417d0a35e25": {
      "model_module": "@jupyter-widgets/base",
      "model_module_version": "1.2.0",
      "model_name": "LayoutModel",
      "state": {
       "display": "none"
      }
     },
     "22be87b742844efeb52d7cdb4d053303": {
      "model_module": "@jupyter-widgets/controls",
      "model_module_version": "1.5.0",
      "model_name": "LabelModel",
      "state": {
       "layout": "IPY_MODEL_d85a35e6bf134055895290a9b9bcab64",
       "style": "IPY_MODEL_4d17de4e7a8644429c1961a6150fac9d",
       "value": "pan_speed"
      }
     },
     "22dd0aaa9894420e9a3a768bda2805c7": {
      "model_module": "@jupyter-widgets/base",
      "model_module_version": "1.2.0",
      "model_name": "LayoutModel",
      "state": {
       "display": "none"
      }
     },
     "23009b6dffed4006a5e00876c8f5d8d5": {
      "model_module": "@jupyter-widgets/controls",
      "model_module_version": "1.5.0",
      "model_name": "DescriptionStyleModel",
      "state": {
       "description_width": ""
      }
     },
     "2339ae6e147d4f248b8827aa595172da": {
      "model_module": "@jupyter-widgets/controls",
      "model_module_version": "1.5.0",
      "model_name": "DescriptionStyleModel",
      "state": {
       "description_width": ""
      }
     },
     "236ce1de228d4870952ab2d979e0fbdd": {
      "model_module": "@jupyter-widgets/base",
      "model_module_version": "1.2.0",
      "model_name": "LayoutModel",
      "state": {
       "width": "100px"
      }
     },
     "238b3f615a084a7aadb8564d513998e9": {
      "model_module": "@jupyter-widgets/controls",
      "model_module_version": "1.5.0",
      "model_name": "LabelModel",
      "state": {
       "layout": "IPY_MODEL_4c545ec2530048cca35374abda541495",
       "style": "IPY_MODEL_e63e007cc31a4c76b5d335695b7971dd",
       "value": "camera_fov"
      }
     },
     "2394393e93c9474fb11836df0c748609": {
      "model_module": "@jupyter-widgets/controls",
      "model_module_version": "1.5.0",
      "model_name": "FloatSliderModel",
      "state": {
       "description": "opacity",
       "layout": "IPY_MODEL_0c43523e24e0492f9952c579c45412ab",
       "max": 1,
       "step": 0.1,
       "style": "IPY_MODEL_7ebad3a2c5df47428a2c400ed3f98ec3",
       "value": 1
      }
     },
     "23c6eb42cd954db5828726df60ff70c5": {
      "model_module": "@jupyter-widgets/controls",
      "model_module_version": "1.5.0",
      "model_name": "DescriptionStyleModel",
      "state": {
       "description_width": ""
      }
     },
     "23e1fc8294a54324b6508e007c9f548f": {
      "model_module": "@jupyter-widgets/controls",
      "model_module_version": "1.5.0",
      "model_name": "VBoxModel",
      "state": {
       "children": [
        "IPY_MODEL_91d383721d114ed88faaf80fce4ad8c3",
        "IPY_MODEL_b538a4f39cb8407a8b3dd590b2ecfaec",
        "IPY_MODEL_341885b35e494bb9b96e2395eed7cddf",
        "IPY_MODEL_3bd453c94e4a48629ea619bd07eeb21b",
        "IPY_MODEL_409b40e356f74ae1a55734dfca6761f3",
        "IPY_MODEL_9bfb71f85b7045bda3e2480be64ee5d7",
        "IPY_MODEL_752455e2abe1468fb92cc10fb763fab6",
        "IPY_MODEL_9092024d695a4565b47044984faaff2a",
        "IPY_MODEL_2db45b03d6944c4190447fa945e022e8",
        "IPY_MODEL_2dbbd49865d64ae88c83e440efa2470a"
       ],
       "layout": "IPY_MODEL_0462d680bc8c447988ef75d0becb2277"
      }
     },
     "24a58b6b8093424a98095a236eb9dd6b": {
      "model_module": "@jupyter-widgets/base",
      "model_module_version": "1.2.0",
      "model_name": "LayoutModel",
      "state": {}
     },
     "24e9a2b86e5d4a38ae527784d43dee19": {
      "model_module": "@jupyter-widgets/controls",
      "model_module_version": "1.5.0",
      "model_name": "DescriptionStyleModel",
      "state": {
       "description_width": ""
      }
     },
     "250e6b4202e2486aa35f8badd369b3da": {
      "model_module": "@jupyter-widgets/base",
      "model_module_version": "1.2.0",
      "model_name": "LayoutModel",
      "state": {}
     },
     "252f20fe4d854b029f5892a1385973e2": {
      "model_module": "@jupyter-widgets/controls",
      "model_module_version": "1.5.0",
      "model_name": "LabelModel",
      "state": {
       "layout": "IPY_MODEL_ee748a42019d4e45ab6cb6843fe94863",
       "style": "IPY_MODEL_fcbee82f468249a9a879772ff9d814bc",
       "value": "background"
      }
     },
     "2545708dc0b84a198b389d07b226303a": {
      "model_module": "@jupyter-widgets/controls",
      "model_module_version": "1.5.0",
      "model_name": "HBoxModel",
      "state": {
       "children": [
        "IPY_MODEL_95076da05343433f857a810e61b4bab7",
        "IPY_MODEL_5cb75ca41d7545f3896486ea3f055810"
       ],
       "layout": "IPY_MODEL_935e713c55894a6ba6a9a2c304b18499"
      }
     },
     "2556c4a69b1c4bc38d557d895aa21251": {
      "model_module": "@jupyter-widgets/base",
      "model_module_version": "1.2.0",
      "model_name": "LayoutModel",
      "state": {
       "flex": "1 1 auto",
       "width": "auto"
      }
     },
     "25c9ae5964a243b584e0d67ccc63ea82": {
      "model_module": "@jupyter-widgets/base",
      "model_module_version": "1.2.0",
      "model_name": "LayoutModel",
      "state": {}
     },
     "25e82473e95642ec8d5fad188c897c08": {
      "model_module": "@jupyter-widgets/controls",
      "model_module_version": "1.5.0",
      "model_name": "DescriptionStyleModel",
      "state": {
       "description_width": ""
      }
     },
     "262031203ab447fbaed6ee72618396b5": {
      "model_module": "@jupyter-widgets/base",
      "model_module_version": "1.2.0",
      "model_name": "LayoutModel",
      "state": {}
     },
     "2621ebd8202648c99c3f2a12f474a682": {
      "model_module": "@jupyter-widgets/base",
      "model_module_version": "1.2.0",
      "model_name": "LayoutModel",
      "state": {}
     },
     "267113d95d754967ba79d417e49e876c": {
      "model_module": "@jupyter-widgets/base",
      "model_module_version": "1.2.0",
      "model_name": "LayoutModel",
      "state": {}
     },
     "26716f8e360e406aabc7ed3e687267bc": {
      "model_module": "@jupyter-widgets/base",
      "model_module_version": "1.2.0",
      "model_name": "LayoutModel",
      "state": {}
     },
     "26971ef3e9444a609d58c74a54fc83ef": {
      "model_module": "@jupyter-widgets/controls",
      "model_module_version": "1.5.0",
      "model_name": "DescriptionStyleModel",
      "state": {
       "description_width": ""
      }
     },
     "26b41702d27f47209dfe982998ad278c": {
      "model_module": "@jupyter-widgets/base",
      "model_module_version": "1.2.0",
      "model_name": "LayoutModel",
      "state": {
       "width": "200px"
      }
     },
     "26d1fe21ed2246e3bb6eb32cf27198f2": {
      "model_module": "@jupyter-widgets/base",
      "model_module_version": "1.2.0",
      "model_name": "LayoutModel",
      "state": {}
     },
     "26e3bcada29f4fcea43586b3f96ad05d": {
      "model_module": "@jupyter-widgets/base",
      "model_module_version": "1.2.0",
      "model_name": "LayoutModel",
      "state": {}
     },
     "26faabe526f741d3826cf791fc860f70": {
      "model_module": "@jupyter-widgets/controls",
      "model_module_version": "1.5.0",
      "model_name": "DescriptionStyleModel",
      "state": {
       "description_width": ""
      }
     },
     "273be5ce6b2e4435a8aa2a889d8fd9b8": {
      "model_module": "@jupyter-widgets/controls",
      "model_module_version": "1.5.0",
      "model_name": "BoxModel",
      "state": {
       "children": [
        "IPY_MODEL_e9e52a51474c440ca333b0ef0fbac4cb"
       ],
       "layout": "IPY_MODEL_a9da872259be4309875620edbc9e4528"
      }
     },
     "274a73a61afd4bcc985e9707bfe4fb21": {
      "model_module": "@jupyter-widgets/controls",
      "model_module_version": "1.5.0",
      "model_name": "ButtonModel",
      "state": {
       "description": "Add",
       "layout": "IPY_MODEL_bb3a633f87004b5fb64dd3658509381a",
       "style": "IPY_MODEL_e8cc8edcabd043fbac36b49fbf8bdab1",
       "tooltip": "Add representation.\n        You can also hit Enter in selection box"
      }
     },
     "27810a4c1ad244d9945210cead86f348": {
      "model_module": "@jupyter-widgets/controls",
      "model_module_version": "1.5.0",
      "model_name": "BoxModel",
      "state": {
       "children": [
        "IPY_MODEL_ed024b651f9a4b6599db06c7255cb70e",
        "IPY_MODEL_29f6288266134fe9bebb46e7dfee4c3f"
       ],
       "layout": "IPY_MODEL_a233bad3a88046ccb196b8a0ae53fd3f"
      }
     },
     "27929c29fe094b83872d45b11b3bca95": {
      "model_module": "@jupyter-widgets/controls",
      "model_module_version": "1.5.0",
      "model_name": "LabelModel",
      "state": {
       "layout": "IPY_MODEL_83121b066a7848968b5fe94e5239e956",
       "style": "IPY_MODEL_cb5247b54b9f4356b2432e2ffc49a97b"
      }
     },
     "27d038cbac9a4e6eb4321cc0e976413c": {
      "model_module": "@jupyter-widgets/base",
      "model_module_version": "1.2.0",
      "model_name": "LayoutModel",
      "state": {
       "width": "100px"
      }
     },
     "285f28a1c53642c2923fa09642abf5f3": {
      "model_module": "@jupyter-widgets/base",
      "model_module_version": "1.2.0",
      "model_name": "LayoutModel",
      "state": {}
     },
     "2867f6e1e6e44ee8b64e51bee70d014e": {
      "model_module": "@jupyter-widgets/base",
      "model_module_version": "1.2.0",
      "model_name": "LayoutModel",
      "state": {}
     },
     "29afe77dde9240338f2c1982cdac0a91": {
      "model_module": "@jupyter-widgets/base",
      "model_module_version": "1.2.0",
      "model_name": "LayoutModel",
      "state": {}
     },
     "29b0c611624b4b9cafea658ee7a3ff55": {
      "model_module": "@jupyter-widgets/controls",
      "model_module_version": "1.5.0",
      "model_name": "ToggleButtonModel",
      "state": {
       "description": "Smoothing",
       "layout": "IPY_MODEL_2e0943ca0bb143ca9f80f8085c8573e1",
       "style": "IPY_MODEL_a516aef1a5ce4ba0ab32f12f7f832a54",
       "tooltip": "smoothing trajectory"
      }
     },
     "29f6288266134fe9bebb46e7dfee4c3f": {
      "model_module": "@jupyter-widgets/controls",
      "model_module_version": "1.5.0",
      "model_name": "IntSliderModel",
      "state": {
       "layout": "IPY_MODEL_5d43e240f6464fb0bfb6bb1a7ed3577d",
       "max": 10,
       "style": "IPY_MODEL_5c6be4c0aa0943e9b5a8e3250b58fbea",
       "value": 2
      }
     },
     "2a080c3c8f6f4b4cae072945de911d65": {
      "model_module": "@jupyter-widgets/controls",
      "model_module_version": "1.5.0",
      "model_name": "VBoxModel",
      "state": {
       "children": [
        "IPY_MODEL_1018b5dc591247859e7ea66a7cb8b47e",
        "IPY_MODEL_0eaf2946057a47b3b7eb28bf51678969",
        "IPY_MODEL_a527ae630101446c904e1b52781fac67",
        "IPY_MODEL_1cb226bdb1014f6eb69768a38350e6af",
        "IPY_MODEL_9661a67cbb4a4fbbaf1b387156f12909",
        "IPY_MODEL_212455cf70e34be98f82fd42316f5ebb",
        "IPY_MODEL_1cf79427fee74f4c9f65e462bd34adcf",
        "IPY_MODEL_2c50ac22018941ac8ae80cf5ef532a99",
        "IPY_MODEL_d3b2641f91354621aa34866f95fe9791",
        "IPY_MODEL_31281bf0130b4b8981479346ed5588a7"
       ],
       "layout": "IPY_MODEL_b34b4b118aac476f96a71df32e6cd748"
      }
     },
     "2a3cea2f76e542b58b2fbe60d5d1e4b4": {
      "model_module": "@jupyter-widgets/controls",
      "model_module_version": "1.5.0",
      "model_name": "HBoxModel",
      "state": {
       "children": [
        "IPY_MODEL_20941b2104244cac92641111dfa362ee",
        "IPY_MODEL_4f16bff62687425eb323b431888ebe8f",
        "IPY_MODEL_87cf7b154e4d4ffb985795ea34c90658"
       ],
       "layout": "IPY_MODEL_94227ff86702418787564ba50d625581"
      }
     },
     "2a3d0e89e03d4a9eb80d3f26df08c789": {
      "model_module": "@jupyter-widgets/controls",
      "model_module_version": "1.5.0",
      "model_name": "BoxModel",
      "state": {
       "layout": "IPY_MODEL_350a0733d436422595b661c35ae8d254"
      }
     },
     "2a4e3d4d679440bb92f39e0b0e3d7686": {
      "model_module": "@jupyter-widgets/base",
      "model_module_version": "1.2.0",
      "model_name": "LayoutModel",
      "state": {}
     },
     "2a9b2623c0874e86851e095f687785b4": {
      "model_module": "@jupyter-widgets/controls",
      "model_module_version": "1.5.0",
      "model_name": "DescriptionStyleModel",
      "state": {
       "description_width": ""
      }
     },
     "2ab95e42c0ca48a788a8df6683f7fb99": {
      "model_module": "@jupyter-widgets/base",
      "model_module_version": "1.2.0",
      "model_name": "LayoutModel",
      "state": {}
     },
     "2add383d722b4e16a12c9b5fce7f462e": {
      "model_module": "@jupyter-widgets/controls",
      "model_module_version": "1.5.0",
      "model_name": "ButtonModel",
      "state": {
       "description": " Center",
       "icon": "bullseye",
       "layout": "IPY_MODEL_5fe76a0c328149509607295a1391b623",
       "style": "IPY_MODEL_bc4010f6ec9c49e6a73921a45d38f66d"
      }
     },
     "2af7b7bf11134cb9bf458e3a305376fe": {
      "model_module": "@jupyter-widgets/controls",
      "model_module_version": "1.5.0",
      "model_name": "BoxModel",
      "state": {
       "children": [
        "IPY_MODEL_5842d699cb01431692f282543b2dfc4e",
        "IPY_MODEL_ca5dea72f6244a70b810da9fd1ad9f9b",
        "IPY_MODEL_88e975848b9241bf91a0e47729dfc5ef",
        "IPY_MODEL_821e7f6590c6428594f61d55d4eb2446",
        "IPY_MODEL_00f28805ab2a48a6b0a6b2fcee92135a"
       ],
       "layout": "IPY_MODEL_2e6fcea036f24f76aa13265d9fe4b894"
      }
     },
     "2b2717e40f57446abdddb21b13f15a99": {
      "model_module": "@jupyter-widgets/base",
      "model_module_version": "1.2.0",
      "model_name": "LayoutModel",
      "state": {}
     },
     "2b2af39a8f974a03b7c1d641dc1259f8": {
      "model_module": "@jupyter-widgets/controls",
      "model_module_version": "1.5.0",
      "model_name": "BoxModel",
      "state": {
       "children": [
        "IPY_MODEL_dc668e8c6140422baffb8d74bd2afc99",
        "IPY_MODEL_c597f1c35f5d46f6842ef1aa0a35554b"
       ],
       "layout": "IPY_MODEL_0fe35860e66f4d738c9e9a1db0ca082f"
      }
     },
     "2b659cf7141e40b29c42f47ce9d43ac1": {
      "model_module": "@jupyter-widgets/base",
      "model_module_version": "1.2.0",
      "model_name": "LayoutModel",
      "state": {}
     },
     "2bf70c7a6e3144f2963462b70cfef992": {
      "model_module": "@jupyter-widgets/controls",
      "model_module_version": "1.5.0",
      "model_name": "BoxModel",
      "state": {
       "children": [
        "IPY_MODEL_238b3f615a084a7aadb8564d513998e9",
        "IPY_MODEL_13abf69d4b2d42f2b80868e7996390e6"
       ],
       "layout": "IPY_MODEL_0fe35860e66f4d738c9e9a1db0ca082f"
      }
     },
     "2bff022d92894ce196008786313badb3": {
      "model_module": "@jupyter-widgets/base",
      "model_module_version": "1.2.0",
      "model_name": "LayoutModel",
      "state": {
       "width": "200px"
      }
     },
     "2c054a18b43f435f8550cff5e7242f7c": {
      "model_module": "@jupyter-widgets/controls",
      "model_module_version": "1.5.0",
      "model_name": "DescriptionStyleModel",
      "state": {
       "description_width": ""
      }
     },
     "2c50ac22018941ac8ae80cf5ef532a99": {
      "model_module": "@jupyter-widgets/controls",
      "model_module_version": "1.5.0",
      "model_name": "IntSliderModel",
      "state": {
       "layout": "IPY_MODEL_170a98afe7c04fb0a0f194e3e77f34b5",
       "max": 2,
       "style": "IPY_MODEL_a671fd2ad08242ff98d5986376fbfbae"
      }
     },
     "2ccd7fc2423d44fbb7a625b9468ad56d": {
      "model_module": "@jupyter-widgets/controls",
      "model_module_version": "1.5.0",
      "model_name": "SliderStyleModel",
      "state": {
       "description_width": ""
      }
     },
     "2d7f8ef339ca45aca7ac1da4a4235842": {
      "model_module": "@jupyter-widgets/controls",
      "model_module_version": "1.5.0",
      "model_name": "DescriptionStyleModel",
      "state": {
       "description_width": ""
      }
     },
     "2da3cd1b79ef4466b66e17e32a52ead6": {
      "model_module": "@jupyter-widgets/controls",
      "model_module_version": "1.5.0",
      "model_name": "ButtonModel",
      "state": {
       "description": " Screenshot",
       "icon": "camera",
       "layout": "IPY_MODEL_71d64462a4b846678e00033be4b4035d",
       "style": "IPY_MODEL_8690fa7921a644be88be98ea2a61c462"
      }
     },
     "2db45b03d6944c4190447fa945e022e8": {
      "model_module": "@jupyter-widgets/controls",
      "model_module_version": "1.5.0",
      "model_name": "DropdownModel",
      "state": {
       "_options_labels": [
        " "
       ],
       "index": 0,
       "layout": "IPY_MODEL_236ce1de228d4870952ab2d979e0fbdd",
       "style": "IPY_MODEL_073a018cc2ea480792f33aada0e5a7bf"
      }
     },
     "2dbbd49865d64ae88c83e440efa2470a": {
      "model_module": "@jupyter-widgets/controls",
      "model_module_version": "1.5.0",
      "model_name": "TabModel",
      "state": {
       "_titles": {
        "0": "Parameters",
        "1": "Hide"
       },
       "children": [
        "IPY_MODEL_efc827f653194f99840bae4e3176126b",
        "IPY_MODEL_574e95b801b94ef68f4d3068dc53f593"
       ],
       "layout": "IPY_MODEL_68a225e3d7324bf68662afc24f95e6a9",
       "selected_index": 1
      }
     },
     "2de6f0962cdd4dbb97e505e22916f2df": {
      "model_module": "@jupyter-widgets/controls",
      "model_module_version": "1.5.0",
      "model_name": "LabelModel",
      "state": {
       "layout": "IPY_MODEL_036754af2800430aa5d9f97b15063a31",
       "style": "IPY_MODEL_d077a336ddf94ba781151a58049089d2",
       "value": "representation"
      }
     },
     "2df4792658ba4e52985442769c1d7203": {
      "model_module": "@jupyter-widgets/controls",
      "model_module_version": "1.5.0",
      "model_name": "LinkModel",
      "state": {
       "source": [
        "IPY_MODEL_f434c67579084c89b29eb77886cb8699",
        "max"
       ],
       "target": [
        "IPY_MODEL_42b51c1578ad4b4b915efd65dd071c56",
        "max_frame"
       ]
      }
     },
     "2dfa25b3455d4d3092e805af99a31ba3": {
      "model_module": "@jupyter-widgets/base",
      "model_module_version": "1.2.0",
      "model_name": "LayoutModel",
      "state": {}
     },
     "2e0943ca0bb143ca9f80f8085c8573e1": {
      "model_module": "@jupyter-widgets/base",
      "model_module_version": "1.2.0",
      "model_name": "LayoutModel",
      "state": {}
     },
     "2e150a33aba04d6dbb242877da5d3aff": {
      "model_module": "@jupyter-widgets/base",
      "model_module_version": "1.2.0",
      "model_name": "LayoutModel",
      "state": {}
     },
     "2e6fcea036f24f76aa13265d9fe4b894": {
      "model_module": "@jupyter-widgets/base",
      "model_module_version": "1.2.0",
      "model_name": "LayoutModel",
      "state": {
       "align_items": "stretch",
       "display": "flex",
       "flex_flow": "column",
       "width": "100%"
      }
     },
     "2e8379d6796149b2a451848dfccd966e": {
      "model_module": "@jupyter-widgets/controls",
      "model_module_version": "1.5.0",
      "model_name": "BoxModel",
      "state": {
       "children": [
        "IPY_MODEL_3fed7e2bdfd84db78473de2d81a08a7f",
        "IPY_MODEL_2c50ac22018941ac8ae80cf5ef532a99"
       ],
       "layout": "IPY_MODEL_9736a98bfa114f0ca4a8f8d15e720149"
      }
     },
     "2e94730a2d4144feab88d72c67943e58": {
      "model_module": "@jupyter-widgets/controls",
      "model_module_version": "1.5.0",
      "model_name": "BoxModel",
      "state": {
       "children": [
        "IPY_MODEL_777d6dd7b99b47658f238d8ab01ef6ee"
       ],
       "layout": "IPY_MODEL_a233bad3a88046ccb196b8a0ae53fd3f"
      }
     },
     "2ecd58dcbd4047f7b120a211a2cdf1ec": {
      "model_module": "@jupyter-widgets/controls",
      "model_module_version": "1.5.0",
      "model_name": "IntSliderModel",
      "state": {
       "layout": "IPY_MODEL_9bb1752c9b27469194ebaea9788e85a6",
       "max": 0,
       "style": "IPY_MODEL_164f97f8292c4bc18cc763aabac13f9a"
      }
     },
     "2f007fcb4a044a9fb68496c5325e54f4": {
      "model_module": "@jupyter-widgets/controls",
      "model_module_version": "1.5.0",
      "model_name": "LabelModel",
      "state": {
       "layout": "IPY_MODEL_3bc7ca6f994f47d6ab4238c9cf1cdbfd",
       "style": "IPY_MODEL_7d5af0717fa0436c8e546d75d063443f",
       "value": "camera_fov"
      }
     },
     "2f41794fdefd457aacd7d6be50966d82": {
      "model_module": "@jupyter-widgets/base",
      "model_module_version": "1.2.0",
      "model_name": "LayoutModel",
      "state": {}
     },
     "2f53159d889e47f8b6b494bcb3341e8c": {
      "model_module": "@jupyter-widgets/controls",
      "model_module_version": "1.5.0",
      "model_name": "BoxModel",
      "state": {
       "children": [
        "IPY_MODEL_082619524a0b4c3bb8c5edd07ecb5161",
        "IPY_MODEL_68893b25d57d40579d9765436a355994"
       ],
       "layout": "IPY_MODEL_e4a187e988d845c3abf09d7cdf7ffaa4"
      }
     },
     "2f6e4363f35e4413840905e70f31a753": {
      "model_module": "@jupyter-widgets/controls",
      "model_module_version": "1.5.0",
      "model_name": "LabelModel",
      "state": {
       "layout": "IPY_MODEL_751cb009b9d747e69c866235e7e8a7d0",
       "style": "IPY_MODEL_d60117ce033c4e7e86001cfb5d76f7fd",
       "value": "sample_level"
      }
     },
     "2ffac1bda3484d619186c649c1512395": {
      "model_module": "@jupyter-widgets/controls",
      "model_module_version": "1.5.0",
      "model_name": "BoxModel",
      "state": {
       "children": [
        "IPY_MODEL_39695fe2aa6644f9a67d0cd5461157b8",
        "IPY_MODEL_a527ae630101446c904e1b52781fac67"
       ],
       "layout": "IPY_MODEL_9736a98bfa114f0ca4a8f8d15e720149"
      }
     },
     "30d28274b26b4cbe98a44dcf69270547": {
      "model_module": "@jupyter-widgets/controls",
      "model_module_version": "1.5.0",
      "model_name": "DescriptionStyleModel",
      "state": {
       "description_width": ""
      }
     },
     "31281bf0130b4b8981479346ed5588a7": {
      "model_module": "@jupyter-widgets/controls",
      "model_module_version": "1.5.0",
      "model_name": "TabModel",
      "state": {
       "_titles": {
        "0": "Parameters",
        "1": "Hide"
       },
       "children": [
        "IPY_MODEL_1829df14608645f3b0efc530224b2a94",
        "IPY_MODEL_d29abb8993de421b852dbbaa284f979f"
       ],
       "layout": "IPY_MODEL_65e6da249f9b47bab81258a414c2d51d",
       "selected_index": 1
      }
     },
     "313fda597215465f9e241bf03e885cc1": {
      "model_module": "@jupyter-widgets/base",
      "model_module_version": "1.2.0",
      "model_name": "LayoutModel",
      "state": {}
     },
     "31633fe2346e417eb5ebb6afb18c4af4": {
      "model_module": "@jupyter-widgets/controls",
      "model_module_version": "1.5.0",
      "model_name": "FloatSliderModel",
      "state": {
       "description": "cutoff",
       "layout": "IPY_MODEL_cc0fd48b9a944af7b8bf60ae01e89482",
       "step": 0.1,
       "style": "IPY_MODEL_78378e1d39b94ba7a168d93abd0492ee"
      }
     },
     "31ccae1a043041a38d0c407a979aad12": {
      "model_module": "@jupyter-widgets/base",
      "model_module_version": "1.2.0",
      "model_name": "LayoutModel",
      "state": {}
     },
     "31db7aad0c034d66b39e8af416ad16ce": {
      "model_module": "@jupyter-widgets/base",
      "model_module_version": "1.2.0",
      "model_name": "LayoutModel",
      "state": {
       "align_items": "stretch",
       "align_self": "center"
      }
     },
     "325651a874cc4adc86243d226fc27b0e": {
      "model_module": "@jupyter-widgets/controls",
      "model_module_version": "1.5.0",
      "model_name": "DescriptionStyleModel",
      "state": {
       "description_width": ""
      }
     },
     "327e058d2e594c51b8bec323d5e536b4": {
      "model_module": "@jupyter-widgets/base",
      "model_module_version": "1.2.0",
      "model_name": "LayoutModel",
      "state": {}
     },
     "328101bb70a74fc986d47c1bacc3482c": {
      "model_module": "@jupyter-widgets/controls",
      "model_module_version": "1.5.0",
      "model_name": "DescriptionStyleModel",
      "state": {
       "description_width": ""
      }
     },
     "335f374518824858878a4b9248d507f9": {
      "model_module": "@jupyter-widgets/base",
      "model_module_version": "1.2.0",
      "model_name": "LayoutModel",
      "state": {
       "width": "200px"
      }
     },
     "336c41a2ea4f44709db71ac1ae29a61d": {
      "model_module": "@jupyter-widgets/controls",
      "model_module_version": "1.5.0",
      "model_name": "BoxModel",
      "state": {
       "children": [
        "IPY_MODEL_dba559a9ee274b649a30f9d1e4a0b67d",
        "IPY_MODEL_6f1ebf2853354963bb458b3e3fef9b5c"
       ],
       "layout": "IPY_MODEL_0fe35860e66f4d738c9e9a1db0ca082f"
      }
     },
     "33da465bee454a7eaa4e0b693863fb12": {
      "model_module": "@jupyter-widgets/controls",
      "model_module_version": "1.5.0",
      "model_name": "BoxModel",
      "state": {
       "children": [
        "IPY_MODEL_2394393e93c9474fb11836df0c748609",
        "IPY_MODEL_953a7aa9efa84ea9bfd5808c866f563a",
        "IPY_MODEL_c9e3936ac8c942e192d803a6fb401f9c",
        "IPY_MODEL_47d6b2ee749e443da7676bda391a2486",
        "IPY_MODEL_a07715d0db9e456db98e29ac4f50d5fd",
        "IPY_MODEL_1510248529b247f381e7989740ddd4a8",
        "IPY_MODEL_05a18ef1034d494ab90beb1991cff385",
        "IPY_MODEL_f1d9340725f548218bd8aa0359bd118a",
        "IPY_MODEL_8f43a30aa79d4199aca9565a2dc97f2a",
        "IPY_MODEL_31633fe2346e417eb5ebb6afb18c4af4",
        "IPY_MODEL_f6949d14e0a4419887d8e08cdd3a7043"
       ],
       "layout": "IPY_MODEL_6a39ceee2d74403dbe46539c6effdcaf"
      }
     },
     "33eed486d0694a9f828e6ffad501b0a3": {
      "model_module": "@jupyter-widgets/output",
      "model_module_version": "1.0.0",
      "model_name": "OutputModel",
      "state": {
       "layout": "IPY_MODEL_77b329755e504661ade36429b8a2a988"
      }
     },
     "341885b35e494bb9b96e2395eed7cddf": {
      "model_module": "@jupyter-widgets/controls",
      "model_module_version": "1.5.0",
      "model_name": "HBoxModel",
      "state": {
       "children": [
        "IPY_MODEL_0e9c421d6469403e936c08b012429f0d",
        "IPY_MODEL_e3a3061055f8430bb6b45708acc67de9",
        "IPY_MODEL_dd43089e6b4a4161af373302488f10ef"
       ],
       "layout": "IPY_MODEL_18e58af81b724394a73669bb74bce863"
      }
     },
     "3489f2e279fa40f99eb36541d1bd7c4e": {
      "model_module": "@jupyter-widgets/base",
      "model_module_version": "1.2.0",
      "model_name": "LayoutModel",
      "state": {
       "flex": "1 1 auto",
       "width": "auto"
      }
     },
     "350a0733d436422595b661c35ae8d254": {
      "model_module": "@jupyter-widgets/base",
      "model_module_version": "1.2.0",
      "model_name": "LayoutModel",
      "state": {}
     },
     "358dd3ce9d1d46cca5409ff0fe847a19": {
      "model_module": "@jupyter-widgets/controls",
      "model_module_version": "1.5.0",
      "model_name": "ButtonStyleModel",
      "state": {}
     },
     "3603a2321c4d405098e60e4c4415599a": {
      "model_module": "@jupyter-widgets/base",
      "model_module_version": "1.2.0",
      "model_name": "LayoutModel",
      "state": {}
     },
     "361f62fd62f94e18a751a202ef9f8d58": {
      "model_module": "@jupyter-widgets/controls",
      "model_module_version": "1.5.0",
      "model_name": "DescriptionStyleModel",
      "state": {
       "description_width": ""
      }
     },
     "3686a4b1fab0480cbe783ade42774e65": {
      "model_module": "@jupyter-widgets/controls",
      "model_module_version": "1.5.0",
      "model_name": "HBoxModel",
      "state": {
       "children": [
        "IPY_MODEL_d3bdbf1b04524f60aad59919f8058f68",
        "IPY_MODEL_2add383d722b4e16a12c9b5fce7f462e",
        "IPY_MODEL_00a53bb7387f4b218941c550d3e94bea"
       ],
       "layout": "IPY_MODEL_2556c4a69b1c4bc38d557d895aa21251"
      }
     },
     "368a43b22d6d4101adffbe9bd5b27951": {
      "model_module": "@jupyter-widgets/base",
      "model_module_version": "1.2.0",
      "model_name": "LayoutModel",
      "state": {}
     },
     "370f627ee8aa4fea9bfa11cce83e06b6": {
      "model_module": "@jupyter-widgets/controls",
      "model_module_version": "1.5.0",
      "model_name": "IntSliderModel",
      "state": {
       "description": "box_size",
       "layout": "IPY_MODEL_22dd0aaa9894420e9a3a768bda2805c7",
       "step": 2,
       "style": "IPY_MODEL_8bc9c9bf7bba4578ab31c33e59838e56",
       "value": 10
      }
     },
     "372d517df96f4c10820cf70e4bf20b7d": {
      "model_module": "@jupyter-widgets/controls",
      "model_module_version": "1.5.0",
      "model_name": "BoxModel",
      "state": {
       "children": [
        "IPY_MODEL_8b322a5ab13a4a72b714e6809b4bc682"
       ],
       "layout": "IPY_MODEL_11e4587ae97c432dae05b0d9f14b0d97"
      }
     },
     "373a2b4017fd42b3bce731daee57da8e": {
      "model_module": "@jupyter-widgets/controls",
      "model_module_version": "1.5.0",
      "model_name": "LabelModel",
      "state": {
       "layout": "IPY_MODEL_3840713879cd468ca835f7e0d97d9c47",
       "style": "IPY_MODEL_c724bf89d6154a4499e9114984f04e0c"
      }
     },
     "373eba5d23784cdb8928430978206d42": {
      "model_module": "@jupyter-widgets/base",
      "model_module_version": "1.2.0",
      "model_name": "LayoutModel",
      "state": {}
     },
     "3773e7bb4c3246f19e80bdb87b690216": {
      "model_module": "@jupyter-widgets/controls",
      "model_module_version": "1.5.0",
      "model_name": "SliderStyleModel",
      "state": {
       "description_width": ""
      }
     },
     "37efcbe1ac0c456690fc4ed371c45728": {
      "model_module": "@jupyter-widgets/controls",
      "model_module_version": "1.5.0",
      "model_name": "DescriptionStyleModel",
      "state": {
       "description_width": ""
      }
     },
     "3840713879cd468ca835f7e0d97d9c47": {
      "model_module": "@jupyter-widgets/base",
      "model_module_version": "1.2.0",
      "model_name": "LayoutModel",
      "state": {}
     },
     "3857f629225341639b689be5053aeb95": {
      "model_module": "@jupyter-widgets/base",
      "model_module_version": "1.2.0",
      "model_name": "LayoutModel",
      "state": {}
     },
     "386fefb79a2d4e148191f01df83bf94b": {
      "model_module": "@jupyter-widgets/base",
      "model_module_version": "1.2.0",
      "model_name": "LayoutModel",
      "state": {}
     },
     "38898ff3485144ee8ed54dfb5c95fe21": {
      "model_module": "@jupyter-widgets/base",
      "model_module_version": "1.2.0",
      "model_name": "LayoutModel",
      "state": {}
     },
     "39695fe2aa6644f9a67d0cd5461157b8": {
      "model_module": "@jupyter-widgets/controls",
      "model_module_version": "1.5.0",
      "model_name": "LabelModel",
      "state": {
       "layout": "IPY_MODEL_d85b3d01ec9b483e945cd288399e0a16",
       "style": "IPY_MODEL_a40299d8aa14445cbd2e16117b3cbee9"
      }
     },
     "3997bf7bc2664c899edaf3fcebef1777": {
      "model_module": "@jupyter-widgets/base",
      "model_module_version": "1.2.0",
      "model_name": "LayoutModel",
      "state": {
       "width": "200px"
      }
     },
     "39a911bf196c4422b76891dff926a46a": {
      "model_module": "@jupyter-widgets/controls",
      "model_module_version": "1.5.0",
      "model_name": "BoxModel",
      "state": {
       "children": [
        "IPY_MODEL_1679a7b024dc42239493bb1342b041bd",
        "IPY_MODEL_9092024d695a4565b47044984faaff2a"
       ],
       "layout": "IPY_MODEL_5fe77ce63d73496aa4dc3956a2405e64"
      }
     },
     "39bc380428fe48fdb1831d23b02591b3": {
      "model_module": "@jupyter-widgets/controls",
      "model_module_version": "1.5.0",
      "model_name": "DescriptionStyleModel",
      "state": {
       "description_width": ""
      }
     },
     "3a2114ef71814ca88b24d7c4bbc43f41": {
      "model_module": "@jupyter-widgets/base",
      "model_module_version": "1.2.0",
      "model_name": "LayoutModel",
      "state": {}
     },
     "3aa2cc3d95534d3197b36bcf64e5f404": {
      "model_module": "@jupyter-widgets/base",
      "model_module_version": "1.2.0",
      "model_name": "LayoutModel",
      "state": {}
     },
     "3af655df399c45e4816ff0281cd99594": {
      "model_module": "@jupyter-widgets/base",
      "model_module_version": "1.2.0",
      "model_name": "LayoutModel",
      "state": {}
     },
     "3b73d1317dee4dfd9e71ba75a832a993": {
      "model_module": "@jupyter-widgets/output",
      "model_module_version": "1.0.0",
      "model_name": "OutputModel",
      "state": {
       "layout": "IPY_MODEL_3603a2321c4d405098e60e4c4415599a"
      }
     },
     "3bad9ecb00bb422abc4881a57cdc4dcc": {
      "model_module": "@jupyter-widgets/base",
      "model_module_version": "1.2.0",
      "model_name": "LayoutModel",
      "state": {}
     },
     "3bc7ca6f994f47d6ab4238c9cf1cdbfd": {
      "model_module": "@jupyter-widgets/base",
      "model_module_version": "1.2.0",
      "model_name": "LayoutModel",
      "state": {}
     },
     "3bd453c94e4a48629ea619bd07eeb21b": {
      "model_module": "@jupyter-widgets/controls",
      "model_module_version": "1.5.0",
      "model_name": "DropdownModel",
      "state": {
       "_options_labels": [
        " "
       ],
       "index": 0,
       "layout": "IPY_MODEL_c2d30869f2524e32994990cad5dc5fe3",
       "style": "IPY_MODEL_78c8939143684f829d57f29d7245dcbf"
      }
     },
     "3c45c3e979df462fb1a88497c1146c95": {
      "model_module": "@jupyter-widgets/controls",
      "model_module_version": "1.5.0",
      "model_name": "SliderStyleModel",
      "state": {
       "description_width": ""
      }
     },
     "3d023d267c1f408a9cc1af2a38099f43": {
      "model_module": "@jupyter-widgets/base",
      "model_module_version": "1.2.0",
      "model_name": "LayoutModel",
      "state": {}
     },
     "3d062cec763a4f31b1742fedada4982b": {
      "model_module": "@jupyter-widgets/controls",
      "model_module_version": "1.5.0",
      "model_name": "ButtonStyleModel",
      "state": {}
     },
     "3d0b3cd990ff442985cb3855e74e236f": {
      "model_module": "@jupyter-widgets/controls",
      "model_module_version": "1.5.0",
      "model_name": "LabelModel",
      "state": {
       "layout": "IPY_MODEL_f2e4ee3b55b54400aa4bed9b781d66b2",
       "style": "IPY_MODEL_861e51a8f4884e2eb7a4304b28fc649e"
      }
     },
     "3d81739f922448d4bbdc23ec6d6d7dd7": {
      "model_module": "@jupyter-widgets/base",
      "model_module_version": "1.2.0",
      "model_name": "LayoutModel",
      "state": {
       "width": "200px"
      }
     },
     "3decb9b07c9c469db6ff6646b38243be": {
      "model_module": "@jupyter-widgets/controls",
      "model_module_version": "1.5.0",
      "model_name": "IntSliderModel",
      "state": {
       "layout": "IPY_MODEL_911f025f4095479985218475ce62ea64",
       "max": 10,
       "style": "IPY_MODEL_1e82c75e105a4262bcaed6f49c72c403",
       "value": 1
      }
     },
     "3dfa1daa89ba4f94b32dcb5c160eb87d": {
      "model_module": "@jupyter-widgets/base",
      "model_module_version": "1.2.0",
      "model_name": "LayoutModel",
      "state": {}
     },
     "3f19b6f619d84062b15b2f92e9a329a9": {
      "model_module": "@jupyter-widgets/controls",
      "model_module_version": "1.5.0",
      "model_name": "IntSliderModel",
      "state": {
       "layout": "IPY_MODEL_6c8c7d628aad4d2c87c6452ee26177fa",
       "style": "IPY_MODEL_e91920cdee3149b0ae3f4e9713022197",
       "value": 100
      }
     },
     "3f3d0ed5316342fd81cd1f68ccc9d419": {
      "model_module": "@jupyter-widgets/controls",
      "model_module_version": "1.5.0",
      "model_name": "BoxModel",
      "state": {
       "children": [
        "IPY_MODEL_4cd5ffcc61c4495192d0ad4641acdba4",
        "IPY_MODEL_1324cc16addb4ad2a0eb6223c16392de"
       ],
       "layout": "IPY_MODEL_eb69a8e03cf44b96825e4be413fff080"
      }
     },
     "3fed7e2bdfd84db78473de2d81a08a7f": {
      "model_module": "@jupyter-widgets/controls",
      "model_module_version": "1.5.0",
      "model_name": "LabelModel",
      "state": {
       "layout": "IPY_MODEL_7c3bbeb8515c40b690af27d626aaa623",
       "style": "IPY_MODEL_6cc3fbca14fa4437a680bb93667a27c5",
       "value": "representation"
      }
     },
     "40103d031bbf4ceb9d2dce16477c3308": {
      "model_module": "nglview-js-widgets",
      "model_module_version": "2.5.1",
      "model_name": "NGLModel",
      "state": {
       "_camera_orientation": [],
       "_camera_str": "orthographic",
       "_ibtn_fullscreen": "IPY_MODEL_d47e6fdd463e41e3bb6f5aa008006b25",
       "_ibtn_image": "IPY_MODEL_b0902568c6524ec386b23de8c39909e6",
       "_igui": "IPY_MODEL_796782c446ba480db6c0729d58fed5fa",
       "_iplayer": "IPY_MODEL_42bf1d25cf0445c495c570d74d963d12",
       "_ngl_color_dict": {},
       "_ngl_coordinate_resource": {},
       "_ngl_full_stage_parameters": {},
       "_ngl_full_stage_parameters_embed": {},
       "_ngl_msg_archive": [],
       "_ngl_original_stage_parameters": {},
       "_ngl_repr_dict": {},
       "_ngl_serialize": false,
       "_ngl_version": "",
       "_ngl_view_id": [],
       "_player_dict": {},
       "_scene_position": {},
       "_scene_rotation": {},
       "_synced_model_ids": [],
       "background": "white",
       "frame": 0,
       "gui_style": "ngl",
       "layout": "IPY_MODEL_5c074ce311764698a885872cb779a6a8",
       "max_frame": 37,
       "n_components": 0,
       "picked": {}
      }
     },
     "40159fa5ddc04f9383f5a0edc9b04413": {
      "model_module": "@jupyter-widgets/base",
      "model_module_version": "1.2.0",
      "model_name": "LayoutModel",
      "state": {}
     },
     "403aaea1b6fa4cc289e5bc91945d645b": {
      "model_module": "@jupyter-widgets/controls",
      "model_module_version": "1.5.0",
      "model_name": "LinkModel",
      "state": {
       "source": [
        "IPY_MODEL_1b52d8d4907a47b1987b7ab137502e43",
        "max"
       ],
       "target": [
        "IPY_MODEL_40103d031bbf4ceb9d2dce16477c3308",
        "max_frame"
       ]
      }
     },
     "4096c13b303c421aafb717d218a7b153": {
      "model_module": "@jupyter-widgets/base",
      "model_module_version": "1.2.0",
      "model_name": "LayoutModel",
      "state": {}
     },
     "409b40e356f74ae1a55734dfca6761f3": {
      "model_module": "@jupyter-widgets/controls",
      "model_module_version": "1.5.0",
      "model_name": "TextModel",
      "state": {
       "layout": "IPY_MODEL_ab9e30b872ac4098ad007119de12d2d6",
       "style": "IPY_MODEL_583f2b8691b84376a4d57eecdf1b4965"
      }
     },
     "40a02df9ebb34e349b0d98bed59f0d18": {
      "model_module": "@jupyter-widgets/controls",
      "model_module_version": "1.5.0",
      "model_name": "BoxModel",
      "state": {
       "children": [
        "IPY_MODEL_1bec2f91cf264616a190371e3489eb8c",
        "IPY_MODEL_00060c68ac864c559d66dfda298f5460"
       ],
       "layout": "IPY_MODEL_e4a187e988d845c3abf09d7cdf7ffaa4"
      }
     },
     "4159e17b32004690b7c6c675dd9e0786": {
      "model_module": "@jupyter-widgets/controls",
      "model_module_version": "1.5.0",
      "model_name": "SliderStyleModel",
      "state": {
       "description_width": ""
      }
     },
     "41a1fe03524640a8b0fcabbd25e60e95": {
      "model_module": "@jupyter-widgets/controls",
      "model_module_version": "1.5.0",
      "model_name": "TextareaModel",
      "state": {
       "layout": "IPY_MODEL_0f4574545dbe4ced8bb5ff74f3c41519",
       "style": "IPY_MODEL_43f3752d3efc4059afc132bdb3715971",
       "value": "{}"
      }
     },
     "41b823f3dec248b993ccf406e24b7932": {
      "model_module": "@jupyter-widgets/controls",
      "model_module_version": "1.5.0",
      "model_name": "BoxModel",
      "state": {
       "children": [
        "IPY_MODEL_0a3c5f8bb1b943c597012c3f3a061fc2",
        "IPY_MODEL_752455e2abe1468fb92cc10fb763fab6"
       ],
       "layout": "IPY_MODEL_5fe77ce63d73496aa4dc3956a2405e64"
      }
     },
     "41fb149a46ea4c069c09ec544e639b51": {
      "model_module": "@jupyter-widgets/controls",
      "model_module_version": "1.5.0",
      "model_name": "BoxModel",
      "state": {
       "children": [
        "IPY_MODEL_b6f26db6fc784821a40bc6a72b57ef8d",
        "IPY_MODEL_1cf79427fee74f4c9f65e462bd34adcf"
       ],
       "layout": "IPY_MODEL_9736a98bfa114f0ca4a8f8d15e720149"
      }
     },
     "4252a481410f49e88c3e1b07a59a502a": {
      "model_module": "@jupyter-widgets/controls",
      "model_module_version": "1.5.0",
      "model_name": "LabelModel",
      "state": {
       "layout": "IPY_MODEL_40159fa5ddc04f9383f5a0edc9b04413",
       "style": "IPY_MODEL_7648d4b2c5e54c9baca99d1821212423"
      }
     },
     "4256a101da06498f9d61a2b79abd849b": {
      "model_module": "@jupyter-widgets/controls",
      "model_module_version": "1.5.0",
      "model_name": "BoxModel",
      "state": {
       "children": [
        "IPY_MODEL_05aacb07f94646649643c1581fe66fa5",
        "IPY_MODEL_49261f7a62bf4de29a7d9e22c523b2ce"
       ],
       "layout": "IPY_MODEL_a233bad3a88046ccb196b8a0ae53fd3f"
      }
     },
     "429a4a36b9404bd9b289d800095b7601": {
      "model_module": "@jupyter-widgets/base",
      "model_module_version": "1.2.0",
      "model_name": "LayoutModel",
      "state": {}
     },
     "42b51c1578ad4b4b915efd65dd071c56": {
      "model_module": "nglview-js-widgets",
      "model_module_version": "2.5.1",
      "model_name": "NGLModel",
      "state": {
       "_camera_orientation": [
        41.052446320275024,
        0,
        0,
        0,
        0,
        41.052446320275024,
        0,
        0,
        0,
        0,
        41.052446320275024,
        0,
        -0.34029245376586914,
        -1.717393159866333,
        -0.45123887062072754,
        1
       ],
       "_camera_str": "orthographic",
       "_ibtn_fullscreen": "IPY_MODEL_58eee3b228564d34a5b9230211be678c",
       "_ibtn_image": "IPY_MODEL_5537398c99b444709f95f4d30ac82bfe",
       "_igui": "IPY_MODEL_1225c17a68c14b059744a1427a726cbb",
       "_iplayer": "IPY_MODEL_69c8edb5ac594ee7a74d507dba9dcca4",
       "_ngl_color_dict": {},
       "_ngl_coordinate_resource": {},
       "_ngl_full_stage_parameters": {
        "ambientColor": 14540253,
        "ambientIntensity": 0.2,
        "backgroundColor": "white",
        "cameraEyeSep": 0.3,
        "cameraFov": 40,
        "cameraType": "perspective",
        "clipDist": 10,
        "clipFar": 100,
        "clipNear": 0,
        "fogFar": 100,
        "fogNear": 50,
        "hoverTimeout": 0,
        "impostor": true,
        "lightColor": 14540253,
        "lightIntensity": 1,
        "mousePreset": "default",
        "panSpeed": 1,
        "quality": "medium",
        "rotateSpeed": 2,
        "sampleLevel": 0,
        "tooltip": true,
        "workerDefault": true,
        "zoomSpeed": 1.2
       },
       "_ngl_full_stage_parameters_embed": {},
       "_ngl_msg_archive": [],
       "_ngl_original_stage_parameters": {
        "ambientColor": 14540253,
        "ambientIntensity": 0.2,
        "backgroundColor": "white",
        "cameraEyeSep": 0.3,
        "cameraFov": 40,
        "cameraType": "perspective",
        "clipDist": 10,
        "clipFar": 100,
        "clipNear": 0,
        "fogFar": 100,
        "fogNear": 50,
        "hoverTimeout": 0,
        "impostor": true,
        "lightColor": 14540253,
        "lightIntensity": 1,
        "mousePreset": "default",
        "panSpeed": 1,
        "quality": "medium",
        "rotateSpeed": 2,
        "sampleLevel": 0,
        "tooltip": true,
        "workerDefault": true,
        "zoomSpeed": 1.2
       },
       "_ngl_repr_dict": {
        "0": {
         "0": {
          "params": {
           "aspectRatio": 5,
           "assembly": "default",
           "capped": true,
           "clipCenter": {
            "x": 0,
            "y": 0,
            "z": 0
           },
           "clipNear": 0,
           "clipRadius": 0,
           "colorMode": "hcl",
           "colorReverse": true,
           "colorScale": "spectral",
           "colorScheme": "residueindex",
           "colorValue": 9474192,
           "defaultAssembly": "",
           "depthWrite": true,
           "diffuse": 16777215,
           "diffuseInterior": false,
           "disablePicking": false,
           "flatShaded": false,
           "interiorColor": 2236962,
           "interiorDarkening": 0,
           "lazy": false,
           "matrix": {
            "elements": [
             1,
             0,
             0,
             0,
             0,
             1,
             0,
             0,
             0,
             0,
             1,
             0,
             0,
             0,
             0,
             1
            ]
           },
           "metalness": 0,
           "opacity": 1,
           "quality": "high",
           "radialSegments": 20,
           "radiusData": {},
           "radiusScale": 0.7,
           "radiusSize": 1,
           "radiusType": "sstruc",
           "roughness": 0.4,
           "sele": "",
           "side": "double",
           "smoothSheet": false,
           "subdiv": 6,
           "tension": null,
           "useInteriorColor": true,
           "visible": true,
           "wireframe": false
          },
          "type": "cartoon"
         },
         "1": {
          "params": {
           "aspectRatio": 1,
           "assembly": "default",
           "bondScale": 0.4,
           "clipCenter": {
            "x": 0,
            "y": 0,
            "z": 0
           },
           "clipNear": 0,
           "clipRadius": 0,
           "colorMode": "hcl",
           "colorReverse": true,
           "colorScale": "spectral",
           "colorScheme": "residueindex",
           "colorValue": 9474192,
           "cylinderOnly": false,
           "defaultAssembly": "",
           "depthWrite": true,
           "diffuse": 16777215,
           "diffuseInterior": false,
           "disableImpostor": false,
           "disablePicking": false,
           "flatShaded": false,
           "interiorColor": 2236962,
           "interiorDarkening": 0,
           "lazy": false,
           "lineOnly": false,
           "linewidth": 2,
           "matrix": {
            "elements": [
             1,
             0,
             0,
             0,
             0,
             1,
             0,
             0,
             0,
             0,
             1,
             0,
             0,
             0,
             0,
             1
            ]
           },
           "metalness": 0,
           "opacity": 1,
           "openEnded": true,
           "quality": "high",
           "radialSegments": 20,
           "radiusData": {},
           "radiusScale": 1,
           "radiusSize": 0.3,
           "radiusType": "size",
           "roughness": 0.4,
           "sele": "",
           "side": "double",
           "sphereDetail": 2,
           "useInteriorColor": true,
           "visible": true,
           "wireframe": false
          },
          "type": "base"
         },
         "2": {
          "params": {
           "aspectRatio": 1.5,
           "assembly": "default",
           "bondScale": 0.3,
           "bondSpacing": 0.75,
           "clipCenter": {
            "x": 0,
            "y": 0,
            "z": 0
           },
           "clipNear": 0,
           "clipRadius": 0,
           "colorMode": "hcl",
           "colorReverse": false,
           "colorScale": "",
           "colorScheme": "element",
           "colorValue": 9474192,
           "cylinderOnly": false,
           "defaultAssembly": "",
           "depthWrite": true,
           "diffuse": 16777215,
           "diffuseInterior": false,
           "disableImpostor": false,
           "disablePicking": false,
           "flatShaded": false,
           "interiorColor": 2236962,
           "interiorDarkening": 0,
           "lazy": false,
           "lineOnly": false,
           "linewidth": 2,
           "matrix": {
            "elements": [
             1,
             0,
             0,
             0,
             0,
             1,
             0,
             0,
             0,
             0,
             1,
             0,
             0,
             0,
             0,
             1
            ]
           },
           "metalness": 0,
           "multipleBond": "off",
           "opacity": 1,
           "openEnded": true,
           "quality": "high",
           "radialSegments": 20,
           "radiusData": {},
           "radiusScale": 2,
           "radiusSize": 0.15,
           "radiusType": "size",
           "roughness": 0.4,
           "sele": "ligand",
           "side": "double",
           "sphereDetail": 2,
           "useInteriorColor": true,
           "visible": true,
           "wireframe": false
          },
          "type": "ball+stick"
         }
        }
       },
       "_ngl_serialize": false,
       "_ngl_version": "2.0.0-dev.36",
       "_ngl_view_id": [
        "c33f2e47-57b1-4970-bb72-cdbfa5563a41"
       ],
       "_player_dict": {},
       "_scene_position": {},
       "_scene_rotation": {},
       "_synced_model_ids": [],
       "background": "white",
       "frame": 0,
       "gui_style": null,
       "layout": "IPY_MODEL_f0908891d6fd4fda8e89c147584c3796",
       "max_frame": 37,
       "n_components": 1,
       "picked": {}
      }
     },
     "42b957bea837492380cefdcced8fcdb3": {
      "model_module": "@jupyter-widgets/controls",
      "model_module_version": "1.5.0",
      "model_name": "ButtonStyleModel",
      "state": {}
     },
     "42bf1d25cf0445c495c570d74d963d12": {
      "model_module": "@jupyter-widgets/controls",
      "model_module_version": "1.5.0",
      "model_name": "HBoxModel",
      "state": {
       "children": [
        "IPY_MODEL_1b52d8d4907a47b1987b7ab137502e43",
        "IPY_MODEL_4e40a64f1eb5434bb340f73fd4d3fecd"
       ],
       "layout": "IPY_MODEL_0974e4915dc6483ca3140e2e71983047"
      }
     },
     "4342c4fc65f442d8bbe3d146975627ce": {
      "model_module": "@jupyter-widgets/base",
      "model_module_version": "1.2.0",
      "model_name": "LayoutModel",
      "state": {}
     },
     "436211c8423a4f37862cff4ea2194c55": {
      "model_module": "@jupyter-widgets/controls",
      "model_module_version": "1.5.0",
      "model_name": "IntSliderModel",
      "state": {
       "layout": "IPY_MODEL_53dcd21644b34998a42be559c2d353d9",
       "min": -100,
       "style": "IPY_MODEL_f8cf586310024ab9ab7e05ce39b98244",
       "value": 1
      }
     },
     "43b2f5525c6e4b808e041ef800fca56c": {
      "model_module": "@jupyter-widgets/controls",
      "model_module_version": "1.5.0",
      "model_name": "SliderStyleModel",
      "state": {
       "description_width": ""
      }
     },
     "43e68dba6a054df7a0e0ca73bfffa96d": {
      "model_module": "@jupyter-widgets/base",
      "model_module_version": "1.2.0",
      "model_name": "LayoutModel",
      "state": {
       "display": "none",
       "width": "100px"
      }
     },
     "43f3752d3efc4059afc132bdb3715971": {
      "model_module": "@jupyter-widgets/controls",
      "model_module_version": "1.5.0",
      "model_name": "DescriptionStyleModel",
      "state": {
       "description_width": ""
      }
     },
     "441d001c0e9543c8a87d148f3e76f7e5": {
      "model_module": "@jupyter-widgets/base",
      "model_module_version": "1.2.0",
      "model_name": "LayoutModel",
      "state": {}
     },
     "442dbd73bc5d4599a413affd28bd6b27": {
      "model_module": "@jupyter-widgets/controls",
      "model_module_version": "1.5.0",
      "model_name": "DescriptionStyleModel",
      "state": {
       "description_width": ""
      }
     },
     "44392f26af8b4ae5940917eae44831da": {
      "model_module": "@jupyter-widgets/base",
      "model_module_version": "1.2.0",
      "model_name": "LayoutModel",
      "state": {}
     },
     "449512a326ef4c73802a8ce3cd439c2e": {
      "model_module": "@jupyter-widgets/base",
      "model_module_version": "1.2.0",
      "model_name": "LayoutModel",
      "state": {
       "width": "200px"
      }
     },
     "44ebcd66be2741d5acf40adb5f57d4ac": {
      "model_module": "@jupyter-widgets/controls",
      "model_module_version": "1.5.0",
      "model_name": "DropdownModel",
      "state": {
       "_options_labels": [
        "perspective",
        "orthographic"
       ],
       "index": 0,
       "layout": "IPY_MODEL_9fd7772690fb40f19345d42382535091",
       "style": "IPY_MODEL_93838786e9134ccabb2928f48560c22d"
      }
     },
     "4523ff9b385a4dd4b8222b7115fa415c": {
      "model_module": "@jupyter-widgets/controls",
      "model_module_version": "1.5.0",
      "model_name": "SliderStyleModel",
      "state": {
       "description_width": ""
      }
     },
     "45a4e8457d084b6c8bbe7c36e3cb0279": {
      "model_module": "@jupyter-widgets/controls",
      "model_module_version": "1.5.0",
      "model_name": "BoxModel",
      "state": {
       "children": [
        "IPY_MODEL_ae7b7a20e30c4563bec719a594c4718d"
       ],
       "layout": "IPY_MODEL_baf53140a6874310b7b9660710f1d2ac"
      }
     },
     "460648cd735c42f59081554dde93965d": {
      "model_module": "@jupyter-widgets/controls",
      "model_module_version": "1.5.0",
      "model_name": "FloatSliderModel",
      "state": {
       "description": "opacity",
       "layout": "IPY_MODEL_76c2dcc45e6641ee8a2143d72ee138eb",
       "max": 1,
       "step": 0.1,
       "style": "IPY_MODEL_9846242f51bb43748afd92d168429aaa",
       "value": 1
      }
     },
     "46882a93f300420d81d9cef9ca77fbea": {
      "model_module": "@jupyter-widgets/controls",
      "model_module_version": "1.5.0",
      "model_name": "LabelModel",
      "state": {
       "layout": "IPY_MODEL_07325d2572d44a10b29902992d2316ad",
       "style": "IPY_MODEL_cf213ee59923436e9103650d7554ed5e",
       "value": "background"
      }
     },
     "471244d0cdde4b82be5610d44e19ac10": {
      "model_module": "@jupyter-widgets/controls",
      "model_module_version": "1.5.0",
      "model_name": "DescriptionStyleModel",
      "state": {
       "description_width": ""
      }
     },
     "4731b2873bd34bb689dc88708de5adfb": {
      "model_module": "@jupyter-widgets/controls",
      "model_module_version": "1.5.0",
      "model_name": "LinkModel",
      "state": {
       "source": [
        "IPY_MODEL_5cb75ca41d7545f3896486ea3f055810",
        "max"
       ],
       "target": [
        "IPY_MODEL_a522a78061fa44c1965ca595a6da3876",
        "max_frame"
       ]
      }
     },
     "47d6b2ee749e443da7676bda391a2486": {
      "model_module": "@jupyter-widgets/controls",
      "model_module_version": "1.5.0",
      "model_name": "CheckboxModel",
      "state": {
       "description": "wireframe",
       "disabled": false,
       "layout": "IPY_MODEL_fd693b5a592e4978a64e617b7c6af157",
       "style": "IPY_MODEL_7c5beec4d7d841f98eedb511f8da1a2b",
       "value": false
      }
     },
     "47fc80bd018c46f49536e596896a0c80": {
      "model_module": "@jupyter-widgets/base",
      "model_module_version": "1.2.0",
      "model_name": "LayoutModel",
      "state": {
       "width": "200px"
      }
     },
     "48066aa627c143119e504da9bf79cfc8": {
      "model_module": "@jupyter-widgets/controls",
      "model_module_version": "1.5.0",
      "model_name": "BoxModel",
      "state": {
       "children": [
        "IPY_MODEL_8bc55ee0a2474d06bb3a70e442b8dc4f",
        "IPY_MODEL_00349ea5dbb943fb8d98939da74ec0b4"
       ],
       "layout": "IPY_MODEL_bcc3b17ea41e46be860f0f487b5710f4"
      }
     },
     "48788f5d75c044128c536edbb5531015": {
      "model_module": "@jupyter-widgets/base",
      "model_module_version": "1.2.0",
      "model_name": "LayoutModel",
      "state": {
       "align_items": "stretch",
       "display": "flex",
       "flex_flow": "column",
       "width": "100%"
      }
     },
     "48819979699b43ff8f03f68ac1168058": {
      "model_module": "@jupyter-widgets/controls",
      "model_module_version": "1.5.0",
      "model_name": "LabelModel",
      "state": {
       "layout": "IPY_MODEL_8a99c67a418f49bc9d33aed43b8b0eaa",
       "style": "IPY_MODEL_8e46b89d4bbc4499978eff7700dfccf9",
       "value": "clip_near"
      }
     },
     "49261f7a62bf4de29a7d9e22c523b2ce": {
      "model_module": "@jupyter-widgets/controls",
      "model_module_version": "1.5.0",
      "model_name": "IntSliderModel",
      "state": {
       "layout": "IPY_MODEL_0d68727ef3d047c1993c0d26e2f16f13",
       "style": "IPY_MODEL_91ef68a7f98c4633a564ed9809251f59",
       "value": 100
      }
     },
     "49295b84142246e2adf11b8887b4e7bb": {
      "model_module": "@jupyter-widgets/controls",
      "model_module_version": "1.5.0",
      "model_name": "DescriptionStyleModel",
      "state": {
       "description_width": ""
      }
     },
     "4973f7e90a5d476391b6bbd3567536d0": {
      "model_module": "@jupyter-widgets/controls",
      "model_module_version": "1.5.0",
      "model_name": "BoxModel",
      "state": {
       "children": [
        "IPY_MODEL_2de6f0962cdd4dbb97e505e22916f2df",
        "IPY_MODEL_19ea8076f65c40c083c8691cbdc1e075"
       ],
       "layout": "IPY_MODEL_e4a187e988d845c3abf09d7cdf7ffaa4"
      }
     },
     "49eee7e1b30e4eb1a4e6e1bc48685250": {
      "model_module": "@jupyter-widgets/base",
      "model_module_version": "1.2.0",
      "model_name": "LayoutModel",
      "state": {
       "display": "flex",
       "flex_flow": "row",
       "justify_content": "space-between"
      }
     },
     "49fb7fde5af2476cb984d593a0ed0493": {
      "model_module": "@jupyter-widgets/base",
      "model_module_version": "1.2.0",
      "model_name": "LayoutModel",
      "state": {
       "width": "200px"
      }
     },
     "4aa47a5beb7f4b65b385a28f12c83b94": {
      "model_module": "@jupyter-widgets/controls",
      "model_module_version": "1.5.0",
      "model_name": "BoxModel",
      "state": {
       "children": [
        "IPY_MODEL_54dd64bf9e3340ed9035632e8d6f8d14",
        "IPY_MODEL_b746e5604dc9460eafb90e52aa8adab8"
       ],
       "layout": "IPY_MODEL_0fe35860e66f4d738c9e9a1db0ca082f"
      }
     },
     "4af6b31062b14fcb84640e7183c04f80": {
      "model_module": "@jupyter-widgets/base",
      "model_module_version": "1.2.0",
      "model_name": "LayoutModel",
      "state": {
       "flex": "1 1 auto",
       "width": "auto"
      }
     },
     "4b296f3008d14cf79d235ffa395b7a50": {
      "model_module": "@jupyter-widgets/controls",
      "model_module_version": "1.5.0",
      "model_name": "LabelModel",
      "state": {
       "layout": "IPY_MODEL_3bad9ecb00bb422abc4881a57cdc4dcc",
       "style": "IPY_MODEL_6f93c0dce42f438797c626ebe3111d38"
      }
     },
     "4b94a800dbc04ac9a55d2d60d2e4d5bf": {
      "model_module": "@jupyter-widgets/controls",
      "model_module_version": "1.5.0",
      "model_name": "LabelModel",
      "state": {
       "layout": "IPY_MODEL_52177f9f099e466a94db8aefb12ff474",
       "style": "IPY_MODEL_0d0e5c7bdf1a43b3a581f1eef36e0cf2",
       "value": "clip_far"
      }
     },
     "4bfc684e65604fbda6dbaa76814e93bb": {
      "model_module": "@jupyter-widgets/controls",
      "model_module_version": "1.5.0",
      "model_name": "DescriptionStyleModel",
      "state": {
       "description_width": ""
      }
     },
     "4c23f78cb6894d2b804108d2b23c422d": {
      "model_module": "@jupyter-widgets/controls",
      "model_module_version": "1.5.0",
      "model_name": "BoxModel",
      "state": {
       "children": [
        "IPY_MODEL_72aa70aac35a451980bc06047030f5d9",
        "IPY_MODEL_fcb03acd17a14ddea630994d80306298"
       ],
       "layout": "IPY_MODEL_bcc3b17ea41e46be860f0f487b5710f4"
      }
     },
     "4c362106ac7d446cbc675ab6c8015600": {
      "model_module": "@jupyter-widgets/base",
      "model_module_version": "1.2.0",
      "model_name": "LayoutModel",
      "state": {}
     },
     "4c545ec2530048cca35374abda541495": {
      "model_module": "@jupyter-widgets/base",
      "model_module_version": "1.2.0",
      "model_name": "LayoutModel",
      "state": {}
     },
     "4c5a87bb6bd84cee9cc45e1748aaa18d": {
      "model_module": "@jupyter-widgets/base",
      "model_module_version": "1.2.0",
      "model_name": "LayoutModel",
      "state": {}
     },
     "4c687073f1f648d596eaa0351f44873f": {
      "model_module": "@jupyter-widgets/controls",
      "model_module_version": "1.5.0",
      "model_name": "IntSliderModel",
      "state": {
       "layout": "IPY_MODEL_8bfc4237c5cc47e3b894dddc9ee0e8e7",
       "style": "IPY_MODEL_0f37d7ecbce749bb93bc22285cf9c6c5"
      }
     },
     "4c8da5c9b6a040209c14764246cba1ee": {
      "model_module": "@jupyter-widgets/controls",
      "model_module_version": "1.5.0",
      "model_name": "LabelModel",
      "state": {
       "layout": "IPY_MODEL_8a1fbe3912534fb9a71dea4858be044b",
       "style": "IPY_MODEL_0c4b289eaa844e2788b6caa92d47dfb0",
       "value": "zoom_speed"
      }
     },
     "4ca0e614d8ac4abbb103d050cd27bfbf": {
      "model_module": "@jupyter-widgets/controls",
      "model_module_version": "1.5.0",
      "model_name": "SliderStyleModel",
      "state": {
       "description_width": ""
      }
     },
     "4cd5ffcc61c4495192d0ad4641acdba4": {
      "model_module": "@jupyter-widgets/controls",
      "model_module_version": "1.5.0",
      "model_name": "LabelModel",
      "state": {
       "layout": "IPY_MODEL_c8c8adc58c7b47cd8d76a4d80d9a0445",
       "style": "IPY_MODEL_901070bb78d244babe7f924c9ba21f44",
       "value": "fog_far"
      }
     },
     "4cdbc1d8fca64afca0bcdd3769473ead": {
      "model_module": "@jupyter-widgets/controls",
      "model_module_version": "1.5.0",
      "model_name": "ButtonStyleModel",
      "state": {}
     },
     "4d17de4e7a8644429c1961a6150fac9d": {
      "model_module": "@jupyter-widgets/controls",
      "model_module_version": "1.5.0",
      "model_name": "DescriptionStyleModel",
      "state": {
       "description_width": ""
      }
     },
     "4d5344d600c844f1b76c090b924371a4": {
      "model_module": "@jupyter-widgets/controls",
      "model_module_version": "1.5.0",
      "model_name": "IntSliderModel",
      "state": {
       "layout": "IPY_MODEL_bfc222356c4b4eef8c42d941aa7b0a0c",
       "max": 10,
       "style": "IPY_MODEL_788f5b66148c40c48b61d9b1894cb0ea",
       "value": 1
      }
     },
     "4da2badec31b4577ad0ea4d1be795744": {
      "model_module": "@jupyter-widgets/base",
      "model_module_version": "1.2.0",
      "model_name": "LayoutModel",
      "state": {
       "width": "200px"
      }
     },
     "4dfb323332d048e3bcfeb1dfb304f7ff": {
      "model_module": "@jupyter-widgets/base",
      "model_module_version": "1.2.0",
      "model_name": "LayoutModel",
      "state": {}
     },
     "4e1e55ceca2e4b7f9ab3a4be82f5db88": {
      "model_module": "@jupyter-widgets/base",
      "model_module_version": "1.2.0",
      "model_name": "LayoutModel",
      "state": {
       "align_items": "stretch",
       "display": "flex",
       "flex_flow": "column",
       "width": "100%"
      }
     },
     "4e40a64f1eb5434bb340f73fd4d3fecd": {
      "model_module": "@jupyter-widgets/controls",
      "model_module_version": "1.5.0",
      "model_name": "IntSliderModel",
      "state": {
       "layout": "IPY_MODEL_5ad4ace1113c4914896f233e98b3d7e4",
       "max": 37,
       "style": "IPY_MODEL_59bc246d3b15471b833580153e5d31b4"
      }
     },
     "4e498146f0ca4e8f87240a5bee02dc11": {
      "model_module": "@jupyter-widgets/base",
      "model_module_version": "1.2.0",
      "model_name": "LayoutModel",
      "state": {}
     },
     "4e6b2c504f91497c8284ec1aa7c4df1e": {
      "model_module": "@jupyter-widgets/controls",
      "model_module_version": "1.5.0",
      "model_name": "DescriptionStyleModel",
      "state": {
       "description_width": ""
      }
     },
     "4e7d5094b0334c4a84f1aa4c8c7c069e": {
      "model_module": "@jupyter-widgets/controls",
      "model_module_version": "1.5.0",
      "model_name": "BoxModel",
      "state": {
       "layout": "IPY_MODEL_0e7396106d104ed8aee4773f7902b3fe"
      }
     },
     "4ec89bd1374845abbc63be63ec261dc7": {
      "model_module": "@jupyter-widgets/controls",
      "model_module_version": "1.5.0",
      "model_name": "LabelModel",
      "state": {
       "layout": "IPY_MODEL_f10ee0b3769b4fd995939e1648e78a56",
       "style": "IPY_MODEL_d1fb12afbb0847d8b097dea6085c3e72",
       "value": "clip_near"
      }
     },
     "4f16bff62687425eb323b431888ebe8f": {
      "model_module": "@jupyter-widgets/controls",
      "model_module_version": "1.5.0",
      "model_name": "ButtonModel",
      "state": {
       "description": " Center",
       "icon": "bullseye",
       "layout": "IPY_MODEL_267113d95d754967ba79d417e49e876c",
       "style": "IPY_MODEL_c923f79d496c4c2484170668d3ee27da"
      }
     },
     "4fae43bf370b4f5e922ba42265043fb2": {
      "model_module": "@jupyter-widgets/controls",
      "model_module_version": "1.5.0",
      "model_name": "DescriptionStyleModel",
      "state": {
       "description_width": ""
      }
     },
     "501182edac1644c1b017b977ecd3be93": {
      "model_module": "@jupyter-widgets/base",
      "model_module_version": "1.2.0",
      "model_name": "LayoutModel",
      "state": {
       "display": "none"
      }
     },
     "50c7a57944ef4acd82934ae19f92ae3a": {
      "model_module": "@jupyter-widgets/base",
      "model_module_version": "1.2.0",
      "model_name": "LayoutModel",
      "state": {}
     },
     "51579abf2fbf43a586f81928074309a8": {
      "model_module": "@jupyter-widgets/controls",
      "model_module_version": "1.5.0",
      "model_name": "BoxModel",
      "state": {
       "children": [
        "IPY_MODEL_94e5567af5d14eecb1c71a25e32d864f",
        "IPY_MODEL_78fe665a6d2547048eeb58b5e4205c2c"
       ],
       "layout": "IPY_MODEL_a233bad3a88046ccb196b8a0ae53fd3f"
      }
     },
     "518939cf31a9482484d305841437b006": {
      "model_module": "@jupyter-widgets/base",
      "model_module_version": "1.2.0",
      "model_name": "LayoutModel",
      "state": {}
     },
     "51dcbb4808f6451997adeebe7fe1bd17": {
      "model_module": "@jupyter-widgets/controls",
      "model_module_version": "1.5.0",
      "model_name": "DescriptionStyleModel",
      "state": {
       "description_width": ""
      }
     },
     "51ee7f086e024492832d92a638070efd": {
      "model_module": "@jupyter-widgets/controls",
      "model_module_version": "1.5.0",
      "model_name": "BoxModel",
      "state": {
       "children": [
        "IPY_MODEL_ccab65b12d0945bd98fede1970c0d571",
        "IPY_MODEL_71ece0e1984e4b56b4188c95dc3baf1d",
        "IPY_MODEL_67b444a5dbef4eb3a36aea9804c80eca",
        "IPY_MODEL_f8d11386cd474f6fa70e9efaf38fbade",
        "IPY_MODEL_a04c97ff63804545bd0e4b7e85a53b81",
        "IPY_MODEL_2bf70c7a6e3144f2963462b70cfef992",
        "IPY_MODEL_2b2af39a8f974a03b7c1d641dc1259f8",
        "IPY_MODEL_925d8a3eb39e451cb007acdbf4fe53d4",
        "IPY_MODEL_f543110a6cc44692b5dacda933175daf",
        "IPY_MODEL_f0e9149ebe4e4cbaa129dd3882eeba75",
        "IPY_MODEL_4aa47a5beb7f4b65b385a28f12c83b94",
        "IPY_MODEL_0bdda5bffe8a4699be643c2d2b555981",
        "IPY_MODEL_ded3a58a80444bef8bc769c54f802540",
        "IPY_MODEL_336c41a2ea4f44709db71ac1ae29a61d",
        "IPY_MODEL_fc571e20e3624324a215a99f44adc9c1"
       ],
       "layout": "IPY_MODEL_7ae343c38b30428ebbca46575328323a"
      }
     },
     "52177f9f099e466a94db8aefb12ff474": {
      "model_module": "@jupyter-widgets/base",
      "model_module_version": "1.2.0",
      "model_name": "LayoutModel",
      "state": {}
     },
     "52996dc64c064ead887b4a01579efa97": {
      "model_module": "@jupyter-widgets/base",
      "model_module_version": "1.2.0",
      "model_name": "LayoutModel",
      "state": {}
     },
     "52ad09ee88a644cb880d5907d4b55d10": {
      "model_module": "@jupyter-widgets/controls",
      "model_module_version": "1.5.0",
      "model_name": "BoxModel",
      "state": {
       "children": [
        "IPY_MODEL_609a45c3653148e4b1430089387f7a59",
        "IPY_MODEL_6884c36d775e4dbdab212673dde9d9c2"
       ],
       "layout": "IPY_MODEL_eb69a8e03cf44b96825e4be413fff080"
      }
     },
     "539de2708a674e688a077eb92777c7c9": {
      "model_module": "@jupyter-widgets/base",
      "model_module_version": "1.2.0",
      "model_name": "LayoutModel",
      "state": {}
     },
     "53dcd21644b34998a42be559c2d353d9": {
      "model_module": "@jupyter-widgets/base",
      "model_module_version": "1.2.0",
      "model_name": "LayoutModel",
      "state": {}
     },
     "54024dead88e46c992b5702f6b46c503": {
      "model_module": "@jupyter-widgets/base",
      "model_module_version": "1.2.0",
      "model_name": "LayoutModel",
      "state": {}
     },
     "544c973be4944b92bdcd3202c9c3d67b": {
      "model_module": "@jupyter-widgets/controls",
      "model_module_version": "1.5.0",
      "model_name": "BoxModel",
      "state": {
       "children": [
        "IPY_MODEL_3d0b3cd990ff442985cb3855e74e236f",
        "IPY_MODEL_2db45b03d6944c4190447fa945e022e8"
       ],
       "layout": "IPY_MODEL_5fe77ce63d73496aa4dc3956a2405e64"
      }
     },
     "54cc0d880eab4bd38ad6550cefa78478": {
      "model_module": "@jupyter-widgets/base",
      "model_module_version": "1.2.0",
      "model_name": "LayoutModel",
      "state": {
       "width": "34px"
      }
     },
     "54dd64bf9e3340ed9035632e8d6f8d14": {
      "model_module": "@jupyter-widgets/controls",
      "model_module_version": "1.5.0",
      "model_name": "LabelModel",
      "state": {
       "layout": "IPY_MODEL_f85d8a262f5142dcb080c0ce5cb9b6bd",
       "style": "IPY_MODEL_26faabe526f741d3826cf791fc860f70",
       "value": "impostor"
      }
     },
     "553398fca60e4a24935d78c404e21883": {
      "model_module": "@jupyter-widgets/controls",
      "model_module_version": "1.5.0",
      "model_name": "VBoxModel",
      "state": {
       "_dom_classes": [
        "widget-interact"
       ],
       "children": [
        "IPY_MODEL_129ac5ba0e1f4cd2b6e0877fb7b81552",
        "IPY_MODEL_f709beaeaa39481eae89fc3c922a7eb0",
        "IPY_MODEL_9afa20014f6d47dba5f9df9434317281",
        "IPY_MODEL_4d5344d600c844f1b76c090b924371a4",
        "IPY_MODEL_96f84c4a596d48d78757a3ca4c011973",
        "IPY_MODEL_13abf69d4b2d42f2b80868e7996390e6",
        "IPY_MODEL_c597f1c35f5d46f6842ef1aa0a35554b",
        "IPY_MODEL_aa523cd98c004183a3de4fc9948c7a0c",
        "IPY_MODEL_dae7592e30fb48ee888547431a2e09f6",
        "IPY_MODEL_1f89cd5b49d04f12bd25ca11b2534445",
        "IPY_MODEL_b746e5604dc9460eafb90e52aa8adab8",
        "IPY_MODEL_8ff11bbe1d374b1cb2db69b3e2949a8f",
        "IPY_MODEL_fe59b19322d14d9aa843e8704a2142a6",
        "IPY_MODEL_6f1ebf2853354963bb458b3e3fef9b5c",
        "IPY_MODEL_3b73d1317dee4dfd9e71ba75a832a993"
       ],
       "layout": "IPY_MODEL_68a65aab94e64a1bad764fd2dac17d97"
      }
     },
     "5537398c99b444709f95f4d30ac82bfe": {
      "model_module": "@jupyter-widgets/controls",
      "model_module_version": "1.5.0",
      "model_name": "ButtonModel",
      "state": {
       "icon": "camera",
       "layout": "IPY_MODEL_7289f4c3f9f047fa9d653f75f3524a93",
       "style": "IPY_MODEL_01fd86d92ff6447fa656bd38873ad60d"
      }
     },
     "557f719be1f84c55934dc910b187a734": {
      "model_module": "@jupyter-widgets/controls",
      "model_module_version": "1.5.0",
      "model_name": "BoxModel",
      "state": {
       "children": [
        "IPY_MODEL_4b94a800dbc04ac9a55d2d60d2e4d5bf",
        "IPY_MODEL_c7e181bec5cd41489a81fcdc01d07eae"
       ],
       "layout": "IPY_MODEL_a233bad3a88046ccb196b8a0ae53fd3f"
      }
     },
     "55bbe3b95f4945309f827ba1f11cdcaf": {
      "model_module": "@jupyter-widgets/controls",
      "model_module_version": "1.5.0",
      "model_name": "ButtonStyleModel",
      "state": {}
     },
     "55ffa39a55a34df498556b571e68a828": {
      "model_module": "@jupyter-widgets/controls",
      "model_module_version": "1.5.0",
      "model_name": "DescriptionStyleModel",
      "state": {
       "description_width": ""
      }
     },
     "561af288b3214fd285737a5003c23e0d": {
      "model_module": "@jupyter-widgets/base",
      "model_module_version": "1.2.0",
      "model_name": "LayoutModel",
      "state": {}
     },
     "561e4be8cab5486d9894cc9d3440a111": {
      "model_module": "@jupyter-widgets/controls",
      "model_module_version": "1.5.0",
      "model_name": "DescriptionStyleModel",
      "state": {
       "description_width": ""
      }
     },
     "562236e5794146c4b71a73539ae61c4d": {
      "model_module": "@jupyter-widgets/base",
      "model_module_version": "1.2.0",
      "model_name": "LayoutModel",
      "state": {}
     },
     "562e12fef6c046afba9dab8fd7743dab": {
      "model_module": "@jupyter-widgets/controls",
      "model_module_version": "1.5.0",
      "model_name": "SliderStyleModel",
      "state": {
       "description_width": ""
      }
     },
     "564c4234b644412884f3ddccd0a83fd3": {
      "model_module": "@jupyter-widgets/base",
      "model_module_version": "1.2.0",
      "model_name": "LayoutModel",
      "state": {}
     },
     "565c523b02174978aec731788625ef6d": {
      "model_module": "@jupyter-widgets/base",
      "model_module_version": "1.2.0",
      "model_name": "LayoutModel",
      "state": {}
     },
     "567f7d40d09149238d57cb67b5024478": {
      "model_module": "@jupyter-widgets/controls",
      "model_module_version": "1.5.0",
      "model_name": "SliderStyleModel",
      "state": {
       "description_width": ""
      }
     },
     "56bd48f7bbf8413f905772fef0d96b2d": {
      "model_module": "@jupyter-widgets/controls",
      "model_module_version": "1.5.0",
      "model_name": "BoxModel",
      "state": {
       "children": [
        "IPY_MODEL_2af7b7bf11134cb9bf458e3a305376fe"
       ],
       "layout": "IPY_MODEL_26716f8e360e406aabc7ed3e687267bc"
      }
     },
     "56c837d604d2483da02eb66c43c987b6": {
      "model_module": "@jupyter-widgets/controls",
      "model_module_version": "1.5.0",
      "model_name": "DescriptionStyleModel",
      "state": {
       "description_width": ""
      }
     },
     "56e0bfed203c467ebe8458a335f00a74": {
      "model_module": "@jupyter-widgets/base",
      "model_module_version": "1.2.0",
      "model_name": "LayoutModel",
      "state": {}
     },
     "56e32c4df61e4b19beac430c2eacd648": {
      "model_module": "@jupyter-widgets/base",
      "model_module_version": "1.2.0",
      "model_name": "LayoutModel",
      "state": {}
     },
     "56ff83665ecd4f4d897e0037281ec016": {
      "model_module": "@jupyter-widgets/controls",
      "model_module_version": "1.5.0",
      "model_name": "DescriptionStyleModel",
      "state": {
       "description_width": ""
      }
     },
     "570b14555e65484ba4566ab6a9764dca": {
      "model_module": "@jupyter-widgets/controls",
      "model_module_version": "1.5.0",
      "model_name": "LabelModel",
      "state": {
       "layout": "IPY_MODEL_6ffeec0a890d4b2bb16ad5ef2d0cfdcb",
       "style": "IPY_MODEL_9164b0809288493d895b22d571f76a39",
       "value": "quality"
      }
     },
     "57304734a78b407286fd2acacbdb39a9": {
      "model_module": "@jupyter-widgets/controls",
      "model_module_version": "1.5.0",
      "model_name": "LabelModel",
      "state": {
       "layout": "IPY_MODEL_e0da03ed849b4e919d62c2afa47ba3f6",
       "style": "IPY_MODEL_c781d0d215dd4d1ab95baba3479a8f6c",
       "value": "step"
      }
     },
     "5744b32db6784037aaa0b3e7d47a09e6": {
      "model_module": "@jupyter-widgets/base",
      "model_module_version": "1.2.0",
      "model_name": "LayoutModel",
      "state": {}
     },
     "574e039f817f445096516da8bba8f680": {
      "model_module": "@jupyter-widgets/controls",
      "model_module_version": "1.5.0",
      "model_name": "DropdownModel",
      "state": {
       "_options_labels": [
        "default",
        "AU",
        "BU1",
        "UNITCELL",
        "SUPERCELL"
       ],
       "description": "assembly",
       "index": 0,
       "layout": "IPY_MODEL_0c67d7679f6e4872846a8e304aeda0c2",
       "style": "IPY_MODEL_361f62fd62f94e18a751a202ef9f8d58"
      }
     },
     "574e95b801b94ef68f4d3068dc53f593": {
      "model_module": "@jupyter-widgets/controls",
      "model_module_version": "1.5.0",
      "model_name": "BoxModel",
      "state": {
       "layout": "IPY_MODEL_25c9ae5964a243b584e0d67ccc63ea82"
      }
     },
     "575f53ce1c4f473eaf5e7f28fb14b9b8": {
      "model_module": "@jupyter-widgets/controls",
      "model_module_version": "1.5.0",
      "model_name": "ImageModel",
      "state": {
       "layout": "IPY_MODEL_071f66958a094551a45297c122a55077",
       "width": "900.0"
      }
     },
     "57cba32f885e4323bf2c92898fd536f5": {
      "model_module": "@jupyter-widgets/controls",
      "model_module_version": "1.5.0",
      "model_name": "ButtonModel",
      "state": {
       "description": "Add",
       "layout": "IPY_MODEL_606f82265765477693af8e55aa99af14",
       "style": "IPY_MODEL_58ae5013d11b4f298df3a2e24af73b81",
       "tooltip": "Add representation.\n        You can also hit Enter in selection box"
      }
     },
     "5801d024b324408e821f205c18dacf67": {
      "model_module": "@jupyter-widgets/controls",
      "model_module_version": "1.5.0",
      "model_name": "BoxModel",
      "state": {
       "children": [
        "IPY_MODEL_72e5a6af7ef7452287c1dd0925c71c59",
        "IPY_MODEL_341885b35e494bb9b96e2395eed7cddf"
       ],
       "layout": "IPY_MODEL_5fe77ce63d73496aa4dc3956a2405e64"
      }
     },
     "58371e75f9024c659bf91513deca006a": {
      "model_module": "@jupyter-widgets/base",
      "model_module_version": "1.2.0",
      "model_name": "LayoutModel",
      "state": {}
     },
     "583f2b8691b84376a4d57eecdf1b4965": {
      "model_module": "@jupyter-widgets/controls",
      "model_module_version": "1.5.0",
      "model_name": "DescriptionStyleModel",
      "state": {
       "description_width": ""
      }
     },
     "5842d699cb01431692f282543b2dfc4e": {
      "model_module": "@jupyter-widgets/controls",
      "model_module_version": "1.5.0",
      "model_name": "BoxModel",
      "state": {
       "children": [
        "IPY_MODEL_57304734a78b407286fd2acacbdb39a9",
        "IPY_MODEL_436211c8423a4f37862cff4ea2194c55"
       ],
       "layout": "IPY_MODEL_10e2f5f21d234c2e91cfa8625c565cb9"
      }
     },
     "5878231d7da346b68f4aa7eb7cf54fe0": {
      "model_module": "@jupyter-widgets/controls",
      "model_module_version": "1.5.0",
      "model_name": "ButtonStyleModel",
      "state": {}
     },
     "58a3e5d345464d29b31c9eaf9c29bfff": {
      "model_module": "@jupyter-widgets/controls",
      "model_module_version": "1.5.0",
      "model_name": "BoxModel",
      "state": {
       "children": [
        "IPY_MODEL_bb352db533d44a5b877338f496a1497d",
        "IPY_MODEL_1d9f17ba33fc421692fac98871921b2b",
        "IPY_MODEL_5801d024b324408e821f205c18dacf67",
        "IPY_MODEL_89c4518fe3244fe7aa862a520a668755",
        "IPY_MODEL_a3f294ef1c6f4347aaad58b305a1fe51",
        "IPY_MODEL_9d710f01437b42179f90e2f0b5842019",
        "IPY_MODEL_41b823f3dec248b993ccf406e24b7932",
        "IPY_MODEL_39a911bf196c4422b76891dff926a46a",
        "IPY_MODEL_544c973be4944b92bdcd3202c9c3d67b",
        "IPY_MODEL_eb98b06b8c8a40fc81432c7720c641c4"
       ],
       "layout": "IPY_MODEL_48788f5d75c044128c536edbb5531015"
      }
     },
     "58ae5013d11b4f298df3a2e24af73b81": {
      "model_module": "@jupyter-widgets/controls",
      "model_module_version": "1.5.0",
      "model_name": "ButtonStyleModel",
      "state": {}
     },
     "58bc09a688c84791a95ee10ff7a8a2e5": {
      "model_module": "@jupyter-widgets/controls",
      "model_module_version": "1.5.0",
      "model_name": "ButtonStyleModel",
      "state": {}
     },
     "58eee3b228564d34a5b9230211be678c": {
      "model_module": "@jupyter-widgets/controls",
      "model_module_version": "1.5.0",
      "model_name": "ButtonModel",
      "state": {
       "icon": "compress",
       "layout": "IPY_MODEL_54cc0d880eab4bd38ad6550cefa78478",
       "style": "IPY_MODEL_116e7a22f2724ff2a780dffb89bef95f"
      }
     },
     "58fbe176e81c49ae96fa63f8503f45df": {
      "model_module": "@jupyter-widgets/controls",
      "model_module_version": "1.5.0",
      "model_name": "SliderStyleModel",
      "state": {
       "description_width": ""
      }
     },
     "5945024d52444a3dba0f6d3d8a8413fd": {
      "model_module": "@jupyter-widgets/controls",
      "model_module_version": "1.5.0",
      "model_name": "ButtonStyleModel",
      "state": {}
     },
     "59bc246d3b15471b833580153e5d31b4": {
      "model_module": "@jupyter-widgets/controls",
      "model_module_version": "1.5.0",
      "model_name": "SliderStyleModel",
      "state": {
       "description_width": ""
      }
     },
     "5a27d053731a4949a919a1a2a1aaf79e": {
      "model_module": "@jupyter-widgets/controls",
      "model_module_version": "1.5.0",
      "model_name": "BoxModel",
      "state": {
       "children": [
        "IPY_MODEL_45a4e8457d084b6c8bbe7c36e3cb0279"
       ],
       "layout": "IPY_MODEL_c439c7784db048dbb7329c86b76d0818"
      }
     },
     "5a4629065bcf4ca98319581816628c57": {
      "model_module": "@jupyter-widgets/base",
      "model_module_version": "1.2.0",
      "model_name": "LayoutModel",
      "state": {}
     },
     "5a54b2dd4e1444859d5ccffe4e693f1e": {
      "model_module": "@jupyter-widgets/controls",
      "model_module_version": "1.5.0",
      "model_name": "LabelModel",
      "state": {
       "layout": "IPY_MODEL_08033173a4534a868901064ccdd4b6e1",
       "style": "IPY_MODEL_db321c761cc8469b879ef8fcdc7a9394",
       "value": "zoom_speed"
      }
     },
     "5ad4ace1113c4914896f233e98b3d7e4": {
      "model_module": "@jupyter-widgets/base",
      "model_module_version": "1.2.0",
      "model_name": "LayoutModel",
      "state": {}
     },
     "5b0965ac7fea4cada430cca36842ce16": {
      "model_module": "@jupyter-widgets/controls",
      "model_module_version": "1.5.0",
      "model_name": "DescriptionStyleModel",
      "state": {
       "description_width": ""
      }
     },
     "5b5c284e071048fd946bdd3b0c1454ec": {
      "model_module": "@jupyter-widgets/controls",
      "model_module_version": "1.5.0",
      "model_name": "DescriptionStyleModel",
      "state": {
       "description_width": ""
      }
     },
     "5b72e1021226400abfa1aff3a9a2007f": {
      "model_module": "@jupyter-widgets/controls",
      "model_module_version": "1.5.0",
      "model_name": "BoxModel",
      "state": {
       "children": [
        "IPY_MODEL_80a00fabe2ad4d62bdec1376c62ef0af",
        "IPY_MODEL_7a14de6c078046fa89a61c1ca7401e79"
       ],
       "layout": "IPY_MODEL_bcc3b17ea41e46be860f0f487b5710f4"
      }
     },
     "5b9720a2b2634218a2907ae5212d3ce4": {
      "model_module": "@jupyter-widgets/base",
      "model_module_version": "1.2.0",
      "model_name": "LayoutModel",
      "state": {}
     },
     "5bfa396dfaaa4ad3b1a5ce1dccbf3896": {
      "model_module": "@jupyter-widgets/controls",
      "model_module_version": "1.5.0",
      "model_name": "DescriptionStyleModel",
      "state": {
       "description_width": ""
      }
     },
     "5bfd878036fa44b185560d6c2d0e2911": {
      "model_module": "@jupyter-widgets/controls",
      "model_module_version": "1.5.0",
      "model_name": "BoxModel",
      "state": {
       "children": [
        "IPY_MODEL_b37f56ec51844073b452212c25b60eaa"
       ],
       "layout": "IPY_MODEL_3aa2cc3d95534d3197b36bcf64e5f404"
      }
     },
     "5c074ce311764698a885872cb779a6a8": {
      "model_module": "@jupyter-widgets/base",
      "model_module_version": "1.2.0",
      "model_name": "LayoutModel",
      "state": {}
     },
     "5c6be4c0aa0943e9b5a8e3250b58fbea": {
      "model_module": "@jupyter-widgets/controls",
      "model_module_version": "1.5.0",
      "model_name": "SliderStyleModel",
      "state": {
       "description_width": ""
      }
     },
     "5cb75ca41d7545f3896486ea3f055810": {
      "model_module": "@jupyter-widgets/controls",
      "model_module_version": "1.5.0",
      "model_name": "IntSliderModel",
      "state": {
       "layout": "IPY_MODEL_31ccae1a043041a38d0c407a979aad12",
       "max": 37,
       "style": "IPY_MODEL_4ca0e614d8ac4abbb103d050cd27bfbf",
       "value": 11
      }
     },
     "5d1ece9ee2af4dbcb92248941f323f84": {
      "model_module": "@jupyter-widgets/controls",
      "model_module_version": "1.5.0",
      "model_name": "SliderStyleModel",
      "state": {
       "description_width": ""
      }
     },
     "5d43e240f6464fb0bfb6bb1a7ed3577d": {
      "model_module": "@jupyter-widgets/base",
      "model_module_version": "1.2.0",
      "model_name": "LayoutModel",
      "state": {
       "width": "200px"
      }
     },
     "5d6bdbe4fcd949ca8f5993e22aa9ef8a": {
      "model_module": "@jupyter-widgets/base",
      "model_module_version": "1.2.0",
      "model_name": "LayoutModel",
      "state": {
       "display": "none"
      }
     },
     "5d6d526b3a284784996ec0de823d8923": {
      "model_module": "@jupyter-widgets/base",
      "model_module_version": "1.2.0",
      "model_name": "LayoutModel",
      "state": {}
     },
     "5d7a1d4d40994cfa891ec93e5a08fc8a": {
      "model_module": "@jupyter-widgets/controls",
      "model_module_version": "1.5.0",
      "model_name": "ButtonModel",
      "state": {
       "description": " Center",
       "icon": "bullseye",
       "layout": "IPY_MODEL_acd94795d9f645fabf5f9160b37c6dbe",
       "style": "IPY_MODEL_a0b7de3bb78349a591676813eaa86e17",
       "tooltip": "center selected atoms"
      }
     },
     "5e229f7fe9be4aa6a052dfd485af8f1e": {
      "model_module": "@jupyter-widgets/controls",
      "model_module_version": "1.5.0",
      "model_name": "ImageModel",
      "state": {
       "layout": "IPY_MODEL_b2755ea394274d9bb6f3bc0acb3af94e",
       "width": "900.0"
      }
     },
     "5ea0d6fd4c8a493e90d4a11e8eb3b3c6": {
      "model_module": "@jupyter-widgets/controls",
      "model_module_version": "1.5.0",
      "model_name": "DescriptionStyleModel",
      "state": {
       "description_width": ""
      }
     },
     "5ea7b7e51ea94948949ed285199f0970": {
      "model_module": "@jupyter-widgets/controls",
      "model_module_version": "1.5.0",
      "model_name": "DescriptionStyleModel",
      "state": {
       "description_width": ""
      }
     },
     "5edfe9e484ff49cb919072ba2dcd80af": {
      "model_module": "@jupyter-widgets/base",
      "model_module_version": "1.2.0",
      "model_name": "LayoutModel",
      "state": {
       "width": "200px"
      }
     },
     "5fc215e41f9145159d1921ceb5c0c187": {
      "model_module": "@jupyter-widgets/base",
      "model_module_version": "1.2.0",
      "model_name": "LayoutModel",
      "state": {
       "width": "200px"
      }
     },
     "5fde74e4ca3a4aeea5dfc783372c9522": {
      "model_module": "@jupyter-widgets/controls",
      "model_module_version": "1.5.0",
      "model_name": "LabelModel",
      "state": {
       "layout": "IPY_MODEL_87bcd1a17a4b426682254a9f72b10d8d",
       "style": "IPY_MODEL_de904117ddc34c709f19acc0b6568c91"
      }
     },
     "5fe76a0c328149509607295a1391b623": {
      "model_module": "@jupyter-widgets/base",
      "model_module_version": "1.2.0",
      "model_name": "LayoutModel",
      "state": {}
     },
     "5fe77ce63d73496aa4dc3956a2405e64": {
      "model_module": "@jupyter-widgets/base",
      "model_module_version": "1.2.0",
      "model_name": "LayoutModel",
      "state": {
       "display": "flex",
       "flex_flow": "row",
       "justify_content": "space-between"
      }
     },
     "600ac7f6041544b28c5cef3ccf6dd474": {
      "model_module": "@jupyter-widgets/base",
      "model_module_version": "1.2.0",
      "model_name": "LayoutModel",
      "state": {}
     },
     "60259b6f608c43c29f19df038d5a138f": {
      "model_module": "@jupyter-widgets/base",
      "model_module_version": "1.2.0",
      "model_name": "LayoutModel",
      "state": {
       "width": "100px"
      }
     },
     "60438b6939134f0fb8eda10f0acc840b": {
      "model_module": "@jupyter-widgets/controls",
      "model_module_version": "1.5.0",
      "model_name": "LabelModel",
      "state": {
       "layout": "IPY_MODEL_c80b1372f58441a281b872a484f4c8ba",
       "style": "IPY_MODEL_442dbd73bc5d4599a413affd28bd6b27"
      }
     },
     "606f82265765477693af8e55aa99af14": {
      "model_module": "@jupyter-widgets/base",
      "model_module_version": "1.2.0",
      "model_name": "LayoutModel",
      "state": {
       "flex": "1 1 auto",
       "width": "auto"
      }
     },
     "608b2e58e44b4557879a45e1213954b1": {
      "model_module": "@jupyter-widgets/controls",
      "model_module_version": "1.5.0",
      "model_name": "FloatSliderModel",
      "state": {
       "layout": "IPY_MODEL_1c372743c8494b7d9b96e68920e3d54d",
       "max": 10,
       "step": 0.1,
       "style": "IPY_MODEL_dfb529cda1734f6b9a513c6046906689",
       "value": 1
      }
     },
     "609a45c3653148e4b1430089387f7a59": {
      "model_module": "@jupyter-widgets/controls",
      "model_module_version": "1.5.0",
      "model_name": "LabelModel",
      "state": {
       "layout": "IPY_MODEL_2621ebd8202648c99c3f2a12f474a682",
       "style": "IPY_MODEL_e94694c3bf364d30bb8b930285c34854",
       "value": "clip_dist"
      }
     },
     "60dce46f28324575abaf7ee39d688ebd": {
      "model_module": "@jupyter-widgets/base",
      "model_module_version": "1.2.0",
      "model_name": "LayoutModel",
      "state": {}
     },
     "613a88989ae641ff87279f280fe592cf": {
      "model_module": "@jupyter-widgets/controls",
      "model_module_version": "1.5.0",
      "model_name": "BoxModel",
      "state": {
       "children": [
        "IPY_MODEL_4ec89bd1374845abbc63be63ec261dc7",
        "IPY_MODEL_4c687073f1f648d596eaa0351f44873f"
       ],
       "layout": "IPY_MODEL_a233bad3a88046ccb196b8a0ae53fd3f"
      }
     },
     "6179c47b6cc946ec8c8ffab275be3e95": {
      "model_module": "@jupyter-widgets/base",
      "model_module_version": "1.2.0",
      "model_name": "LayoutModel",
      "state": {
       "width": "100px"
      }
     },
     "6186a0e541044f3a9fbc147cc58f4548": {
      "model_module": "@jupyter-widgets/controls",
      "model_module_version": "1.5.0",
      "model_name": "LabelModel",
      "state": {
       "layout": "IPY_MODEL_7f22cb153ebe4a5f8bc88b5beb0f5684",
       "style": "IPY_MODEL_561e4be8cab5486d9894cc9d3440a111",
       "value": "step"
      }
     },
     "621ad7f5253b4ad5b0bc7a3b80786ccf": {
      "model_module": "@jupyter-widgets/controls",
      "model_module_version": "1.5.0",
      "model_name": "BoxModel",
      "state": {
       "children": [
        "IPY_MODEL_d44658b0a1b94fa585d98103281f3f7e",
        "IPY_MODEL_0bda15b3af884b01b0b8fc1b226d3b5b"
       ],
       "layout": "IPY_MODEL_e4a187e988d845c3abf09d7cdf7ffaa4"
      }
     },
     "6339b2d7f3994d319b4d8dc8a696be40": {
      "model_module": "@jupyter-widgets/controls",
      "model_module_version": "1.5.0",
      "model_name": "DescriptionStyleModel",
      "state": {
       "description_width": ""
      }
     },
     "641e91a4f5e54588a9303015357fb255": {
      "model_module": "@jupyter-widgets/base",
      "model_module_version": "1.2.0",
      "model_name": "LayoutModel",
      "state": {}
     },
     "64ecc4ff76b44a2fa01e6662f74c837a": {
      "model_module": "@jupyter-widgets/controls",
      "model_module_version": "1.5.0",
      "model_name": "ButtonStyleModel",
      "state": {}
     },
     "65b9b55ee24647eab4e5ba3c897e3198": {
      "model_module": "@jupyter-widgets/controls",
      "model_module_version": "1.5.0",
      "model_name": "IntSliderModel",
      "state": {
       "layout": "IPY_MODEL_d7a2867cd8114ab2b9487f254d2b282f",
       "max": 1000,
       "min": 10,
       "style": "IPY_MODEL_a08ba23f861242ccb08aada42db35fdd",
       "value": 100
      }
     },
     "65c7dd1c02c44fe8bea0c68f99c7ec1f": {
      "model_module": "@jupyter-widgets/base",
      "model_module_version": "1.2.0",
      "model_name": "LayoutModel",
      "state": {}
     },
     "65e6da249f9b47bab81258a414c2d51d": {
      "model_module": "@jupyter-widgets/base",
      "model_module_version": "1.2.0",
      "model_name": "LayoutModel",
      "state": {}
     },
     "660411d26b614349b78cea7646c8abcd": {
      "model_module": "@jupyter-widgets/base",
      "model_module_version": "1.2.0",
      "model_name": "LayoutModel",
      "state": {}
     },
     "661cf1b9427e4b0c97f76962b824834c": {
      "model_module": "@jupyter-widgets/controls",
      "model_module_version": "1.5.0",
      "model_name": "FloatSliderModel",
      "state": {
       "layout": "IPY_MODEL_68ee0260b83d433eb88f86fff8115ce6",
       "max": 10,
       "step": 0.02,
       "style": "IPY_MODEL_1b139004a1fa45ebb61e7cab7bef1bb9",
       "value": 1
      }
     },
     "66666f2c659146489b451d2ee861c609": {
      "model_module": "@jupyter-widgets/base",
      "model_module_version": "1.2.0",
      "model_name": "LayoutModel",
      "state": {}
     },
     "667f67df2cf24d2d8d0495cbf25a75f2": {
      "model_module": "@jupyter-widgets/base",
      "model_module_version": "1.2.0",
      "model_name": "LayoutModel",
      "state": {
       "align_items": "stretch",
       "display": "flex",
       "flex_flow": "column",
       "width": "100%"
      }
     },
     "6688d52fda534bbb82d72399b6f8b471": {
      "model_module": "@jupyter-widgets/controls",
      "model_module_version": "1.5.0",
      "model_name": "DescriptionStyleModel",
      "state": {
       "description_width": ""
      }
     },
     "6691c01f3fd94bbf9f9485f47a0bcefa": {
      "model_module": "@jupyter-widgets/controls",
      "model_module_version": "1.5.0",
      "model_name": "LinkModel",
      "state": {
       "source": [
        "IPY_MODEL_0e35309c9de24b80ac86f70f5ec382ec",
        "max"
       ],
       "target": [
        "IPY_MODEL_42b51c1578ad4b4b915efd65dd071c56",
        "max_frame"
       ]
      }
     },
     "66a32fd464044b938fc3fecc41e49e28": {
      "model_module": "@jupyter-widgets/controls",
      "model_module_version": "1.5.0",
      "model_name": "BoxModel",
      "state": {
       "children": [
        "IPY_MODEL_c08f30ee17a94e34a0d99d1a01294f22",
        "IPY_MODEL_fb724388249c46469c23a2253295d6a6"
       ],
       "layout": "IPY_MODEL_d075cc320dac493d87c83af8b18d038a"
      }
     },
     "66ca682a27264aa180015a107080bf16": {
      "model_module": "@jupyter-widgets/controls",
      "model_module_version": "1.5.0",
      "model_name": "BoxModel",
      "state": {
       "children": [
        "IPY_MODEL_cdda0061ab264e4a9e174571ab31c315",
        "IPY_MODEL_186dd0946e364e4b8b632283503a856f"
       ],
       "layout": "IPY_MODEL_a233bad3a88046ccb196b8a0ae53fd3f"
      }
     },
     "67a13b3053634d28acbebd26c396114f": {
      "model_module": "@jupyter-widgets/controls",
      "model_module_version": "1.5.0",
      "model_name": "BoxModel",
      "state": {
       "children": [
        "IPY_MODEL_2f007fcb4a044a9fb68496c5325e54f4",
        "IPY_MODEL_6d28f4a3924d4a83aa645e3f70a919c1"
       ],
       "layout": "IPY_MODEL_a233bad3a88046ccb196b8a0ae53fd3f"
      }
     },
     "67b444a5dbef4eb3a36aea9804c80eca": {
      "model_module": "@jupyter-widgets/controls",
      "model_module_version": "1.5.0",
      "model_name": "BoxModel",
      "state": {
       "children": [
        "IPY_MODEL_9d389253285f401b8858db9b590d2011",
        "IPY_MODEL_9afa20014f6d47dba5f9df9434317281"
       ],
       "layout": "IPY_MODEL_0fe35860e66f4d738c9e9a1db0ca082f"
      }
     },
     "67f05d4d69ce4b039863df5e60fed131": {
      "model_module": "@jupyter-widgets/controls",
      "model_module_version": "1.5.0",
      "model_name": "DescriptionStyleModel",
      "state": {
       "description_width": ""
      }
     },
     "685474f9c03f4bcca11fc9ca54aede91": {
      "model_module": "@jupyter-widgets/controls",
      "model_module_version": "1.5.0",
      "model_name": "LinkModel",
      "state": {
       "source": [
        "IPY_MODEL_95076da05343433f857a810e61b4bab7",
        "value"
       ],
       "target": [
        "IPY_MODEL_5cb75ca41d7545f3896486ea3f055810",
        "value"
       ]
      }
     },
     "685fc8d877e2482faa132980ca7b3416": {
      "model_module": "@jupyter-widgets/controls",
      "model_module_version": "1.5.0",
      "model_name": "LabelModel",
      "state": {
       "layout": "IPY_MODEL_e062e0d68c9348dbae0468c651533999",
       "style": "IPY_MODEL_c8276e88f96c4af290d0277ed4769ac0"
      }
     },
     "686202dc6c3f4b6c977afbe770f25d38": {
      "model_module": "@jupyter-widgets/base",
      "model_module_version": "1.2.0",
      "model_name": "LayoutModel",
      "state": {}
     },
     "68796e0f30a148aea40c025c6a0f7d67": {
      "model_module": "@jupyter-widgets/base",
      "model_module_version": "1.2.0",
      "model_name": "LayoutModel",
      "state": {
       "width": "200px"
      }
     },
     "6884c36d775e4dbdab212673dde9d9c2": {
      "model_module": "@jupyter-widgets/controls",
      "model_module_version": "1.5.0",
      "model_name": "IntSliderModel",
      "state": {
       "layout": "IPY_MODEL_6f61d38602ab48c99433e3781eb758c8",
       "max": 200,
       "step": 5,
       "style": "IPY_MODEL_e55b74def13c4de888fb4254cc1f7616",
       "value": 10
      }
     },
     "68893b25d57d40579d9765436a355994": {
      "model_module": "@jupyter-widgets/controls",
      "model_module_version": "1.5.0",
      "model_name": "TabModel",
      "state": {
       "_titles": {
        "0": "Parameters",
        "1": "Hide"
       },
       "children": [
        "IPY_MODEL_33da465bee454a7eaa4e0b693863fb12",
        "IPY_MODEL_028040f91e684a3f8753b819f00dcbfc"
       ],
       "layout": "IPY_MODEL_686202dc6c3f4b6c977afbe770f25d38",
       "selected_index": 1
      }
     },
     "688dcb8525204b7ab1312c4b3406722e": {
      "model_module": "@jupyter-widgets/base",
      "model_module_version": "1.2.0",
      "model_name": "LayoutModel",
      "state": {
       "display": "none"
      }
     },
     "68a225e3d7324bf68662afc24f95e6a9": {
      "model_module": "@jupyter-widgets/base",
      "model_module_version": "1.2.0",
      "model_name": "LayoutModel",
      "state": {}
     },
     "68a65aab94e64a1bad764fd2dac17d97": {
      "model_module": "@jupyter-widgets/base",
      "model_module_version": "1.2.0",
      "model_name": "LayoutModel",
      "state": {}
     },
     "68ee0260b83d433eb88f86fff8115ce6": {
      "model_module": "@jupyter-widgets/base",
      "model_module_version": "1.2.0",
      "model_name": "LayoutModel",
      "state": {
       "width": "200px"
      }
     },
     "690a8bcc934045ba9fec40cfc6630444": {
      "model_module": "@jupyter-widgets/controls",
      "model_module_version": "1.5.0",
      "model_name": "DescriptionStyleModel",
      "state": {
       "description_width": ""
      }
     },
     "690b935c591549a593c8297ce3d69906": {
      "model_module": "@jupyter-widgets/base",
      "model_module_version": "1.2.0",
      "model_name": "LayoutModel",
      "state": {}
     },
     "696fee4ac35e4609893e859222535bb0": {
      "model_module": "@jupyter-widgets/controls",
      "model_module_version": "1.5.0",
      "model_name": "LabelModel",
      "state": {
       "layout": "IPY_MODEL_66666f2c659146489b451d2ee861c609",
       "style": "IPY_MODEL_7b5bdc6b8e764466a80f1e87052a40a7",
       "value": "clip_dist"
      }
     },
     "69c8edb5ac594ee7a74d507dba9dcca4": {
      "model_module": "@jupyter-widgets/controls",
      "model_module_version": "1.5.0",
      "model_name": "HBoxModel",
      "state": {
       "children": [
        "IPY_MODEL_f434c67579084c89b29eb77886cb8699",
        "IPY_MODEL_0e35309c9de24b80ac86f70f5ec382ec"
       ],
       "layout": "IPY_MODEL_b714f99e73f548ce939ac90d88a35d94"
      }
     },
     "69efcf7744364d4992903e0e74c5d136": {
      "model_module": "@jupyter-widgets/controls",
      "model_module_version": "1.5.0",
      "model_name": "DescriptionStyleModel",
      "state": {
       "description_width": ""
      }
     },
     "6a2cba6ed8eb4063a7b24f8107d4d2a7": {
      "model_module": "@jupyter-widgets/base",
      "model_module_version": "1.2.0",
      "model_name": "LayoutModel",
      "state": {}
     },
     "6a39ceee2d74403dbe46539c6effdcaf": {
      "model_module": "@jupyter-widgets/base",
      "model_module_version": "1.2.0",
      "model_name": "LayoutModel",
      "state": {}
     },
     "6bb5a363d81740aabfa855b7fd8ac0f0": {
      "model_module": "@jupyter-widgets/controls",
      "model_module_version": "1.5.0",
      "model_name": "SliderStyleModel",
      "state": {
       "description_width": ""
      }
     },
     "6bd6396861b24721a75c1d2a35fa2d52": {
      "model_module": "@jupyter-widgets/controls",
      "model_module_version": "1.5.0",
      "model_name": "DescriptionStyleModel",
      "state": {
       "description_width": ""
      }
     },
     "6c8c7d628aad4d2c87c6452ee26177fa": {
      "model_module": "@jupyter-widgets/base",
      "model_module_version": "1.2.0",
      "model_name": "LayoutModel",
      "state": {
       "width": "200px"
      }
     },
     "6cc3fbca14fa4437a680bb93667a27c5": {
      "model_module": "@jupyter-widgets/controls",
      "model_module_version": "1.5.0",
      "model_name": "DescriptionStyleModel",
      "state": {
       "description_width": ""
      }
     },
     "6cd1f55ac2374a409ccb362c95415c51": {
      "model_module": "@jupyter-widgets/base",
      "model_module_version": "1.2.0",
      "model_name": "LayoutModel",
      "state": {}
     },
     "6cffca068c0d458eb08c0cd904041160": {
      "model_module": "@jupyter-widgets/controls",
      "model_module_version": "1.5.0",
      "model_name": "DropdownModel",
      "state": {
       "_options_labels": [
        "default",
        "AU",
        "BU1",
        "UNITCELL",
        "SUPERCELL"
       ],
       "description": "assembly",
       "index": 0,
       "layout": "IPY_MODEL_767fda01902a440899afdd55c9e83855",
       "style": "IPY_MODEL_cb166734d6f143b0be3cdb0de2332f11"
      }
     },
     "6d14aa50fdaa4e0dbb8d85e793a54778": {
      "model_module": "@jupyter-widgets/controls",
      "model_module_version": "1.5.0",
      "model_name": "DescriptionStyleModel",
      "state": {
       "description_width": ""
      }
     },
     "6d28f4a3924d4a83aa645e3f70a919c1": {
      "model_module": "@jupyter-widgets/controls",
      "model_module_version": "1.5.0",
      "model_name": "IntSliderModel",
      "state": {
       "layout": "IPY_MODEL_01a8955127f94f7dab82f03e533cd933",
       "max": 120,
       "min": 15,
       "style": "IPY_MODEL_e795455775714eaeb448a9c4d9708104",
       "value": 40
      }
     },
     "6e1cfab8a6924038905604e5887c7c13": {
      "model_module": "@jupyter-widgets/controls",
      "model_module_version": "1.5.0",
      "model_name": "BoxModel",
      "state": {
       "children": [
        "IPY_MODEL_66a32fd464044b938fc3fecc41e49e28"
       ],
       "layout": "IPY_MODEL_10ff5a34f34b48a7aa3a1fa007a32448"
      }
     },
     "6e5b9369227d480b9002857db2702715": {
      "model_module": "@jupyter-widgets/controls",
      "model_module_version": "1.5.0",
      "model_name": "SliderStyleModel",
      "state": {
       "description_width": ""
      }
     },
     "6ea7fc67429b4ef1928e409037f54180": {
      "model_module": "@jupyter-widgets/base",
      "model_module_version": "1.2.0",
      "model_name": "LayoutModel",
      "state": {}
     },
     "6eac07f792f5444d9018fbe7de175711": {
      "model_module": "@jupyter-widgets/base",
      "model_module_version": "1.2.0",
      "model_name": "LayoutModel",
      "state": {
       "width": "300px"
      }
     },
     "6f1ebf2853354963bb458b3e3fef9b5c": {
      "model_module": "@jupyter-widgets/controls",
      "model_module_version": "1.5.0",
      "model_name": "IntSliderModel",
      "state": {
       "layout": "IPY_MODEL_b0e469b58627470c911f9e45e757377e",
       "max": 5,
       "min": -1,
       "style": "IPY_MODEL_e45a8313350b485baec8e561ac703ad0",
       "value": 1
      }
     },
     "6f376fe4fcca4860ab514d33c484b8e3": {
      "model_module": "@jupyter-widgets/base",
      "model_module_version": "1.2.0",
      "model_name": "LayoutModel",
      "state": {}
     },
     "6f61d38602ab48c99433e3781eb758c8": {
      "model_module": "@jupyter-widgets/base",
      "model_module_version": "1.2.0",
      "model_name": "LayoutModel",
      "state": {
       "width": "200px"
      }
     },
     "6f7bf61b9527447c9d8b6ccc412e9f7c": {
      "model_module": "@jupyter-widgets/controls",
      "model_module_version": "1.5.0",
      "model_name": "DescriptionStyleModel",
      "state": {
       "description_width": ""
      }
     },
     "6f93c0dce42f438797c626ebe3111d38": {
      "model_module": "@jupyter-widgets/controls",
      "model_module_version": "1.5.0",
      "model_name": "DescriptionStyleModel",
      "state": {
       "description_width": ""
      }
     },
     "6ffeec0a890d4b2bb16ad5ef2d0cfdcb": {
      "model_module": "@jupyter-widgets/base",
      "model_module_version": "1.2.0",
      "model_name": "LayoutModel",
      "state": {}
     },
     "7001d77e3b7c4106b55dba511ba03cdd": {
      "model_module": "@jupyter-widgets/controls",
      "model_module_version": "1.5.0",
      "model_name": "DescriptionStyleModel",
      "state": {
       "description_width": ""
      }
     },
     "700c571a9f0142aeb6dfcc52180fced1": {
      "model_module": "@jupyter-widgets/controls",
      "model_module_version": "1.5.0",
      "model_name": "BoxModel",
      "state": {
       "layout": "IPY_MODEL_250e6b4202e2486aa35f8badd369b3da"
      }
     },
     "7040299cae4f49dab43df5438ceede79": {
      "model_module": "@jupyter-widgets/base",
      "model_module_version": "1.2.0",
      "model_name": "LayoutModel",
      "state": {
       "width": "200px"
      }
     },
     "705cfce6cc0b4c61b10ecdc684fd6aff": {
      "model_module": "@jupyter-widgets/base",
      "model_module_version": "1.2.0",
      "model_name": "LayoutModel",
      "state": {}
     },
     "70b88f1f450641b8acfee89d3850cccd": {
      "model_module": "@jupyter-widgets/controls",
      "model_module_version": "1.5.0",
      "model_name": "VBoxModel",
      "state": {
       "children": [
        "IPY_MODEL_c069827a397842a5b804fa93de22fc11",
        "IPY_MODEL_fb53ccffbe20449198a7a5bf4640106e",
        "IPY_MODEL_83e86609b75446cc9826cd90e6d721d2",
        "IPY_MODEL_00060c68ac864c559d66dfda298f5460",
        "IPY_MODEL_19ea8076f65c40c083c8691cbdc1e075",
        "IPY_MODEL_dab32175795d48f3b7cb9d21bc36e0c6",
        "IPY_MODEL_2ecd58dcbd4047f7b120a211a2cdf1ec",
        "IPY_MODEL_0bda15b3af884b01b0b8fc1b226d3b5b",
        "IPY_MODEL_922a6a0df72744e980f162a937d83b88",
        "IPY_MODEL_68893b25d57d40579d9765436a355994"
       ],
       "layout": "IPY_MODEL_262031203ab447fbaed6ee72618396b5"
      }
     },
     "7104b866d43d406bb254e675a7fa1303": {
      "model_module": "@jupyter-widgets/controls",
      "model_module_version": "1.5.0",
      "model_name": "DescriptionStyleModel",
      "state": {
       "description_width": ""
      }
     },
     "712371504fea422b8a3dceedc2931c8d": {
      "model_module": "@jupyter-widgets/controls",
      "model_module_version": "1.5.0",
      "model_name": "BoxModel",
      "state": {
       "children": [
        "IPY_MODEL_b04a807556b342a1b508109e0998461c",
        "IPY_MODEL_fb53ccffbe20449198a7a5bf4640106e"
       ],
       "layout": "IPY_MODEL_e4a187e988d845c3abf09d7cdf7ffaa4"
      }
     },
     "7162d4d998324cdbaa0e125ffb02b55f": {
      "model_module": "@jupyter-widgets/controls",
      "model_module_version": "1.5.0",
      "model_name": "DescriptionStyleModel",
      "state": {
       "description_width": ""
      }
     },
     "71d64462a4b846678e00033be4b4035d": {
      "model_module": "@jupyter-widgets/base",
      "model_module_version": "1.2.0",
      "model_name": "LayoutModel",
      "state": {}
     },
     "71ece0e1984e4b56b4188c95dc3baf1d": {
      "model_module": "@jupyter-widgets/controls",
      "model_module_version": "1.5.0",
      "model_name": "BoxModel",
      "state": {
       "children": [
        "IPY_MODEL_22be87b742844efeb52d7cdb4d053303",
        "IPY_MODEL_f709beaeaa39481eae89fc3c922a7eb0"
       ],
       "layout": "IPY_MODEL_0fe35860e66f4d738c9e9a1db0ca082f"
      }
     },
     "71f85d9a1bd249e5bb748919b15ce9c3": {
      "model_module": "@jupyter-widgets/controls",
      "model_module_version": "1.5.0",
      "model_name": "LabelModel",
      "state": {
       "layout": "IPY_MODEL_8568948c83714bf1b1adfad861b71d97",
       "style": "IPY_MODEL_d59e0a90f2974e36900df4b4c35ad427",
       "value": "fog_far"
      }
     },
     "72096a67265f4761b3c3280f60243dc9": {
      "model_module": "@jupyter-widgets/base",
      "model_module_version": "1.2.0",
      "model_name": "LayoutModel",
      "state": {}
     },
     "727fcacc2c39487ab7d76ef3cfeb7e7b": {
      "model_module": "@jupyter-widgets/controls",
      "model_module_version": "1.5.0",
      "model_name": "BoxModel",
      "state": {
       "children": [
        "IPY_MODEL_58a3e5d345464d29b31c9eaf9c29bfff"
       ],
       "layout": "IPY_MODEL_f12c6506257a46d5bd2bed9d1f3be4a7"
      }
     },
     "7289f4c3f9f047fa9d653f75f3524a93": {
      "model_module": "@jupyter-widgets/base",
      "model_module_version": "1.2.0",
      "model_name": "LayoutModel",
      "state": {
       "width": "34px"
      }
     },
     "72aa70aac35a451980bc06047030f5d9": {
      "model_module": "@jupyter-widgets/controls",
      "model_module_version": "1.5.0",
      "model_name": "LabelModel",
      "state": {
       "layout": "IPY_MODEL_c821e91b59b9492aa6239632bd04ce0b",
       "style": "IPY_MODEL_f1f9037821ca407b864dfefc05ff73b1",
       "value": "delay"
      }
     },
     "72b82649d8e74fbb8634bf3c16819295": {
      "model_module": "@jupyter-widgets/controls",
      "model_module_version": "1.5.0",
      "model_name": "ButtonStyleModel",
      "state": {}
     },
     "72c935d97f2c4e4f9ab54d5d91ad4848": {
      "model_module": "@jupyter-widgets/controls",
      "model_module_version": "1.5.0",
      "model_name": "BoxModel",
      "state": {
       "children": [
        "IPY_MODEL_a532ea634c71415885dfce961cfa4314",
        "IPY_MODEL_2a3cea2f76e542b58b2fbe60d5d1e4b4"
       ],
       "layout": "IPY_MODEL_49eee7e1b30e4eb1a4e6e1bc48685250"
      }
     },
     "72cd1bce0e7940219ea863f62aed6b5d": {
      "model_module": "@jupyter-widgets/controls",
      "model_module_version": "1.5.0",
      "model_name": "BoxModel",
      "state": {
       "children": [
        "IPY_MODEL_beb289dfb9e14ada9320a18db5b87de0",
        "IPY_MODEL_712371504fea422b8a3dceedc2931c8d",
        "IPY_MODEL_f18dbd1c312e4f50871516c880a8ef44",
        "IPY_MODEL_40a02df9ebb34e349b0d98bed59f0d18",
        "IPY_MODEL_4973f7e90a5d476391b6bbd3567536d0",
        "IPY_MODEL_e7027e9181d24066b3fe9865c7eca7d1",
        "IPY_MODEL_b0e50a9e791449fa913dfe3b413a897c",
        "IPY_MODEL_621ad7f5253b4ad5b0bc7a3b80786ccf",
        "IPY_MODEL_b05938098ef048ac92040b0b3c6d277c",
        "IPY_MODEL_2f53159d889e47f8b6b494bcb3341e8c"
       ],
       "layout": "IPY_MODEL_e3933cfb58574edbb547ebefa61a3a06"
      }
     },
     "72e5a6af7ef7452287c1dd0925c71c59": {
      "model_module": "@jupyter-widgets/controls",
      "model_module_version": "1.5.0",
      "model_name": "LabelModel",
      "state": {
       "layout": "IPY_MODEL_3857f629225341639b689be5053aeb95",
       "style": "IPY_MODEL_2a9b2623c0874e86851e095f687785b4"
      }
     },
     "72f798209dc84c91a634d987921f7a23": {
      "model_module": "@jupyter-widgets/controls",
      "model_module_version": "1.5.0",
      "model_name": "FloatSliderModel",
      "state": {
       "description": "cutoff",
       "layout": "IPY_MODEL_1c640d7e418f4837a3c6b5c5930f6af1",
       "step": 0.1,
       "style": "IPY_MODEL_f3f3f719eb78427098fba16f833a01dc"
      }
     },
     "732c31a73cab4d5580c93c8b788123b8": {
      "model_module": "@jupyter-widgets/controls",
      "model_module_version": "1.5.0",
      "model_name": "DescriptionStyleModel",
      "state": {
       "description_width": ""
      }
     },
     "732dbacc24a64b618a349c1a1d4a4954": {
      "model_module": "@jupyter-widgets/controls",
      "model_module_version": "1.5.0",
      "model_name": "DescriptionStyleModel",
      "state": {
       "description_width": ""
      }
     },
     "7330803afbad4e65ae33003e167f2582": {
      "model_module": "@jupyter-widgets/controls",
      "model_module_version": "1.5.0",
      "model_name": "LinkModel",
      "state": {
       "source": [
        "IPY_MODEL_f434c67579084c89b29eb77886cb8699",
        "value"
       ],
       "target": [
        "IPY_MODEL_42b51c1578ad4b4b915efd65dd071c56",
        "frame"
       ]
      }
     },
     "73a0adb4d8d045e3aec70d5f04a4a709": {
      "model_module": "@jupyter-widgets/controls",
      "model_module_version": "1.5.0",
      "model_name": "DescriptionStyleModel",
      "state": {
       "description_width": ""
      }
     },
     "751cb009b9d747e69c866235e7e8a7d0": {
      "model_module": "@jupyter-widgets/base",
      "model_module_version": "1.2.0",
      "model_name": "LayoutModel",
      "state": {}
     },
     "752455e2abe1468fb92cc10fb763fab6": {
      "model_module": "@jupyter-widgets/controls",
      "model_module_version": "1.5.0",
      "model_name": "IntSliderModel",
      "state": {
       "layout": "IPY_MODEL_47fc80bd018c46f49536e596896a0c80",
       "max": 0,
       "style": "IPY_MODEL_ef7462d626b543ae81d97f1c30ab369b"
      }
     },
     "75fe80682291433b917842c08806aede": {
      "model_module": "@jupyter-widgets/controls",
      "model_module_version": "1.5.0",
      "model_name": "DescriptionStyleModel",
      "state": {
       "description_width": ""
      }
     },
     "76264734c0c44c1bb0ae840c6aa6a1f9": {
      "model_module": "@jupyter-widgets/controls",
      "model_module_version": "1.5.0",
      "model_name": "ButtonStyleModel",
      "state": {}
     },
     "7648d4b2c5e54c9baca99d1821212423": {
      "model_module": "@jupyter-widgets/controls",
      "model_module_version": "1.5.0",
      "model_name": "DescriptionStyleModel",
      "state": {
       "description_width": ""
      }
     },
     "766d39561e184ec89fcfea2eda98549f": {
      "model_module": "@jupyter-widgets/base",
      "model_module_version": "1.2.0",
      "model_name": "LayoutModel",
      "state": {
       "width": "200px"
      }
     },
     "767fda01902a440899afdd55c9e83855": {
      "model_module": "@jupyter-widgets/base",
      "model_module_version": "1.2.0",
      "model_name": "LayoutModel",
      "state": {}
     },
     "768c15ed2e884ace87b6b89f2371cfd0": {
      "model_module": "@jupyter-widgets/controls",
      "model_module_version": "1.5.0",
      "model_name": "CheckboxModel",
      "state": {
       "description": "reprlist",
       "disabled": false,
       "layout": "IPY_MODEL_50c7a57944ef4acd82934ae19f92ae3a",
       "style": "IPY_MODEL_e6adab9a26054bda90950ba7a38cc1e4",
       "value": false
      }
     },
     "76c2dcc45e6641ee8a2143d72ee138eb": {
      "model_module": "@jupyter-widgets/base",
      "model_module_version": "1.2.0",
      "model_name": "LayoutModel",
      "state": {}
     },
     "76f3ff0147034d8f95dd8f7b69e2469c": {
      "model_module": "@jupyter-widgets/controls",
      "model_module_version": "1.5.0",
      "model_name": "BoxModel",
      "state": {
       "children": [
        "IPY_MODEL_5b72e1021226400abfa1aff3a9a2007f",
        "IPY_MODEL_4c23f78cb6894d2b804108d2b23c422d",
        "IPY_MODEL_cdbabf4d388943f8a86dbfedb2e40229",
        "IPY_MODEL_48066aa627c143119e504da9bf79cfc8",
        "IPY_MODEL_bf4f0a86b4b64f99aefe4574bd367fa5"
       ],
       "layout": "IPY_MODEL_667f67df2cf24d2d8d0495cbf25a75f2"
      }
     },
     "777d6dd7b99b47658f238d8ab01ef6ee": {
      "model_module": "@jupyter-widgets/controls",
      "model_module_version": "1.5.0",
      "model_name": "ButtonModel",
      "state": {
       "description": "Reset",
       "layout": "IPY_MODEL_b1d11ff75fce4142baf345a597f0340c",
       "style": "IPY_MODEL_1e773d1443b348f8aeb6b3674a24c50a"
      }
     },
     "77a18c2a9fdd45529c1f1b0ebf3b3e5a": {
      "model_module": "@jupyter-widgets/controls",
      "model_module_version": "1.5.0",
      "model_name": "SliderStyleModel",
      "state": {
       "description_width": ""
      }
     },
     "77b329755e504661ade36429b8a2a988": {
      "model_module": "@jupyter-widgets/base",
      "model_module_version": "1.2.0",
      "model_name": "LayoutModel",
      "state": {}
     },
     "77ddefb573b9487ebbcadc75ffc2e3e2": {
      "model_module": "@jupyter-widgets/base",
      "model_module_version": "1.2.0",
      "model_name": "LayoutModel",
      "state": {
       "width": "200px"
      }
     },
     "77fa023c743d46e1b403b70f8da7e8ee": {
      "model_module": "@jupyter-widgets/base",
      "model_module_version": "1.2.0",
      "model_name": "LayoutModel",
      "state": {}
     },
     "7802694be5da4430b9c32535920cee8b": {
      "model_module": "@jupyter-widgets/controls",
      "model_module_version": "1.5.0",
      "model_name": "DropdownModel",
      "state": {
       "_options_labels": [
        "vws",
        "sas",
        "ms",
        "ses"
       ],
       "description": "surface_type",
       "index": 2,
       "layout": "IPY_MODEL_819b5637e13a46bfb93ddccbcbb04e20",
       "style": "IPY_MODEL_faf6082fd5494eb18d543186eaddf7ab"
      }
     },
     "78378e1d39b94ba7a168d93abd0492ee": {
      "model_module": "@jupyter-widgets/controls",
      "model_module_version": "1.5.0",
      "model_name": "SliderStyleModel",
      "state": {
       "description_width": ""
      }
     },
     "783b05bda02a4bc592751ec5d62cbf49": {
      "model_module": "@jupyter-widgets/controls",
      "model_module_version": "1.5.0",
      "model_name": "HBoxModel",
      "state": {
       "children": [
        "IPY_MODEL_f98da36815684debb718816e212afdb0"
       ],
       "layout": "IPY_MODEL_11d52bc4999348a694d545c0a57bcc8b"
      }
     },
     "783ff387f44c4918ac75725dd118e986": {
      "model_module": "@jupyter-widgets/controls",
      "model_module_version": "1.5.0",
      "model_name": "BoxModel",
      "state": {
       "children": [
        "IPY_MODEL_6186a0e541044f3a9fbc147cc58f4548",
        "IPY_MODEL_9a99fbf8388941a18f0def536df59175"
       ],
       "layout": "IPY_MODEL_49eee7e1b30e4eb1a4e6e1bc48685250"
      }
     },
     "788f5b66148c40c48b61d9b1894cb0ea": {
      "model_module": "@jupyter-widgets/controls",
      "model_module_version": "1.5.0",
      "model_name": "SliderStyleModel",
      "state": {
       "description_width": ""
      }
     },
     "78c8939143684f829d57f29d7245dcbf": {
      "model_module": "@jupyter-widgets/controls",
      "model_module_version": "1.5.0",
      "model_name": "DescriptionStyleModel",
      "state": {
       "description_width": ""
      }
     },
     "78fe665a6d2547048eeb58b5e4205c2c": {
      "model_module": "@jupyter-widgets/controls",
      "model_module_version": "1.5.0",
      "model_name": "CheckboxModel",
      "state": {
       "disabled": false,
       "layout": "IPY_MODEL_f87fca8f99b74aaba64211d9ae425146",
       "style": "IPY_MODEL_f206d33cd95c44dda4519baaa00a4815",
       "value": true
      }
     },
     "79045a19dd1a4054a7643cd6b7af5db0": {
      "model_module": "@jupyter-widgets/controls",
      "model_module_version": "1.5.0",
      "model_name": "LabelModel",
      "state": {
       "layout": "IPY_MODEL_5a4629065bcf4ca98319581816628c57",
       "style": "IPY_MODEL_fc8f8fcb98184e28aee9599d9873943f",
       "value": "impostor"
      }
     },
     "796782c446ba480db6c0729d58fed5fa": {
      "model_module": "@jupyter-widgets/controls",
      "model_module_version": "1.5.0",
      "model_name": "TabModel",
      "state": {
       "_titles": {
        "0": "General",
        "1": "Representation",
        "2": "Preference",
        "3": "Extra"
       },
       "children": [
        "IPY_MODEL_56bd48f7bbf8413f905772fef0d96b2d",
        "IPY_MODEL_727fcacc2c39487ab7d76ef3cfeb7e7b",
        "IPY_MODEL_11dcaad9bd4b438497453f5d6d64d035",
        "IPY_MODEL_5bfd878036fa44b185560d6c2d0e2911"
       ],
       "layout": "IPY_MODEL_31db7aad0c034d66b39e8af416ad16ce"
      }
     },
     "79e2e93f4840496bb3976b77dada8d12": {
      "model_module": "@jupyter-widgets/controls",
      "model_module_version": "1.5.0",
      "model_name": "DropdownModel",
      "state": {
       "_options_labels": [
        " ",
        "picking",
        "random",
        "uniform",
        "atomindex",
        "residueindex",
        "chainindex",
        "modelindex",
        "sstruc",
        "element",
        "resname",
        "bfactor",
        "hydrophobicity",
        "value",
        "volume",
        "occupancy"
       ],
       "description": "color_scheme",
       "index": 0,
       "layout": "IPY_MODEL_d5846d237b3d489d8896e47bfb844aa0",
       "style": "IPY_MODEL_eb70e82454d2471cbb24cdd690e99616"
      }
     },
     "7a14de6c078046fa89a61c1ca7401e79": {
      "model_module": "@jupyter-widgets/controls",
      "model_module_version": "1.5.0",
      "model_name": "IntSliderModel",
      "state": {
       "layout": "IPY_MODEL_a7e4f35ee2294ce0a73155131bff8365",
       "min": -100,
       "style": "IPY_MODEL_163a3e70ac4a4ed5933361035bd431a1",
       "value": 1
      }
     },
     "7a7a9156b9fb44a8a3fbed4f5aee1e38": {
      "model_module": "@jupyter-widgets/base",
      "model_module_version": "1.2.0",
      "model_name": "LayoutModel",
      "state": {
       "width": "200px"
      }
     },
     "7a8f27ad03ce447cabc8fb6fb62dd0dc": {
      "model_module": "@jupyter-widgets/controls",
      "model_module_version": "1.5.0",
      "model_name": "TextModel",
      "state": {
       "layout": "IPY_MODEL_dc196728c99a4a83adc0ad46f11b0c44",
       "style": "IPY_MODEL_b8bf6f4aba32477bbaf1386c18c9dbde",
       "value": "*"
      }
     },
     "7abf61c8aa0d44c2a3bf97d8ba927e99": {
      "model_module": "@jupyter-widgets/base",
      "model_module_version": "1.2.0",
      "model_name": "LayoutModel",
      "state": {
       "display": "none"
      }
     },
     "7ae343c38b30428ebbca46575328323a": {
      "model_module": "@jupyter-widgets/base",
      "model_module_version": "1.2.0",
      "model_name": "LayoutModel",
      "state": {
       "align_items": "stretch",
       "display": "flex",
       "flex_flow": "column",
       "width": "100%"
      }
     },
     "7b5bdc6b8e764466a80f1e87052a40a7": {
      "model_module": "@jupyter-widgets/controls",
      "model_module_version": "1.5.0",
      "model_name": "DescriptionStyleModel",
      "state": {
       "description_width": ""
      }
     },
     "7c3bbeb8515c40b690af27d626aaa623": {
      "model_module": "@jupyter-widgets/base",
      "model_module_version": "1.2.0",
      "model_name": "LayoutModel",
      "state": {}
     },
     "7c5beec4d7d841f98eedb511f8da1a2b": {
      "model_module": "@jupyter-widgets/controls",
      "model_module_version": "1.5.0",
      "model_name": "DescriptionStyleModel",
      "state": {
       "description_width": ""
      }
     },
     "7c6efde7af0e4b17a4f07881eefa9908": {
      "model_module": "@jupyter-widgets/controls",
      "model_module_version": "1.5.0",
      "model_name": "IntSliderModel",
      "state": {
       "layout": "IPY_MODEL_051fc7cc77dd4851b756a42536c05ba4",
       "max": 1000,
       "min": 10,
       "style": "IPY_MODEL_a31e8b70d3c84ce4a45645acd1e230a3",
       "value": 100
      }
     },
     "7c8a17583ee644f393bb7c75adf58e2a": {
      "model_module": "@jupyter-widgets/controls",
      "model_module_version": "1.5.0",
      "model_name": "LabelModel",
      "state": {
       "layout": "IPY_MODEL_076745bf55c64e4b91a63e3ae14b438f",
       "style": "IPY_MODEL_e1dc606da8664e17a1b757a7ffdb6c59",
       "value": "light_intensity"
      }
     },
     "7ca89507cae84ac0af2e0fa8a5f92f0b": {
      "model_module": "@jupyter-widgets/base",
      "model_module_version": "1.2.0",
      "model_name": "LayoutModel",
      "state": {}
     },
     "7d5af0717fa0436c8e546d75d063443f": {
      "model_module": "@jupyter-widgets/controls",
      "model_module_version": "1.5.0",
      "model_name": "DescriptionStyleModel",
      "state": {
       "description_width": ""
      }
     },
     "7e4f49f3d4f04e90964e9aeb0e073eaa": {
      "model_module": "@jupyter-widgets/controls",
      "model_module_version": "1.5.0",
      "model_name": "SliderStyleModel",
      "state": {
       "description_width": ""
      }
     },
     "7e6e0310e8764580a325cd0f9b3a8fc1": {
      "model_module": "@jupyter-widgets/base",
      "model_module_version": "1.2.0",
      "model_name": "LayoutModel",
      "state": {}
     },
     "7e754fcc927b48f1a3e378c01df2e5f8": {
      "model_module": "@jupyter-widgets/controls",
      "model_module_version": "1.5.0",
      "model_name": "DescriptionStyleModel",
      "state": {
       "description_width": ""
      }
     },
     "7ebad3a2c5df47428a2c400ed3f98ec3": {
      "model_module": "@jupyter-widgets/controls",
      "model_module_version": "1.5.0",
      "model_name": "SliderStyleModel",
      "state": {
       "description_width": ""
      }
     },
     "7ed546cde3974e4c9571b333cfa61715": {
      "model_module": "@jupyter-widgets/controls",
      "model_module_version": "1.5.0",
      "model_name": "IntSliderModel",
      "state": {
       "layout": "IPY_MODEL_7a7a9156b9fb44a8a3fbed4f5aee1e38",
       "style": "IPY_MODEL_0c68c71cdf1a4d8a8ab6247de224ebe5"
      }
     },
     "7ef8271692684cbca0ef30a65c7dbd49": {
      "model_module": "@jupyter-widgets/controls",
      "model_module_version": "1.5.0",
      "model_name": "DescriptionStyleModel",
      "state": {
       "description_width": ""
      }
     },
     "7f22cb153ebe4a5f8bc88b5beb0f5684": {
      "model_module": "@jupyter-widgets/base",
      "model_module_version": "1.2.0",
      "model_name": "LayoutModel",
      "state": {}
     },
     "7f2e517845974329ac5470e2bd693579": {
      "model_module": "@jupyter-widgets/controls",
      "model_module_version": "1.5.0",
      "model_name": "VBoxModel",
      "state": {
       "children": [
        "IPY_MODEL_436211c8423a4f37862cff4ea2194c55",
        "IPY_MODEL_65b9b55ee24647eab4e5ba3c897e3198",
        "IPY_MODEL_e390965d700a4b239831ff34527dd347",
        "IPY_MODEL_44ebcd66be2741d5acf40adb5f57d4ac",
        "IPY_MODEL_18361fedf547469b9eb4e312e81862b5"
       ],
       "layout": "IPY_MODEL_4c5a87bb6bd84cee9cc45e1748aaa18d"
      }
     },
     "7ff66a80b4414ae881393bd57fbfde54": {
      "model_module": "@jupyter-widgets/base",
      "model_module_version": "1.2.0",
      "model_name": "LayoutModel",
      "state": {
       "width": "200px"
      }
     },
     "80785ab5334d4f228f031fb367b8e5b3": {
      "model_module": "@jupyter-widgets/controls",
      "model_module_version": "1.5.0",
      "model_name": "ButtonModel",
      "state": {
       "description": " Center",
       "icon": "bullseye",
       "layout": "IPY_MODEL_df6fbc550c504b4cb703c02918ed2cb2",
       "style": "IPY_MODEL_76264734c0c44c1bb0ae840c6aa6a1f9"
      }
     },
     "808e0a100ea14b72ac09173215305379": {
      "model_module": "@jupyter-widgets/controls",
      "model_module_version": "1.5.0",
      "model_name": "DescriptionStyleModel",
      "state": {
       "description_width": ""
      }
     },
     "80a00fabe2ad4d62bdec1376c62ef0af": {
      "model_module": "@jupyter-widgets/controls",
      "model_module_version": "1.5.0",
      "model_name": "LabelModel",
      "state": {
       "layout": "IPY_MODEL_a6d0c2ce774244888fd2c11774da5ca6",
       "style": "IPY_MODEL_10d0ec6ac803425f9353f1aa76ed6c25",
       "value": "step"
      }
     },
     "80a46e3f71c04af4acf3048c246fbb33": {
      "model_module": "@jupyter-widgets/base",
      "model_module_version": "1.2.0",
      "model_name": "LayoutModel",
      "state": {}
     },
     "8155d80ac0874d67a1c9bab3e3815ea6": {
      "model_module": "@jupyter-widgets/base",
      "model_module_version": "1.2.0",
      "model_name": "LayoutModel",
      "state": {}
     },
     "818e92b01be042539a7376061ab7b052": {
      "model_module": "@jupyter-widgets/base",
      "model_module_version": "1.2.0",
      "model_name": "LayoutModel",
      "state": {}
     },
     "81951bbaa6374cd4ac6e0dafe93bfb86": {
      "model_module": "@jupyter-widgets/controls",
      "model_module_version": "1.5.0",
      "model_name": "LabelModel",
      "state": {
       "layout": "IPY_MODEL_bbd3df98d39b45f7b0d8693861ff0a80",
       "style": "IPY_MODEL_73a0adb4d8d045e3aec70d5f04a4a709",
       "value": "fog_near"
      }
     },
     "819b5637e13a46bfb93ddccbcbb04e20": {
      "model_module": "@jupyter-widgets/base",
      "model_module_version": "1.2.0",
      "model_name": "LayoutModel",
      "state": {
       "display": "none"
      }
     },
     "81e647a7c7ff457586d29e2d2c0f65a7": {
      "model_module": "@jupyter-widgets/base",
      "model_module_version": "1.2.0",
      "model_name": "LayoutModel",
      "state": {
       "width": "34px"
      }
     },
     "821e7f6590c6428594f61d55d4eb2446": {
      "model_module": "@jupyter-widgets/controls",
      "model_module_version": "1.5.0",
      "model_name": "BoxModel",
      "state": {
       "children": [
        "IPY_MODEL_a60dfcdc5d9542b38c9b6c84fddb00ce",
        "IPY_MODEL_44ebcd66be2741d5acf40adb5f57d4ac"
       ],
       "layout": "IPY_MODEL_10e2f5f21d234c2e91cfa8625c565cb9"
      }
     },
     "82bc47305e1c448890aff4b5debf9274": {
      "model_module": "@jupyter-widgets/controls",
      "model_module_version": "1.5.0",
      "model_name": "BoxModel",
      "state": {
       "children": [
        "IPY_MODEL_fc1f1022b1134b5abe1113ba5ec66bdc"
       ],
       "layout": "IPY_MODEL_eb69a8e03cf44b96825e4be413fff080"
      }
     },
     "83121b066a7848968b5fe94e5239e956": {
      "model_module": "@jupyter-widgets/base",
      "model_module_version": "1.2.0",
      "model_name": "LayoutModel",
      "state": {}
     },
     "8354372e12fe4b5bacce04a12f6b81e1": {
      "model_module": "@jupyter-widgets/controls",
      "model_module_version": "1.5.0",
      "model_name": "BoxModel",
      "state": {
       "children": [
        "IPY_MODEL_373a2b4017fd42b3bce731daee57da8e",
        "IPY_MODEL_e1277287d2694bd6b3dce91df208a6ea"
       ],
       "layout": "IPY_MODEL_a233bad3a88046ccb196b8a0ae53fd3f"
      }
     },
     "83c21b07870f474d9b73d2accc412a57": {
      "model_module": "@jupyter-widgets/base",
      "model_module_version": "1.2.0",
      "model_name": "LayoutModel",
      "state": {}
     },
     "83e86609b75446cc9826cd90e6d721d2": {
      "model_module": "@jupyter-widgets/controls",
      "model_module_version": "1.5.0",
      "model_name": "HBoxModel",
      "state": {
       "children": [
        "IPY_MODEL_274a73a61afd4bcc985e9707bfe4fb21",
        "IPY_MODEL_9cc03a07fbb842728aa688f45fb3ceb8",
        "IPY_MODEL_7a8f27ad03ce447cabc8fb6fb62dd0dc"
       ],
       "layout": "IPY_MODEL_11ae584cee95439b9142834cc9023e88"
      }
     },
     "84673dde8ee8417fa0af39032b90ff71": {
      "model_module": "@jupyter-widgets/base",
      "model_module_version": "1.2.0",
      "model_name": "LayoutModel",
      "state": {}
     },
     "84a615e130c744dbb8c1c6346750116d": {
      "model_module": "@jupyter-widgets/controls",
      "model_module_version": "1.5.0",
      "model_name": "DescriptionStyleModel",
      "state": {
       "description_width": ""
      }
     },
     "84ba706ce00043e784f5eec4a67255d3": {
      "model_module": "@jupyter-widgets/base",
      "model_module_version": "1.2.0",
      "model_name": "LayoutModel",
      "state": {}
     },
     "85232c56c13a4f4c9b5a0a5f592fa4a5": {
      "model_module": "@jupyter-widgets/base",
      "model_module_version": "1.2.0",
      "model_name": "LayoutModel",
      "state": {}
     },
     "8568948c83714bf1b1adfad861b71d97": {
      "model_module": "@jupyter-widgets/base",
      "model_module_version": "1.2.0",
      "model_name": "LayoutModel",
      "state": {}
     },
     "857a78dde8b74b87bd25cd233971ce1e": {
      "model_module": "@jupyter-widgets/base",
      "model_module_version": "1.2.0",
      "model_name": "LayoutModel",
      "state": {
       "align_items": "stretch",
       "display": "flex",
       "flex_flow": "column",
       "width": "100%"
      }
     },
     "85c58f2982f0401f8d8a0614b3740856": {
      "model_module": "@jupyter-widgets/controls",
      "model_module_version": "1.5.0",
      "model_name": "DescriptionStyleModel",
      "state": {
       "description_width": ""
      }
     },
     "85e3934313bd4739a87f5dcc140c344a": {
      "model_module": "@jupyter-widgets/controls",
      "model_module_version": "1.5.0",
      "model_name": "ButtonModel",
      "state": {
       "icon": "compress",
       "layout": "IPY_MODEL_b8187ddf911f47b59ef55769ed4f1195",
       "style": "IPY_MODEL_5878231d7da346b68f4aa7eb7cf54fe0"
      }
     },
     "85ee5a7a5e4d47b59f21f0f45ffeffc7": {
      "model_module": "@jupyter-widgets/controls",
      "model_module_version": "1.5.0",
      "model_name": "LinkModel",
      "state": {
       "source": [
        "IPY_MODEL_f434c67579084c89b29eb77886cb8699",
        "value"
       ],
       "target": [
        "IPY_MODEL_0e35309c9de24b80ac86f70f5ec382ec",
        "value"
       ]
      }
     },
     "861e51a8f4884e2eb7a4304b28fc649e": {
      "model_module": "@jupyter-widgets/controls",
      "model_module_version": "1.5.0",
      "model_name": "DescriptionStyleModel",
      "state": {
       "description_width": ""
      }
     },
     "8690fa7921a644be88be98ea2a61c462": {
      "model_module": "@jupyter-widgets/controls",
      "model_module_version": "1.5.0",
      "model_name": "ButtonStyleModel",
      "state": {}
     },
     "86ae16a92e4746cc96777603706dd152": {
      "model_module": "@jupyter-widgets/base",
      "model_module_version": "1.2.0",
      "model_name": "LayoutModel",
      "state": {}
     },
     "87bcd1a17a4b426682254a9f72b10d8d": {
      "model_module": "@jupyter-widgets/base",
      "model_module_version": "1.2.0",
      "model_name": "LayoutModel",
      "state": {}
     },
     "87ccb643b3f5444cbe433d225576ae5c": {
      "model_module": "@jupyter-widgets/base",
      "model_module_version": "1.2.0",
      "model_name": "LayoutModel",
      "state": {}
     },
     "87cf7b154e4d4ffb985795ea34c90658": {
      "model_module": "@jupyter-widgets/controls",
      "model_module_version": "1.5.0",
      "model_name": "ButtonModel",
      "state": {
       "description": " Screenshot",
       "icon": "camera",
       "layout": "IPY_MODEL_af1796eb32454067a2a248a30c58284f",
       "style": "IPY_MODEL_72b82649d8e74fbb8634bf3c16819295"
      }
     },
     "889ce96e52c940e7a5bc36a754ec602d": {
      "model_module": "@jupyter-widgets/base",
      "model_module_version": "1.2.0",
      "model_name": "LayoutModel",
      "state": {}
     },
     "88e975848b9241bf91a0e47729dfc5ef": {
      "model_module": "@jupyter-widgets/controls",
      "model_module_version": "1.5.0",
      "model_name": "BoxModel",
      "state": {
       "children": [
        "IPY_MODEL_de0eea3b80e14602bb6655f699c566e4",
        "IPY_MODEL_e390965d700a4b239831ff34527dd347"
       ],
       "layout": "IPY_MODEL_10e2f5f21d234c2e91cfa8625c565cb9"
      }
     },
     "88ffb952e4b843a5a570a423c655623e": {
      "model_module": "@jupyter-widgets/base",
      "model_module_version": "1.2.0",
      "model_name": "LayoutModel",
      "state": {
       "display": "none"
      }
     },
     "89719290375e4f3190c7223873d95678": {
      "model_module": "@jupyter-widgets/controls",
      "model_module_version": "1.5.0",
      "model_name": "DescriptionStyleModel",
      "state": {
       "description_width": ""
      }
     },
     "89c4518fe3244fe7aa862a520a668755": {
      "model_module": "@jupyter-widgets/controls",
      "model_module_version": "1.5.0",
      "model_name": "BoxModel",
      "state": {
       "children": [
        "IPY_MODEL_980df6adb9dd47778cb46283fe666e5c",
        "IPY_MODEL_3bd453c94e4a48629ea619bd07eeb21b"
       ],
       "layout": "IPY_MODEL_5fe77ce63d73496aa4dc3956a2405e64"
      }
     },
     "8a1fbe3912534fb9a71dea4858be044b": {
      "model_module": "@jupyter-widgets/base",
      "model_module_version": "1.2.0",
      "model_name": "LayoutModel",
      "state": {}
     },
     "8a99c67a418f49bc9d33aed43b8b0eaa": {
      "model_module": "@jupyter-widgets/base",
      "model_module_version": "1.2.0",
      "model_name": "LayoutModel",
      "state": {}
     },
     "8ac14adb1f7849a29896a577d4b1ca89": {
      "model_module": "@jupyter-widgets/base",
      "model_module_version": "1.2.0",
      "model_name": "LayoutModel",
      "state": {}
     },
     "8af522f05eab478599c46d5f6e991e43": {
      "model_module": "@jupyter-widgets/base",
      "model_module_version": "1.2.0",
      "model_name": "LayoutModel",
      "state": {}
     },
     "8b049dbb2e8c4c1fba98c76850644604": {
      "model_module": "@jupyter-widgets/controls",
      "model_module_version": "1.5.0",
      "model_name": "FloatSliderModel",
      "state": {
       "description": "probe_radius",
       "layout": "IPY_MODEL_f81057dace684a269dc0ccab7690a2de",
       "max": 5,
       "step": 0.1,
       "style": "IPY_MODEL_952aad251042449db726d427123b5fc8",
       "value": 1.4
      }
     },
     "8b195a183ec0456ca066b0a97d25d0cb": {
      "model_module": "@jupyter-widgets/base",
      "model_module_version": "1.2.0",
      "model_name": "LayoutModel",
      "state": {}
     },
     "8b322a5ab13a4a72b714e6809b4bc682": {
      "model_module": "@jupyter-widgets/controls",
      "model_module_version": "1.5.0",
      "model_name": "BoxModel",
      "state": {
       "children": [
        "IPY_MODEL_c804ee417a0244e18bd676d41584c608",
        "IPY_MODEL_41a1fe03524640a8b0fcabbd25e60e95"
       ],
       "layout": "IPY_MODEL_9cc64084756c487d9dee49febfd27ff2"
      }
     },
     "8bc55ee0a2474d06bb3a70e442b8dc4f": {
      "model_module": "@jupyter-widgets/controls",
      "model_module_version": "1.5.0",
      "model_name": "LabelModel",
      "state": {
       "layout": "IPY_MODEL_04701bfae6114f48a5abfb33e35beaf1",
       "style": "IPY_MODEL_732c31a73cab4d5580c93c8b788123b8",
       "value": "camera"
      }
     },
     "8bc9c9bf7bba4578ab31c33e59838e56": {
      "model_module": "@jupyter-widgets/controls",
      "model_module_version": "1.5.0",
      "model_name": "SliderStyleModel",
      "state": {
       "description_width": ""
      }
     },
     "8bef7957b7f1461db8eb9f744747dbd5": {
      "model_module": "@jupyter-widgets/base",
      "model_module_version": "1.2.0",
      "model_name": "LayoutModel",
      "state": {}
     },
     "8bfc4237c5cc47e3b894dddc9ee0e8e7": {
      "model_module": "@jupyter-widgets/base",
      "model_module_version": "1.2.0",
      "model_name": "LayoutModel",
      "state": {
       "width": "200px"
      }
     },
     "8d40034779d94abfa92778eaa7880a73": {
      "model_module": "@jupyter-widgets/controls",
      "model_module_version": "1.5.0",
      "model_name": "ButtonModel",
      "state": {
       "description": "Hide",
       "icon": "eye-slash",
       "layout": "IPY_MODEL_386fefb79a2d4e148191f01df83bf94b",
       "style": "IPY_MODEL_f15d3931bcb44125b7c57fe426affbfd",
       "tooltip": "Hide/Show current representation"
      }
     },
     "8d6751d3d1ea43f2a0ff247b3b9c80f9": {
      "model_module": "@jupyter-widgets/controls",
      "model_module_version": "1.5.0",
      "model_name": "DescriptionStyleModel",
      "state": {
       "description_width": ""
      }
     },
     "8e46b89d4bbc4499978eff7700dfccf9": {
      "model_module": "@jupyter-widgets/controls",
      "model_module_version": "1.5.0",
      "model_name": "DescriptionStyleModel",
      "state": {
       "description_width": ""
      }
     },
     "8e4f85556d524d6c92565bf2d7f49467": {
      "model_module": "@jupyter-widgets/controls",
      "model_module_version": "1.5.0",
      "model_name": "LabelModel",
      "state": {
       "layout": "IPY_MODEL_368a43b22d6d4101adffbe9bd5b27951",
       "style": "IPY_MODEL_5b0965ac7fea4cada430cca36842ce16",
       "value": "sample_level"
      }
     },
     "8f43a30aa79d4199aca9565a2dc97f2a": {
      "model_module": "@jupyter-widgets/controls",
      "model_module_version": "1.5.0",
      "model_name": "IntSliderModel",
      "state": {
       "description": "box_size",
       "layout": "IPY_MODEL_88ffb952e4b843a5a570a423c655623e",
       "step": 2,
       "style": "IPY_MODEL_041015fb88f6457e82bf603c289560cb",
       "value": 10
      }
     },
     "8f6b8ebcc3994cf8865e179815eda5f7": {
      "model_module": "@jupyter-widgets/controls",
      "model_module_version": "1.5.0",
      "model_name": "LabelModel",
      "state": {
       "layout": "IPY_MODEL_f93432c9ab6e4bf988a92ed60f924a11",
       "style": "IPY_MODEL_ec0f689cfed8401ab7fff3f16e6a6237",
       "value": "camera"
      }
     },
     "8ff11bbe1d374b1cb2db69b3e2949a8f": {
      "model_module": "@jupyter-widgets/controls",
      "model_module_version": "1.5.0",
      "model_name": "FloatSliderModel",
      "state": {
       "layout": "IPY_MODEL_68796e0f30a148aea40c025c6a0f7d67",
       "max": 10,
       "step": 0.02,
       "style": "IPY_MODEL_f8de4afa25254b94bce15da8b510fed7",
       "value": 1
      }
     },
     "901070bb78d244babe7f924c9ba21f44": {
      "model_module": "@jupyter-widgets/controls",
      "model_module_version": "1.5.0",
      "model_name": "DescriptionStyleModel",
      "state": {
       "description_width": ""
      }
     },
     "90610a4950d24cf5a63e206d57ad55ae": {
      "model_module": "@jupyter-widgets/controls",
      "model_module_version": "1.5.0",
      "model_name": "BoxModel",
      "state": {
       "children": [
        "IPY_MODEL_783ff387f44c4918ac75725dd118e986",
        "IPY_MODEL_922aea8f1f5441ea9ea4a502934fd2df",
        "IPY_MODEL_c2148e0dbda74fc680fc2e1e4307e446",
        "IPY_MODEL_b8ec61239aea4a90a322b732922ad6f7",
        "IPY_MODEL_72c935d97f2c4e4f9ab54d5d91ad4848"
       ],
       "layout": "IPY_MODEL_857a78dde8b74b87bd25cd233971ce1e"
      }
     },
     "9092024d695a4565b47044984faaff2a": {
      "model_module": "@jupyter-widgets/controls",
      "model_module_version": "1.5.0",
      "model_name": "IntSliderModel",
      "state": {
       "layout": "IPY_MODEL_335f374518824858878a4b9248d507f9",
       "max": 0,
       "style": "IPY_MODEL_6bb5a363d81740aabfa855b7fd8ac0f0"
      }
     },
     "910f67da3d864e55a689d85d5b117f12": {
      "model_module": "@jupyter-widgets/controls",
      "model_module_version": "1.5.0",
      "model_name": "LabelModel",
      "state": {
       "layout": "IPY_MODEL_cbc61b6fa2ab484f95ae3cdcd18a4bdc",
       "style": "IPY_MODEL_25e82473e95642ec8d5fad188c897c08",
       "value": "selection"
      }
     },
     "911f025f4095479985218475ce62ea64": {
      "model_module": "@jupyter-widgets/base",
      "model_module_version": "1.2.0",
      "model_name": "LayoutModel",
      "state": {
       "width": "200px"
      }
     },
     "9164b0809288493d895b22d571f76a39": {
      "model_module": "@jupyter-widgets/controls",
      "model_module_version": "1.5.0",
      "model_name": "DescriptionStyleModel",
      "state": {
       "description_width": ""
      }
     },
     "91d383721d114ed88faaf80fce4ad8c3": {
      "model_module": "@jupyter-widgets/controls",
      "model_module_version": "1.5.0",
      "model_name": "HBoxModel",
      "state": {
       "children": [
        "IPY_MODEL_03d1d4b4a02c431cb29b8deedfeb8ac9",
        "IPY_MODEL_5d7a1d4d40994cfa891ec93e5a08fc8a",
        "IPY_MODEL_bcc409471b5942bda9a78a638f4d6c58",
        "IPY_MODEL_0bc4ffe10b6c40b59473fb11ec1dd6da"
       ],
       "layout": "IPY_MODEL_d08f5d65ae9b461ea65d31d5a1c9f680"
      }
     },
     "91ef68a7f98c4633a564ed9809251f59": {
      "model_module": "@jupyter-widgets/controls",
      "model_module_version": "1.5.0",
      "model_name": "SliderStyleModel",
      "state": {
       "description_width": ""
      }
     },
     "922396816fef4827b85c2a8ab73a0c92": {
      "model_module": "@jupyter-widgets/controls",
      "model_module_version": "1.5.0",
      "model_name": "LabelModel",
      "state": {
       "layout": "IPY_MODEL_fbfc7e85dabf4ad6949c48d5d477f8bf",
       "style": "IPY_MODEL_ec96810ccea1488680fc7223f76d0b32",
       "value": "Picked atom"
      }
     },
     "922a6a0df72744e980f162a937d83b88": {
      "model_module": "@jupyter-widgets/controls",
      "model_module_version": "1.5.0",
      "model_name": "DropdownModel",
      "state": {
       "_options_labels": [
        "0-cartoon",
        "1-base",
        "2-ball+stick"
       ],
       "index": 0,
       "layout": "IPY_MODEL_e08c608617ca48f8a6e18fe594b18627",
       "style": "IPY_MODEL_e7b9747670a0463c9219f27c1d913f77"
      }
     },
     "922aea8f1f5441ea9ea4a502934fd2df": {
      "model_module": "@jupyter-widgets/controls",
      "model_module_version": "1.5.0",
      "model_name": "BoxModel",
      "state": {
       "children": [
        "IPY_MODEL_b10cb63add2a433aa6d5b72b37485772",
        "IPY_MODEL_7c6efde7af0e4b17a4f07881eefa9908"
       ],
       "layout": "IPY_MODEL_49eee7e1b30e4eb1a4e6e1bc48685250"
      }
     },
     "925d8a3eb39e451cb007acdbf4fe53d4": {
      "model_module": "@jupyter-widgets/controls",
      "model_module_version": "1.5.0",
      "model_name": "BoxModel",
      "state": {
       "children": [
        "IPY_MODEL_dfd80b41dc5a437e9847d9202331790c",
        "IPY_MODEL_aa523cd98c004183a3de4fc9948c7a0c"
       ],
       "layout": "IPY_MODEL_0fe35860e66f4d738c9e9a1db0ca082f"
      }
     },
     "935e713c55894a6ba6a9a2c304b18499": {
      "model_module": "@jupyter-widgets/base",
      "model_module_version": "1.2.0",
      "model_name": "LayoutModel",
      "state": {}
     },
     "93838786e9134ccabb2928f48560c22d": {
      "model_module": "@jupyter-widgets/controls",
      "model_module_version": "1.5.0",
      "model_name": "DescriptionStyleModel",
      "state": {
       "description_width": ""
      }
     },
     "939e39e32a5947faba6ded56b6e19753": {
      "model_module": "@jupyter-widgets/controls",
      "model_module_version": "1.5.0",
      "model_name": "BoxModel",
      "state": {
       "children": [
        "IPY_MODEL_b6c7402e1ddc49688e975619d5c82b76",
        "IPY_MODEL_1018b5dc591247859e7ea66a7cb8b47e"
       ],
       "layout": "IPY_MODEL_9736a98bfa114f0ca4a8f8d15e720149"
      }
     },
     "93b32aad21794dad9354c63719973233": {
      "model_module": "@jupyter-widgets/controls",
      "model_module_version": "1.5.0",
      "model_name": "LabelModel",
      "state": {
       "layout": "IPY_MODEL_72096a67265f4761b3c3280f60243dc9",
       "style": "IPY_MODEL_9b916ed362bd4d7cb280958a1dc95d4d",
       "value": "pan_speed"
      }
     },
     "94227ff86702418787564ba50d625581": {
      "model_module": "@jupyter-widgets/base",
      "model_module_version": "1.2.0",
      "model_name": "LayoutModel",
      "state": {
       "flex": "1 1 auto",
       "width": "auto"
      }
     },
     "94e5567af5d14eecb1c71a25e32d864f": {
      "model_module": "@jupyter-widgets/controls",
      "model_module_version": "1.5.0",
      "model_name": "LabelModel",
      "state": {
       "layout": "IPY_MODEL_83c21b07870f474d9b73d2accc412a57",
       "style": "IPY_MODEL_dbf720f095f748968129f64158a9574c",
       "value": "impostor"
      }
     },
     "950491f1ae22490991f69e68d4645e07": {
      "model_module": "@jupyter-widgets/controls",
      "model_module_version": "1.5.0",
      "model_name": "ImageModel",
      "state": {
       "layout": "IPY_MODEL_8155d80ac0874d67a1c9bab3e3815ea6",
       "width": "900.0"
      }
     },
     "95076da05343433f857a810e61b4bab7": {
      "model_module": "@jupyter-widgets/controls",
      "model_module_version": "1.5.0",
      "model_name": "PlayModel",
      "state": {
       "layout": "IPY_MODEL_285f28a1c53642c2923fa09642abf5f3",
       "max": 37,
       "style": "IPY_MODEL_5bfa396dfaaa4ad3b1a5ce1dccbf3896",
       "value": 11
      }
     },
     "9513b7c1234343279c403187d12f4c2c": {
      "model_module": "@jupyter-widgets/controls",
      "model_module_version": "1.5.0",
      "model_name": "DescriptionStyleModel",
      "state": {
       "description_width": ""
      }
     },
     "952aad251042449db726d427123b5fc8": {
      "model_module": "@jupyter-widgets/controls",
      "model_module_version": "1.5.0",
      "model_name": "SliderStyleModel",
      "state": {
       "description_width": ""
      }
     },
     "953a7aa9efa84ea9bfd5808c866f563a": {
      "model_module": "@jupyter-widgets/controls",
      "model_module_version": "1.5.0",
      "model_name": "DropdownModel",
      "state": {
       "_options_labels": [
        "default",
        "AU",
        "BU1",
        "UNITCELL",
        "SUPERCELL"
       ],
       "description": "assembly",
       "index": 0,
       "layout": "IPY_MODEL_641e91a4f5e54588a9303015357fb255",
       "style": "IPY_MODEL_fabdbcd7418b450a9b7713cd5206afe2"
      }
     },
     "95529a7366314e89b5bde85b48696b7a": {
      "model_module": "@jupyter-widgets/base",
      "model_module_version": "1.2.0",
      "model_name": "LayoutModel",
      "state": {}
     },
     "96269c4ff7c7446f93beaef3eb83b77b": {
      "model_module": "@jupyter-widgets/base",
      "model_module_version": "1.2.0",
      "model_name": "LayoutModel",
      "state": {}
     },
     "964ef795289c496a885cb2944abb8c3c": {
      "model_module": "@jupyter-widgets/controls",
      "model_module_version": "1.5.0",
      "model_name": "BoxModel",
      "state": {
       "children": [
        "IPY_MODEL_48819979699b43ff8f03f68ac1168058",
        "IPY_MODEL_7ed546cde3974e4c9571b333cfa61715"
       ],
       "layout": "IPY_MODEL_eb69a8e03cf44b96825e4be413fff080"
      }
     },
     "9661a67cbb4a4fbbaf1b387156f12909": {
      "model_module": "@jupyter-widgets/controls",
      "model_module_version": "1.5.0",
      "model_name": "TextModel",
      "state": {
       "layout": "IPY_MODEL_26e3bcada29f4fcea43586b3f96ad05d",
       "style": "IPY_MODEL_5ea7b7e51ea94948949ed285199f0970",
       "value": "cartoon\n"
      }
     },
     "9683c98c2dec4385b4661b60720739d1": {
      "model_module": "@jupyter-widgets/base",
      "model_module_version": "1.2.0",
      "model_name": "LayoutModel",
      "state": {}
     },
     "96882aa28e554d97ac0c415c3239464a": {
      "model_module": "@jupyter-widgets/controls",
      "model_module_version": "1.5.0",
      "model_name": "ButtonModel",
      "state": {
       "description": " Remove",
       "icon": "trash",
       "layout": "IPY_MODEL_b702313ee3444a67be160e7dd8a71b80",
       "style": "IPY_MODEL_358dd3ce9d1d46cca5409ff0fe847a19",
       "tooltip": "Remove current representation"
      }
     },
     "968d353518ae42b7a18be0e45180f775": {
      "model_module": "@jupyter-widgets/base",
      "model_module_version": "1.2.0",
      "model_name": "LayoutModel",
      "state": {}
     },
     "96f84c4a596d48d78757a3ca4c011973": {
      "model_module": "@jupyter-widgets/controls",
      "model_module_version": "1.5.0",
      "model_name": "IntSliderModel",
      "state": {
       "layout": "IPY_MODEL_26b41702d27f47209dfe982998ad278c",
       "max": 200,
       "step": 5,
       "style": "IPY_MODEL_58fbe176e81c49ae96fa63f8503f45df",
       "value": 10
      }
     },
     "9736a98bfa114f0ca4a8f8d15e720149": {
      "model_module": "@jupyter-widgets/base",
      "model_module_version": "1.2.0",
      "model_name": "LayoutModel",
      "state": {
       "display": "flex",
       "flex_flow": "row",
       "justify_content": "space-between"
      }
     },
     "977a8b74a94d487b9cbee4ff9902d1a5": {
      "model_module": "@jupyter-widgets/controls",
      "model_module_version": "1.5.0",
      "model_name": "LabelModel",
      "state": {
       "layout": "IPY_MODEL_705cfce6cc0b4c61b10ecdc684fd6aff",
       "style": "IPY_MODEL_6bd6396861b24721a75c1d2a35fa2d52",
       "value": "light_intensity"
      }
     },
     "979348f9bf8844b5a605db1aedd785b4": {
      "model_module": "@jupyter-widgets/controls",
      "model_module_version": "1.5.0",
      "model_name": "LabelModel",
      "state": {
       "layout": "IPY_MODEL_8ac14adb1f7849a29896a577d4b1ca89",
       "style": "IPY_MODEL_55ffa39a55a34df498556b571e68a828"
      }
     },
     "980df6adb9dd47778cb46283fe666e5c": {
      "model_module": "@jupyter-widgets/controls",
      "model_module_version": "1.5.0",
      "model_name": "LabelModel",
      "state": {
       "layout": "IPY_MODEL_1dcd34bbb61b4a599fc538080f8ae9c8",
       "style": "IPY_MODEL_56c837d604d2483da02eb66c43c987b6"
      }
     },
     "98147b104e1f4879925cfe7662c97ff5": {
      "model_module": "@jupyter-widgets/base",
      "model_module_version": "1.2.0",
      "model_name": "LayoutModel",
      "state": {}
     },
     "9846242f51bb43748afd92d168429aaa": {
      "model_module": "@jupyter-widgets/controls",
      "model_module_version": "1.5.0",
      "model_name": "SliderStyleModel",
      "state": {
       "description_width": ""
      }
     },
     "990f84be96e7417faf07eb6cb38fe2e2": {
      "model_module": "@jupyter-widgets/base",
      "model_module_version": "1.2.0",
      "model_name": "LayoutModel",
      "state": {}
     },
     "99a521870e09497683cdf0cc608f8234": {
      "model_module": "@jupyter-widgets/controls",
      "model_module_version": "1.5.0",
      "model_name": "TabModel",
      "state": {
       "_titles": {
        "0": "Picked",
        "1": "Quick",
        "2": "Image",
        "3": "Command"
       },
       "children": [
        "IPY_MODEL_5a27d053731a4949a919a1a2a1aaf79e",
        "IPY_MODEL_4e7d5094b0334c4a84f1aa4c8c7c069e",
        "IPY_MODEL_e589a8a5ff99418abdbaf16473ac1bc0",
        "IPY_MODEL_2a3d0e89e03d4a9eb80d3f26df08c789"
       ],
       "layout": "IPY_MODEL_4dfb323332d048e3bcfeb1dfb304f7ff"
      }
     },
     "9a2cbd53fca4454d95108987b02ba3a3": {
      "model_module": "@jupyter-widgets/base",
      "model_module_version": "1.2.0",
      "model_name": "LayoutModel",
      "state": {
       "align_items": "stretch",
       "display": "flex",
       "flex_flow": "column",
       "width": "100%"
      }
     },
     "9a69e00178704818a7f81c2cf2775ea2": {
      "model_module": "@jupyter-widgets/base",
      "model_module_version": "1.2.0",
      "model_name": "LayoutModel",
      "state": {}
     },
     "9a99fbf8388941a18f0def536df59175": {
      "model_module": "@jupyter-widgets/controls",
      "model_module_version": "1.5.0",
      "model_name": "IntSliderModel",
      "state": {
       "layout": "IPY_MODEL_2dfa25b3455d4d3092e805af99a31ba3",
       "min": -100,
       "style": "IPY_MODEL_a30c5dd1fc9846389de7379323d3b68c",
       "value": 1
      }
     },
     "9ae56ed6fe6b43189179fc8bd7c3fd66": {
      "model_module": "@jupyter-widgets/controls",
      "model_module_version": "1.5.0",
      "model_name": "BoxModel",
      "state": {
       "children": [
        "IPY_MODEL_b3b2ab7106e24035b36f997c80c6928a",
        "IPY_MODEL_ca930a4ad6254803b2b2d80de8467cdc"
       ],
       "layout": "IPY_MODEL_eb69a8e03cf44b96825e4be413fff080"
      }
     },
     "9afa20014f6d47dba5f9df9434317281": {
      "model_module": "@jupyter-widgets/controls",
      "model_module_version": "1.5.0",
      "model_name": "IntSliderModel",
      "state": {
       "layout": "IPY_MODEL_3997bf7bc2664c899edaf3fcebef1777",
       "max": 10,
       "style": "IPY_MODEL_d6d2ffd5b0cb447e98372f410b6cc055",
       "value": 2
      }
     },
     "9b916ed362bd4d7cb280958a1dc95d4d": {
      "model_module": "@jupyter-widgets/controls",
      "model_module_version": "1.5.0",
      "model_name": "DescriptionStyleModel",
      "state": {
       "description_width": ""
      }
     },
     "9bb1752c9b27469194ebaea9788e85a6": {
      "model_module": "@jupyter-widgets/base",
      "model_module_version": "1.2.0",
      "model_name": "LayoutModel",
      "state": {
       "width": "200px"
      }
     },
     "9bfb71f85b7045bda3e2480be64ee5d7": {
      "model_module": "@jupyter-widgets/controls",
      "model_module_version": "1.5.0",
      "model_name": "TextModel",
      "state": {
       "layout": "IPY_MODEL_156acf1000d74534aee2e6ec12d5be0a",
       "style": "IPY_MODEL_df20dfe5555c4e2fb7bc692b240bdce3",
       "value": " "
      }
     },
     "9c3cd11aa83d4267ab75238e0464210c": {
      "model_module": "@jupyter-widgets/base",
      "model_module_version": "1.2.0",
      "model_name": "LayoutModel",
      "state": {}
     },
     "9cb023d9f0d34a58a12f18ef837b3f12": {
      "model_module": "@jupyter-widgets/base",
      "model_module_version": "1.2.0",
      "model_name": "LayoutModel",
      "state": {
       "display": "none",
       "width": "100px"
      }
     },
     "9cc03a07fbb842728aa688f45fb3ceb8": {
      "model_module": "@jupyter-widgets/controls",
      "model_module_version": "1.5.0",
      "model_name": "DropdownModel",
      "state": {
       "_options_labels": [
        "axes",
        "backbone",
        "ball+stick",
        "ball_and_stick",
        "base",
        "cartoon",
        "contact",
        "distance",
        "helixorient",
        "hyperball",
        "label",
        "licorice",
        "line",
        "point",
        "ribbon",
        "rocket",
        "rope",
        "simplified_base",
        "slice",
        "spacefill",
        "surface",
        "trace",
        "tube",
        "unitcell"
       ],
       "index": 5,
       "layout": "IPY_MODEL_27d038cbac9a4e6eb4321cc0e976413c",
       "style": "IPY_MODEL_1e37b1dc64ac4d6db0241f0a8b6ba83b"
      }
     },
     "9cc64084756c487d9dee49febfd27ff2": {
      "model_module": "@jupyter-widgets/base",
      "model_module_version": "1.2.0",
      "model_name": "LayoutModel",
      "state": {
       "display": "flex",
       "flex_flow": "row",
       "justify_content": "space-between"
      }
     },
     "9d389253285f401b8858db9b590d2011": {
      "model_module": "@jupyter-widgets/controls",
      "model_module_version": "1.5.0",
      "model_name": "LabelModel",
      "state": {
       "layout": "IPY_MODEL_130ae504981e4372a75488bcf1ef78b3",
       "style": "IPY_MODEL_a9658a77710e41ca96b2dbe2eda6e844",
       "value": "rotate_speed"
      }
     },
     "9d710f01437b42179f90e2f0b5842019": {
      "model_module": "@jupyter-widgets/controls",
      "model_module_version": "1.5.0",
      "model_name": "BoxModel",
      "state": {
       "children": [
        "IPY_MODEL_910f67da3d864e55a689d85d5b117f12",
        "IPY_MODEL_9bfb71f85b7045bda3e2480be64ee5d7"
       ],
       "layout": "IPY_MODEL_5fe77ce63d73496aa4dc3956a2405e64"
      }
     },
     "9de7e64dea4545d9b8f5100afd0ba505": {
      "model_module": "@jupyter-widgets/base",
      "model_module_version": "1.2.0",
      "model_name": "LayoutModel",
      "state": {}
     },
     "9fd7772690fb40f19345d42382535091": {
      "model_module": "@jupyter-widgets/base",
      "model_module_version": "1.2.0",
      "model_name": "LayoutModel",
      "state": {}
     },
     "9fd7edfbe6b944858157e9df466150a7": {
      "model_module": "@jupyter-widgets/controls",
      "model_module_version": "1.5.0",
      "model_name": "DescriptionStyleModel",
      "state": {
       "description_width": ""
      }
     },
     "a0229292852042b1a9cb430f7fd05198": {
      "model_module": "@jupyter-widgets/controls",
      "model_module_version": "1.5.0",
      "model_name": "BoxModel",
      "state": {
       "children": [
        "IPY_MODEL_4c8da5c9b6a040209c14764246cba1ee",
        "IPY_MODEL_3decb9b07c9c469db6ff6646b38243be"
       ],
       "layout": "IPY_MODEL_a233bad3a88046ccb196b8a0ae53fd3f"
      }
     },
     "a04c97ff63804545bd0e4b7e85a53b81": {
      "model_module": "@jupyter-widgets/controls",
      "model_module_version": "1.5.0",
      "model_name": "BoxModel",
      "state": {
       "children": [
        "IPY_MODEL_dec7e715da7d40eea20eb9a0e65c3123",
        "IPY_MODEL_96f84c4a596d48d78757a3ca4c011973"
       ],
       "layout": "IPY_MODEL_0fe35860e66f4d738c9e9a1db0ca082f"
      }
     },
     "a05c5984338342d3b65562d8f89d2718": {
      "model_module": "@jupyter-widgets/controls",
      "model_module_version": "1.5.0",
      "model_name": "DescriptionStyleModel",
      "state": {
       "description_width": ""
      }
     },
     "a05fe996d3254485b94d7f06cf3a1d62": {
      "model_module": "@jupyter-widgets/controls",
      "model_module_version": "1.5.0",
      "model_name": "ButtonStyleModel",
      "state": {}
     },
     "a07715d0db9e456db98e29ac4f50d5fd": {
      "model_module": "@jupyter-widgets/controls",
      "model_module_version": "1.5.0",
      "model_name": "FloatSliderModel",
      "state": {
       "description": "probe_radius",
       "layout": "IPY_MODEL_501182edac1644c1b017b977ecd3be93",
       "max": 5,
       "step": 0.1,
       "style": "IPY_MODEL_ce9e8cd520f14c8db236f2c8f75b825a",
       "value": 1.4
      }
     },
     "a077c12702454e54a40d77a9a5afb3c1": {
      "model_module": "@jupyter-widgets/controls",
      "model_module_version": "1.5.0",
      "model_name": "LabelModel",
      "state": {
       "layout": "IPY_MODEL_0387bab6d4ef440da37f0a5c816cda11",
       "style": "IPY_MODEL_1d231dc720cc453090d1d4ec48f27d56"
      }
     },
     "a08ba23f861242ccb08aada42db35fdd": {
      "model_module": "@jupyter-widgets/controls",
      "model_module_version": "1.5.0",
      "model_name": "SliderStyleModel",
      "state": {
       "description_width": ""
      }
     },
     "a099c89f094a415d9f8bc253cbc0e02e": {
      "model_module": "@jupyter-widgets/base",
      "model_module_version": "1.2.0",
      "model_name": "LayoutModel",
      "state": {}
     },
     "a0a23465adb9480c811b9be7ea4f4c5d": {
      "model_module": "@jupyter-widgets/controls",
      "model_module_version": "1.5.0",
      "model_name": "DescriptionStyleModel",
      "state": {
       "description_width": ""
      }
     },
     "a0b7de3bb78349a591676813eaa86e17": {
      "model_module": "@jupyter-widgets/controls",
      "model_module_version": "1.5.0",
      "model_name": "ButtonStyleModel",
      "state": {}
     },
     "a0c557dd394b49b796cc6b7239d31753": {
      "model_module": "@jupyter-widgets/controls",
      "model_module_version": "1.5.0",
      "model_name": "SliderStyleModel",
      "state": {
       "description_width": ""
      }
     },
     "a14cd9c6562a4f5cb055bcdce5f63ad3": {
      "model_module": "@jupyter-widgets/controls",
      "model_module_version": "1.5.0",
      "model_name": "LabelModel",
      "state": {
       "layout": "IPY_MODEL_8b195a183ec0456ca066b0a97d25d0cb",
       "style": "IPY_MODEL_7001d77e3b7c4106b55dba511ba03cdd",
       "value": "representation"
      }
     },
     "a218762f325d49a1a5815f61b1d3a343": {
      "model_module": "@jupyter-widgets/controls",
      "model_module_version": "1.5.0",
      "model_name": "LabelModel",
      "state": {
       "layout": "IPY_MODEL_3a2114ef71814ca88b24d7c4bbc43f41",
       "style": "IPY_MODEL_d3d9c3b5f09d4840aa309cdd4d21da99"
      }
     },
     "a21f2aaaede643089e017ce934c5b4aa": {
      "model_module": "@jupyter-widgets/controls",
      "model_module_version": "1.5.0",
      "model_name": "DescriptionStyleModel",
      "state": {
       "description_width": ""
      }
     },
     "a233bad3a88046ccb196b8a0ae53fd3f": {
      "model_module": "@jupyter-widgets/base",
      "model_module_version": "1.2.0",
      "model_name": "LayoutModel",
      "state": {
       "display": "flex",
       "flex_flow": "row",
       "justify_content": "space-between"
      }
     },
     "a23af4fab15f493f84e287d8cc930bb4": {
      "model_module": "@jupyter-widgets/base",
      "model_module_version": "1.2.0",
      "model_name": "LayoutModel",
      "state": {}
     },
     "a2781433ae5f451193a00448f6cf3732": {
      "model_module": "@jupyter-widgets/controls",
      "model_module_version": "1.5.0",
      "model_name": "BoxModel",
      "state": {
       "children": [
        "IPY_MODEL_164faea2eda145bfa1506607941d04f4",
        "IPY_MODEL_c4ce004b6bc349e18934533a30c309d3"
       ],
       "layout": "IPY_MODEL_eb69a8e03cf44b96825e4be413fff080"
      }
     },
     "a30c5dd1fc9846389de7379323d3b68c": {
      "model_module": "@jupyter-widgets/controls",
      "model_module_version": "1.5.0",
      "model_name": "SliderStyleModel",
      "state": {
       "description_width": ""
      }
     },
     "a31e8b70d3c84ce4a45645acd1e230a3": {
      "model_module": "@jupyter-widgets/controls",
      "model_module_version": "1.5.0",
      "model_name": "SliderStyleModel",
      "state": {
       "description_width": ""
      }
     },
     "a3579251def84b81b72159d527728b67": {
      "model_module": "@jupyter-widgets/controls",
      "model_module_version": "1.5.0",
      "model_name": "BoxModel",
      "state": {
       "children": [
        "IPY_MODEL_8e4f85556d524d6c92565bf2d7f49467",
        "IPY_MODEL_0b18ba75f9e7411bb06d584a4a85baf3"
       ],
       "layout": "IPY_MODEL_eb69a8e03cf44b96825e4be413fff080"
      }
     },
     "a3621586da0f450b9fbddf698cbaf4ed": {
      "model_module": "@jupyter-widgets/controls",
      "model_module_version": "1.5.0",
      "model_name": "DescriptionStyleModel",
      "state": {
       "description_width": ""
      }
     },
     "a3e9c88bf88842feaed8426876d41e8d": {
      "model_module": "@jupyter-widgets/controls",
      "model_module_version": "1.5.0",
      "model_name": "BoxModel",
      "state": {
       "children": [
        "IPY_MODEL_a14cd9c6562a4f5cb055bcdce5f63ad3",
        "IPY_MODEL_9661a67cbb4a4fbbaf1b387156f12909"
       ],
       "layout": "IPY_MODEL_9736a98bfa114f0ca4a8f8d15e720149"
      }
     },
     "a3f294ef1c6f4347aaad58b305a1fe51": {
      "model_module": "@jupyter-widgets/controls",
      "model_module_version": "1.5.0",
      "model_name": "BoxModel",
      "state": {
       "children": [
        "IPY_MODEL_c134478607da43ab9f10ae348eb64e93",
        "IPY_MODEL_409b40e356f74ae1a55734dfca6761f3"
       ],
       "layout": "IPY_MODEL_5fe77ce63d73496aa4dc3956a2405e64"
      }
     },
     "a40299d8aa14445cbd2e16117b3cbee9": {
      "model_module": "@jupyter-widgets/controls",
      "model_module_version": "1.5.0",
      "model_name": "DescriptionStyleModel",
      "state": {
       "description_width": ""
      }
     },
     "a44fd21ed5024196a64d1eac250ade95": {
      "model_module": "@jupyter-widgets/controls",
      "model_module_version": "1.5.0",
      "model_name": "BoxModel",
      "state": {
       "children": [
        "IPY_MODEL_99a521870e09497683cdf0cc608f8234"
       ],
       "layout": "IPY_MODEL_54024dead88e46c992b5702f6b46c503"
      }
     },
     "a47db4946b2a431fb8f646788690e532": {
      "model_module": "@jupyter-widgets/controls",
      "model_module_version": "1.5.0",
      "model_name": "BoxModel",
      "state": {
       "children": [
        "IPY_MODEL_a077c12702454e54a40d77a9a5afb3c1",
        "IPY_MODEL_33eed486d0694a9f828e6ffad501b0a3"
       ],
       "layout": "IPY_MODEL_eb69a8e03cf44b96825e4be413fff080"
      }
     },
     "a4e22e51b573446e8115c0db45a42119": {
      "model_module": "@jupyter-widgets/controls",
      "model_module_version": "1.5.0",
      "model_name": "DescriptionStyleModel",
      "state": {
       "description_width": ""
      }
     },
     "a516aef1a5ce4ba0ab32f12f7f832a54": {
      "model_module": "@jupyter-widgets/controls",
      "model_module_version": "1.5.0",
      "model_name": "DescriptionStyleModel",
      "state": {
       "description_width": ""
      }
     },
     "a522a78061fa44c1965ca595a6da3876": {
      "model_module": "nglview-js-widgets",
      "model_module_version": "2.5.1",
      "model_name": "NGLModel",
      "state": {
       "_camera_orientation": [
        41.052446320275024,
        0,
        0,
        0,
        0,
        41.052446320275024,
        0,
        0,
        0,
        0,
        41.052446320275024,
        0,
        -0.34029245376586914,
        -1.717393159866333,
        -0.45123887062072754,
        1
       ],
       "_camera_str": "orthographic",
       "_ibtn_fullscreen": "IPY_MODEL_85e3934313bd4739a87f5dcc140c344a",
       "_ibtn_image": "IPY_MODEL_1b64e2f054d04013bae32fe6bba4ef46",
       "_igui": "IPY_MODEL_0f695707f1b246d79411a5acdd471360",
       "_iplayer": "IPY_MODEL_2545708dc0b84a198b389d07b226303a",
       "_ngl_color_dict": {},
       "_ngl_coordinate_resource": {},
       "_ngl_full_stage_parameters": {
        "ambientColor": 14540253,
        "ambientIntensity": 0.2,
        "backgroundColor": "white",
        "cameraEyeSep": 0.3,
        "cameraFov": 40,
        "cameraType": "perspective",
        "clipDist": 10,
        "clipFar": 100,
        "clipNear": 0,
        "fogFar": 100,
        "fogNear": 50,
        "hoverTimeout": 0,
        "impostor": true,
        "lightColor": 14540253,
        "lightIntensity": 1,
        "mousePreset": "default",
        "overview": false,
        "panSpeed": 1,
        "quality": "medium",
        "rotateSpeed": 2,
        "sampleLevel": 0,
        "theme": "dark",
        "tooltip": true,
        "workerDefault": true,
        "zoomSpeed": 1.2
       },
       "_ngl_full_stage_parameters_embed": {
        "ambientColor": 14540253,
        "ambientIntensity": 0.2,
        "backgroundColor": "white",
        "cameraEyeSep": 0.3,
        "cameraFov": 40,
        "cameraType": "perspective",
        "clipDist": 10,
        "clipFar": 100,
        "clipNear": 0,
        "fogFar": 100,
        "fogNear": 50,
        "hoverTimeout": 0,
        "impostor": true,
        "lightColor": 14540253,
        "lightIntensity": 1,
        "mousePreset": "default",
        "overview": false,
        "panSpeed": 1,
        "quality": "medium",
        "rotateSpeed": 2,
        "sampleLevel": 0,
        "theme": "dark",
        "tooltip": true,
        "workerDefault": true,
        "zoomSpeed": 1.2
       },
       "_ngl_msg_archive": [
        {
         "args": [
          {
           "binary": false,
           "data": "ATOM      1  N   ASN A   1      -8.901   4.127  -0.555  1.00  0.00           N  \nATOM      2  CA  ASN A   1      -8.608   3.135  -1.618  1.00  0.00           C  \nATOM      3  C   ASN A   1      -7.117   2.964  -1.897  1.00  0.00           C  \nATOM      4  O   ASN A   1      -6.634   1.849  -1.758  1.00  0.00           O  \nATOM      5  CB  ASN A   1      -9.437   3.396  -2.889  1.00  0.00           C  \nATOM      6  CG  ASN A   1     -10.915   3.130  -2.611  1.00  0.00           C  \nATOM      7  OD1 ASN A   1     -11.269   2.700  -1.524  1.00  0.00           O  \nATOM      8  ND2 ASN A   1     -11.806   3.406  -3.543  1.00  0.00           N  \nATOM      9  H1  ASN A   1      -8.330   3.957   0.261  1.00  0.00           H  \nATOM     10  H2  ASN A   1      -8.740   5.068  -0.889  1.00  0.00           H  \nATOM     11  H3  ASN A   1      -9.877   4.041  -0.293  1.00  0.00           H  \nATOM     12  HA  ASN A   1      -8.930   2.162  -1.239  1.00  0.00           H  \nATOM     13  HB2 ASN A   1      -9.310   4.417  -3.193  1.00  0.00           H  \nATOM     14  HB3 ASN A   1      -9.108   2.719  -3.679  1.00  0.00           H  \nATOM     15 HD21 ASN A   1     -11.572   3.791  -4.444  1.00  0.00           H  \nATOM     16 HD22 ASN A   1     -12.757   3.183  -3.294  1.00  0.00           H  \nATOM     17  N   LEU A   2      -6.379   4.031  -2.228  1.00  0.00           N  \nATOM     18  CA  LEU A   2      -4.923   4.002  -2.452  1.00  0.00           C  \nATOM     19  C   LEU A   2      -4.136   3.187  -1.404  1.00  0.00           C  \nATOM     20  O   LEU A   2      -3.391   2.274  -1.760  1.00  0.00           O  \nATOM     21  CB  LEU A   2      -4.411   5.450  -2.619  1.00  0.00           C  \nATOM     22  CG  LEU A   2      -4.795   6.450  -1.495  1.00  0.00           C  \nATOM     23  CD1 LEU A   2      -3.612   6.803  -0.599  1.00  0.00           C  \nATOM     24  CD2 LEU A   2      -5.351   7.748  -2.084  1.00  0.00           C  \nATOM     25  H   LEU A   2      -6.821   4.923  -2.394  1.00  0.00           H  \nATOM     26  HA  LEU A   2      -4.750   3.494  -3.403  1.00  0.00           H  \nATOM     27  HB2 LEU A   2      -3.340   5.414  -2.672  1.00  0.00           H  \nATOM     28  HB3 LEU A   2      -4.813   5.817  -3.564  1.00  0.00           H  \nATOM     29  HG  LEU A   2      -5.568   6.022  -0.858  1.00  0.00           H  \nATOM     30 HD11 LEU A   2      -3.207   5.905  -0.146  1.00  0.00           H  \nATOM     31 HD12 LEU A   2      -2.841   7.304  -1.183  1.00  0.00           H  \nATOM     32 HD13 LEU A   2      -3.929   7.477   0.197  1.00  0.00           H  \nATOM     33 HD21 LEU A   2      -4.607   8.209  -2.736  1.00  0.00           H  \nATOM     34 HD22 LEU A   2      -6.255   7.544  -2.657  1.00  0.00           H  \nATOM     35 HD23 LEU A   2      -5.592   8.445  -1.281  1.00  0.00           H  \nATOM     36  N   TYR A   3      -4.354   3.455  -0.111  1.00  0.00           N  \nATOM     37  CA  TYR A   3      -3.690   2.738   0.981  1.00  0.00           C  \nATOM     38  C   TYR A   3      -4.102   1.256   1.074  1.00  0.00           C  \nATOM     39  O   TYR A   3      -3.291   0.409   1.442  1.00  0.00           O  \nATOM     40  CB  TYR A   3      -3.964   3.472   2.302  1.00  0.00           C  \nATOM     41  CG  TYR A   3      -2.824   3.339   3.290  1.00  0.00           C  \nATOM     42  CD1 TYR A   3      -2.746   2.217   4.138  1.00  0.00           C  \nATOM     43  CD2 TYR A   3      -1.820   4.326   3.332  1.00  0.00           C  \nATOM     44  CE1 TYR A   3      -1.657   2.076   5.018  1.00  0.00           C  \nATOM     45  CE2 TYR A   3      -0.725   4.185   4.205  1.00  0.00           C  \nATOM     46  CZ  TYR A   3      -0.639   3.053   5.043  1.00  0.00           C  \nATOM     47  OH  TYR A   3       0.433   2.881   5.861  1.00  0.00           O  \nATOM     48  H   TYR A   3      -4.934   4.245   0.120  1.00  0.00           H  \nATOM     49  HA  TYR A   3      -2.615   2.768   0.796  1.00  0.00           H  \nATOM     50  HB2 TYR A   3      -4.117   4.513   2.091  1.00  0.00           H  \nATOM     51  HB3 TYR A   3      -4.886   3.096   2.750  1.00  0.00           H  \nATOM     52  HD1 TYR A   3      -3.513   1.456   4.101  1.00  0.00           H  \nATOM     53  HD2 TYR A   3      -1.877   5.200   2.695  1.00  0.00           H  \nATOM     54  HE1 TYR A   3      -1.576   1.221   5.669  1.00  0.00           H  \nATOM     55  HE2 TYR A   3       0.033   4.952   4.233  1.00  0.00           H  \nATOM     56  HH  TYR A   3       1.187   3.395   5.567  1.00  0.00           H  \nATOM     57  N   ILE A   4      -5.342   0.925   0.689  1.00  0.00           N  \nATOM     58  CA  ILE A   4      -5.857  -0.449   0.613  1.00  0.00           C  \nATOM     59  C   ILE A   4      -5.089  -1.221  -0.470  1.00  0.00           C  \nATOM     60  O   ILE A   4      -4.621  -2.334  -0.226  1.00  0.00           O  \nATOM     61  CB  ILE A   4      -7.386  -0.466   0.343  1.00  0.00           C  \nATOM     62  CG1 ILE A   4      -8.197   0.540   1.197  1.00  0.00           C  \nATOM     63  CG2 ILE A   4      -7.959  -1.884   0.501  1.00  0.00           C  \nATOM     64  CD1 ILE A   4      -8.019   0.412   2.715  1.00  0.00           C  \nATOM     65  H   ILE A   4      -5.906   1.656   0.283  1.00  0.00           H  \nATOM     66  HA  ILE A   4      -5.670  -0.941   1.568  1.00  0.00           H  \nATOM     67  HB  ILE A   4      -7.554  -0.192  -0.697  1.00  0.00           H  \nATOM     68 HG12 ILE A   4      -7.900   1.531   0.912  1.00  0.00           H  \nATOM     69 HG13 ILE A   4      -9.257   0.424   0.964  1.00  0.00           H  \nATOM     70 HG21 ILE A   4      -7.509  -2.555  -0.232  1.00  0.00           H  \nATOM     71 HG22 ILE A   4      -7.759  -2.271   1.501  1.00  0.00           H  \nATOM     72 HG23 ILE A   4      -9.036  -1.871   0.332  1.00  0.00           H  \nATOM     73 HD11 ILE A   4      -8.306  -0.585   3.049  1.00  0.00           H  \nATOM     74 HD12 ILE A   4      -6.983   0.606   2.995  1.00  0.00           H  \nATOM     75 HD13 ILE A   4      -8.656   1.144   3.213  1.00  0.00           H  \nATOM     76  N   GLN A   5      -4.907  -0.601  -1.645  1.00  0.00           N  \nATOM     77  CA  GLN A   5      -4.122  -1.167  -2.743  1.00  0.00           C  \nATOM     78  C   GLN A   5      -2.629  -1.321  -2.390  1.00  0.00           C  \nATOM     79  O   GLN A   5      -1.986  -2.240  -2.884  1.00  0.00           O  \nATOM     80  CB  GLN A   5      -4.292  -0.313  -4.013  1.00  0.00           C  \nATOM     81  CG  GLN A   5      -4.244  -1.171  -5.290  1.00  0.00           C  \nATOM     82  CD  GLN A   5      -5.576  -1.860  -5.585  1.00  0.00           C  \nATOM     83  OE1 GLN A   5      -5.769  -3.044  -5.335  1.00  0.00           O  \nATOM     84  NE2 GLN A   5      -6.532  -1.146  -6.152  1.00  0.00           N  \nATOM     85  H   GLN A   5      -5.327   0.318  -1.763  1.00  0.00           H  \nATOM     86  HA  GLN A   5      -4.517  -2.162  -2.940  1.00  0.00           H  \nATOM     87  HB2 GLN A   5      -5.238   0.191  -3.969  1.00  0.00           H  \nATOM     88  HB3 GLN A   5      -3.492   0.429  -4.053  1.00  0.00           H  \nATOM     89  HG2 GLN A   5      -3.993  -0.539  -6.120  1.00  0.00           H  \nATOM     90  HG3 GLN A   5      -3.458  -1.923  -5.205  1.00  0.00           H  \nATOM     91 HE21 GLN A   5      -6.389  -0.184  -6.408  1.00  0.00           H  \nATOM     92 HE22 GLN A   5      -7.392  -1.635  -6.335  1.00  0.00           H  \nATOM     93  N   TRP A   6      -2.074  -0.459  -1.528  1.00  0.00           N  \nATOM     94  CA  TRP A   6      -0.716  -0.631  -0.993  1.00  0.00           C  \nATOM     95  C   TRP A   6      -0.631  -1.766   0.044  1.00  0.00           C  \nATOM     96  O   TRP A   6       0.295  -2.579  -0.004  1.00  0.00           O  \nATOM     97  CB  TRP A   6      -0.221   0.703  -0.417  1.00  0.00           C  \nATOM     98  CG  TRP A   6       1.148   0.652   0.194  1.00  0.00           C  \nATOM     99  CD1 TRP A   6       2.319   0.664  -0.482  1.00  0.00           C  \nATOM    100  CD2 TRP A   6       1.508   0.564   1.606  1.00  0.00           C  \nATOM    101  NE1 TRP A   6       3.371   0.560   0.411  1.00  0.00           N  \nATOM    102  CE2 TRP A   6       2.928   0.515   1.710  1.00  0.00           C  \nATOM    103  CE3 TRP A   6       0.779   0.524   2.812  1.00  0.00           C  \nATOM    104  CZ2 TRP A   6       3.599   0.445   2.938  1.00  0.00           C  \nATOM    105  CZ3 TRP A   6       1.439   0.433   4.053  1.00  0.00           C  \nATOM    106  CH2 TRP A   6       2.842   0.407   4.120  1.00  0.00           C  \nATOM    107  H   TRP A   6      -2.624   0.343  -1.242  1.00  0.00           H  \nATOM    108  HA  TRP A   6      -0.052  -0.908  -1.813  1.00  0.00           H  \nATOM    109  HB2 TRP A   6      -0.206   1.425  -1.211  1.00  0.00           H  \nATOM    110  HB3 TRP A   6      -0.921   1.044   0.344  1.00  0.00           H  \nATOM    111  HD1 TRP A   6       2.412   0.733  -1.558  1.00  0.00           H  \nATOM    112  HE1 TRP A   6       4.360   0.536   0.156  1.00  0.00           H  \nATOM    113  HE3 TRP A   6      -0.299   0.571   2.773  1.00  0.00           H  \nATOM    114  HZ2 TRP A   6       4.679   0.418   2.961  1.00  0.00           H  \nATOM    115  HZ3 TRP A   6       0.862   0.400   4.966  1.00  0.00           H  \nATOM    116  HH2 TRP A   6       3.334   0.360   5.081  1.00  0.00           H  \nATOM    117  N   LEU A   7      -1.600  -1.860   0.967  1.00  0.00           N  \nATOM    118  CA  LEU A   7      -1.641  -2.932   1.963  1.00  0.00           C  \nATOM    119  C   LEU A   7      -1.847  -4.319   1.342  1.00  0.00           C  \nATOM    120  O   LEU A   7      -1.144  -5.248   1.742  1.00  0.00           O  \nATOM    121  CB  LEU A   7      -2.710  -2.645   3.033  1.00  0.00           C  \nATOM    122  CG  LEU A   7      -2.301  -1.579   4.069  1.00  0.00           C  \nATOM    123  CD1 LEU A   7      -3.475  -1.323   5.018  1.00  0.00           C  \nATOM    124  CD2 LEU A   7      -1.093  -2.007   4.914  1.00  0.00           C  \nATOM    125  H   LEU A   7      -2.316  -1.137   0.994  1.00  0.00           H  \nATOM    126  HA  LEU A   7      -0.666  -2.978   2.445  1.00  0.00           H  \nATOM    127  HB2 LEU A   7      -3.600  -2.308   2.537  1.00  0.00           H  \nATOM    128  HB3 LEU A   7      -2.921  -3.571   3.572  1.00  0.00           H  \nATOM    129  HG  LEU A   7      -2.061  -0.649   3.560  1.00  0.00           H  \nATOM    130 HD11 LEU A   7      -4.343  -0.992   4.449  1.00  0.00           H  \nATOM    131 HD12 LEU A   7      -3.725  -2.237   5.560  1.00  0.00           H  \nATOM    132 HD13 LEU A   7      -3.211  -0.549   5.739  1.00  0.00           H  \nATOM    133 HD21 LEU A   7      -1.270  -2.989   5.354  1.00  0.00           H  \nATOM    134 HD22 LEU A   7      -0.195  -2.045   4.300  1.00  0.00           H  \nATOM    135 HD23 LEU A   7      -0.922  -1.286   5.712  1.00  0.00           H  \nATOM    136  N   LYS A   8      -2.753  -4.481   0.360  1.00  0.00           N  \nATOM    137  CA  LYS A   8      -3.024  -5.791  -0.269  1.00  0.00           C  \nATOM    138  C   LYS A   8      -1.796  -6.427  -0.937  1.00  0.00           C  \nATOM    139  O   LYS A   8      -1.719  -7.648  -1.030  1.00  0.00           O  \nATOM    140  CB  LYS A   8      -4.224  -5.697  -1.232  1.00  0.00           C  \nATOM    141  CG  LYS A   8      -3.930  -5.009  -2.577  1.00  0.00           C  \nATOM    142  CD  LYS A   8      -3.682  -5.986  -3.736  1.00  0.00           C  \nATOM    143  CE  LYS A   8      -3.494  -5.199  -5.039  1.00  0.00           C  \nATOM    144  NZ  LYS A   8      -4.563  -5.483  -6.023  1.00  0.00           N  \nATOM    145  H   LYS A   8      -3.321  -3.675   0.097  1.00  0.00           H  \nATOM    146  HA  LYS A   8      -3.309  -6.478   0.529  1.00  0.00           H  \nATOM    147  HB2 LYS A   8      -4.565  -6.694  -1.436  1.00  0.00           H  \nATOM    148  HB3 LYS A   8      -5.019  -5.143  -0.731  1.00  0.00           H  \nATOM    149  HG2 LYS A   8      -4.769  -4.390  -2.830  1.00  0.00           H  \nATOM    150  HG3 LYS A   8      -3.062  -4.368  -2.469  1.00  0.00           H  \nATOM    151  HD2 LYS A   8      -2.799  -6.562  -3.536  1.00  0.00           H  \nATOM    152  HD3 LYS A   8      -4.524  -6.674  -3.818  1.00  0.00           H  \nATOM    153  HE2 LYS A   8      -3.502  -4.150  -4.813  1.00  0.00           H  \nATOM    154  HE3 LYS A   8      -2.511  -5.439  -5.457  1.00  0.00           H  \nATOM    155  HZ1 LYS A   8      -4.621  -6.474  -6.211  1.00  0.00           H  \nATOM    156  HZ2 LYS A   8      -5.442  -5.124  -5.657  1.00  0.00           H  \nATOM    157  HZ3 LYS A   8      -4.382  -4.983  -6.881  1.00  0.00           H  \nATOM    158  N   ASP A   9      -0.828  -5.607  -1.355  1.00  0.00           N  \nATOM    159  CA  ASP A   9       0.466  -6.016  -1.905  1.00  0.00           C  \nATOM    160  C   ASP A   9       1.481  -6.464  -0.832  1.00  0.00           C  \nATOM    161  O   ASP A   9       2.545  -6.971  -1.194  1.00  0.00           O  \nATOM    162  CB  ASP A   9       1.033  -4.839  -2.724  1.00  0.00           C  \nATOM    163  CG  ASP A   9       0.672  -4.906  -4.210  1.00  0.00           C  \nATOM    164  OD1 ASP A   9      -0.532  -5.051  -4.522  1.00  0.00           O  \nATOM    165  OD2 ASP A   9       1.627  -4.815  -5.017  1.00  0.00           O  \nATOM    166  H   ASP A   9      -1.010  -4.616  -1.291  1.00  0.00           H  \nATOM    167  HA  ASP A   9       0.319  -6.867  -2.574  1.00  0.00           H  \nATOM    168  HB2 ASP A   9       0.644  -3.924  -2.320  1.00  0.00           H  \nATOM    169  HB3 ASP A   9       2.116  -4.837  -2.650  1.00  0.00           H  \nATOM    170  N   GLY A  10       1.185  -6.278   0.464  1.00  0.00           N  \nATOM    171  CA  GLY A  10       2.060  -6.618   1.593  1.00  0.00           C  \nATOM    172  C   GLY A  10       2.628  -5.412   2.353  1.00  0.00           C  \nATOM    173  O   GLY A  10       3.496  -5.594   3.208  1.00  0.00           O  \nATOM    174  H   GLY A  10       0.265  -5.908   0.693  1.00  0.00           H  \nATOM    175  HA2 GLY A  10       1.486  -7.214   2.304  1.00  0.00           H  \nATOM    176  HA3 GLY A  10       2.897  -7.228   1.252  1.00  0.00           H  \nATOM    177  N   GLY A  11       2.172  -4.187   2.055  1.00  0.00           N  \nATOM    178  CA  GLY A  11       2.626  -2.967   2.723  1.00  0.00           C  \nATOM    179  C   GLY A  11       4.157  -2.802   2.654  1.00  0.00           C  \nATOM    180  O   GLY A  11       4.710  -2.829   1.551  1.00  0.00           O  \nATOM    181  H   GLY A  11       1.481  -4.089   1.319  1.00  0.00           H  \nATOM    182  HA2 GLY A  11       2.164  -2.109   2.237  1.00  0.00           H  \nATOM    183  HA3 GLY A  11       2.280  -2.997   3.753  1.00  0.00           H  \nATOM    184  N   PRO A  12       4.871  -2.651   3.794  1.00  0.00           N  \nATOM    185  CA  PRO A  12       6.333  -2.533   3.806  1.00  0.00           C  \nATOM    186  C   PRO A  12       7.058  -3.729   3.165  1.00  0.00           C  \nATOM    187  O   PRO A  12       8.139  -3.562   2.601  1.00  0.00           O  \nATOM    188  CB  PRO A  12       6.740  -2.387   5.279  1.00  0.00           C  \nATOM    189  CG  PRO A  12       5.460  -1.952   5.987  1.00  0.00           C  \nATOM    190  CD  PRO A  12       4.362  -2.615   5.160  1.00  0.00           C  \nATOM    191  HA  PRO A  12       6.611  -1.626   3.267  1.00  0.00           H  \nATOM    192  HB2 PRO A  12       7.091  -3.323   5.670  1.00  0.00           H  \nATOM    193  HB3 PRO A  12       7.531  -1.647   5.403  1.00  0.00           H  \nATOM    194  HG2 PRO A  12       5.443  -2.302   7.001  1.00  0.00           H  \nATOM    195  HG3 PRO A  12       5.358  -0.867   5.929  1.00  0.00           H  \nATOM    196  HD2 PRO A  12       4.173  -3.609   5.516  1.00  0.00           H  \nATOM    197  HD3 PRO A  12       3.440  -2.042   5.246  1.00  0.00           H  \nATOM    198  N   SER A  13       6.463  -4.929   3.205  1.00  0.00           N  \nATOM    199  CA  SER A  13       7.049  -6.179   2.704  1.00  0.00           C  \nATOM    200  C   SER A  13       6.897  -6.369   1.185  1.00  0.00           C  \nATOM    201  O   SER A  13       7.025  -7.488   0.697  1.00  0.00           O  \nATOM    202  CB  SER A  13       6.458  -7.371   3.472  1.00  0.00           C  \nATOM    203  OG  SER A  13       6.763  -7.264   4.850  1.00  0.00           O  \nATOM    204  H   SER A  13       5.535  -4.999   3.613  1.00  0.00           H  \nATOM    205  HA  SER A  13       8.121  -6.159   2.903  1.00  0.00           H  \nATOM    206  HB2 SER A  13       5.393  -7.382   3.344  1.00  0.00           H  \nATOM    207  HB3 SER A  13       6.880  -8.302   3.093  1.00  0.00           H  \nATOM    208  HG  SER A  13       7.707  -7.394   4.970  1.00  0.00           H  \nATOM    209  N   SER A  14       6.637  -5.290   0.434  1.00  0.00           N  \nATOM    210  CA  SER A  14       6.389  -5.315  -1.015  1.00  0.00           C  \nATOM    211  C   SER A  14       7.332  -4.405  -1.823  1.00  0.00           C  \nATOM    212  O   SER A  14       7.082  -4.123  -2.993  1.00  0.00           O  \nATOM    213  CB  SER A  14       4.914  -4.993  -1.265  1.00  0.00           C  \nATOM    214  OG  SER A  14       4.431  -5.743  -2.358  1.00  0.00           O  \nATOM    215  H   SER A  14       6.509  -4.415   0.930  1.00  0.00           H  \nATOM    216  HA  SER A  14       6.562  -6.329  -1.378  1.00  0.00           H  \nATOM    217  HB2 SER A  14       4.344  -5.236  -0.389  1.00  0.00           H  \nATOM    218  HB3 SER A  14       4.778  -3.934  -1.457  1.00  0.00           H  \nATOM    219  HG  SER A  14       3.714  -6.324  -1.987  1.00  0.00           H  \nATOM    220  N   GLY A  15       8.419  -3.920  -1.202  1.00  0.00           N  \nATOM    221  CA  GLY A  15       9.451  -3.116  -1.870  1.00  0.00           C  \nATOM    222  C   GLY A  15       8.984  -1.725  -2.316  1.00  0.00           C  \nATOM    223  O   GLY A  15       9.539  -1.177  -3.267  1.00  0.00           O  \nATOM    224  H   GLY A  15       8.573  -4.210  -0.246  1.00  0.00           H  \nATOM    225  HA2 GLY A  15      10.297  -2.987  -1.194  1.00  0.00           H  \nATOM    226  HA3 GLY A  15       9.805  -3.652  -2.752  1.00  0.00           H  \nATOM    227  N   ARG A  16       7.956  -1.164  -1.660  1.00  0.00           N  \nATOM    228  CA  ARG A  16       7.289   0.084  -2.054  1.00  0.00           C  \nATOM    229  C   ARG A  16       6.855   0.916  -0.829  1.00  0.00           C  \nATOM    230  O   ARG A  16       6.222   0.366   0.076  1.00  0.00           O  \nATOM    231  CB  ARG A  16       6.110  -0.243  -2.994  1.00  0.00           C  \nATOM    232  CG  ARG A  16       5.046  -1.171  -2.378  1.00  0.00           C  \nATOM    233  CD  ARG A  16       3.923  -1.592  -3.338  1.00  0.00           C  \nATOM    234  NE  ARG A  16       4.251  -2.811  -4.100  1.00  0.00           N  \nATOM    235  CZ  ARG A  16       4.859  -2.914  -5.274  1.00  0.00           C  \nATOM    236  NH1 ARG A  16       5.289  -1.864  -5.937  1.00  0.00           N  \nATOM    237  NH2 ARG A  16       5.035  -4.095  -5.809  1.00  0.00           N  \nATOM    238  H   ARG A  16       7.579  -1.676  -0.874  1.00  0.00           H  \nATOM    239  HA  ARG A  16       8.009   0.663  -2.630  1.00  0.00           H  \nATOM    240  HB2 ARG A  16       5.634   0.678  -3.269  1.00  0.00           H  \nATOM    241  HB3 ARG A  16       6.524  -0.720  -3.880  1.00  0.00           H  \nATOM    242  HG2 ARG A  16       5.538  -2.059  -2.031  1.00  0.00           H  \nATOM    243  HG3 ARG A  16       4.579  -0.652  -1.549  1.00  0.00           H  \nATOM    244  HD2 ARG A  16       3.033  -1.774  -2.766  1.00  0.00           H  \nATOM    245  HD3 ARG A  16       3.669  -0.765  -4.003  1.00  0.00           H  \nATOM    246  HE  ARG A  16       3.963  -3.694  -3.698  1.00  0.00           H  \nATOM    247 HH11 ARG A  16       5.150  -0.962  -5.521  1.00  0.00           H  \nATOM    248 HH12 ARG A  16       5.761  -1.962  -6.815  1.00  0.00           H  \nATOM    249 HH21 ARG A  16       4.649  -4.894  -5.327  1.00  0.00           H  \nATOM    250 HH22 ARG A  16       5.508  -4.205  -6.684  1.00  0.00           H  \nATOM    251  N   PRO A  17       7.156   2.230  -0.780  1.00  0.00           N  \nATOM    252  CA  PRO A  17       6.782   3.088   0.345  1.00  0.00           C  \nATOM    253  C   PRO A  17       5.261   3.331   0.395  1.00  0.00           C  \nATOM    254  O   PRO A  17       4.586   3.165  -0.624  1.00  0.00           O  \nATOM    255  CB  PRO A  17       7.554   4.394   0.119  1.00  0.00           C  \nATOM    256  CG  PRO A  17       7.677   4.474  -1.401  1.00  0.00           C  \nATOM    257  CD  PRO A  17       7.820   3.010  -1.816  1.00  0.00           C  \nATOM    258  HA  PRO A  17       7.107   2.628   1.279  1.00  0.00           H  \nATOM    259  HB2 PRO A  17       7.009   5.234   0.505  1.00  0.00           H  \nATOM    260  HB3 PRO A  17       8.548   4.308   0.561  1.00  0.00           H  \nATOM    261  HG2 PRO A  17       6.800   4.914  -1.836  1.00  0.00           H  \nATOM    262  HG3 PRO A  17       8.540   5.066  -1.707  1.00  0.00           H  \nATOM    263  HD2 PRO A  17       7.349   2.844  -2.766  1.00  0.00           H  \nATOM    264  HD3 PRO A  17       8.876   2.739  -1.855  1.00  0.00           H  \nATOM    265  N   PRO A  18       4.710   3.739   1.555  1.00  0.00           N  \nATOM    266  CA  PRO A  18       3.287   4.031   1.686  1.00  0.00           C  \nATOM    267  C   PRO A  18       2.901   5.305   0.913  1.00  0.00           C  \nATOM    268  O   PRO A  18       3.684   6.256   0.871  1.00  0.00           O  \nATOM    269  CB  PRO A  18       3.035   4.190   3.187  1.00  0.00           C  \nATOM    270  CG  PRO A  18       4.385   4.655   3.729  1.00  0.00           C  \nATOM    271  CD  PRO A  18       5.393   3.949   2.823  1.00  0.00           C  \nATOM    272  HA  PRO A  18       2.719   3.181   1.316  1.00  0.00           H  \nATOM    273  HB2 PRO A  18       2.274   4.924   3.372  1.00  0.00           H  \nATOM    274  HB3 PRO A  18       2.781   3.223   3.618  1.00  0.00           H  \nATOM    275  HG2 PRO A  18       4.482   5.721   3.654  1.00  0.00           H  \nATOM    276  HG3 PRO A  18       4.518   4.377   4.775  1.00  0.00           H  \nATOM    277  HD2 PRO A  18       6.262   4.562   2.682  1.00  0.00           H  \nATOM    278  HD3 PRO A  18       5.662   2.983   3.253  1.00  0.00           H  \nATOM    279  N   PRO A  19       1.688   5.360   0.336  1.00  0.00           N  \nATOM    280  CA  PRO A  19       1.185   6.543  -0.353  1.00  0.00           C  \nATOM    281  C   PRO A  19       0.715   7.607   0.655  1.00  0.00           C  \nATOM    282  O   PRO A  19      -0.124   7.324   1.513  1.00  0.00           O  \nATOM    283  CB  PRO A  19       0.048   6.014  -1.229  1.00  0.00           C  \nATOM    284  CG  PRO A  19      -0.519   4.852  -0.412  1.00  0.00           C  \nATOM    285  CD  PRO A  19       0.716   4.275   0.272  1.00  0.00           C  \nATOM    286  HA  PRO A  19       1.961   6.966  -0.991  1.00  0.00           H  \nATOM    287  HB2 PRO A  19      -0.697   6.770  -1.389  1.00  0.00           H  \nATOM    288  HB3 PRO A  19       0.463   5.630  -2.162  1.00  0.00           H  \nATOM    289  HG2 PRO A  19      -1.232   5.201   0.310  1.00  0.00           H  \nATOM    290  HG3 PRO A  19      -1.019   4.114  -1.041  1.00  0.00           H  \nATOM    291  HD2 PRO A  19       0.470   3.937   1.260  1.00  0.00           H  \nATOM    292  HD3 PRO A  19       1.121   3.461  -0.329  1.00  0.00           H  \nATOM    293  N   SER A  20       1.271   8.822   0.549  1.00  0.00           N  \nATOM    294  CA  SER A  20       0.852  10.027   1.285  1.00  0.00           C  \nATOM    295  C   SER A  20      -0.406  10.657   0.683  1.00  0.00           C  \nATOM    296  O   SER A  20      -0.387  10.916  -0.540  1.00  0.00           O  \nATOM    297  CB  SER A  20       1.972  11.071   1.284  1.00  0.00           C  \nATOM    298  OG  SER A  20       3.120  10.541   1.911  1.00  0.00           O  \nATOM    299  OXT SER A  20      -1.341  10.903   1.473  1.00  0.00           O  \nATOM    300  H   SER A  20       1.969   8.961  -0.165  1.00  0.00           H  \nATOM    301  HA  SER A  20       0.601   9.760   2.310  1.00  0.00           H  \nATOM    302  HB2 SER A  20       2.210  11.338   0.272  1.00  0.00           H  \nATOM    303  HB3 SER A  20       1.636  11.959   1.824  1.00  0.00           H  \nATOM    304  HG  SER A  20       2.831  10.040   2.676  1.00  0.00           H  \nTER     305      SER A  20 \nEND   \n",
           "type": "blob"
          }
         ],
         "kwargs": {
          "defaultRepresentation": true,
          "ext": "pdb"
         },
         "methodName": "loadFile",
         "reconstruc_color_scheme": false,
         "target": "Stage",
         "type": "call_method"
        },
        {
         "args": [
          0,
          0
         ],
         "kwargs": {},
         "methodName": "requestReprParameters",
         "reconstruc_color_scheme": false,
         "target": "Widget",
         "type": "call_method"
        },
        {
         "args": [],
         "kwargs": {},
         "methodName": "request_repr_dict",
         "reconstruc_color_scheme": false,
         "target": "Widget",
         "type": "call_method"
        }
       ],
       "_ngl_original_stage_parameters": {
        "ambientColor": 14540253,
        "ambientIntensity": 0.2,
        "backgroundColor": "white",
        "cameraEyeSep": 0.3,
        "cameraFov": 40,
        "cameraType": "perspective",
        "clipDist": 10,
        "clipFar": 100,
        "clipNear": 0,
        "fogFar": 100,
        "fogNear": 50,
        "hoverTimeout": 0,
        "impostor": true,
        "lightColor": 14540253,
        "lightIntensity": 1,
        "mousePreset": "default",
        "panSpeed": 1,
        "quality": "medium",
        "rotateSpeed": 2,
        "sampleLevel": 0,
        "tooltip": true,
        "workerDefault": true,
        "zoomSpeed": 1.2
       },
       "_ngl_repr_dict": {
        "0": {
         "0": {
          "params": {
           "aspectRatio": 5,
           "assembly": "default",
           "capped": true,
           "clipCenter": {
            "x": 0,
            "y": 0,
            "z": 0
           },
           "clipNear": 0,
           "clipRadius": 0,
           "colorMode": "hcl",
           "colorReverse": true,
           "colorScale": "spectral",
           "colorScheme": "residueindex",
           "colorValue": 9474192,
           "defaultAssembly": "",
           "depthWrite": true,
           "diffuse": 16777215,
           "diffuseInterior": false,
           "disablePicking": false,
           "flatShaded": false,
           "interiorColor": 2236962,
           "interiorDarkening": 0,
           "lazy": false,
           "matrix": {
            "elements": [
             1,
             0,
             0,
             0,
             0,
             1,
             0,
             0,
             0,
             0,
             1,
             0,
             0,
             0,
             0,
             1
            ]
           },
           "metalness": 0,
           "opacity": 1,
           "quality": "high",
           "radialSegments": 20,
           "radiusData": {},
           "radiusScale": 0.7,
           "radiusSize": 1,
           "radiusType": "sstruc",
           "roughness": 0.4,
           "sele": "",
           "side": "double",
           "smoothSheet": false,
           "subdiv": 6,
           "tension": null,
           "useInteriorColor": true,
           "visible": true,
           "wireframe": false
          },
          "type": "cartoon"
         },
         "1": {
          "params": {
           "aspectRatio": 1,
           "assembly": "default",
           "bondScale": 0.4,
           "clipCenter": {
            "x": 0,
            "y": 0,
            "z": 0
           },
           "clipNear": 0,
           "clipRadius": 0,
           "colorMode": "hcl",
           "colorReverse": true,
           "colorScale": "spectral",
           "colorScheme": "residueindex",
           "colorValue": 9474192,
           "cylinderOnly": false,
           "defaultAssembly": "",
           "depthWrite": true,
           "diffuse": 16777215,
           "diffuseInterior": false,
           "disableImpostor": false,
           "disablePicking": false,
           "flatShaded": false,
           "interiorColor": 2236962,
           "interiorDarkening": 0,
           "lazy": false,
           "lineOnly": false,
           "linewidth": 2,
           "matrix": {
            "elements": [
             1,
             0,
             0,
             0,
             0,
             1,
             0,
             0,
             0,
             0,
             1,
             0,
             0,
             0,
             0,
             1
            ]
           },
           "metalness": 0,
           "opacity": 1,
           "openEnded": true,
           "quality": "high",
           "radialSegments": 20,
           "radiusData": {},
           "radiusScale": 1,
           "radiusSize": 0.3,
           "radiusType": "size",
           "roughness": 0.4,
           "sele": "",
           "side": "double",
           "sphereDetail": 2,
           "useInteriorColor": true,
           "visible": true,
           "wireframe": false
          },
          "type": "base"
         },
         "2": {
          "params": {
           "aspectRatio": 1.5,
           "assembly": "default",
           "bondScale": 0.3,
           "bondSpacing": 0.75,
           "clipCenter": {
            "x": 0,
            "y": 0,
            "z": 0
           },
           "clipNear": 0,
           "clipRadius": 0,
           "colorMode": "hcl",
           "colorReverse": false,
           "colorScale": "",
           "colorScheme": "element",
           "colorValue": 9474192,
           "cylinderOnly": false,
           "defaultAssembly": "",
           "depthWrite": true,
           "diffuse": 16777215,
           "diffuseInterior": false,
           "disableImpostor": false,
           "disablePicking": false,
           "flatShaded": false,
           "interiorColor": 2236962,
           "interiorDarkening": 0,
           "lazy": false,
           "lineOnly": false,
           "linewidth": 2,
           "matrix": {
            "elements": [
             1,
             0,
             0,
             0,
             0,
             1,
             0,
             0,
             0,
             0,
             1,
             0,
             0,
             0,
             0,
             1
            ]
           },
           "metalness": 0,
           "multipleBond": "off",
           "opacity": 1,
           "openEnded": true,
           "quality": "high",
           "radialSegments": 20,
           "radiusData": {},
           "radiusScale": 2,
           "radiusSize": 0.15,
           "radiusType": "size",
           "roughness": 0.4,
           "sele": "ligand",
           "side": "double",
           "sphereDetail": 2,
           "useInteriorColor": true,
           "visible": true,
           "wireframe": false
          },
          "type": "ball+stick"
         }
        }
       },
       "_ngl_serialize": true,
       "_ngl_version": "2.0.0-dev.36",
       "_ngl_view_id": [
        "ec4ea916-84b1-4c4b-aa55-d1ac58791ffa"
       ],
       "_player_dict": {},
       "_scene_position": {},
       "_scene_rotation": {},
       "_synced_model_ids": [],
       "background": "white",
       "frame": 11,
       "gui_style": "ngl",
       "layout": "IPY_MODEL_2e150a33aba04d6dbb242877da5d3aff",
       "max_frame": 37,
       "n_components": 1,
       "picked": {}
      }
     },
     "a527ae630101446c904e1b52781fac67": {
      "model_module": "@jupyter-widgets/controls",
      "model_module_version": "1.5.0",
      "model_name": "HBoxModel",
      "state": {
       "children": [
        "IPY_MODEL_57cba32f885e4323bf2c92898fd536f5",
        "IPY_MODEL_04969908782948279d2f4f4fcc1fbbd8",
        "IPY_MODEL_1ba58caad898435ab2a06436b8badeb2"
       ],
       "layout": "IPY_MODEL_e8c1bd619b8c45358d2af7b0bd98068a"
      }
     },
     "a532ea634c71415885dfce961cfa4314": {
      "model_module": "@jupyter-widgets/controls",
      "model_module_version": "1.5.0",
      "model_name": "LabelModel",
      "state": {
       "layout": "IPY_MODEL_c1204275ae444a76ba0904d7a7d6b1e1",
       "style": "IPY_MODEL_4e6b2c504f91497c8284ec1aa7c4df1e"
      }
     },
     "a566d9dc99564838a415f46545a62820": {
      "model_module": "@jupyter-widgets/controls",
      "model_module_version": "1.5.0",
      "model_name": "BoxModel",
      "state": {
       "children": [
        "IPY_MODEL_a9d4d51478874e31be291e1f2065f723"
       ],
       "layout": "IPY_MODEL_2b2717e40f57446abdddb21b13f15a99"
      }
     },
     "a5c54033a6524818a46e15842bc9cea6": {
      "model_module": "@jupyter-widgets/controls",
      "model_module_version": "1.5.0",
      "model_name": "LabelModel",
      "state": {
       "layout": "IPY_MODEL_bba3295f88604228afbd860474e2ed12",
       "style": "IPY_MODEL_a0a23465adb9480c811b9be7ea4f4c5d",
       "value": "clip_far"
      }
     },
     "a5d023197f384774ba2273aa4f989c2b": {
      "model_module": "@jupyter-widgets/controls",
      "model_module_version": "1.5.0",
      "model_name": "LinkModel",
      "state": {
       "source": [
        "IPY_MODEL_95076da05343433f857a810e61b4bab7",
        "max"
       ],
       "target": [
        "IPY_MODEL_a522a78061fa44c1965ca595a6da3876",
        "max_frame"
       ]
      }
     },
     "a60dfcdc5d9542b38c9b6c84fddb00ce": {
      "model_module": "@jupyter-widgets/controls",
      "model_module_version": "1.5.0",
      "model_name": "LabelModel",
      "state": {
       "layout": "IPY_MODEL_d13187f3c0fc4d9fb2c4623309a0dbb4",
       "style": "IPY_MODEL_4bfc684e65604fbda6dbaa76814e93bb",
       "value": "camera"
      }
     },
     "a671fd2ad08242ff98d5986376fbfbae": {
      "model_module": "@jupyter-widgets/controls",
      "model_module_version": "1.5.0",
      "model_name": "SliderStyleModel",
      "state": {
       "description_width": ""
      }
     },
     "a6d0c2ce774244888fd2c11774da5ca6": {
      "model_module": "@jupyter-widgets/base",
      "model_module_version": "1.2.0",
      "model_name": "LayoutModel",
      "state": {}
     },
     "a77761cc4f624a2ea86e3147d86fc53a": {
      "model_module": "@jupyter-widgets/controls",
      "model_module_version": "1.5.0",
      "model_name": "BoxModel",
      "state": {
       "children": [
        "IPY_MODEL_a5c54033a6524818a46e15842bc9cea6",
        "IPY_MODEL_3f19b6f619d84062b15b2f92e9a329a9"
       ],
       "layout": "IPY_MODEL_eb69a8e03cf44b96825e4be413fff080"
      }
     },
     "a7a56192cfd64fd6b976600644651a3e": {
      "model_module": "@jupyter-widgets/controls",
      "model_module_version": "1.5.0",
      "model_name": "LabelModel",
      "state": {
       "layout": "IPY_MODEL_6f376fe4fcca4860ab514d33c484b8e3",
       "style": "IPY_MODEL_89719290375e4f3190c7223873d95678",
       "value": "rotate_speed"
      }
     },
     "a7e4f35ee2294ce0a73155131bff8365": {
      "model_module": "@jupyter-widgets/base",
      "model_module_version": "1.2.0",
      "model_name": "LayoutModel",
      "state": {}
     },
     "a85e656a337d4908b734bb1eb18f1cfc": {
      "model_module": "@jupyter-widgets/base",
      "model_module_version": "1.2.0",
      "model_name": "LayoutModel",
      "state": {
       "width": "200px"
      }
     },
     "a865a1b947b447a1937935645f7146d2": {
      "model_module": "@jupyter-widgets/controls",
      "model_module_version": "1.5.0",
      "model_name": "LinkModel",
      "state": {
       "source": [
        "IPY_MODEL_4e40a64f1eb5434bb340f73fd4d3fecd",
        "max"
       ],
       "target": [
        "IPY_MODEL_40103d031bbf4ceb9d2dce16477c3308",
        "max_frame"
       ]
      }
     },
     "a8f3984e145e4b179efe5d3f02e9255d": {
      "model_module": "@jupyter-widgets/base",
      "model_module_version": "1.2.0",
      "model_name": "LayoutModel",
      "state": {}
     },
     "a9658a77710e41ca96b2dbe2eda6e844": {
      "model_module": "@jupyter-widgets/controls",
      "model_module_version": "1.5.0",
      "model_name": "DescriptionStyleModel",
      "state": {
       "description_width": ""
      }
     },
     "a9b23cabb5ed49e195dbe8a3143754f4": {
      "model_module": "@jupyter-widgets/controls",
      "model_module_version": "1.5.0",
      "model_name": "CheckboxModel",
      "state": {
       "description": "reprlist",
       "disabled": false,
       "layout": "IPY_MODEL_3dfa1daa89ba4f94b32dcb5c160eb87d",
       "style": "IPY_MODEL_bbcd7a04f5fc4c68bb617ffb30dcdbbe",
       "value": false
      }
     },
     "a9d4d51478874e31be291e1f2065f723": {
      "model_module": "@jupyter-widgets/controls",
      "model_module_version": "1.5.0",
      "model_name": "BoxModel",
      "state": {
       "children": [
        "IPY_MODEL_2e94730a2d4144feab88d72c67943e58",
        "IPY_MODEL_f3c1930d84e343389ec92627c6994bbe",
        "IPY_MODEL_27810a4c1ad244d9945210cead86f348",
        "IPY_MODEL_a0229292852042b1a9cb430f7fd05198",
        "IPY_MODEL_20eab59e26ba4d7fa56df666daa4ba60",
        "IPY_MODEL_67a13b3053634d28acbebd26c396114f",
        "IPY_MODEL_557f719be1f84c55934dc910b187a734",
        "IPY_MODEL_613a88989ae641ff87279f280fe592cf",
        "IPY_MODEL_4256a101da06498f9d61a2b79abd849b",
        "IPY_MODEL_66ca682a27264aa180015a107080bf16",
        "IPY_MODEL_51579abf2fbf43a586f81928074309a8",
        "IPY_MODEL_b3c2d1f553d0450d9dd501ec20029061",
        "IPY_MODEL_f6e38fa6f06344ac9dc9d4b686c64cc3",
        "IPY_MODEL_19b135a9d62d4622bc7843a8e5d65f19",
        "IPY_MODEL_8354372e12fe4b5bacce04a12f6b81e1"
       ],
       "layout": "IPY_MODEL_4e1e55ceca2e4b7f9ab3a4be82f5db88"
      }
     },
     "a9da872259be4309875620edbc9e4528": {
      "model_module": "@jupyter-widgets/base",
      "model_module_version": "1.2.0",
      "model_name": "LayoutModel",
      "state": {}
     },
     "aa523cd98c004183a3de4fc9948c7a0c": {
      "model_module": "@jupyter-widgets/controls",
      "model_module_version": "1.5.0",
      "model_name": "IntSliderModel",
      "state": {
       "layout": "IPY_MODEL_bc019ebc512042559297d2789f910fa8",
       "style": "IPY_MODEL_21386676ece34a639dad17431c34315b"
      }
     },
     "aa8a7d25957a417bb5b9e45b87577cca": {
      "model_module": "@jupyter-widgets/controls",
      "model_module_version": "1.5.0",
      "model_name": "SliderStyleModel",
      "state": {
       "description_width": ""
      }
     },
     "ab51abd43d7b4b95a4e69709a331c645": {
      "model_module": "@jupyter-widgets/base",
      "model_module_version": "1.2.0",
      "model_name": "LayoutModel",
      "state": {}
     },
     "ab966e60a7c34d6e9112c677c9172bbf": {
      "model_module": "@jupyter-widgets/base",
      "model_module_version": "1.2.0",
      "model_name": "LayoutModel",
      "state": {
       "width": "34px"
      }
     },
     "ab9e30b872ac4098ad007119de12d2d6": {
      "model_module": "@jupyter-widgets/base",
      "model_module_version": "1.2.0",
      "model_name": "LayoutModel",
      "state": {}
     },
     "aba3a52f9e904d029300faac5a639323": {
      "model_module": "@jupyter-widgets/controls",
      "model_module_version": "1.5.0",
      "model_name": "SliderStyleModel",
      "state": {
       "description_width": ""
      }
     },
     "acb63ee3d19343e491f4ffd6864def87": {
      "model_module": "@jupyter-widgets/controls",
      "model_module_version": "1.5.0",
      "model_name": "DescriptionStyleModel",
      "state": {
       "description_width": ""
      }
     },
     "acd94795d9f645fabf5f9160b37c6dbe": {
      "model_module": "@jupyter-widgets/base",
      "model_module_version": "1.2.0",
      "model_name": "LayoutModel",
      "state": {}
     },
     "ade5796e4ff049fb93eb098a83bfd126": {
      "model_module": "@jupyter-widgets/controls",
      "model_module_version": "1.5.0",
      "model_name": "DescriptionStyleModel",
      "state": {
       "description_width": ""
      }
     },
     "ade82d6dda164b479422f5312916bfaa": {
      "model_module": "@jupyter-widgets/base",
      "model_module_version": "1.2.0",
      "model_name": "LayoutModel",
      "state": {
       "display": "none"
      }
     },
     "adf1f26200614f9eaf6a38d27a8f1535": {
      "model_module": "@jupyter-widgets/base",
      "model_module_version": "1.2.0",
      "model_name": "LayoutModel",
      "state": {}
     },
     "ae7b7a20e30c4563bec719a594c4718d": {
      "model_module": "@jupyter-widgets/controls",
      "model_module_version": "1.5.0",
      "model_name": "BoxModel",
      "state": {
       "children": [
        "IPY_MODEL_922396816fef4827b85c2a8ab73a0c92",
        "IPY_MODEL_f98da36815684debb718816e212afdb0"
       ],
       "layout": "IPY_MODEL_e425255db0034902b6d6c4ce3ccbc46d"
      }
     },
     "aeab2a07fcce4790b12d01499fd6c582": {
      "model_module": "@jupyter-widgets/base",
      "model_module_version": "1.2.0",
      "model_name": "LayoutModel",
      "state": {
       "width": "100px"
      }
     },
     "af1796eb32454067a2a248a30c58284f": {
      "model_module": "@jupyter-widgets/base",
      "model_module_version": "1.2.0",
      "model_name": "LayoutModel",
      "state": {}
     },
     "af59c9fcd88e44cb8dcdd999c44b230c": {
      "model_module": "@jupyter-widgets/controls",
      "model_module_version": "1.5.0",
      "model_name": "FloatSliderModel",
      "state": {
       "layout": "IPY_MODEL_766d39561e184ec89fcfea2eda98549f",
       "max": 10,
       "step": 0.02,
       "style": "IPY_MODEL_5d1ece9ee2af4dbcb92248941f323f84",
       "value": 1
      }
     },
     "afb2f9943e4649f797aa99f83f9e7e84": {
      "model_module": "@jupyter-widgets/base",
      "model_module_version": "1.2.0",
      "model_name": "LayoutModel",
      "state": {
       "align_items": "stretch",
       "align_self": "center"
      }
     },
     "afff0ec718ae4d6b9cdf558d5128d362": {
      "model_module": "@jupyter-widgets/controls",
      "model_module_version": "1.5.0",
      "model_name": "BoxModel",
      "state": {
       "children": [
        "IPY_MODEL_c66ac0e2cbd74ec98d9e794e6492db1d",
        "IPY_MODEL_661cf1b9427e4b0c97f76962b824834c"
       ],
       "layout": "IPY_MODEL_eb69a8e03cf44b96825e4be413fff080"
      }
     },
     "b0118b3f3dcc4734977491a517fb0b63": {
      "model_module": "@jupyter-widgets/controls",
      "model_module_version": "1.5.0",
      "model_name": "BoxModel",
      "state": {
       "children": [
        "IPY_MODEL_79045a19dd1a4054a7643cd6b7af5db0",
        "IPY_MODEL_f0ec8339a56447d0a21ac47beef162e2"
       ],
       "layout": "IPY_MODEL_eb69a8e03cf44b96825e4be413fff080"
      }
     },
     "b01f05e23b4b4cc5bd953d3491bbea87": {
      "model_module": "@jupyter-widgets/controls",
      "model_module_version": "1.5.0",
      "model_name": "FloatSliderModel",
      "state": {
       "layout": "IPY_MODEL_5fc215e41f9145159d1921ceb5c0c187",
       "max": 10,
       "step": 0.1,
       "style": "IPY_MODEL_77a18c2a9fdd45529c1f1b0ebf3b3e5a",
       "value": 0.8
      }
     },
     "b04a807556b342a1b508109e0998461c": {
      "model_module": "@jupyter-widgets/controls",
      "model_module_version": "1.5.0",
      "model_name": "LabelModel",
      "state": {
       "layout": "IPY_MODEL_564c4234b644412884f3ddccd0a83fd3",
       "style": "IPY_MODEL_f5a3025a3ac54ddd90bf747b031f1ba2"
      }
     },
     "b057d63545a641cfa67213d52a1c2bba": {
      "model_module": "@jupyter-widgets/controls",
      "model_module_version": "1.5.0",
      "model_name": "ButtonModel",
      "state": {
       "description": " Refresh",
       "icon": "refresh",
       "layout": "IPY_MODEL_f7a0e5486d164312ae56e48601ae49cc",
       "style": "IPY_MODEL_5945024d52444a3dba0f6d3d8a8413fd",
       "tooltip": "Get representation info"
      }
     },
     "b05938098ef048ac92040b0b3c6d277c": {
      "model_module": "@jupyter-widgets/controls",
      "model_module_version": "1.5.0",
      "model_name": "BoxModel",
      "state": {
       "children": [
        "IPY_MODEL_a218762f325d49a1a5815f61b1d3a343",
        "IPY_MODEL_922a6a0df72744e980f162a937d83b88"
       ],
       "layout": "IPY_MODEL_e4a187e988d845c3abf09d7cdf7ffaa4"
      }
     },
     "b07783b8cabc4cee806774dbae623f5a": {
      "model_module": "@jupyter-widgets/controls",
      "model_module_version": "1.5.0",
      "model_name": "DescriptionStyleModel",
      "state": {
       "description_width": ""
      }
     },
     "b0902568c6524ec386b23de8c39909e6": {
      "model_module": "@jupyter-widgets/controls",
      "model_module_version": "1.5.0",
      "model_name": "ButtonModel",
      "state": {
       "icon": "camera",
       "layout": "IPY_MODEL_81e647a7c7ff457586d29e2d2c0f65a7",
       "style": "IPY_MODEL_0505c8362cf342f2a3da41259a3e543a"
      }
     },
     "b0e469b58627470c911f9e45e757377e": {
      "model_module": "@jupyter-widgets/base",
      "model_module_version": "1.2.0",
      "model_name": "LayoutModel",
      "state": {
       "width": "200px"
      }
     },
     "b0e50a9e791449fa913dfe3b413a897c": {
      "model_module": "@jupyter-widgets/controls",
      "model_module_version": "1.5.0",
      "model_name": "BoxModel",
      "state": {
       "children": [
        "IPY_MODEL_b968e7382479417b81f68782795ba34f",
        "IPY_MODEL_2ecd58dcbd4047f7b120a211a2cdf1ec"
       ],
       "layout": "IPY_MODEL_e4a187e988d845c3abf09d7cdf7ffaa4"
      }
     },
     "b10cb63add2a433aa6d5b72b37485772": {
      "model_module": "@jupyter-widgets/controls",
      "model_module_version": "1.5.0",
      "model_name": "LabelModel",
      "state": {
       "layout": "IPY_MODEL_a23af4fab15f493f84e287d8cc930bb4",
       "style": "IPY_MODEL_6339b2d7f3994d319b4d8dc8a696be40",
       "value": "delay"
      }
     },
     "b1bfbfba47ab4fdd9920782f03aefc39": {
      "model_module": "@jupyter-widgets/base",
      "model_module_version": "1.2.0",
      "model_name": "LayoutModel",
      "state": {}
     },
     "b1d11ff75fce4142baf345a597f0340c": {
      "model_module": "@jupyter-widgets/base",
      "model_module_version": "1.2.0",
      "model_name": "LayoutModel",
      "state": {}
     },
     "b2755ea394274d9bb6f3bc0acb3af94e": {
      "model_module": "@jupyter-widgets/base",
      "model_module_version": "1.2.0",
      "model_name": "LayoutModel",
      "state": {}
     },
     "b2e2e07506074888b9abbac62dd49c04": {
      "model_module": "@jupyter-widgets/controls",
      "model_module_version": "1.5.0",
      "model_name": "ButtonModel",
      "state": {
       "description": " Center",
       "icon": "bullseye",
       "layout": "IPY_MODEL_2a4e3d4d679440bb92f39e0b0e3d7686",
       "style": "IPY_MODEL_3d062cec763a4f31b1742fedada4982b",
       "tooltip": "center selected atoms"
      }
     },
     "b34b4b118aac476f96a71df32e6cd748": {
      "model_module": "@jupyter-widgets/base",
      "model_module_version": "1.2.0",
      "model_name": "LayoutModel",
      "state": {}
     },
     "b37f56ec51844073b452212c25b60eaa": {
      "model_module": "@jupyter-widgets/controls",
      "model_module_version": "1.5.0",
      "model_name": "TabModel",
      "state": {
       "_titles": {
        "0": "Picked",
        "1": "Quick",
        "2": "Image",
        "3": "Command"
       },
       "children": [
        "IPY_MODEL_f87891de1791484aaec29f97b842028d",
        "IPY_MODEL_1b53c29f6128416eb3d9133a7367cbfe",
        "IPY_MODEL_700c571a9f0142aeb6dfcc52180fced1",
        "IPY_MODEL_e0f8c4369757422c8ec0a3ab15166469"
       ],
       "layout": "IPY_MODEL_56e0bfed203c467ebe8458a335f00a74"
      }
     },
     "b3b2ab7106e24035b36f997c80c6928a": {
      "model_module": "@jupyter-widgets/controls",
      "model_module_version": "1.5.0",
      "model_name": "LabelModel",
      "state": {
       "layout": "IPY_MODEL_2ab95e42c0ca48a788a8df6683f7fb99",
       "style": "IPY_MODEL_23009b6dffed4006a5e00876c8f5d8d5",
       "value": "camera_fov"
      }
     },
     "b3c2d1f553d0450d9dd501ec20029061": {
      "model_module": "@jupyter-widgets/controls",
      "model_module_version": "1.5.0",
      "model_name": "BoxModel",
      "state": {
       "children": [
        "IPY_MODEL_7c8a17583ee644f393bb7c75adf58e2a",
        "IPY_MODEL_af59c9fcd88e44cb8dcdd999c44b230c"
       ],
       "layout": "IPY_MODEL_a233bad3a88046ccb196b8a0ae53fd3f"
      }
     },
     "b3d03916f9614e4382c421954f339841": {
      "model_module": "@jupyter-widgets/base",
      "model_module_version": "1.2.0",
      "model_name": "LayoutModel",
      "state": {}
     },
     "b3d5e481b7c24acc95a03617f3543ef0": {
      "model_module": "@jupyter-widgets/controls",
      "model_module_version": "1.5.0",
      "model_name": "LabelModel",
      "state": {
       "layout": "IPY_MODEL_b1bfbfba47ab4fdd9920782f03aefc39",
       "style": "IPY_MODEL_808e0a100ea14b72ac09173215305379"
      }
     },
     "b4059a16bae040568b81b7bf4abad9d0": {
      "model_module": "@jupyter-widgets/controls",
      "model_module_version": "1.5.0",
      "model_name": "BoxModel",
      "state": {
       "layout": "IPY_MODEL_9c3cd11aa83d4267ab75238e0464210c"
      }
     },
     "b51c98dfaa44460583f13236d5ce35f7": {
      "model_module": "@jupyter-widgets/controls",
      "model_module_version": "1.5.0",
      "model_name": "SliderStyleModel",
      "state": {
       "description_width": ""
      }
     },
     "b538a4f39cb8407a8b3dd590b2ecfaec": {
      "model_module": "@jupyter-widgets/controls",
      "model_module_version": "1.5.0",
      "model_name": "BoxModel",
      "state": {
       "children": [
        "IPY_MODEL_14b4c45916fb42c084a7499942bef3ec"
       ],
       "layout": "IPY_MODEL_0816eb3c8f674b25affcab31c06c01d3"
      }
     },
     "b5b2e6306e9c482ba338fa944bca8720": {
      "model_module": "@jupyter-widgets/controls",
      "model_module_version": "1.5.0",
      "model_name": "SliderStyleModel",
      "state": {
       "description_width": ""
      }
     },
     "b63d6de88d7445e68fb71b34ec37a957": {
      "model_module": "@jupyter-widgets/controls",
      "model_module_version": "1.5.0",
      "model_name": "BoxModel",
      "state": {
       "children": [
        "IPY_MODEL_82bc47305e1c448890aff4b5debf9274",
        "IPY_MODEL_149786f3b627483f88f62935280bb6aa",
        "IPY_MODEL_0c8b0c68a0ff4e3a8b94420e1cd984fd",
        "IPY_MODEL_0144a3b215bc4724916f756ddc029082",
        "IPY_MODEL_52ad09ee88a644cb880d5907d4b55d10",
        "IPY_MODEL_9ae56ed6fe6b43189179fc8bd7c3fd66",
        "IPY_MODEL_a77761cc4f624a2ea86e3147d86fc53a",
        "IPY_MODEL_964ef795289c496a885cb2944abb8c3c",
        "IPY_MODEL_3f3d0ed5316342fd81cd1f68ccc9d419",
        "IPY_MODEL_a2781433ae5f451193a00448f6cf3732",
        "IPY_MODEL_b0118b3f3dcc4734977491a517fb0b63",
        "IPY_MODEL_afff0ec718ae4d6b9cdf558d5128d362",
        "IPY_MODEL_f9b201f0d37243fe9c245806e2c91854",
        "IPY_MODEL_a3579251def84b81b72159d527728b67",
        "IPY_MODEL_a47db4946b2a431fb8f646788690e532"
       ],
       "layout": "IPY_MODEL_06bb44790d77449a9850920cfbad1b17"
      }
     },
     "b6a8b20c3ef54a45b8d8964cb1126b0e": {
      "model_module": "@jupyter-widgets/controls",
      "model_module_version": "1.5.0",
      "model_name": "SliderStyleModel",
      "state": {
       "description_width": ""
      }
     },
     "b6c7402e1ddc49688e975619d5c82b76": {
      "model_module": "@jupyter-widgets/controls",
      "model_module_version": "1.5.0",
      "model_name": "LabelModel",
      "state": {
       "layout": "IPY_MODEL_4342c4fc65f442d8bbe3d146975627ce",
       "style": "IPY_MODEL_d51f55a6c4d7432291ce914cac7d41ff"
      }
     },
     "b6f26db6fc784821a40bc6a72b57ef8d": {
      "model_module": "@jupyter-widgets/controls",
      "model_module_version": "1.5.0",
      "model_name": "LabelModel",
      "state": {
       "layout": "IPY_MODEL_e23bfbcc45684298ac4e702237198694",
       "style": "IPY_MODEL_0b75cd8d4aad413daeb282447f360b85",
       "value": "component"
      }
     },
     "b702313ee3444a67be160e7dd8a71b80": {
      "model_module": "@jupyter-widgets/base",
      "model_module_version": "1.2.0",
      "model_name": "LayoutModel",
      "state": {}
     },
     "b714f99e73f548ce939ac90d88a35d94": {
      "model_module": "@jupyter-widgets/base",
      "model_module_version": "1.2.0",
      "model_name": "LayoutModel",
      "state": {}
     },
     "b746a0ea80194e88a45fec0a4dd1aa5c": {
      "model_module": "@jupyter-widgets/controls",
      "model_module_version": "1.5.0",
      "model_name": "LabelModel",
      "state": {
       "layout": "IPY_MODEL_b95a7e4320474990ab514b4977171ed3",
       "style": "IPY_MODEL_6688d52fda534bbb82d72399b6f8b471",
       "value": "selection"
      }
     },
     "b746e5604dc9460eafb90e52aa8adab8": {
      "model_module": "@jupyter-widgets/controls",
      "model_module_version": "1.5.0",
      "model_name": "CheckboxModel",
      "state": {
       "disabled": false,
       "layout": "IPY_MODEL_2867f6e1e6e44ee8b64e51bee70d014e",
       "style": "IPY_MODEL_26971ef3e9444a609d58c74a54fc83ef",
       "value": true
      }
     },
     "b797fe170fb4491f9ee609beabea8455": {
      "model_module": "@jupyter-widgets/controls",
      "model_module_version": "1.5.0",
      "model_name": "DescriptionStyleModel",
      "state": {
       "description_width": ""
      }
     },
     "b811a0adbd3a46aaa1abe6d78d8bf2d0": {
      "model_module": "@jupyter-widgets/controls",
      "model_module_version": "1.5.0",
      "model_name": "FloatSliderModel",
      "state": {
       "description": "probe_radius",
       "layout": "IPY_MODEL_c9ebcf2e107849749d75ba93025096e5",
       "max": 5,
       "step": 0.1,
       "style": "IPY_MODEL_1fb553d968ce46b2879d970cda1b218d",
       "value": 1.4
      }
     },
     "b8187ddf911f47b59ef55769ed4f1195": {
      "model_module": "@jupyter-widgets/base",
      "model_module_version": "1.2.0",
      "model_name": "LayoutModel",
      "state": {
       "width": "34px"
      }
     },
     "b8bf6f4aba32477bbaf1386c18c9dbde": {
      "model_module": "@jupyter-widgets/controls",
      "model_module_version": "1.5.0",
      "model_name": "DescriptionStyleModel",
      "state": {
       "description_width": ""
      }
     },
     "b8ec61239aea4a90a322b732922ad6f7": {
      "model_module": "@jupyter-widgets/controls",
      "model_module_version": "1.5.0",
      "model_name": "BoxModel",
      "state": {
       "children": [
        "IPY_MODEL_8f6b8ebcc3994cf8865e179815eda5f7",
        "IPY_MODEL_be924dec7236417495de14683b13963b"
       ],
       "layout": "IPY_MODEL_49eee7e1b30e4eb1a4e6e1bc48685250"
      }
     },
     "b9048f8ffe4743729d8b4babaaf7b973": {
      "model_module": "@jupyter-widgets/base",
      "model_module_version": "1.2.0",
      "model_name": "LayoutModel",
      "state": {
       "width": "100px"
      }
     },
     "b9475932e9fa4d80bc722124367f744a": {
      "model_module": "@jupyter-widgets/base",
      "model_module_version": "1.2.0",
      "model_name": "LayoutModel",
      "state": {
       "width": "200px"
      }
     },
     "b95a7e4320474990ab514b4977171ed3": {
      "model_module": "@jupyter-widgets/base",
      "model_module_version": "1.2.0",
      "model_name": "LayoutModel",
      "state": {}
     },
     "b968e7382479417b81f68782795ba34f": {
      "model_module": "@jupyter-widgets/controls",
      "model_module_version": "1.5.0",
      "model_name": "LabelModel",
      "state": {
       "layout": "IPY_MODEL_565c523b02174978aec731788625ef6d",
       "style": "IPY_MODEL_7162d4d998324cdbaa0e125ffb02b55f",
       "value": "component"
      }
     },
     "b9a19a161f9a422686f7ddbd63502212": {
      "model_module": "@jupyter-widgets/base",
      "model_module_version": "1.2.0",
      "model_name": "LayoutModel",
      "state": {}
     },
     "b9fb066abcdc43f98568552634a4def5": {
      "model_module": "@jupyter-widgets/base",
      "model_module_version": "1.2.0",
      "model_name": "LayoutModel",
      "state": {}
     },
     "bad8a8ee9ac142bc9643ca35d452fbb3": {
      "model_module": "@jupyter-widgets/controls",
      "model_module_version": "1.5.0",
      "model_name": "DescriptionStyleModel",
      "state": {
       "description_width": ""
      }
     },
     "baf53140a6874310b7b9660710f1d2ac": {
      "model_module": "@jupyter-widgets/base",
      "model_module_version": "1.2.0",
      "model_name": "LayoutModel",
      "state": {
       "align_items": "stretch",
       "display": "flex",
       "flex_flow": "column",
       "width": "75%"
      }
     },
     "bb352db533d44a5b877338f496a1497d": {
      "model_module": "@jupyter-widgets/controls",
      "model_module_version": "1.5.0",
      "model_name": "BoxModel",
      "state": {
       "children": [
        "IPY_MODEL_fcff060d230f401a8a29c643831b93f7",
        "IPY_MODEL_91d383721d114ed88faaf80fce4ad8c3"
       ],
       "layout": "IPY_MODEL_5fe77ce63d73496aa4dc3956a2405e64"
      }
     },
     "bb3a633f87004b5fb64dd3658509381a": {
      "model_module": "@jupyter-widgets/base",
      "model_module_version": "1.2.0",
      "model_name": "LayoutModel",
      "state": {
       "flex": "1 1 auto",
       "width": "auto"
      }
     },
     "bba3295f88604228afbd860474e2ed12": {
      "model_module": "@jupyter-widgets/base",
      "model_module_version": "1.2.0",
      "model_name": "LayoutModel",
      "state": {}
     },
     "bbcd7a04f5fc4c68bb617ffb30dcdbbe": {
      "model_module": "@jupyter-widgets/controls",
      "model_module_version": "1.5.0",
      "model_name": "DescriptionStyleModel",
      "state": {
       "description_width": ""
      }
     },
     "bbd3df98d39b45f7b0d8693861ff0a80": {
      "model_module": "@jupyter-widgets/base",
      "model_module_version": "1.2.0",
      "model_name": "LayoutModel",
      "state": {}
     },
     "bc019ebc512042559297d2789f910fa8": {
      "model_module": "@jupyter-widgets/base",
      "model_module_version": "1.2.0",
      "model_name": "LayoutModel",
      "state": {
       "width": "200px"
      }
     },
     "bc4010f6ec9c49e6a73921a45d38f66d": {
      "model_module": "@jupyter-widgets/controls",
      "model_module_version": "1.5.0",
      "model_name": "ButtonStyleModel",
      "state": {}
     },
     "bcb6fb57a6b34a43b4e317311ae0cc17": {
      "model_module": "@jupyter-widgets/base",
      "model_module_version": "1.2.0",
      "model_name": "LayoutModel",
      "state": {}
     },
     "bcc3b17ea41e46be860f0f487b5710f4": {
      "model_module": "@jupyter-widgets/base",
      "model_module_version": "1.2.0",
      "model_name": "LayoutModel",
      "state": {
       "display": "flex",
       "flex_flow": "row",
       "justify_content": "space-between"
      }
     },
     "bcc409471b5942bda9a78a638f4d6c58": {
      "model_module": "@jupyter-widgets/controls",
      "model_module_version": "1.5.0",
      "model_name": "ButtonModel",
      "state": {
       "description": "Hide",
       "icon": "eye-slash",
       "layout": "IPY_MODEL_00c08ec0ca354652bd2ca48407ff22a5",
       "style": "IPY_MODEL_58bc09a688c84791a95ee10ff7a8a2e5",
       "tooltip": "Hide/Show current representation"
      }
     },
     "be924dec7236417495de14683b13963b": {
      "model_module": "@jupyter-widgets/controls",
      "model_module_version": "1.5.0",
      "model_name": "DropdownModel",
      "state": {
       "_options_labels": [
        "perspective",
        "orthographic"
       ],
       "index": 0,
       "layout": "IPY_MODEL_52996dc64c064ead887b4a01579efa97",
       "style": "IPY_MODEL_c3a5a3b32beb41d6af2b3226f6027d95"
      }
     },
     "bea67481f2f84870ace33cc81edd2820": {
      "model_module": "@jupyter-widgets/base",
      "model_module_version": "1.2.0",
      "model_name": "LayoutModel",
      "state": {}
     },
     "beb289dfb9e14ada9320a18db5b87de0": {
      "model_module": "@jupyter-widgets/controls",
      "model_module_version": "1.5.0",
      "model_name": "BoxModel",
      "state": {
       "children": [
        "IPY_MODEL_b3d5e481b7c24acc95a03617f3543ef0",
        "IPY_MODEL_c069827a397842a5b804fa93de22fc11"
       ],
       "layout": "IPY_MODEL_e4a187e988d845c3abf09d7cdf7ffaa4"
      }
     },
     "bed1c1d8c3a5411798f15b15ebfc2e14": {
      "model_module": "@jupyter-widgets/output",
      "model_module_version": "1.0.0",
      "model_name": "OutputModel",
      "state": {
       "layout": "IPY_MODEL_052560d808bd414d991a749e5e48fd73"
      }
     },
     "bf4f0a86b4b64f99aefe4574bd367fa5": {
      "model_module": "@jupyter-widgets/controls",
      "model_module_version": "1.5.0",
      "model_name": "BoxModel",
      "state": {
       "children": [
        "IPY_MODEL_c4709af2db6346cb9905c16ba22469c8",
        "IPY_MODEL_3686a4b1fab0480cbe783ade42774e65"
       ],
       "layout": "IPY_MODEL_bcc3b17ea41e46be860f0f487b5710f4"
      }
     },
     "bf8f508153a443b48769de5625f94c16": {
      "model_module": "@jupyter-widgets/controls",
      "model_module_version": "1.5.0",
      "model_name": "FloatSliderModel",
      "state": {
       "description": "isolevel",
       "layout": "IPY_MODEL_f4de299967434135a61a15c29fbce387",
       "max": 10,
       "step": 0.1,
       "style": "IPY_MODEL_c55019f4a9d64c25946a50fc7aa5dba1",
       "value": 2
      }
     },
     "bfc222356c4b4eef8c42d941aa7b0a0c": {
      "model_module": "@jupyter-widgets/base",
      "model_module_version": "1.2.0",
      "model_name": "LayoutModel",
      "state": {
       "width": "200px"
      }
     },
     "c0317d6ed94b4d49b6e4bf40d61f4d7f": {
      "model_module": "@jupyter-widgets/controls",
      "model_module_version": "1.5.0",
      "model_name": "VBoxModel",
      "state": {
       "children": [
        "IPY_MODEL_7a14de6c078046fa89a61c1ca7401e79",
        "IPY_MODEL_fcb03acd17a14ddea630994d80306298",
        "IPY_MODEL_05074572a2f64697ac0e59ce9046ca31",
        "IPY_MODEL_00349ea5dbb943fb8d98939da74ec0b4",
        "IPY_MODEL_3686a4b1fab0480cbe783ade42774e65"
       ],
       "layout": "IPY_MODEL_44392f26af8b4ae5940917eae44831da"
      }
     },
     "c0627d91256349b0a971c75067a3e726": {
      "model_module": "@jupyter-widgets/base",
      "model_module_version": "1.2.0",
      "model_name": "LayoutModel",
      "state": {}
     },
     "c069827a397842a5b804fa93de22fc11": {
      "model_module": "@jupyter-widgets/controls",
      "model_module_version": "1.5.0",
      "model_name": "HBoxModel",
      "state": {
       "children": [
        "IPY_MODEL_b057d63545a641cfa67213d52a1c2bba",
        "IPY_MODEL_b2e2e07506074888b9abbac62dd49c04",
        "IPY_MODEL_c303b95dcb8f4109ae1e4eb3d198fe2b",
        "IPY_MODEL_00352a764fe041538bd5d6459fc3ebf3"
       ],
       "layout": "IPY_MODEL_3489f2e279fa40f99eb36541d1bd7c4e"
      }
     },
     "c08f30ee17a94e34a0d99d1a01294f22": {
      "model_module": "@jupyter-widgets/controls",
      "model_module_version": "1.5.0",
      "model_name": "LabelModel",
      "state": {
       "layout": "IPY_MODEL_b9fb066abcdc43f98568552634a4def5",
       "style": "IPY_MODEL_5b5c284e071048fd946bdd3b0c1454ec",
       "value": "Picked atom"
      }
     },
     "c1204275ae444a76ba0904d7a7d6b1e1": {
      "model_module": "@jupyter-widgets/base",
      "model_module_version": "1.2.0",
      "model_name": "LayoutModel",
      "state": {}
     },
     "c134478607da43ab9f10ae348eb64e93": {
      "model_module": "@jupyter-widgets/controls",
      "model_module_version": "1.5.0",
      "model_name": "LabelModel",
      "state": {
       "layout": "IPY_MODEL_d2930589d59245bcb1fb094f6552af86",
       "style": "IPY_MODEL_ebc5632ab75046f2a53b24e2d0afa26d",
       "value": "representation"
      }
     },
     "c138338542044c7b909396d59c7db096": {
      "model_module": "@jupyter-widgets/controls",
      "model_module_version": "1.5.0",
      "model_name": "BoxModel",
      "state": {
       "children": [
        "IPY_MODEL_60438b6939134f0fb8eda10f0acc840b",
        "IPY_MODEL_31281bf0130b4b8981479346ed5588a7"
       ],
       "layout": "IPY_MODEL_9736a98bfa114f0ca4a8f8d15e720149"
      }
     },
     "c2148e0dbda74fc680fc2e1e4307e446": {
      "model_module": "@jupyter-widgets/controls",
      "model_module_version": "1.5.0",
      "model_name": "BoxModel",
      "state": {
       "children": [
        "IPY_MODEL_46882a93f300420d81d9cef9ca77fbea",
        "IPY_MODEL_207db9c0b4ba424f9d158138ce2ddcce"
       ],
       "layout": "IPY_MODEL_49eee7e1b30e4eb1a4e6e1bc48685250"
      }
     },
     "c25e7ab9a89e4617b7e6afb2012183d7": {
      "model_module": "@jupyter-widgets/base",
      "model_module_version": "1.2.0",
      "model_name": "LayoutModel",
      "state": {}
     },
     "c271bd99f24b4df8bcd5b537b0e6bfd2": {
      "model_module": "@jupyter-widgets/controls",
      "model_module_version": "1.5.0",
      "model_name": "SliderStyleModel",
      "state": {
       "description_width": ""
      }
     },
     "c2d30869f2524e32994990cad5dc5fe3": {
      "model_module": "@jupyter-widgets/base",
      "model_module_version": "1.2.0",
      "model_name": "LayoutModel",
      "state": {
       "display": "none",
       "width": "100px"
      }
     },
     "c303b95dcb8f4109ae1e4eb3d198fe2b": {
      "model_module": "@jupyter-widgets/controls",
      "model_module_version": "1.5.0",
      "model_name": "ButtonModel",
      "state": {
       "description": "Hide",
       "icon": "eye-slash",
       "layout": "IPY_MODEL_a8f3984e145e4b179efe5d3f02e9255d",
       "style": "IPY_MODEL_ef4a0a32c266477792e1c4ac3900d617",
       "tooltip": "Hide/Show current representation"
      }
     },
     "c3a5a3b32beb41d6af2b3226f6027d95": {
      "model_module": "@jupyter-widgets/controls",
      "model_module_version": "1.5.0",
      "model_name": "DescriptionStyleModel",
      "state": {
       "description_width": ""
      }
     },
     "c439c7784db048dbb7329c86b76d0818": {
      "model_module": "@jupyter-widgets/base",
      "model_module_version": "1.2.0",
      "model_name": "LayoutModel",
      "state": {}
     },
     "c4709af2db6346cb9905c16ba22469c8": {
      "model_module": "@jupyter-widgets/controls",
      "model_module_version": "1.5.0",
      "model_name": "LabelModel",
      "state": {
       "layout": "IPY_MODEL_10b5d211e9694340ac1d0524fa779553",
       "style": "IPY_MODEL_8d6751d3d1ea43f2a0ff247b3b9c80f9"
      }
     },
     "c4ce004b6bc349e18934533a30c309d3": {
      "model_module": "@jupyter-widgets/controls",
      "model_module_version": "1.5.0",
      "model_name": "IntSliderModel",
      "state": {
       "layout": "IPY_MODEL_dbd73e6fc43743c0ac453c637910d3d1",
       "style": "IPY_MODEL_b5b2e6306e9c482ba338fa944bca8720",
       "value": 50
      }
     },
     "c520020bdbba4a07b6204277462a5b28": {
      "model_module": "@jupyter-widgets/controls",
      "model_module_version": "1.5.0",
      "model_name": "LabelModel",
      "state": {
       "layout": "IPY_MODEL_e41423c10422492dac489f2067038c53",
       "style": "IPY_MODEL_a21f2aaaede643089e017ce934c5b4aa"
      }
     },
     "c55019f4a9d64c25946a50fc7aa5dba1": {
      "model_module": "@jupyter-widgets/controls",
      "model_module_version": "1.5.0",
      "model_name": "SliderStyleModel",
      "state": {
       "description_width": ""
      }
     },
     "c597f1c35f5d46f6842ef1aa0a35554b": {
      "model_module": "@jupyter-widgets/controls",
      "model_module_version": "1.5.0",
      "model_name": "IntSliderModel",
      "state": {
       "layout": "IPY_MODEL_7040299cae4f49dab43df5438ceede79",
       "style": "IPY_MODEL_d16eb1c272b8497784614b6ec9bb1f29",
       "value": 100
      }
     },
     "c66ac0e2cbd74ec98d9e794e6492db1d": {
      "model_module": "@jupyter-widgets/controls",
      "model_module_version": "1.5.0",
      "model_name": "LabelModel",
      "state": {
       "layout": "IPY_MODEL_561af288b3214fd285737a5003c23e0d",
       "style": "IPY_MODEL_6f7bf61b9527447c9d8b6ccc412e9f7c",
       "value": "light_intensity"
      }
     },
     "c6f95900e13b4aa1a34026b978ee7001": {
      "model_module": "@jupyter-widgets/controls",
      "model_module_version": "1.5.0",
      "model_name": "LabelModel",
      "state": {
       "layout": "IPY_MODEL_e048d2fadf374ffdaa50331c84bb8034",
       "style": "IPY_MODEL_67f05d4d69ce4b039863df5e60fed131"
      }
     },
     "c724bf89d6154a4499e9114984f04e0c": {
      "model_module": "@jupyter-widgets/controls",
      "model_module_version": "1.5.0",
      "model_name": "DescriptionStyleModel",
      "state": {
       "description_width": ""
      }
     },
     "c7692969536b49108052d3cc29249eda": {
      "model_module": "@jupyter-widgets/controls",
      "model_module_version": "1.5.0",
      "model_name": "IntSliderModel",
      "state": {
       "description": "smooth",
       "layout": "IPY_MODEL_ade82d6dda164b479422f5312916bfaa",
       "max": 10,
       "style": "IPY_MODEL_dea7a4775a50462595ea03e6c7fd8253",
       "value": 2
      }
     },
     "c781d0d215dd4d1ab95baba3479a8f6c": {
      "model_module": "@jupyter-widgets/controls",
      "model_module_version": "1.5.0",
      "model_name": "DescriptionStyleModel",
      "state": {
       "description_width": ""
      }
     },
     "c7e181bec5cd41489a81fcdc01d07eae": {
      "model_module": "@jupyter-widgets/controls",
      "model_module_version": "1.5.0",
      "model_name": "IntSliderModel",
      "state": {
       "layout": "IPY_MODEL_218c62014b004f81aca0c18a7d4d1ddb",
       "style": "IPY_MODEL_43b2f5525c6e4b808e041ef800fca56c",
       "value": 100
      }
     },
     "c7e1bfb8279a443cb6f7d9d49a5fa831": {
      "model_module": "@jupyter-widgets/controls",
      "model_module_version": "1.5.0",
      "model_name": "DescriptionStyleModel",
      "state": {
       "description_width": ""
      }
     },
     "c804ee417a0244e18bd676d41584c608": {
      "model_module": "@jupyter-widgets/controls",
      "model_module_version": "1.5.0",
      "model_name": "LabelModel",
      "state": {
       "layout": "IPY_MODEL_bea67481f2f84870ace33cc81edd2820",
       "style": "IPY_MODEL_5ea0d6fd4c8a493e90d4a11e8eb3b3c6",
       "value": "Picked atom"
      }
     },
     "c80b1372f58441a281b872a484f4c8ba": {
      "model_module": "@jupyter-widgets/base",
      "model_module_version": "1.2.0",
      "model_name": "LayoutModel",
      "state": {}
     },
     "c821e91b59b9492aa6239632bd04ce0b": {
      "model_module": "@jupyter-widgets/base",
      "model_module_version": "1.2.0",
      "model_name": "LayoutModel",
      "state": {}
     },
     "c8276e88f96c4af290d0277ed4769ac0": {
      "model_module": "@jupyter-widgets/controls",
      "model_module_version": "1.5.0",
      "model_name": "DescriptionStyleModel",
      "state": {
       "description_width": ""
      }
     },
     "c85bcde04f4d44e79df92a8e928915f0": {
      "model_module": "@jupyter-widgets/controls",
      "model_module_version": "1.5.0",
      "model_name": "IntSliderModel",
      "state": {
       "description": "box_size",
       "layout": "IPY_MODEL_05dfbf67c8d24a73860ab783e44872ef",
       "step": 2,
       "style": "IPY_MODEL_cc3f4f2d42c842e0ab01be00c22e2437",
       "value": 10
      }
     },
     "c89360ae2f684318b0cd7e732669cbe6": {
      "model_module": "@jupyter-widgets/controls",
      "model_module_version": "1.5.0",
      "model_name": "DescriptionStyleModel",
      "state": {
       "description_width": ""
      }
     },
     "c8c8adc58c7b47cd8d76a4d80d9a0445": {
      "model_module": "@jupyter-widgets/base",
      "model_module_version": "1.2.0",
      "model_name": "LayoutModel",
      "state": {}
     },
     "c8ce69a402d745e49cca4201c2278f05": {
      "model_module": "@jupyter-widgets/output",
      "model_module_version": "1.0.0",
      "model_name": "OutputModel",
      "state": {
       "layout": "IPY_MODEL_0351d16fa3834bbc8413b352b2e9d3db"
      }
     },
     "c923f79d496c4c2484170668d3ee27da": {
      "model_module": "@jupyter-widgets/controls",
      "model_module_version": "1.5.0",
      "model_name": "ButtonStyleModel",
      "state": {}
     },
     "c9e3936ac8c942e192d803a6fb401f9c": {
      "model_module": "@jupyter-widgets/controls",
      "model_module_version": "1.5.0",
      "model_name": "DropdownModel",
      "state": {
       "_options_labels": [
        " ",
        "picking",
        "random",
        "uniform",
        "atomindex",
        "residueindex",
        "chainindex",
        "modelindex",
        "sstruc",
        "element",
        "resname",
        "bfactor",
        "hydrophobicity",
        "value",
        "volume",
        "occupancy"
       ],
       "description": "color_scheme",
       "index": 0,
       "layout": "IPY_MODEL_b9a19a161f9a422686f7ddbd63502212",
       "style": "IPY_MODEL_9513b7c1234343279c403187d12f4c2c"
      }
     },
     "c9ebcf2e107849749d75ba93025096e5": {
      "model_module": "@jupyter-widgets/base",
      "model_module_version": "1.2.0",
      "model_name": "LayoutModel",
      "state": {
       "display": "none"
      }
     },
     "ca5dea72f6244a70b810da9fd1ad9f9b": {
      "model_module": "@jupyter-widgets/controls",
      "model_module_version": "1.5.0",
      "model_name": "BoxModel",
      "state": {
       "children": [
        "IPY_MODEL_f4883d061a2d44bb9ee6611f1a50a040",
        "IPY_MODEL_65b9b55ee24647eab4e5ba3c897e3198"
       ],
       "layout": "IPY_MODEL_10e2f5f21d234c2e91cfa8625c565cb9"
      }
     },
     "ca930a4ad6254803b2b2d80de8467cdc": {
      "model_module": "@jupyter-widgets/controls",
      "model_module_version": "1.5.0",
      "model_name": "IntSliderModel",
      "state": {
       "layout": "IPY_MODEL_3d81739f922448d4bbdc23ec6d6d7dd7",
       "max": 120,
       "min": 15,
       "style": "IPY_MODEL_2ccd7fc2423d44fbb7a625b9468ad56d",
       "value": 40
      }
     },
     "caf6021c1f5f4c1ba91e4ce7a7e9a2f1": {
      "model_module": "@jupyter-widgets/controls",
      "model_module_version": "1.5.0",
      "model_name": "LabelModel",
      "state": {
       "layout": "IPY_MODEL_6ea7fc67429b4ef1928e409037f54180",
       "style": "IPY_MODEL_1462d4aeb77f4505a6a4d93c94f5a42c"
      }
     },
     "cb166734d6f143b0be3cdb0de2332f11": {
      "model_module": "@jupyter-widgets/controls",
      "model_module_version": "1.5.0",
      "model_name": "DescriptionStyleModel",
      "state": {
       "description_width": ""
      }
     },
     "cb49f1e8e397474aa5a30a76251c6a4f": {
      "model_module": "@jupyter-widgets/base",
      "model_module_version": "1.2.0",
      "model_name": "LayoutModel",
      "state": {}
     },
     "cb5247b54b9f4356b2432e2ffc49a97b": {
      "model_module": "@jupyter-widgets/controls",
      "model_module_version": "1.5.0",
      "model_name": "DescriptionStyleModel",
      "state": {
       "description_width": ""
      }
     },
     "cb6767e15b934ad692ad2ae011fdcbaf": {
      "model_module": "@jupyter-widgets/controls",
      "model_module_version": "1.5.0",
      "model_name": "BoxModel",
      "state": {
       "children": [
        "IPY_MODEL_51ee7f086e024492832d92a638070efd"
       ],
       "layout": "IPY_MODEL_60dce46f28324575abaf7ee39d688ebd"
      }
     },
     "cba6b10d557d43b19741e60ed369cff9": {
      "model_module": "@jupyter-widgets/controls",
      "model_module_version": "1.5.0",
      "model_name": "DescriptionStyleModel",
      "state": {
       "description_width": ""
      }
     },
     "cbc61b6fa2ab484f95ae3cdcd18a4bdc": {
      "model_module": "@jupyter-widgets/base",
      "model_module_version": "1.2.0",
      "model_name": "LayoutModel",
      "state": {}
     },
     "cc0fd48b9a944af7b8bf60ae01e89482": {
      "model_module": "@jupyter-widgets/base",
      "model_module_version": "1.2.0",
      "model_name": "LayoutModel",
      "state": {
       "display": "none"
      }
     },
     "cc2fa128ec2d475ca4d1b7769a6676d5": {
      "model_module": "@jupyter-widgets/controls",
      "model_module_version": "1.5.0",
      "model_name": "ButtonModel",
      "state": {
       "description": " Refresh",
       "icon": "refresh",
       "layout": "IPY_MODEL_e01204d771514d20aaf259836baff292",
       "style": "IPY_MODEL_13c6bceaf7ac404d851375b159a5f316",
       "tooltip": "Get representation info"
      }
     },
     "cc3f4f2d42c842e0ab01be00c22e2437": {
      "model_module": "@jupyter-widgets/controls",
      "model_module_version": "1.5.0",
      "model_name": "SliderStyleModel",
      "state": {
       "description_width": ""
      }
     },
     "cc42a40c995c4666be065626a8a30952": {
      "model_module": "@jupyter-widgets/controls",
      "model_module_version": "1.5.0",
      "model_name": "DescriptionStyleModel",
      "state": {
       "description_width": ""
      }
     },
     "ccab65b12d0945bd98fede1970c0d571": {
      "model_module": "@jupyter-widgets/controls",
      "model_module_version": "1.5.0",
      "model_name": "BoxModel",
      "state": {
       "children": [
        "IPY_MODEL_129ac5ba0e1f4cd2b6e0877fb7b81552"
       ],
       "layout": "IPY_MODEL_0fe35860e66f4d738c9e9a1db0ca082f"
      }
     },
     "ccb587fa5ff54bebbb4436f898879085": {
      "model_module": "@jupyter-widgets/controls",
      "model_module_version": "1.5.0",
      "model_name": "FloatSliderModel",
      "state": {
       "description": "cutoff",
       "layout": "IPY_MODEL_5d6bdbe4fcd949ca8f5993e22aa9ef8a",
       "step": 0.1,
       "style": "IPY_MODEL_4523ff9b385a4dd4b8222b7115fa415c"
      }
     },
     "ccf8a9b3fbfa406e918ef9e7afb4944c": {
      "model_module": "@jupyter-widgets/base",
      "model_module_version": "1.2.0",
      "model_name": "LayoutModel",
      "state": {}
     },
     "cdbabf4d388943f8a86dbfedb2e40229": {
      "model_module": "@jupyter-widgets/controls",
      "model_module_version": "1.5.0",
      "model_name": "BoxModel",
      "state": {
       "children": [
        "IPY_MODEL_252f20fe4d854b029f5892a1385973e2",
        "IPY_MODEL_05074572a2f64697ac0e59ce9046ca31"
       ],
       "layout": "IPY_MODEL_bcc3b17ea41e46be860f0f487b5710f4"
      }
     },
     "cdcc807225c94188ba38e6d218f04847": {
      "model_module": "@jupyter-widgets/base",
      "model_module_version": "1.2.0",
      "model_name": "LayoutModel",
      "state": {
       "width": "300px"
      }
     },
     "cdda0061ab264e4a9e174571ab31c315": {
      "model_module": "@jupyter-widgets/controls",
      "model_module_version": "1.5.0",
      "model_name": "LabelModel",
      "state": {
       "layout": "IPY_MODEL_1a42a3328dc04e5487095a6c719d1191",
       "style": "IPY_MODEL_7ef8271692684cbca0ef30a65c7dbd49",
       "value": "fog_near"
      }
     },
     "ce9e8cd520f14c8db236f2c8f75b825a": {
      "model_module": "@jupyter-widgets/controls",
      "model_module_version": "1.5.0",
      "model_name": "SliderStyleModel",
      "state": {
       "description_width": ""
      }
     },
     "cf213ee59923436e9103650d7554ed5e": {
      "model_module": "@jupyter-widgets/controls",
      "model_module_version": "1.5.0",
      "model_name": "DescriptionStyleModel",
      "state": {
       "description_width": ""
      }
     },
     "cfc13e8827b84bed90550a7c9168d6d6": {
      "model_module": "@jupyter-widgets/controls",
      "model_module_version": "1.5.0",
      "model_name": "BoxModel",
      "state": {
       "children": [
        "IPY_MODEL_b746a0ea80194e88a45fec0a4dd1aa5c",
        "IPY_MODEL_212455cf70e34be98f82fd42316f5ebb"
       ],
       "layout": "IPY_MODEL_9736a98bfa114f0ca4a8f8d15e720149"
      }
     },
     "d075cc320dac493d87c83af8b18d038a": {
      "model_module": "@jupyter-widgets/base",
      "model_module_version": "1.2.0",
      "model_name": "LayoutModel",
      "state": {
       "display": "flex",
       "flex_flow": "row",
       "justify_content": "space-between"
      }
     },
     "d077a336ddf94ba781151a58049089d2": {
      "model_module": "@jupyter-widgets/controls",
      "model_module_version": "1.5.0",
      "model_name": "DescriptionStyleModel",
      "state": {
       "description_width": ""
      }
     },
     "d08e7826f3764197bba033a43df1d0f6": {
      "model_module": "@jupyter-widgets/base",
      "model_module_version": "1.2.0",
      "model_name": "LayoutModel",
      "state": {}
     },
     "d08f5d65ae9b461ea65d31d5a1c9f680": {
      "model_module": "@jupyter-widgets/base",
      "model_module_version": "1.2.0",
      "model_name": "LayoutModel",
      "state": {
       "flex": "1 1 auto",
       "width": "auto"
      }
     },
     "d0c54d07ce084a15baf2be28a9c76e26": {
      "model_module": "@jupyter-widgets/base",
      "model_module_version": "1.2.0",
      "model_name": "LayoutModel",
      "state": {}
     },
     "d13187f3c0fc4d9fb2c4623309a0dbb4": {
      "model_module": "@jupyter-widgets/base",
      "model_module_version": "1.2.0",
      "model_name": "LayoutModel",
      "state": {}
     },
     "d16eb1c272b8497784614b6ec9bb1f29": {
      "model_module": "@jupyter-widgets/controls",
      "model_module_version": "1.5.0",
      "model_name": "SliderStyleModel",
      "state": {
       "description_width": ""
      }
     },
     "d1c37900dd7144edbfb95e70f5904621": {
      "model_module": "@jupyter-widgets/controls",
      "model_module_version": "1.5.0",
      "model_name": "CheckboxModel",
      "state": {
       "description": "wireframe",
       "disabled": false,
       "layout": "IPY_MODEL_3af655df399c45e4816ff0281cd99594",
       "style": "IPY_MODEL_df92394ca7a54b3da94a28b706e9bba1",
       "value": false
      }
     },
     "d1c78ca98c1a4efa94003d442418f852": {
      "model_module": "@jupyter-widgets/controls",
      "model_module_version": "1.5.0",
      "model_name": "BoxModel",
      "state": {
       "children": [
        "IPY_MODEL_372d517df96f4c10820cf70e4bf20b7d"
       ],
       "layout": "IPY_MODEL_98147b104e1f4879925cfe7662c97ff5"
      }
     },
     "d1fb12afbb0847d8b097dea6085c3e72": {
      "model_module": "@jupyter-widgets/controls",
      "model_module_version": "1.5.0",
      "model_name": "DescriptionStyleModel",
      "state": {
       "description_width": ""
      }
     },
     "d2930589d59245bcb1fb094f6552af86": {
      "model_module": "@jupyter-widgets/base",
      "model_module_version": "1.2.0",
      "model_name": "LayoutModel",
      "state": {}
     },
     "d29abb8993de421b852dbbaa284f979f": {
      "model_module": "@jupyter-widgets/controls",
      "model_module_version": "1.5.0",
      "model_name": "BoxModel",
      "state": {
       "layout": "IPY_MODEL_0fc15bd0d84c4455b9f2e2158dcba617"
      }
     },
     "d31cfe4aca6c46808f80a77c2938c5b8": {
      "model_module": "@jupyter-widgets/controls",
      "model_module_version": "1.5.0",
      "model_name": "TabModel",
      "state": {
       "_titles": {
        "0": "Picked",
        "1": "Quick",
        "2": "Image",
        "3": "Command"
       },
       "children": [
        "IPY_MODEL_d1c78ca98c1a4efa94003d442418f852",
        "IPY_MODEL_b4059a16bae040568b81b7bf4abad9d0",
        "IPY_MODEL_0be2f1647be24cd298fed525a28dd1be",
        "IPY_MODEL_ed7feb8aecdf4a7392326090beb60fb5"
       ],
       "layout": "IPY_MODEL_204e95926ea246f6bd78ec9e618111f7"
      }
     },
     "d39407cfa849420ea029abd8f0463ddd": {
      "model_module": "@jupyter-widgets/controls",
      "model_module_version": "1.5.0",
      "model_name": "HBoxModel",
      "state": {
       "children": [
        "IPY_MODEL_fb724388249c46469c23a2253295d6a6"
       ],
       "layout": "IPY_MODEL_17b8cfd46e1b4e4688034fbd812036e2"
      }
     },
     "d3b2641f91354621aa34866f95fe9791": {
      "model_module": "@jupyter-widgets/controls",
      "model_module_version": "1.5.0",
      "model_name": "DropdownModel",
      "state": {
       "_options_labels": [
        "0-cartoon",
        "1-base",
        "2-ball+stick"
       ],
       "index": 0,
       "layout": "IPY_MODEL_b9048f8ffe4743729d8b4babaaf7b973",
       "style": "IPY_MODEL_a05c5984338342d3b65562d8f89d2718"
      }
     },
     "d3bdbf1b04524f60aad59919f8058f68": {
      "model_module": "@jupyter-widgets/controls",
      "model_module_version": "1.5.0",
      "model_name": "ToggleButtonModel",
      "state": {
       "description": "Smoothing",
       "layout": "IPY_MODEL_d0c54d07ce084a15baf2be28a9c76e26",
       "style": "IPY_MODEL_de958a2b625c459294855b01fc0c71a3",
       "tooltip": "smoothing trajectory"
      }
     },
     "d3d9c3b5f09d4840aa309cdd4d21da99": {
      "model_module": "@jupyter-widgets/controls",
      "model_module_version": "1.5.0",
      "model_name": "DescriptionStyleModel",
      "state": {
       "description_width": ""
      }
     },
     "d3e72bdfd3fa4c65b654e6aaa373066f": {
      "model_module": "@jupyter-widgets/base",
      "model_module_version": "1.2.0",
      "model_name": "LayoutModel",
      "state": {}
     },
     "d42ddc68a3bc4a4c9daac538a50481bb": {
      "model_module": "@jupyter-widgets/base",
      "model_module_version": "1.2.0",
      "model_name": "LayoutModel",
      "state": {
       "flex": "1 1 auto",
       "width": "auto"
      }
     },
     "d44658b0a1b94fa585d98103281f3f7e": {
      "model_module": "@jupyter-widgets/controls",
      "model_module_version": "1.5.0",
      "model_name": "LabelModel",
      "state": {
       "layout": "IPY_MODEL_d98dceaf41684e67bdab5a99cb48c7fe",
       "style": "IPY_MODEL_75fe80682291433b917842c08806aede",
       "value": "representation"
      }
     },
     "d47e6fdd463e41e3bb6f5aa008006b25": {
      "model_module": "@jupyter-widgets/controls",
      "model_module_version": "1.5.0",
      "model_name": "ButtonModel",
      "state": {
       "icon": "compress",
       "layout": "IPY_MODEL_ab966e60a7c34d6e9112c677c9172bbf",
       "style": "IPY_MODEL_0d28e6e69a3c46b4999065667435abf5"
      }
     },
     "d51f55a6c4d7432291ce914cac7d41ff": {
      "model_module": "@jupyter-widgets/controls",
      "model_module_version": "1.5.0",
      "model_name": "DescriptionStyleModel",
      "state": {
       "description_width": ""
      }
     },
     "d5846d237b3d489d8896e47bfb844aa0": {
      "model_module": "@jupyter-widgets/base",
      "model_module_version": "1.2.0",
      "model_name": "LayoutModel",
      "state": {}
     },
     "d59e0a90f2974e36900df4b4c35ad427": {
      "model_module": "@jupyter-widgets/controls",
      "model_module_version": "1.5.0",
      "model_name": "DescriptionStyleModel",
      "state": {
       "description_width": ""
      }
     },
     "d5d3a549c89045c2a240057f8e6aed3f": {
      "model_module": "@jupyter-widgets/controls",
      "model_module_version": "1.5.0",
      "model_name": "IntSliderModel",
      "state": {
       "layout": "IPY_MODEL_a85e656a337d4908b734bb1eb18f1cfc",
       "max": 10,
       "style": "IPY_MODEL_d70e733d69104c158180ef853dfa584d",
       "value": 2
      }
     },
     "d60117ce033c4e7e86001cfb5d76f7fd": {
      "model_module": "@jupyter-widgets/controls",
      "model_module_version": "1.5.0",
      "model_name": "DescriptionStyleModel",
      "state": {
       "description_width": ""
      }
     },
     "d69efb43cc8d424b98218bc09c627201": {
      "model_module": "@jupyter-widgets/controls",
      "model_module_version": "1.5.0",
      "model_name": "LinkModel",
      "state": {
       "source": [
        "IPY_MODEL_1b52d8d4907a47b1987b7ab137502e43",
        "value"
       ],
       "target": [
        "IPY_MODEL_4e40a64f1eb5434bb340f73fd4d3fecd",
        "value"
       ]
      }
     },
     "d6c8f4a0b26142b0bc46997db171472f": {
      "model_module": "@jupyter-widgets/controls",
      "model_module_version": "1.5.0",
      "model_name": "BoxModel",
      "state": {
       "children": [
        "IPY_MODEL_c6f95900e13b4aa1a34026b978ee7001",
        "IPY_MODEL_1cb226bdb1014f6eb69768a38350e6af"
       ],
       "layout": "IPY_MODEL_9736a98bfa114f0ca4a8f8d15e720149"
      }
     },
     "d6d2ffd5b0cb447e98372f410b6cc055": {
      "model_module": "@jupyter-widgets/controls",
      "model_module_version": "1.5.0",
      "model_name": "SliderStyleModel",
      "state": {
       "description_width": ""
      }
     },
     "d6d6237830f2445db03f85b25dc370a8": {
      "model_module": "@jupyter-widgets/controls",
      "model_module_version": "1.5.0",
      "model_name": "DescriptionStyleModel",
      "state": {
       "description_width": ""
      }
     },
     "d70e733d69104c158180ef853dfa584d": {
      "model_module": "@jupyter-widgets/controls",
      "model_module_version": "1.5.0",
      "model_name": "SliderStyleModel",
      "state": {
       "description_width": ""
      }
     },
     "d7a2867cd8114ab2b9487f254d2b282f": {
      "model_module": "@jupyter-widgets/base",
      "model_module_version": "1.2.0",
      "model_name": "LayoutModel",
      "state": {}
     },
     "d7b812997fdd42369827ab4025e428b0": {
      "model_module": "@jupyter-widgets/controls",
      "model_module_version": "1.5.0",
      "model_name": "DescriptionStyleModel",
      "state": {
       "description_width": ""
      }
     },
     "d85a35e6bf134055895290a9b9bcab64": {
      "model_module": "@jupyter-widgets/base",
      "model_module_version": "1.2.0",
      "model_name": "LayoutModel",
      "state": {}
     },
     "d85b3d01ec9b483e945cd288399e0a16": {
      "model_module": "@jupyter-widgets/base",
      "model_module_version": "1.2.0",
      "model_name": "LayoutModel",
      "state": {}
     },
     "d98dceaf41684e67bdab5a99cb48c7fe": {
      "model_module": "@jupyter-widgets/base",
      "model_module_version": "1.2.0",
      "model_name": "LayoutModel",
      "state": {}
     },
     "dab32175795d48f3b7cb9d21bc36e0c6": {
      "model_module": "@jupyter-widgets/controls",
      "model_module_version": "1.5.0",
      "model_name": "TextModel",
      "state": {
       "layout": "IPY_MODEL_56e32c4df61e4b19beac430c2eacd648",
       "style": "IPY_MODEL_56ff83665ecd4f4d897e0037281ec016",
       "value": " "
      }
     },
     "dae7592e30fb48ee888547431a2e09f6": {
      "model_module": "@jupyter-widgets/controls",
      "model_module_version": "1.5.0",
      "model_name": "IntSliderModel",
      "state": {
       "layout": "IPY_MODEL_449512a326ef4c73802a8ce3cd439c2e",
       "style": "IPY_MODEL_4159e17b32004690b7c6c675dd9e0786",
       "value": 100
      }
     },
     "daf1cd17551f4cf59cc8e5d55565323d": {
      "model_module": "@jupyter-widgets/base",
      "model_module_version": "1.2.0",
      "model_name": "LayoutModel",
      "state": {}
     },
     "db321c761cc8469b879ef8fcdc7a9394": {
      "model_module": "@jupyter-widgets/controls",
      "model_module_version": "1.5.0",
      "model_name": "DescriptionStyleModel",
      "state": {
       "description_width": ""
      }
     },
     "dba559a9ee274b649a30f9d1e4a0b67d": {
      "model_module": "@jupyter-widgets/controls",
      "model_module_version": "1.5.0",
      "model_name": "LabelModel",
      "state": {
       "layout": "IPY_MODEL_327e058d2e594c51b8bec323d5e536b4",
       "style": "IPY_MODEL_0650e018edc84670bdb288349bdabf7c",
       "value": "sample_level"
      }
     },
     "dbd73e6fc43743c0ac453c637910d3d1": {
      "model_module": "@jupyter-widgets/base",
      "model_module_version": "1.2.0",
      "model_name": "LayoutModel",
      "state": {
       "width": "200px"
      }
     },
     "dbf720f095f748968129f64158a9574c": {
      "model_module": "@jupyter-widgets/controls",
      "model_module_version": "1.5.0",
      "model_name": "DescriptionStyleModel",
      "state": {
       "description_width": ""
      }
     },
     "dc196728c99a4a83adc0ad46f11b0c44": {
      "model_module": "@jupyter-widgets/base",
      "model_module_version": "1.2.0",
      "model_name": "LayoutModel",
      "state": {
       "width": "100px"
      }
     },
     "dc668e8c6140422baffb8d74bd2afc99": {
      "model_module": "@jupyter-widgets/controls",
      "model_module_version": "1.5.0",
      "model_name": "LabelModel",
      "state": {
       "layout": "IPY_MODEL_429a4a36b9404bd9b289d800095b7601",
       "style": "IPY_MODEL_24e9a2b86e5d4a38ae527784d43dee19",
       "value": "clip_far"
      }
     },
     "dd43089e6b4a4161af373302488f10ef": {
      "model_module": "@jupyter-widgets/controls",
      "model_module_version": "1.5.0",
      "model_name": "TextModel",
      "state": {
       "layout": "IPY_MODEL_03285d0bd04d4003a402d60e41914a45",
       "style": "IPY_MODEL_51dcbb4808f6451997adeebe7fe1bd17",
       "value": "*"
      }
     },
     "dd6d909caa074420ba28f3539045f106": {
      "model_module": "@jupyter-widgets/controls",
      "model_module_version": "1.5.0",
      "model_name": "IntSliderModel",
      "state": {
       "layout": "IPY_MODEL_77ddefb573b9487ebbcadc75ffc2e3e2",
       "max": 5,
       "min": -1,
       "style": "IPY_MODEL_aba3a52f9e904d029300faac5a639323"
      }
     },
     "ddda25eb5b0c4992a518eb0b6d29c3b5": {
      "model_module": "@jupyter-widgets/controls",
      "model_module_version": "1.5.0",
      "model_name": "DescriptionStyleModel",
      "state": {
       "description_width": ""
      }
     },
     "de0eea3b80e14602bb6655f699c566e4": {
      "model_module": "@jupyter-widgets/controls",
      "model_module_version": "1.5.0",
      "model_name": "LabelModel",
      "state": {
       "layout": "IPY_MODEL_fcdeb5a5c66d4056a96f824aeb98a01e",
       "style": "IPY_MODEL_acb63ee3d19343e491f4ffd6864def87",
       "value": "background"
      }
     },
     "de904117ddc34c709f19acc0b6568c91": {
      "model_module": "@jupyter-widgets/controls",
      "model_module_version": "1.5.0",
      "model_name": "DescriptionStyleModel",
      "state": {
       "description_width": ""
      }
     },
     "de958a2b625c459294855b01fc0c71a3": {
      "model_module": "@jupyter-widgets/controls",
      "model_module_version": "1.5.0",
      "model_name": "DescriptionStyleModel",
      "state": {
       "description_width": ""
      }
     },
     "dea7a4775a50462595ea03e6c7fd8253": {
      "model_module": "@jupyter-widgets/controls",
      "model_module_version": "1.5.0",
      "model_name": "SliderStyleModel",
      "state": {
       "description_width": ""
      }
     },
     "dec7e715da7d40eea20eb9a0e65c3123": {
      "model_module": "@jupyter-widgets/controls",
      "model_module_version": "1.5.0",
      "model_name": "LabelModel",
      "state": {
       "layout": "IPY_MODEL_5744b32db6784037aaa0b3e7d47a09e6",
       "style": "IPY_MODEL_c7e1bfb8279a443cb6f7d9d49a5fa831",
       "value": "clip_dist"
      }
     },
     "ded3a58a80444bef8bc769c54f802540": {
      "model_module": "@jupyter-widgets/controls",
      "model_module_version": "1.5.0",
      "model_name": "BoxModel",
      "state": {
       "children": [
        "IPY_MODEL_fbfcd613948447668e3e238337b3a2b9",
        "IPY_MODEL_fe59b19322d14d9aa843e8704a2142a6"
       ],
       "layout": "IPY_MODEL_0fe35860e66f4d738c9e9a1db0ca082f"
      }
     },
     "df20dfe5555c4e2fb7bc692b240bdce3": {
      "model_module": "@jupyter-widgets/controls",
      "model_module_version": "1.5.0",
      "model_name": "DescriptionStyleModel",
      "state": {
       "description_width": ""
      }
     },
     "df6fbc550c504b4cb703c02918ed2cb2": {
      "model_module": "@jupyter-widgets/base",
      "model_module_version": "1.2.0",
      "model_name": "LayoutModel",
      "state": {}
     },
     "df92394ca7a54b3da94a28b706e9bba1": {
      "model_module": "@jupyter-widgets/controls",
      "model_module_version": "1.5.0",
      "model_name": "DescriptionStyleModel",
      "state": {
       "description_width": ""
      }
     },
     "df9ccdc864ca4a13b74bb40c1c4ea13f": {
      "model_module": "@jupyter-widgets/base",
      "model_module_version": "1.2.0",
      "model_name": "LayoutModel",
      "state": {}
     },
     "dfb529cda1734f6b9a513c6046906689": {
      "model_module": "@jupyter-widgets/controls",
      "model_module_version": "1.5.0",
      "model_name": "SliderStyleModel",
      "state": {
       "description_width": ""
      }
     },
     "dfb6f9f8ada9481caa0cb72975512a1f": {
      "model_module": "@jupyter-widgets/controls",
      "model_module_version": "1.5.0",
      "model_name": "CheckboxModel",
      "state": {
       "description": "reprlist",
       "disabled": false,
       "layout": "IPY_MODEL_373eba5d23784cdb8928430978206d42",
       "style": "IPY_MODEL_fbecf75adab14d51a4bdb94de0230d9b",
       "value": false
      }
     },
     "dfcf3afff2234365a5c8ecf4cfd9df90": {
      "model_module": "@jupyter-widgets/controls",
      "model_module_version": "1.5.0",
      "model_name": "DescriptionStyleModel",
      "state": {
       "description_width": ""
      }
     },
     "dfd80b41dc5a437e9847d9202331790c": {
      "model_module": "@jupyter-widgets/controls",
      "model_module_version": "1.5.0",
      "model_name": "LabelModel",
      "state": {
       "layout": "IPY_MODEL_84ba706ce00043e784f5eec4a67255d3",
       "style": "IPY_MODEL_69efcf7744364d4992903e0e74c5d136",
       "value": "clip_near"
      }
     },
     "e01204d771514d20aaf259836baff292": {
      "model_module": "@jupyter-widgets/base",
      "model_module_version": "1.2.0",
      "model_name": "LayoutModel",
      "state": {}
     },
     "e048d2fadf374ffdaa50331c84bb8034": {
      "model_module": "@jupyter-widgets/base",
      "model_module_version": "1.2.0",
      "model_name": "LayoutModel",
      "state": {}
     },
     "e062e0d68c9348dbae0468c651533999": {
      "model_module": "@jupyter-widgets/base",
      "model_module_version": "1.2.0",
      "model_name": "LayoutModel",
      "state": {}
     },
     "e08c608617ca48f8a6e18fe594b18627": {
      "model_module": "@jupyter-widgets/base",
      "model_module_version": "1.2.0",
      "model_name": "LayoutModel",
      "state": {
       "width": "100px"
      }
     },
     "e0ab19d6f20e4a668c19a2d909878aee": {
      "model_module": "@jupyter-widgets/base",
      "model_module_version": "1.2.0",
      "model_name": "LayoutModel",
      "state": {}
     },
     "e0da03ed849b4e919d62c2afa47ba3f6": {
      "model_module": "@jupyter-widgets/base",
      "model_module_version": "1.2.0",
      "model_name": "LayoutModel",
      "state": {}
     },
     "e0f8c4369757422c8ec0a3ab15166469": {
      "model_module": "@jupyter-widgets/controls",
      "model_module_version": "1.5.0",
      "model_name": "BoxModel",
      "state": {
       "layout": "IPY_MODEL_cb49f1e8e397474aa5a30a76251c6a4f"
      }
     },
     "e1277287d2694bd6b3dce91df208a6ea": {
      "model_module": "@jupyter-widgets/output",
      "model_module_version": "1.0.0",
      "model_name": "OutputModel",
      "state": {
       "layout": "IPY_MODEL_f52325936eed4f9195615005e3f15704"
      }
     },
     "e13d14c2ae2841c89da19c6d34f885ac": {
      "model_module": "@jupyter-widgets/base",
      "model_module_version": "1.2.0",
      "model_name": "LayoutModel",
      "state": {
       "width": "200px"
      }
     },
     "e1dc606da8664e17a1b757a7ffdb6c59": {
      "model_module": "@jupyter-widgets/controls",
      "model_module_version": "1.5.0",
      "model_name": "DescriptionStyleModel",
      "state": {
       "description_width": ""
      }
     },
     "e23bfbcc45684298ac4e702237198694": {
      "model_module": "@jupyter-widgets/base",
      "model_module_version": "1.2.0",
      "model_name": "LayoutModel",
      "state": {}
     },
     "e2bc901b80ee4ceb9a28c02dba469816": {
      "model_module": "@jupyter-widgets/base",
      "model_module_version": "1.2.0",
      "model_name": "LayoutModel",
      "state": {}
     },
     "e3115020122946fbad13122de68f0fa1": {
      "model_module": "@jupyter-widgets/controls",
      "model_module_version": "1.5.0",
      "model_name": "ButtonStyleModel",
      "state": {}
     },
     "e390965d700a4b239831ff34527dd347": {
      "model_module": "@jupyter-widgets/controls",
      "model_module_version": "1.5.0",
      "model_name": "ColorPickerModel",
      "state": {
       "disabled": false,
       "layout": "IPY_MODEL_ccf8a9b3fbfa406e918ef9e7afb4944c",
       "style": "IPY_MODEL_cc42a40c995c4666be065626a8a30952",
       "value": "white"
      }
     },
     "e3933cfb58574edbb547ebefa61a3a06": {
      "model_module": "@jupyter-widgets/base",
      "model_module_version": "1.2.0",
      "model_name": "LayoutModel",
      "state": {
       "align_items": "stretch",
       "display": "flex",
       "flex_flow": "column",
       "width": "100%"
      }
     },
     "e3a3061055f8430bb6b45708acc67de9": {
      "model_module": "@jupyter-widgets/controls",
      "model_module_version": "1.5.0",
      "model_name": "DropdownModel",
      "state": {
       "_options_labels": [
        "axes",
        "backbone",
        "ball+stick",
        "ball_and_stick",
        "base",
        "cartoon",
        "contact",
        "distance",
        "helixorient",
        "hyperball",
        "label",
        "licorice",
        "line",
        "point",
        "ribbon",
        "rocket",
        "rope",
        "simplified_base",
        "slice",
        "spacefill",
        "surface",
        "trace",
        "tube",
        "unitcell"
       ],
       "index": 5,
       "layout": "IPY_MODEL_6179c47b6cc946ec8c8ffab275be3e95",
       "style": "IPY_MODEL_f5e66bfb5f1c4197b001f5caff5dfa73"
      }
     },
     "e41423c10422492dac489f2067038c53": {
      "model_module": "@jupyter-widgets/base",
      "model_module_version": "1.2.0",
      "model_name": "LayoutModel",
      "state": {}
     },
     "e425255db0034902b6d6c4ce3ccbc46d": {
      "model_module": "@jupyter-widgets/base",
      "model_module_version": "1.2.0",
      "model_name": "LayoutModel",
      "state": {
       "display": "flex",
       "flex_flow": "row",
       "justify_content": "space-between"
      }
     },
     "e45a8313350b485baec8e561ac703ad0": {
      "model_module": "@jupyter-widgets/controls",
      "model_module_version": "1.5.0",
      "model_name": "SliderStyleModel",
      "state": {
       "description_width": ""
      }
     },
     "e4a187e988d845c3abf09d7cdf7ffaa4": {
      "model_module": "@jupyter-widgets/base",
      "model_module_version": "1.2.0",
      "model_name": "LayoutModel",
      "state": {
       "display": "flex",
       "flex_flow": "row",
       "justify_content": "space-between"
      }
     },
     "e55b74def13c4de888fb4254cc1f7616": {
      "model_module": "@jupyter-widgets/controls",
      "model_module_version": "1.5.0",
      "model_name": "SliderStyleModel",
      "state": {
       "description_width": ""
      }
     },
     "e56d6cf1aa184338b2883dec30a137c1": {
      "model_module": "@jupyter-widgets/controls",
      "model_module_version": "1.5.0",
      "model_name": "SliderStyleModel",
      "state": {
       "description_width": ""
      }
     },
     "e589a8a5ff99418abdbaf16473ac1bc0": {
      "model_module": "@jupyter-widgets/controls",
      "model_module_version": "1.5.0",
      "model_name": "BoxModel",
      "state": {
       "layout": "IPY_MODEL_562236e5794146c4b71a73539ae61c4d"
      }
     },
     "e5d377349be44375805ba5858d57d60e": {
      "model_module": "@jupyter-widgets/base",
      "model_module_version": "1.2.0",
      "model_name": "LayoutModel",
      "state": {
       "width": "200px"
      }
     },
     "e63e007cc31a4c76b5d335695b7971dd": {
      "model_module": "@jupyter-widgets/controls",
      "model_module_version": "1.5.0",
      "model_name": "DescriptionStyleModel",
      "state": {
       "description_width": ""
      }
     },
     "e6adab9a26054bda90950ba7a38cc1e4": {
      "model_module": "@jupyter-widgets/controls",
      "model_module_version": "1.5.0",
      "model_name": "DescriptionStyleModel",
      "state": {
       "description_width": ""
      }
     },
     "e7027e9181d24066b3fe9865c7eca7d1": {
      "model_module": "@jupyter-widgets/controls",
      "model_module_version": "1.5.0",
      "model_name": "BoxModel",
      "state": {
       "children": [
        "IPY_MODEL_21f3be5777014a7383351d14d12c9d7c",
        "IPY_MODEL_dab32175795d48f3b7cb9d21bc36e0c6"
       ],
       "layout": "IPY_MODEL_e4a187e988d845c3abf09d7cdf7ffaa4"
      }
     },
     "e795455775714eaeb448a9c4d9708104": {
      "model_module": "@jupyter-widgets/controls",
      "model_module_version": "1.5.0",
      "model_name": "SliderStyleModel",
      "state": {
       "description_width": ""
      }
     },
     "e7b9747670a0463c9219f27c1d913f77": {
      "model_module": "@jupyter-widgets/controls",
      "model_module_version": "1.5.0",
      "model_name": "DescriptionStyleModel",
      "state": {
       "description_width": ""
      }
     },
     "e825a7585119432db3ab6f73ac94b9aa": {
      "model_module": "@jupyter-widgets/controls",
      "model_module_version": "1.5.0",
      "model_name": "ButtonStyleModel",
      "state": {}
     },
     "e8c1bd619b8c45358d2af7b0bd98068a": {
      "model_module": "@jupyter-widgets/base",
      "model_module_version": "1.2.0",
      "model_name": "LayoutModel",
      "state": {}
     },
     "e8cc8edcabd043fbac36b49fbf8bdab1": {
      "model_module": "@jupyter-widgets/controls",
      "model_module_version": "1.5.0",
      "model_name": "ButtonStyleModel",
      "state": {}
     },
     "e8d463b658ab473abb11193287b61d90": {
      "model_module": "@jupyter-widgets/base",
      "model_module_version": "1.2.0",
      "model_name": "LayoutModel",
      "state": {}
     },
     "e91920cdee3149b0ae3f4e9713022197": {
      "model_module": "@jupyter-widgets/controls",
      "model_module_version": "1.5.0",
      "model_name": "SliderStyleModel",
      "state": {
       "description_width": ""
      }
     },
     "e94694c3bf364d30bb8b930285c34854": {
      "model_module": "@jupyter-widgets/controls",
      "model_module_version": "1.5.0",
      "model_name": "DescriptionStyleModel",
      "state": {
       "description_width": ""
      }
     },
     "e9e52a51474c440ca333b0ef0fbac4cb": {
      "model_module": "@jupyter-widgets/controls",
      "model_module_version": "1.5.0",
      "model_name": "BoxModel",
      "state": {
       "children": [
        "IPY_MODEL_939e39e32a5947faba6ded56b6e19753",
        "IPY_MODEL_07f84a7937e3481caf282cd5a5d999d5",
        "IPY_MODEL_2ffac1bda3484d619186c649c1512395",
        "IPY_MODEL_d6c8f4a0b26142b0bc46997db171472f",
        "IPY_MODEL_a3e9c88bf88842feaed8426876d41e8d",
        "IPY_MODEL_cfc13e8827b84bed90550a7c9168d6d6",
        "IPY_MODEL_41fb149a46ea4c069c09ec544e639b51",
        "IPY_MODEL_2e8379d6796149b2a451848dfccd966e",
        "IPY_MODEL_f7ee1d2cddb6471b970701441afb4900",
        "IPY_MODEL_c138338542044c7b909396d59c7db096"
       ],
       "layout": "IPY_MODEL_9a2cbd53fca4454d95108987b02ba3a3"
      }
     },
     "ea8c45ecbde04eef83512345749ebb29": {
      "model_module": "@jupyter-widgets/controls",
      "model_module_version": "1.5.0",
      "model_name": "DescriptionStyleModel",
      "state": {
       "description_width": ""
      }
     },
     "ea8e57d137734c9f8da869e2104402f9": {
      "model_module": "@jupyter-widgets/controls",
      "model_module_version": "1.5.0",
      "model_name": "IntSliderModel",
      "state": {
       "description": "smooth",
       "layout": "IPY_MODEL_ee47e2b882e94039baee655eec2dc95f",
       "max": 10,
       "style": "IPY_MODEL_3773e7bb4c3246f19e80bdb87b690216",
       "value": 2
      }
     },
     "eae91ecc380644b0939529a346d49c28": {
      "model_module": "@jupyter-widgets/base",
      "model_module_version": "1.2.0",
      "model_name": "LayoutModel",
      "state": {}
     },
     "eb03f409c8d2473f9ee107f407eaf54c": {
      "model_module": "@jupyter-widgets/controls",
      "model_module_version": "1.5.0",
      "model_name": "DescriptionStyleModel",
      "state": {
       "description_width": ""
      }
     },
     "eb69a8e03cf44b96825e4be413fff080": {
      "model_module": "@jupyter-widgets/base",
      "model_module_version": "1.2.0",
      "model_name": "LayoutModel",
      "state": {
       "display": "flex",
       "flex_flow": "row",
       "justify_content": "space-between"
      }
     },
     "eb70e82454d2471cbb24cdd690e99616": {
      "model_module": "@jupyter-widgets/controls",
      "model_module_version": "1.5.0",
      "model_name": "DescriptionStyleModel",
      "state": {
       "description_width": ""
      }
     },
     "eb98b06b8c8a40fc81432c7720c641c4": {
      "model_module": "@jupyter-widgets/controls",
      "model_module_version": "1.5.0",
      "model_name": "BoxModel",
      "state": {
       "children": [
        "IPY_MODEL_979348f9bf8844b5a605db1aedd785b4",
        "IPY_MODEL_2dbbd49865d64ae88c83e440efa2470a"
       ],
       "layout": "IPY_MODEL_5fe77ce63d73496aa4dc3956a2405e64"
      }
     },
     "ebc5632ab75046f2a53b24e2d0afa26d": {
      "model_module": "@jupyter-widgets/controls",
      "model_module_version": "1.5.0",
      "model_name": "DescriptionStyleModel",
      "state": {
       "description_width": ""
      }
     },
     "ebd1adb3f9db4bc3aec5f9a4f7467556": {
      "model_module": "@jupyter-widgets/base",
      "model_module_version": "1.2.0",
      "model_name": "LayoutModel",
      "state": {}
     },
     "ec0f689cfed8401ab7fff3f16e6a6237": {
      "model_module": "@jupyter-widgets/controls",
      "model_module_version": "1.5.0",
      "model_name": "DescriptionStyleModel",
      "state": {
       "description_width": ""
      }
     },
     "ec1a17ecdfaf461e8fc6524f47c46ab4": {
      "model_module": "@jupyter-widgets/controls",
      "model_module_version": "1.5.0",
      "model_name": "LinkModel",
      "state": {
       "source": [
        "IPY_MODEL_1b52d8d4907a47b1987b7ab137502e43",
        "value"
       ],
       "target": [
        "IPY_MODEL_40103d031bbf4ceb9d2dce16477c3308",
        "frame"
       ]
      }
     },
     "ec96810ccea1488680fc7223f76d0b32": {
      "model_module": "@jupyter-widgets/controls",
      "model_module_version": "1.5.0",
      "model_name": "DescriptionStyleModel",
      "state": {
       "description_width": ""
      }
     },
     "ecae8f7bd9d0413d8f32dcd4def179a9": {
      "model_module": "@jupyter-widgets/base",
      "model_module_version": "1.2.0",
      "model_name": "LayoutModel",
      "state": {
       "width": "200px"
      }
     },
     "ed024b651f9a4b6599db06c7255cb70e": {
      "model_module": "@jupyter-widgets/controls",
      "model_module_version": "1.5.0",
      "model_name": "LabelModel",
      "state": {
       "layout": "IPY_MODEL_86ae16a92e4746cc96777603706dd152",
       "style": "IPY_MODEL_732dbacc24a64b618a349c1a1d4a4954",
       "value": "rotate_speed"
      }
     },
     "ed76ed29b709436fafd96e0cb125a6f0": {
      "model_module": "@jupyter-widgets/base",
      "model_module_version": "1.2.0",
      "model_name": "LayoutModel",
      "state": {}
     },
     "ed7feb8aecdf4a7392326090beb60fb5": {
      "model_module": "@jupyter-widgets/controls",
      "model_module_version": "1.5.0",
      "model_name": "BoxModel",
      "state": {
       "layout": "IPY_MODEL_fb3c0345dfd34d029cf6ba9e41878680"
      }
     },
     "edf50956c3d9480b915407de8ffc7b44": {
      "model_module": "@jupyter-widgets/base",
      "model_module_version": "1.2.0",
      "model_name": "LayoutModel",
      "state": {}
     },
     "ee1f87ab2db24014b1906317efe7ae90": {
      "model_module": "@jupyter-widgets/controls",
      "model_module_version": "1.5.0",
      "model_name": "VBoxModel",
      "state": {
       "_dom_classes": [
        "widget-interact"
       ],
       "children": [
        "IPY_MODEL_777d6dd7b99b47658f238d8ab01ef6ee",
        "IPY_MODEL_608b2e58e44b4557879a45e1213954b1",
        "IPY_MODEL_29f6288266134fe9bebb46e7dfee4c3f",
        "IPY_MODEL_3decb9b07c9c469db6ff6646b38243be",
        "IPY_MODEL_1c6697af779a42dc96aa66bac25f847f",
        "IPY_MODEL_6d28f4a3924d4a83aa645e3f70a919c1",
        "IPY_MODEL_c7e181bec5cd41489a81fcdc01d07eae",
        "IPY_MODEL_4c687073f1f648d596eaa0351f44873f",
        "IPY_MODEL_49261f7a62bf4de29a7d9e22c523b2ce",
        "IPY_MODEL_186dd0946e364e4b8b632283503a856f",
        "IPY_MODEL_78fe665a6d2547048eeb58b5e4205c2c",
        "IPY_MODEL_af59c9fcd88e44cb8dcdd999c44b230c",
        "IPY_MODEL_0cc954dec4c84ea69af41da8a9fbdfa0",
        "IPY_MODEL_dd6d909caa074420ba28f3539045f106",
        "IPY_MODEL_e1277287d2694bd6b3dce91df208a6ea"
       ],
       "layout": "IPY_MODEL_29afe77dde9240338f2c1982cdac0a91"
      }
     },
     "ee3b5f788c4d4430a0e272c419dcf4a0": {
      "model_module": "@jupyter-widgets/base",
      "model_module_version": "1.2.0",
      "model_name": "LayoutModel",
      "state": {}
     },
     "ee47e2b882e94039baee655eec2dc95f": {
      "model_module": "@jupyter-widgets/base",
      "model_module_version": "1.2.0",
      "model_name": "LayoutModel",
      "state": {
       "display": "none"
      }
     },
     "ee748a42019d4e45ab6cb6843fe94863": {
      "model_module": "@jupyter-widgets/base",
      "model_module_version": "1.2.0",
      "model_name": "LayoutModel",
      "state": {}
     },
     "ef4a0a32c266477792e1c4ac3900d617": {
      "model_module": "@jupyter-widgets/controls",
      "model_module_version": "1.5.0",
      "model_name": "ButtonStyleModel",
      "state": {}
     },
     "ef7462d626b543ae81d97f1c30ab369b": {
      "model_module": "@jupyter-widgets/controls",
      "model_module_version": "1.5.0",
      "model_name": "SliderStyleModel",
      "state": {
       "description_width": ""
      }
     },
     "efa4249ce1304b57996b73e933073dbf": {
      "model_module": "@jupyter-widgets/base",
      "model_module_version": "1.2.0",
      "model_name": "LayoutModel",
      "state": {}
     },
     "efc827f653194f99840bae4e3176126b": {
      "model_module": "@jupyter-widgets/controls",
      "model_module_version": "1.5.0",
      "model_name": "BoxModel",
      "state": {
       "children": [
        "IPY_MODEL_460648cd735c42f59081554dde93965d",
        "IPY_MODEL_574e039f817f445096516da8bba8f680",
        "IPY_MODEL_79e2e93f4840496bb3976b77dada8d12",
        "IPY_MODEL_d1c37900dd7144edbfb95e70f5904621",
        "IPY_MODEL_8b049dbb2e8c4c1fba98c76850644604",
        "IPY_MODEL_2040cc3f05e54b8cbdfaa5f09d10071f",
        "IPY_MODEL_c7692969536b49108052d3cc29249eda",
        "IPY_MODEL_7802694be5da4430b9c32535920cee8b",
        "IPY_MODEL_370f627ee8aa4fea9bfa11cce83e06b6",
        "IPY_MODEL_72f798209dc84c91a634d987921f7a23",
        "IPY_MODEL_c8ce69a402d745e49cca4201c2278f05"
       ],
       "layout": "IPY_MODEL_0168e972c41441099427ac417d63ff67"
      }
     },
     "f02f573124e14acfa702f8656d61a8fb": {
      "model_module": "@jupyter-widgets/controls",
      "model_module_version": "1.5.0",
      "model_name": "VBoxModel",
      "state": {
       "_dom_classes": [
        "widget-interact"
       ],
       "children": [
        "IPY_MODEL_460648cd735c42f59081554dde93965d",
        "IPY_MODEL_574e039f817f445096516da8bba8f680",
        "IPY_MODEL_79e2e93f4840496bb3976b77dada8d12",
        "IPY_MODEL_d1c37900dd7144edbfb95e70f5904621",
        "IPY_MODEL_8b049dbb2e8c4c1fba98c76850644604",
        "IPY_MODEL_2040cc3f05e54b8cbdfaa5f09d10071f",
        "IPY_MODEL_c7692969536b49108052d3cc29249eda",
        "IPY_MODEL_7802694be5da4430b9c32535920cee8b",
        "IPY_MODEL_370f627ee8aa4fea9bfa11cce83e06b6",
        "IPY_MODEL_72f798209dc84c91a634d987921f7a23",
        "IPY_MODEL_c8ce69a402d745e49cca4201c2278f05"
       ],
       "layout": "IPY_MODEL_9a69e00178704818a7f81c2cf2775ea2"
      }
     },
     "f0908891d6fd4fda8e89c147584c3796": {
      "model_module": "@jupyter-widgets/base",
      "model_module_version": "1.2.0",
      "model_name": "LayoutModel",
      "state": {}
     },
     "f0bb0e8de12d400d8da7431ed8c5db96": {
      "model_module": "@jupyter-widgets/controls",
      "model_module_version": "1.5.0",
      "model_name": "SliderStyleModel",
      "state": {
       "description_width": ""
      }
     },
     "f0e9149ebe4e4cbaa129dd3882eeba75": {
      "model_module": "@jupyter-widgets/controls",
      "model_module_version": "1.5.0",
      "model_name": "BoxModel",
      "state": {
       "children": [
        "IPY_MODEL_81951bbaa6374cd4ac6e0dafe93bfb86",
        "IPY_MODEL_1f89cd5b49d04f12bd25ca11b2534445"
       ],
       "layout": "IPY_MODEL_0fe35860e66f4d738c9e9a1db0ca082f"
      }
     },
     "f0ec8339a56447d0a21ac47beef162e2": {
      "model_module": "@jupyter-widgets/controls",
      "model_module_version": "1.5.0",
      "model_name": "CheckboxModel",
      "state": {
       "disabled": false,
       "layout": "IPY_MODEL_889ce96e52c940e7a5bc36a754ec602d",
       "style": "IPY_MODEL_7e754fcc927b48f1a3e378c01df2e5f8",
       "value": true
      }
     },
     "f10ee0b3769b4fd995939e1648e78a56": {
      "model_module": "@jupyter-widgets/base",
      "model_module_version": "1.2.0",
      "model_name": "LayoutModel",
      "state": {}
     },
     "f12c6506257a46d5bd2bed9d1f3be4a7": {
      "model_module": "@jupyter-widgets/base",
      "model_module_version": "1.2.0",
      "model_name": "LayoutModel",
      "state": {}
     },
     "f15d3931bcb44125b7c57fe426affbfd": {
      "model_module": "@jupyter-widgets/controls",
      "model_module_version": "1.5.0",
      "model_name": "ButtonStyleModel",
      "state": {}
     },
     "f18dbd1c312e4f50871516c880a8ef44": {
      "model_module": "@jupyter-widgets/controls",
      "model_module_version": "1.5.0",
      "model_name": "BoxModel",
      "state": {
       "children": [
        "IPY_MODEL_c520020bdbba4a07b6204277462a5b28",
        "IPY_MODEL_83e86609b75446cc9826cd90e6d721d2"
       ],
       "layout": "IPY_MODEL_e4a187e988d845c3abf09d7cdf7ffaa4"
      }
     },
     "f1d9340725f548218bd8aa0359bd118a": {
      "model_module": "@jupyter-widgets/controls",
      "model_module_version": "1.5.0",
      "model_name": "DropdownModel",
      "state": {
       "_options_labels": [
        "vws",
        "sas",
        "ms",
        "ses"
       ],
       "description": "surface_type",
       "index": 2,
       "layout": "IPY_MODEL_22be3ee583b5423cbb8f2417d0a35e25",
       "style": "IPY_MODEL_a4e22e51b573446e8115c0db45a42119"
      }
     },
     "f1f9037821ca407b864dfefc05ff73b1": {
      "model_module": "@jupyter-widgets/controls",
      "model_module_version": "1.5.0",
      "model_name": "DescriptionStyleModel",
      "state": {
       "description_width": ""
      }
     },
     "f206d33cd95c44dda4519baaa00a4815": {
      "model_module": "@jupyter-widgets/controls",
      "model_module_version": "1.5.0",
      "model_name": "DescriptionStyleModel",
      "state": {
       "description_width": ""
      }
     },
     "f223c59a12814440a4ec84edbe9d5f02": {
      "model_module": "@jupyter-widgets/base",
      "model_module_version": "1.2.0",
      "model_name": "LayoutModel",
      "state": {}
     },
     "f2364c9ca9164382ba6ccb8d1001891f": {
      "model_module": "@jupyter-widgets/base",
      "model_module_version": "1.2.0",
      "model_name": "LayoutModel",
      "state": {}
     },
     "f24dc8c5310c4eaeb78a71d88d28db0f": {
      "model_module": "@jupyter-widgets/controls",
      "model_module_version": "1.5.0",
      "model_name": "LabelModel",
      "state": {
       "layout": "IPY_MODEL_c0627d91256349b0a971c75067a3e726",
       "style": "IPY_MODEL_23c6eb42cd954db5828726df60ff70c5",
       "value": "pan_speed"
      }
     },
     "f2e4ee3b55b54400aa4bed9b781d66b2": {
      "model_module": "@jupyter-widgets/base",
      "model_module_version": "1.2.0",
      "model_name": "LayoutModel",
      "state": {}
     },
     "f3c1930d84e343389ec92627c6994bbe": {
      "model_module": "@jupyter-widgets/controls",
      "model_module_version": "1.5.0",
      "model_name": "BoxModel",
      "state": {
       "children": [
        "IPY_MODEL_f24dc8c5310c4eaeb78a71d88d28db0f",
        "IPY_MODEL_608b2e58e44b4557879a45e1213954b1"
       ],
       "layout": "IPY_MODEL_a233bad3a88046ccb196b8a0ae53fd3f"
      }
     },
     "f3f3f719eb78427098fba16f833a01dc": {
      "model_module": "@jupyter-widgets/controls",
      "model_module_version": "1.5.0",
      "model_name": "SliderStyleModel",
      "state": {
       "description_width": ""
      }
     },
     "f41ce12750984db382629f0371c9f0c0": {
      "model_module": "@jupyter-widgets/base",
      "model_module_version": "1.2.0",
      "model_name": "LayoutModel",
      "state": {}
     },
     "f434c67579084c89b29eb77886cb8699": {
      "model_module": "@jupyter-widgets/controls",
      "model_module_version": "1.5.0",
      "model_name": "PlayModel",
      "state": {
       "layout": "IPY_MODEL_ed76ed29b709436fafd96e0cb125a6f0",
       "max": 37,
       "style": "IPY_MODEL_85c58f2982f0401f8d8a0614b3740856"
      }
     },
     "f4883d061a2d44bb9ee6611f1a50a040": {
      "model_module": "@jupyter-widgets/controls",
      "model_module_version": "1.5.0",
      "model_name": "LabelModel",
      "state": {
       "layout": "IPY_MODEL_5d6d526b3a284784996ec0de823d8923",
       "style": "IPY_MODEL_bad8a8ee9ac142bc9643ca35d452fbb3",
       "value": "delay"
      }
     },
     "f4d7d8841bbd4426a2016343860c3bdc": {
      "model_module": "@jupyter-widgets/controls",
      "model_module_version": "1.5.0",
      "model_name": "VBoxModel",
      "state": {
       "_dom_classes": [
        "widget-interact"
       ],
       "children": [
        "IPY_MODEL_fc1f1022b1134b5abe1113ba5ec66bdc",
        "IPY_MODEL_b01f05e23b4b4cc5bd953d3491bbea87",
        "IPY_MODEL_d5d3a549c89045c2a240057f8e6aed3f",
        "IPY_MODEL_f5a0e395da1a45268884df84a1ae45f3",
        "IPY_MODEL_6884c36d775e4dbdab212673dde9d9c2",
        "IPY_MODEL_ca930a4ad6254803b2b2d80de8467cdc",
        "IPY_MODEL_3f19b6f619d84062b15b2f92e9a329a9",
        "IPY_MODEL_7ed546cde3974e4c9571b333cfa61715",
        "IPY_MODEL_1324cc16addb4ad2a0eb6223c16392de",
        "IPY_MODEL_c4ce004b6bc349e18934533a30c309d3",
        "IPY_MODEL_f0ec8339a56447d0a21ac47beef162e2",
        "IPY_MODEL_661cf1b9427e4b0c97f76962b824834c",
        "IPY_MODEL_180476fd75314b1f93c020d99836b9fd",
        "IPY_MODEL_0b18ba75f9e7411bb06d584a4a85baf3",
        "IPY_MODEL_33eed486d0694a9f828e6ffad501b0a3"
       ],
       "layout": "IPY_MODEL_df9ccdc864ca4a13b74bb40c1c4ea13f"
      }
     },
     "f4de299967434135a61a15c29fbce387": {
      "model_module": "@jupyter-widgets/base",
      "model_module_version": "1.2.0",
      "model_name": "LayoutModel",
      "state": {}
     },
     "f52325936eed4f9195615005e3f15704": {
      "model_module": "@jupyter-widgets/base",
      "model_module_version": "1.2.0",
      "model_name": "LayoutModel",
      "state": {}
     },
     "f543110a6cc44692b5dacda933175daf": {
      "model_module": "@jupyter-widgets/controls",
      "model_module_version": "1.5.0",
      "model_name": "BoxModel",
      "state": {
       "children": [
        "IPY_MODEL_71f85d9a1bd249e5bb748919b15ce9c3",
        "IPY_MODEL_dae7592e30fb48ee888547431a2e09f6"
       ],
       "layout": "IPY_MODEL_0fe35860e66f4d738c9e9a1db0ca082f"
      }
     },
     "f5a0e395da1a45268884df84a1ae45f3": {
      "model_module": "@jupyter-widgets/controls",
      "model_module_version": "1.5.0",
      "model_name": "IntSliderModel",
      "state": {
       "layout": "IPY_MODEL_5edfe9e484ff49cb919072ba2dcd80af",
       "max": 10,
       "style": "IPY_MODEL_f0bb0e8de12d400d8da7431ed8c5db96",
       "value": 1
      }
     },
     "f5a3025a3ac54ddd90bf747b031f1ba2": {
      "model_module": "@jupyter-widgets/controls",
      "model_module_version": "1.5.0",
      "model_name": "DescriptionStyleModel",
      "state": {
       "description_width": ""
      }
     },
     "f5a7493d99ce4a23895a35e1abe1e7eb": {
      "model_module": "@jupyter-widgets/controls",
      "model_module_version": "1.5.0",
      "model_name": "FloatSliderModel",
      "state": {
       "description": "opacity",
       "layout": "IPY_MODEL_9de7e64dea4545d9b8f5100afd0ba505",
       "max": 1,
       "step": 0.1,
       "style": "IPY_MODEL_feec4a1b6b9e4b9eacf91c112887bcc0",
       "value": 1
      }
     },
     "f5e66bfb5f1c4197b001f5caff5dfa73": {
      "model_module": "@jupyter-widgets/controls",
      "model_module_version": "1.5.0",
      "model_name": "DescriptionStyleModel",
      "state": {
       "description_width": ""
      }
     },
     "f61a7996cea84f168181b979e7856e10": {
      "model_module": "@jupyter-widgets/controls",
      "model_module_version": "1.5.0",
      "model_name": "BoxModel",
      "state": {
       "children": [
        "IPY_MODEL_76f3ff0147034d8f95dd8f7b69e2469c"
       ],
       "layout": "IPY_MODEL_f9a2430b67034476b1261508911e6290"
      }
     },
     "f6949d14e0a4419887d8e08cdd3a7043": {
      "model_module": "@jupyter-widgets/output",
      "model_module_version": "1.0.0",
      "model_name": "OutputModel",
      "state": {
       "layout": "IPY_MODEL_bcb6fb57a6b34a43b4e317311ae0cc17"
      }
     },
     "f6e38fa6f06344ac9dc9d4b686c64cc3": {
      "model_module": "@jupyter-widgets/controls",
      "model_module_version": "1.5.0",
      "model_name": "BoxModel",
      "state": {
       "children": [
        "IPY_MODEL_fe255a98fe9f456e8d43587a041bbb3d",
        "IPY_MODEL_0cc954dec4c84ea69af41da8a9fbdfa0"
       ],
       "layout": "IPY_MODEL_a233bad3a88046ccb196b8a0ae53fd3f"
      }
     },
     "f6ff925d805a4b939bd18a9765707baa": {
      "model_module": "@jupyter-widgets/controls",
      "model_module_version": "1.5.0",
      "model_name": "SliderStyleModel",
      "state": {
       "description_width": ""
      }
     },
     "f709beaeaa39481eae89fc3c922a7eb0": {
      "model_module": "@jupyter-widgets/controls",
      "model_module_version": "1.5.0",
      "model_name": "FloatSliderModel",
      "state": {
       "layout": "IPY_MODEL_7ff66a80b4414ae881393bd57fbfde54",
       "max": 10,
       "step": 0.1,
       "style": "IPY_MODEL_b6a8b20c3ef54a45b8d8964cb1126b0e",
       "value": 0.8
      }
     },
     "f7a0e5486d164312ae56e48601ae49cc": {
      "model_module": "@jupyter-widgets/base",
      "model_module_version": "1.2.0",
      "model_name": "LayoutModel",
      "state": {}
     },
     "f7a6b473074343f7a444f86ec8258570": {
      "model_module": "@jupyter-widgets/controls",
      "model_module_version": "1.5.0",
      "model_name": "DropdownModel",
      "state": {
       "_options_labels": [
        "vws",
        "sas",
        "ms",
        "ses"
       ],
       "description": "surface_type",
       "index": 2,
       "layout": "IPY_MODEL_688dcb8525204b7ab1312c4b3406722e",
       "style": "IPY_MODEL_ddda25eb5b0c4992a518eb0b6d29c3b5"
      }
     },
     "f7ee1d2cddb6471b970701441afb4900": {
      "model_module": "@jupyter-widgets/controls",
      "model_module_version": "1.5.0",
      "model_name": "BoxModel",
      "state": {
       "children": [
        "IPY_MODEL_5fde74e4ca3a4aeea5dfc783372c9522",
        "IPY_MODEL_d3b2641f91354621aa34866f95fe9791"
       ],
       "layout": "IPY_MODEL_9736a98bfa114f0ca4a8f8d15e720149"
      }
     },
     "f81057dace684a269dc0ccab7690a2de": {
      "model_module": "@jupyter-widgets/base",
      "model_module_version": "1.2.0",
      "model_name": "LayoutModel",
      "state": {
       "display": "none"
      }
     },
     "f85d8a262f5142dcb080c0ce5cb9b6bd": {
      "model_module": "@jupyter-widgets/base",
      "model_module_version": "1.2.0",
      "model_name": "LayoutModel",
      "state": {}
     },
     "f87891de1791484aaec29f97b842028d": {
      "model_module": "@jupyter-widgets/controls",
      "model_module_version": "1.5.0",
      "model_name": "BoxModel",
      "state": {
       "children": [
        "IPY_MODEL_6e1cfab8a6924038905604e5887c7c13"
       ],
       "layout": "IPY_MODEL_77fa023c743d46e1b403b70f8da7e8ee"
      }
     },
     "f87fca8f99b74aaba64211d9ae425146": {
      "model_module": "@jupyter-widgets/base",
      "model_module_version": "1.2.0",
      "model_name": "LayoutModel",
      "state": {}
     },
     "f8cf586310024ab9ab7e05ce39b98244": {
      "model_module": "@jupyter-widgets/controls",
      "model_module_version": "1.5.0",
      "model_name": "SliderStyleModel",
      "state": {
       "description_width": ""
      }
     },
     "f8d11386cd474f6fa70e9efaf38fbade": {
      "model_module": "@jupyter-widgets/controls",
      "model_module_version": "1.5.0",
      "model_name": "BoxModel",
      "state": {
       "children": [
        "IPY_MODEL_1a1ba7b8012846beb0a6717756221d09",
        "IPY_MODEL_4d5344d600c844f1b76c090b924371a4"
       ],
       "layout": "IPY_MODEL_0fe35860e66f4d738c9e9a1db0ca082f"
      }
     },
     "f8de4afa25254b94bce15da8b510fed7": {
      "model_module": "@jupyter-widgets/controls",
      "model_module_version": "1.5.0",
      "model_name": "SliderStyleModel",
      "state": {
       "description_width": ""
      }
     },
     "f93432c9ab6e4bf988a92ed60f924a11": {
      "model_module": "@jupyter-widgets/base",
      "model_module_version": "1.2.0",
      "model_name": "LayoutModel",
      "state": {}
     },
     "f978092258134ee18cefa1279eb95e47": {
      "model_module": "@jupyter-widgets/controls",
      "model_module_version": "1.5.0",
      "model_name": "DescriptionStyleModel",
      "state": {
       "description_width": ""
      }
     },
     "f98da36815684debb718816e212afdb0": {
      "model_module": "@jupyter-widgets/controls",
      "model_module_version": "1.5.0",
      "model_name": "TextareaModel",
      "state": {
       "layout": "IPY_MODEL_6eac07f792f5444d9018fbe7de175711",
       "style": "IPY_MODEL_d7b812997fdd42369827ab4025e428b0",
       "value": "{}"
      }
     },
     "f9a2430b67034476b1261508911e6290": {
      "model_module": "@jupyter-widgets/base",
      "model_module_version": "1.2.0",
      "model_name": "LayoutModel",
      "state": {}
     },
     "f9b201f0d37243fe9c245806e2c91854": {
      "model_module": "@jupyter-widgets/controls",
      "model_module_version": "1.5.0",
      "model_name": "BoxModel",
      "state": {
       "children": [
        "IPY_MODEL_570b14555e65484ba4566ab6a9764dca",
        "IPY_MODEL_180476fd75314b1f93c020d99836b9fd"
       ],
       "layout": "IPY_MODEL_eb69a8e03cf44b96825e4be413fff080"
      }
     },
     "faa5c96b7ff5401f865f7d67591bf321": {
      "model_module": "@jupyter-widgets/controls",
      "model_module_version": "1.5.0",
      "model_name": "ButtonStyleModel",
      "state": {}
     },
     "fabdbcd7418b450a9b7713cd5206afe2": {
      "model_module": "@jupyter-widgets/controls",
      "model_module_version": "1.5.0",
      "model_name": "DescriptionStyleModel",
      "state": {
       "description_width": ""
      }
     },
     "faf6082fd5494eb18d543186eaddf7ab": {
      "model_module": "@jupyter-widgets/controls",
      "model_module_version": "1.5.0",
      "model_name": "DescriptionStyleModel",
      "state": {
       "description_width": ""
      }
     },
     "fb3c0345dfd34d029cf6ba9e41878680": {
      "model_module": "@jupyter-widgets/base",
      "model_module_version": "1.2.0",
      "model_name": "LayoutModel",
      "state": {}
     },
     "fb53ccffbe20449198a7a5bf4640106e": {
      "model_module": "@jupyter-widgets/controls",
      "model_module_version": "1.5.0",
      "model_name": "BoxModel",
      "state": {
       "children": [
        "IPY_MODEL_caf6021c1f5f4c1ba91e4ce7a7e9a2f1"
       ],
       "layout": "IPY_MODEL_8bef7957b7f1461db8eb9f744747dbd5"
      }
     },
     "fb724388249c46469c23a2253295d6a6": {
      "model_module": "@jupyter-widgets/controls",
      "model_module_version": "1.5.0",
      "model_name": "TextareaModel",
      "state": {
       "layout": "IPY_MODEL_cdcc807225c94188ba38e6d218f04847",
       "style": "IPY_MODEL_2339ae6e147d4f248b8827aa595172da",
       "value": "{}"
      }
     },
     "fbecf75adab14d51a4bdb94de0230d9b": {
      "model_module": "@jupyter-widgets/controls",
      "model_module_version": "1.5.0",
      "model_name": "DescriptionStyleModel",
      "state": {
       "description_width": ""
      }
     },
     "fbfc7e85dabf4ad6949c48d5d477f8bf": {
      "model_module": "@jupyter-widgets/base",
      "model_module_version": "1.2.0",
      "model_name": "LayoutModel",
      "state": {}
     },
     "fbfcd613948447668e3e238337b3a2b9": {
      "model_module": "@jupyter-widgets/controls",
      "model_module_version": "1.5.0",
      "model_name": "LabelModel",
      "state": {
       "layout": "IPY_MODEL_6a2cba6ed8eb4063a7b24f8107d4d2a7",
       "style": "IPY_MODEL_37efcbe1ac0c456690fc4ed371c45728",
       "value": "quality"
      }
     },
     "fc1f1022b1134b5abe1113ba5ec66bdc": {
      "model_module": "@jupyter-widgets/controls",
      "model_module_version": "1.5.0",
      "model_name": "ButtonModel",
      "state": {
       "description": "Reset",
       "layout": "IPY_MODEL_adf1f26200614f9eaf6a38d27a8f1535",
       "style": "IPY_MODEL_55bbe3b95f4945309f827ba1f11cdcaf"
      }
     },
     "fc571e20e3624324a215a99f44adc9c1": {
      "model_module": "@jupyter-widgets/controls",
      "model_module_version": "1.5.0",
      "model_name": "BoxModel",
      "state": {
       "children": [
        "IPY_MODEL_4b296f3008d14cf79d235ffa395b7a50",
        "IPY_MODEL_3b73d1317dee4dfd9e71ba75a832a993"
       ],
       "layout": "IPY_MODEL_0fe35860e66f4d738c9e9a1db0ca082f"
      }
     },
     "fc8f8fcb98184e28aee9599d9873943f": {
      "model_module": "@jupyter-widgets/controls",
      "model_module_version": "1.5.0",
      "model_name": "DescriptionStyleModel",
      "state": {
       "description_width": ""
      }
     },
     "fcb03acd17a14ddea630994d80306298": {
      "model_module": "@jupyter-widgets/controls",
      "model_module_version": "1.5.0",
      "model_name": "IntSliderModel",
      "state": {
       "layout": "IPY_MODEL_c25e7ab9a89e4617b7e6afb2012183d7",
       "max": 1000,
       "min": 10,
       "style": "IPY_MODEL_f6ff925d805a4b939bd18a9765707baa",
       "value": 100
      }
     },
     "fcbee82f468249a9a879772ff9d814bc": {
      "model_module": "@jupyter-widgets/controls",
      "model_module_version": "1.5.0",
      "model_name": "DescriptionStyleModel",
      "state": {
       "description_width": ""
      }
     },
     "fcdeb5a5c66d4056a96f824aeb98a01e": {
      "model_module": "@jupyter-widgets/base",
      "model_module_version": "1.2.0",
      "model_name": "LayoutModel",
      "state": {}
     },
     "fcff060d230f401a8a29c643831b93f7": {
      "model_module": "@jupyter-widgets/controls",
      "model_module_version": "1.5.0",
      "model_name": "LabelModel",
      "state": {
       "layout": "IPY_MODEL_4096c13b303c421aafb717d218a7b153",
       "style": "IPY_MODEL_39bc380428fe48fdb1831d23b02591b3"
      }
     },
     "fd693b5a592e4978a64e617b7c6af157": {
      "model_module": "@jupyter-widgets/base",
      "model_module_version": "1.2.0",
      "model_name": "LayoutModel",
      "state": {}
     },
     "fdc8478172b4443892af873bb78f8249": {
      "model_module": "@jupyter-widgets/controls",
      "model_module_version": "1.5.0",
      "model_name": "ButtonStyleModel",
      "state": {}
     },
     "fddade9cd1f74856aae3436f8e514418": {
      "model_module": "@jupyter-widgets/controls",
      "model_module_version": "1.5.0",
      "model_name": "ButtonModel",
      "state": {
       "description": " Center",
       "icon": "bullseye",
       "layout": "IPY_MODEL_ebd1adb3f9db4bc3aec5f9a4f7467556",
       "style": "IPY_MODEL_faa5c96b7ff5401f865f7d67591bf321",
       "tooltip": "center selected atoms"
      }
     },
     "fe255a98fe9f456e8d43587a041bbb3d": {
      "model_module": "@jupyter-widgets/controls",
      "model_module_version": "1.5.0",
      "model_name": "LabelModel",
      "state": {
       "layout": "IPY_MODEL_5b9720a2b2634218a2907ae5212d3ce4",
       "style": "IPY_MODEL_325651a874cc4adc86243d226fc27b0e",
       "value": "quality"
      }
     },
     "fe59b19322d14d9aa843e8704a2142a6": {
      "model_module": "@jupyter-widgets/controls",
      "model_module_version": "1.5.0",
      "model_name": "DropdownModel",
      "state": {
       "_options_labels": [
        "low",
        "medium",
        "high"
       ],
       "index": 1,
       "layout": "IPY_MODEL_95529a7366314e89b5bde85b48696b7a",
       "style": "IPY_MODEL_690a8bcc934045ba9fec40cfc6630444"
      }
     },
     "feec4a1b6b9e4b9eacf91c112887bcc0": {
      "model_module": "@jupyter-widgets/controls",
      "model_module_version": "1.5.0",
      "model_name": "SliderStyleModel",
      "state": {
       "description_width": ""
      }
     }
    },
    "version_major": 2,
    "version_minor": 0
   }
  }
 },
 "nbformat": 4,
 "nbformat_minor": 4
}
