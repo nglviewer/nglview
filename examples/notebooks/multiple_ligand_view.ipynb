{
 "cells": [
  {
   "cell_type": "code",
   "execution_count": 9,
   "metadata": {},
   "outputs": [],
   "source": [
    "import nglview as nv\n",
    "import parmed as pmd\n",
    "from ipywidgets import IntSlider, VBox"
   ]
  },
  {
   "cell_type": "code",
   "execution_count": 10,
   "metadata": {},
   "outputs": [
    {
     "name": "stdout",
     "output_type": "stream",
     "text": [
      "  % Total    % Received % Xferd  Average Speed   Time    Time     Time  Current\n",
      "                                 Dload  Upload   Total   Spent    Left  Speed\n",
      "100  9810  100  9810    0     0  68409      0 --:--:-- --:--:-- --:--:-- 68601\n",
      "curl: (6) Could not resolve host: 5ht3ligs.sdf\n"
     ]
    },
    {
     "data": {
      "text/plain": [
       "[<Structure 22 atoms; 1 residues; 24 bonds; NOT parameterized>,\n",
       " <Structure 24 atoms; 1 residues; 26 bonds; NOT parameterized>,\n",
       " <Structure 25 atoms; 1 residues; 28 bonds; NOT parameterized>,\n",
       " <Structure 26 atoms; 1 residues; 29 bonds; NOT parameterized>]"
      ]
     },
     "execution_count": 10,
     "metadata": {},
     "output_type": "execute_result"
    }
   ],
   "source": [
    "!curl https://raw.githubusercontent.com/rdkit/rdkit/master/rdkit/Chem/Subshape/test_data/5ht3ligs.sdf -O 5ht3ligs.sdf\n",
    "parms = pmd.rdkit.from_sdf('5ht3ligs.sdf') # require parmed, rdkit\n",
    "parms"
   ]
  },
  {
   "cell_type": "code",
   "execution_count": 11,
   "metadata": {},
   "outputs": [
    {
     "data": {
      "application/vnd.jupyter.widget-view+json": {
       "model_id": "74b824240097468d9ee5abd7add17658",
       "version_major": 2,
       "version_minor": 0
      },
      "text/plain": [
       "VBox(children=(NGLWidget(), IntSlider(value=0, max=3)))"
      ]
     },
     "execution_count": 11,
     "metadata": {},
     "output_type": "execute_result"
    }
   ],
   "source": [
    "view = nv.NGLWidget()\n",
    "\n",
    "slider = IntSlider(max=len(parms)-1)\n",
    "\n",
    "def show_one_ligand(change):\n",
    "    val = change['new']\n",
    "    view.show_only([val])\n",
    "    \n",
    "slider.observe(show_one_ligand, 'value')\n",
    "\n",
    "VBox([view, slider])"
   ]
  },
  {
   "cell_type": "code",
   "execution_count": 12,
   "metadata": {},
   "outputs": [],
   "source": [
    "for p in parms:\n",
    "    view.add_structure(nv.ParmEdTrajectory(p))\n",
    "view.show_only([0])"
   ]
  }
 ],
 "metadata": {
  "kernelspec": {
   "display_name": "Python 3 (ipykernel)",
   "language": "python",
   "name": "python3"
  },
  "language_info": {
   "codemirror_mode": {
    "name": "ipython",
    "version": 3
   },
   "file_extension": ".py",
   "mimetype": "text/x-python",
   "name": "python",
   "nbconvert_exporter": "python",
   "pygments_lexer": "ipython3",
   "version": "3.10.14"
  }
 },
 "nbformat": 4,
 "nbformat_minor": 4
}
