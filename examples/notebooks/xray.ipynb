{
 "cells": [
  {
   "cell_type": "code",
   "execution_count": 6,
   "metadata": {},
   "outputs": [
    {
     "name": "stdout",
     "output_type": "stream",
     "text": [
      "xray_fn: ../../../ngl/data//JMJD2DA-x336_event2.ccp4.gz\n",
      "pdb_fn: ../../../ngl/data//JMJD2DA-x336_event2.pdb\n"
     ]
    },
    {
     "data": {
      "application/vnd.jupyter.widget-view+json": {
       "model_id": "4563540fbcc24d34ba0a2f75d28a7456",
       "version_major": 2,
       "version_minor": 0
      },
      "text/plain": [
       "NGLWidget(background='black')"
      ]
     },
     "metadata": {},
     "output_type": "display_data"
    }
   ],
   "source": [
    "import nglview\n",
    "\n",
    "view = nglview.NGLWidget()\n",
    "data_dir = '../../../ngl/data/'\n",
    "pdb_fn = data_dir + '/JMJD2DA-x336_event2.pdb'\n",
    "xray_fn = data_dir + '/JMJD2DA-x336_event2.ccp4.gz'\n",
    "print('xray_fn:', xray_fn)\n",
    "print('pdb_fn:', pdb_fn)\n",
    "view.add_component(xray_fn)\n",
    "view.add_component(pdb_fn)\n",
    "view.background = 'black'\n",
    "view.stage.set_parameters(mouse_preset='coot')\n",
    "\n",
    "view"
   ]
  },
  {
   "cell_type": "code",
   "execution_count": 7,
   "metadata": {
    "collapsed": true
   },
   "outputs": [],
   "source": [
    "view.center(\"LIG\", component=1)"
   ]
  },
  {
   "cell_type": "code",
   "execution_count": 8,
   "metadata": {
    "collapsed": true
   },
   "outputs": [],
   "source": [
    "view.add_surface(\n",
    "    boxSize=10,\n",
    "    wrap=True,\n",
    "    color=\"skyblue\",\n",
    "    contour=True\n",
    ")\n",
    "view.component_1.add_cartoon()\n",
    "view.component_1.add_ball_and_stick('hetero')\n",
    "view._remote_call('setFocus', target='Stage', args=[95])"
   ]
  }
 ],
 "metadata": {
  "kernelspec": {
   "display_name": "base",
   "language": "python",
   "name": "python3"
  },
  "language_info": {
   "codemirror_mode": {
    "name": "ipython",
    "version": 3
   },
   "file_extension": ".py",
   "mimetype": "text/x-python",
   "name": "python",
   "nbconvert_exporter": "python",
   "pygments_lexer": "ipython3",
   "version": "3.12.7"
  }
 },
 "nbformat": 4,
 "nbformat_minor": 2
}
