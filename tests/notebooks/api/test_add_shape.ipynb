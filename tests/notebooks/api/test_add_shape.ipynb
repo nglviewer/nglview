{
 "cells": [
  {
   "cell_type": "code",
   "execution_count": 1,
   "metadata": {
    "scrolled": false
   },
   "outputs": [
    {
     "data": {
      "application/vnd.jupyter.widget-view+json": {
       "model_id": "c08126015629418eba171f2f5776de85",
       "version_major": 2,
       "version_minor": 0
      },
      "text/plain": [
       "_ColormakerRegistry()"
      ]
     },
     "metadata": {},
     "output_type": "display_data"
    },
    {
     "data": {
      "application/vnd.jupyter.widget-view+json": {
       "model_id": "4115b6eea19844a2879e7a8b3d7a69ef",
       "version_major": 2,
       "version_minor": 0
      },
      "text/plain": [
       "NGLWidget()"
      ]
     },
     "metadata": {},
     "output_type": "display_data"
    }
   ],
   "source": [
    "import nglview as nv\n",
    "from nglview.utils import get_colors_from_b64\n",
    "\n",
    "view = nv.NGLWidget()\n",
    "view.shape.add_sphere([0, 0, 9], [1, 0, 0], 1.5)\n",
    "view.shape.add_arrow([1, 2, 7 ], [30, 3, 3], [1, 0, 1], 1.0)\n",
    "view.shape.add_label([ 0, 4, -1 ], [ 0.2, 0.5, 0.8 ], 2.5, 'Meow')\n",
    "view"
   ]
  },
  {
   "cell_type": "code",
   "execution_count": 2,
   "metadata": {},
   "outputs": [],
   "source": [
    "i0 = view.render_image()"
   ]
  },
  {
   "cell_type": "code",
   "execution_count": 3,
   "metadata": {
    "scrolled": true
   },
   "outputs": [
    {
     "data": {
      "application/vnd.jupyter.widget-view+json": {
       "model_id": "4115b6eea19844a2879e7a8b3d7a69ef",
       "version_major": 2,
       "version_minor": 0
      },
      "text/plain": [
       "NGLWidget(n_components=3)"
      ]
     },
     "metadata": {},
     "output_type": "display_data"
    }
   ],
   "source": [
    "# Make sure we can display view again.\n",
    "view"
   ]
  },
  {
   "cell_type": "code",
   "execution_count": 4,
   "metadata": {},
   "outputs": [],
   "source": [
    "i1 = view.render_image()"
   ]
  },
  {
   "cell_type": "code",
   "execution_count": 5,
   "metadata": {},
   "outputs": [],
   "source": [
    "assert i0.value == i1.value"
   ]
  },
  {
   "cell_type": "code",
   "execution_count": 6,
   "metadata": {},
   "outputs": [
    {
     "data": {
      "application/vnd.jupyter.widget-view+json": {
       "model_id": "917f48122d844288b8b94b2054fdf916",
       "version_major": 2,
       "version_minor": 0
      },
      "text/plain": [
       "NGLWidget()"
      ]
     },
     "metadata": {},
     "output_type": "display_data"
    }
   ],
   "source": [
    "import nglview as nv\n",
    "view2 = nv.NGLWidget()\n",
    "shape = view2.shape\n",
    "grey = [ 0.8, 0.8, 0.8 ]\n",
    "darkgrey = [ 0.6, 0.6, 0.6 ]\n",
    "\n",
    "shape.add_ellipsoid([ 0, 0, 0 ], grey, 4, [ 0, 3, 0 ], [ 0, 0, 1 ], \"face\")\n",
    "shape.add_sphere([ -2, 1, -1 ], darkgrey, 0.3, \"right eye\")\n",
    "shape.add_sphere([ 2, 1, -1 ], darkgrey, 0.3, \"left eye\")\n",
    "shape.add_sphere([ 0, 0, -1 ], darkgrey, 0.5, \"nose\")\n",
    "shape.add_ellipsoid([ -1, -1, -1 ], darkgrey, 1.3, [ 0, 1, 0 ], [ 0, 0, 0.3 ], \"right cheek\")\n",
    "shape.add_ellipsoid([ 1, -1, -1 ], darkgrey, 1.3, [ 0, 1, 0 ], [ 0, 0, 0.3 ], \"left cheek\")\n",
    "shape.add_cone([ 2.5, 1.7, 0 ], [ 4, 3, 0 ], darkgrey, 0.8, \"left ear\")\n",
    "shape.add_cone([ -2.5, 1.7, 0 ], [ -4, 3, 0 ], darkgrey, 0.8, \"right ear\")\n",
    "shape.add_cylinder([ -1, -1, -1 ], [ -4.3, -0.2, -1.2 ], darkgrey, 0.1, \"whisker\")\n",
    "shape.add_cylinder([ -1, -1, -1 ], [ -4.5, -1.2, -1.2 ], darkgrey, 0.1, \"whisker\")\n",
    "shape.add_cylinder([ -1, -1, -1 ], [ -4.2, -2.2, -1.2 ], darkgrey, 0.1, \"whisker\")\n",
    "shape.add_cylinder([ 1, -1, -1 ], [ 4.3, -0.2, -1.2 ], darkgrey, 0.1, \"whisker\")\n",
    "shape.add_cylinder([ 1, -1, -1 ], [ 4.5, -1.2, -1.2 ], darkgrey, 0.1, \"whisker\")\n",
    "shape.add_cylinder([ 1, -1, -1 ], [ 4.2, -2.2, -1.2 ], darkgrey, 0.1, \"whisker\")\n",
    "shape.add_label([ 0, 4, -1 ], [ 0.2, 0.5, 0.8 ], 2.5, \"meow\")\n",
    "view2.control.orient([12.353482162080093,\n",
    " 0,\n",
    " 0,\n",
    " 0,\n",
    " 0,\n",
    " 12.353482162080093,\n",
    " 0,\n",
    " 0,\n",
    " 0,\n",
    " 0,\n",
    " 12.353482162080093,\n",
    " 0,\n",
    " 0,\n",
    " 0,\n",
    " 0,\n",
    " 1])\n",
    "view2"
   ]
  },
  {
   "cell_type": "code",
   "execution_count": null,
   "metadata": {},
   "outputs": [],
   "source": []
  }
 ],
 "metadata": {
  "kernelspec": {
   "display_name": "Python 3",
   "language": "python",
   "name": "python3"
  },
  "language_info": {
   "codemirror_mode": {
    "name": "ipython",
    "version": 3
   },
   "file_extension": ".py",
   "mimetype": "text/x-python",
   "name": "python",
   "nbconvert_exporter": "python",
   "pygments_lexer": "ipython3",
   "version": "3.7.3"
  }
 },
 "nbformat": 4,
 "nbformat_minor": 1
}
