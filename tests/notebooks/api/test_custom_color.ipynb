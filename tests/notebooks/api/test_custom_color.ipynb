{
 "cells": [
  {
   "cell_type": "markdown",
   "metadata": {},
   "source": [
    "# Selection Scheme"
   ]
  },
  {
   "cell_type": "code",
   "execution_count": 1,
   "metadata": {},
   "outputs": [
    {
     "data": {
      "application/vnd.jupyter.widget-view+json": {
       "model_id": "cf6d73336cd54b7ebef2398a1cab0819",
       "version_major": 2,
       "version_minor": 0
      },
      "text/plain": [
       "_ColormakerRegistry()"
      ]
     },
     "metadata": {},
     "output_type": "display_data"
    }
   ],
   "source": [
    "import nglview as nv\n",
    "from nglview.color import ColormakerRegistry\n",
    "\n",
    "cm = ColormakerRegistry\n",
    "cm.add_selection_scheme(\"awesome\",\n",
    "        [['blue', '1-10']])"
   ]
  },
  {
   "cell_type": "code",
   "execution_count": 2,
   "metadata": {},
   "outputs": [
    {
     "data": {
      "application/vnd.jupyter.widget-view+json": {
       "model_id": "4b2c1c6b5ab24086a084121cffb929e9",
       "version_major": 2,
       "version_minor": 0
      },
      "text/plain": [
       "NGLWidget()"
      ]
     },
     "metadata": {},
     "output_type": "display_data"
    }
   ],
   "source": [
    "v0 = nv.demo(default=False)\n",
    "v0.center()\n",
    "v0.add_cartoon(color='awesome')\n",
    "v0"
   ]
  },
  {
   "cell_type": "code",
   "execution_count": 3,
   "metadata": {},
   "outputs": [],
   "source": [
    "assert v0._ngl_repr_dict['0']['0']['params']['colorScheme'] == 'awesome'"
   ]
  },
  {
   "cell_type": "markdown",
   "metadata": {},
   "source": [
    "# Function"
   ]
  },
  {
   "cell_type": "code",
   "execution_count": 4,
   "metadata": {},
   "outputs": [],
   "source": [
    "cm.add_scheme_func('bla_bla','''\n",
    " this.atomColor = function (atom) {\n",
    "     if (atom.serial < 1000) {\n",
    "       return 0x0000FF // blue\n",
    "     } else if (atom.serial > 2000) {\n",
    "       return 0xFF0000 // red\n",
    "     } else {\n",
    "       return 0x00FF00 // green\n",
    "     }\n",
    " }\n",
    "''')"
   ]
  },
  {
   "cell_type": "code",
   "execution_count": 5,
   "metadata": {},
   "outputs": [
    {
     "data": {
      "application/vnd.jupyter.widget-view+json": {
       "model_id": "11450f88fa504a11bfc0362f7084f444",
       "version_major": 2,
       "version_minor": 0
      },
      "text/plain": [
       "NGLWidget()"
      ]
     },
     "metadata": {},
     "output_type": "display_data"
    }
   ],
   "source": [
    "v1 = nv.demo(default=False)\n",
    "v1.center()\n",
    "v1.add_cartoon(color='bla_bla')\n",
    "v1"
   ]
  },
  {
   "cell_type": "code",
   "execution_count": 6,
   "metadata": {},
   "outputs": [
    {
     "data": {
      "application/vnd.jupyter.widget-view+json": {
       "model_id": "0f1d8786494f427885964c0fa6837f95",
       "version_major": 2,
       "version_minor": 0
      },
      "text/plain": [
       "ThemeManager()"
      ]
     },
     "metadata": {},
     "output_type": "display_data"
    }
   ],
   "source": [
    "v1.gui_style = 'ngl'\n",
    "v1._widget_theme.dark()"
   ]
  },
  {
   "cell_type": "code",
   "execution_count": 7,
   "metadata": {},
   "outputs": [
    {
     "name": "stdout",
     "output_type": "stream",
     "text": [
      "[14540:14566:0809/163105.033274:ERROR:browser_process_sub_thread.cc(221)] Waited 3 ms for network service\r\n",
      "Opening in existing browser session.\r\n"
     ]
    }
   ],
   "source": [
    "nv.write_html('index.html', [v0, v1])\n",
    "\n",
    "# open index.html\n",
    "!google-chrome index.html\n",
    "\n",
    "# NOTE: If using master branch, make sure to copy nglview/static/index.js to <this folder>/nglview-js-widgets.js"
   ]
  }
 ],
 "metadata": {
  "kernelspec": {
   "display_name": "Python 3",
   "language": "python",
   "name": "python3"
  },
  "language_info": {
   "codemirror_mode": {
    "name": "ipython",
    "version": 3
   },
   "file_extension": ".py",
   "mimetype": "text/x-python",
   "name": "python",
   "nbconvert_exporter": "python",
   "pygments_lexer": "ipython3",
   "version": "3.7.3"
  }
 },
 "nbformat": 4,
 "nbformat_minor": 1
}
