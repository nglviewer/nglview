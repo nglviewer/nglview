{
 "cells": [
  {
   "cell_type": "code",
   "execution_count": 1,
   "metadata": {},
   "outputs": [
    {
     "data": {
      "application/vnd.jupyter.widget-view+json": {
       "model_id": "4dcfea79fe1e4484ba005c8347f2258b",
       "version_major": 2,
       "version_minor": 0
      },
      "text/plain": [
       "_ColormakerRegistry()"
      ]
     },
     "metadata": {},
     "output_type": "display_data"
    },
    {
     "data": {
      "application/vnd.jupyter.widget-view+json": {
       "model_id": "fe095fabeb054950a5ab882b049cb7f0",
       "version_major": 2,
       "version_minor": 0
      },
      "text/plain": [
       "ThemeManager()"
      ]
     },
     "metadata": {},
     "output_type": "display_data"
    },
    {
     "data": {
      "application/vnd.jupyter.widget-view+json": {
       "model_id": "8dd20e7f41854d80b900c96cd4e32234",
       "version_major": 2,
       "version_minor": 0
      },
      "text/plain": [
       "NGLWidget(background='black', gui_style='ngl', max_frame=37)"
      ]
     },
     "metadata": {},
     "output_type": "display_data"
    }
   ],
   "source": [
    "import nglview as nv\n",
    "import pytraj as pt\n",
    "\n",
    "traj = pt.datafiles.load_trpcage()\n",
    "view = nv.show_pytraj(traj, default=False)\n",
    "view.center()\n",
    "view.add_licorice(color='residueindex')\n",
    "view.background = 'black' # test stage's parameters\n",
    "view.gui_style = 'ngl'\n",
    "view.camera = 'orthographic'\n",
    "view"
   ]
  },
  {
   "cell_type": "code",
   "execution_count": 2,
   "metadata": {},
   "outputs": [],
   "source": [
    "state = view._get_embed_state()['state']"
   ]
  },
  {
   "cell_type": "code",
   "execution_count": 3,
   "metadata": {},
   "outputs": [],
   "source": [
    "# camera\n",
    "assert state['_camera_orientation'] == view._camera_orientation\n",
    "assert state['_camera_str'] == 'orthographic'\n",
    "\n",
    "# stage params\n",
    "stage_params = state['_ngl_full_stage_parameters']\n",
    "assert stage_params['backgroundColor'] == 'black'\n",
    "\n",
    "# structure\n",
    "msg = state['_ngl_msg_archive']\n",
    "assert msg[0]['args'][0]['data'].startswith('ATOM')\n",
    "\n",
    "# repr\n",
    "assert state['_ngl_repr_dict']['0']['0']['type'] == 'licorice'\n",
    "\n",
    "# max_frame\n",
    "assert view.max_frame == 37\n",
    "assert view.n_components == 1"
   ]
  },
  {
   "cell_type": "code",
   "execution_count": 4,
   "metadata": {},
   "outputs": [
    {
     "data": {
      "application/vnd.jupyter.widget-view+json": {
       "model_id": "8dd20e7f41854d80b900c96cd4e32234",
       "version_major": 2,
       "version_minor": 0
      },
      "text/plain": [
       "NGLWidget(background='black', gui_style='ngl', max_frame=37, n_components=1)"
      ]
     },
     "metadata": {},
     "output_type": "display_data"
    }
   ],
   "source": [
    "# Display again to make sure view.max_frame is not mutated (broke in version <= 2.6.8)\n",
    "\n",
    "view"
   ]
  },
  {
   "cell_type": "code",
   "execution_count": 5,
   "metadata": {},
   "outputs": [],
   "source": [
    "assert view.max_frame == 37\n",
    "assert view.n_components == 1"
   ]
  },
  {
   "cell_type": "markdown",
   "metadata": {},
   "source": [
    "# Theme"
   ]
  },
  {
   "cell_type": "code",
   "execution_count": 6,
   "metadata": {},
   "outputs": [],
   "source": [
    "view._gui_theme = 'dark'"
   ]
  },
  {
   "cell_type": "code",
   "execution_count": 7,
   "metadata": {},
   "outputs": [
    {
     "name": "stdout",
     "output_type": "stream",
     "text": [
      "[30701:30725:0805/134837.429296:ERROR:browser_process_sub_thread.cc(221)] Waited 3 ms for network service\r\n",
      "Opening in existing browser session.\r\n"
     ]
    }
   ],
   "source": [
    "nv.write_html(\"index.html\", [view, view], frame_range=(0, 2))\n",
    "# !open index.html\n",
    "!google-chrome index.html\n",
    "# Make sure there are players and you can play them. \n",
    "# And they sync."
   ]
  }
 ],
 "metadata": {
  "kernelspec": {
   "display_name": "Python 3",
   "language": "python",
   "name": "python3"
  },
  "language_info": {
   "codemirror_mode": {
    "name": "ipython",
    "version": 3
   },
   "file_extension": ".py",
   "mimetype": "text/x-python",
   "name": "python",
   "nbconvert_exporter": "python",
   "pygments_lexer": "ipython3",
   "version": "3.7.3"
  }
 },
 "nbformat": 4,
 "nbformat_minor": 1
}
