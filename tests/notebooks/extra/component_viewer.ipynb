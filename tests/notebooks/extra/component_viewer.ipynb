{
 "cells": [
  {
   "cell_type": "code",
   "execution_count": 55,
   "metadata": {
    "scrolled": false
   },
   "outputs": [],
   "source": [
    "from ipywidgets import  *\n",
    "import nglview as nv\n",
    "import pytraj as pt\n",
    "from IPython.display import display"
   ]
  },
  {
   "cell_type": "code",
   "execution_count": 56,
   "metadata": {},
   "outputs": [
    {
     "data": {
      "text/plain": [
       "<nglview.component.ComponentViewer at 0x119231a90>"
      ]
     },
     "execution_count": 56,
     "metadata": {},
     "output_type": "execute_result"
    }
   ],
   "source": [
    "view = nv.show_pdbid('1tsu')\n",
    "view.add_pdbid('1l2y')"
   ]
  },
  {
   "cell_type": "code",
   "execution_count": 57,
   "metadata": {},
   "outputs": [],
   "source": [
    "class ComponentViewer:\n",
    "    def __init__(self, view):\n",
    "        self._view = view\n",
    "        self.children = []\n",
    "        \n",
    "        for i in range(len(view._ngl_component_ids)):\n",
    "            cb = Checkbox(value=True)\n",
    "            setattr(cb, '_ngl_index', i)\n",
    "            def on_change(change):\n",
    "                v = change['new']\n",
    "                owner = change['owner']\n",
    "                c = self._view[owner._ngl_index]\n",
    "                if v:\n",
    "                    c.show()\n",
    "                else:\n",
    "                    c.hide()\n",
    "\n",
    "            cb.observe(on_change, ['value'])\n",
    "            self.children.append(HBox([cb, Label(value=str(i))]))\n",
    "        \n",
    "    def create_view(self):\n",
    "        return VBox(self.children)"
   ]
  },
  {
   "cell_type": "code",
   "execution_count": 58,
   "metadata": {},
   "outputs": [
    {
     "data": {
      "text/plain": [
       "<__main__.ComponentViewer at 0x119854e80>"
      ]
     },
     "execution_count": 58,
     "metadata": {},
     "output_type": "execute_result"
    }
   ],
   "source": [
    "cv = ComponentViewer(view)\n",
    "cv"
   ]
  },
  {
   "cell_type": "code",
   "execution_count": 61,
   "metadata": {},
   "outputs": [
    {
     "data": {
      "application/vnd.jupyter.widget-view+json": {
       "model_id": "0d6e2d4d4db940c39116458d7102d056",
       "version_major": 2,
       "version_minor": 0
      },
      "text/plain": [
       "HBox(children=(NGLWidget(layout=Layout(width='400px'), n_components=2, picked={'atom1': {'index': 298, 'residu…"
      ]
     },
     "metadata": {},
     "output_type": "display_data"
    }
   ],
   "source": [
    "HBox([view, cv.create_view()])"
   ]
  },
  {
   "cell_type": "code",
   "execution_count": 63,
   "metadata": {},
   "outputs": [],
   "source": [
    "view.layout.width = '400px'"
   ]
  }
 ],
 "metadata": {
  "kernelspec": {
   "display_name": "Python 3",
   "language": "python",
   "name": "python3"
  },
  "language_info": {
   "codemirror_mode": {
    "name": "ipython",
    "version": 3
   },
   "file_extension": ".py",
   "mimetype": "text/x-python",
   "name": "python",
   "nbconvert_exporter": "python",
   "pygments_lexer": "ipython3",
   "version": "3.6.7"
  }
 },
 "nbformat": 4,
 "nbformat_minor": 1
}
