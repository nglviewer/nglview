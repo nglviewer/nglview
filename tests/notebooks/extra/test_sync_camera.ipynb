{
 "cells": [
  {
   "cell_type": "code",
   "execution_count": 8,
   "metadata": {},
   "outputs": [],
   "source": [
    "from itertools import combinations"
   ]
  },
  {
   "cell_type": "code",
   "execution_count": 9,
   "metadata": {},
   "outputs": [],
   "source": [
    "from IPython.display import display\n",
    "import nglview as nv\n",
    "from ipywidgets import *\n",
    "from functools import partial"
   ]
  },
  {
   "cell_type": "code",
   "execution_count": 10,
   "metadata": {},
   "outputs": [],
   "source": [
    "def sync_camera(v0, v1):\n",
    "    def on_camera(change):\n",
    "        new = change['new']\n",
    "        old = change['old']\n",
    "        owner = change['owner']\n",
    "        if new != old:\n",
    "            if owner == v0 and v0._ngl_focused:\n",
    "                v1._set_camera_orientation(new)\n",
    "            elif owner == v1 and v1._ngl_focused:\n",
    "                v0._set_camera_orientation(new)\n",
    "\n",
    "    v0.observe(on_camera, ['_camera_orientation'])\n",
    "    v1.observe(on_camera, ['_camera_orientation'])"
   ]
  },
  {
   "cell_type": "code",
   "execution_count": 14,
   "metadata": {
    "scrolled": false
   },
   "outputs": [
    {
     "data": {
      "application/vnd.jupyter.widget-view+json": {
       "model_id": "223e39e9164f418dac65c6746061d91b",
       "version_major": 2,
       "version_minor": 0
      },
      "text/plain": [
       "GridBox(children=(NGLWidget(), NGLWidget(), NGLWidget(), NGLWidget(), NGLWidget(), NGLWidget()), layout=Layout…"
      ]
     },
     "metadata": {},
     "output_type": "display_data"
    }
   ],
   "source": [
    "views = []\n",
    "for _ in range(6):\n",
    "    v = nv.show_file(nv.datafiles.ALA3)\n",
    "    views.append(v)\n",
    "\n",
    "for (v0, v1) in combinations(views, 2):\n",
    "    sync_camera(v0, v1)\n",
    "    \n",
    "g = GridBox(views, \n",
    "            layout=Layout(\n",
    "                grid_template_rows='auto auto auto',\n",
    "                grid_template_columns='auto auto auto',\n",
    "                grid_gap = '0px 0px'\n",
    "            ))\n",
    "g"
   ]
  },
  {
   "cell_type": "code",
   "execution_count": 15,
   "metadata": {},
   "outputs": [],
   "source": [
    "for v in views:\n",
    "    v.background = 'white'\n",
    "    v.layout.width = '350px'\n",
    "    v.layout.height = '300px'"
   ]
  }
 ],
 "metadata": {
  "kernelspec": {
   "display_name": "Python 3",
   "language": "python",
   "name": "python3"
  },
  "language_info": {
   "codemirror_mode": {
    "name": "ipython",
    "version": 3
   },
   "file_extension": ".py",
   "mimetype": "text/x-python",
   "name": "python",
   "nbconvert_exporter": "python",
   "pygments_lexer": "ipython3",
   "version": "3.7.3"
  }
 },
 "nbformat": 4,
 "nbformat_minor": 1
}
